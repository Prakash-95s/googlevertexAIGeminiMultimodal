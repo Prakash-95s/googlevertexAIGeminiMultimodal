{
  "nbformat": 4,
  "nbformat_minor": 0,
  "metadata": {
    "colab": {
      "provenance": []
    },
    "kernelspec": {
      "name": "python3",
      "display_name": "Python 3"
    },
    "language_info": {
      "name": "python"
    }
  },
  "cells": [
    {
      "cell_type": "code",
      "source": [
        "# Copyright 2024 Google LLC\n",
        "#\n",
        "# Licensed under the Apache License, Version 2.0 (the \"License\");\n",
        "# you may not use this file except in compliance with the License.\n",
        "# You may obtain a copy of the License at\n",
        "#\n",
        "#     https://www.apache.org/licenses/LICENSE-2.0\n",
        "#\n",
        "# Unless required by applicable law or agreed to in writing, software\n",
        "# distributed under the License is distributed on an \"AS IS\" BASIS,\n",
        "# WITHOUT WARRANTIES OR CONDITIONS OF ANY KIND, either express or implied.\n",
        "# See the License for the specific language governing permissions and\n",
        "# limitations under the License."
      ],
      "metadata": {
        "id": "-hNWQi6jS4ny"
      },
      "execution_count": null,
      "outputs": []
    },
    {
      "cell_type": "markdown",
      "source": [
        "| | |\n",
        "|-|-|\n",
        "|Author(s) | [Lavi Nigam](https://github.com/lavinigam-gcp) |"
      ],
      "metadata": {
        "id": "coW3oVMyS5DQ"
      }
    },
    {
      "cell_type": "markdown",
      "source": [
        "Notebooks:\n",
        "**goo.gle/io24-gemini-api**\n",
        "\n",
        "Google AI Cookbook:\n",
        "**goo.gle/google-ai-cookbook**\n",
        "\n",
        "Vertex AI Cookbook:\n",
        "**goo.gle/vertex-ai-cookbook**"
      ],
      "metadata": {
        "id": "2CCdHv8jWIUN"
      }
    },
    {
      "cell_type": "markdown",
      "source": [
        "# Step 1 - Google Cloud Vertex AI Gemini API"
      ],
      "metadata": {
        "id": "6RMTXdSRChy4"
      }
    },
    {
      "cell_type": "markdown",
      "source": [
        "[What Changed: ]\n",
        "- SDK installation\n",
        "\n",
        "Before:\n",
        "\n",
        "- ! pip install --upgrade google-generativeai\n",
        "\n",
        "After:\n",
        "\n",
        "- ! pip install --upgrade google-cloud-aiplatform"
      ],
      "metadata": {
        "id": "y7nHwXiDU-9b"
      }
    },
    {
      "cell_type": "code",
      "source": [
        "# Library installation # needs restarts\n",
        "\n",
        "# ! pip install --upgrade google-generativeai\n",
        "! pip install --upgrade google-cloud-aiplatform\n",
        "! pip install PyPDF2\n",
        "# ! apt-get install poppler-utils\n",
        "# ! pip install pdf2image"
      ],
      "metadata": {
        "id": "vOZVZgNJDCfL"
      },
      "execution_count": 62,
      "outputs": []
    },
    {
      "cell_type": "markdown",
      "source": [
        "### Restart current runtime\n",
        "\n",
        "To use the newly installed packages in this Jupyter runtime, you must restart the runtime. You can do this by running the cell below, which will restart the current kernel."
      ],
      "metadata": {
        "id": "cqXk-QMUg9Cv"
      }
    },
    {
      "cell_type": "code",
      "source": [
        "# Restart kernel after installs so that your environment can access the new packages\n",
        "import IPython\n",
        "import time\n",
        "\n",
        "app = IPython.Application.instance()\n",
        "app.kernel.do_shutdown(True)"
      ],
      "metadata": {
        "colab": {
          "base_uri": "https://localhost:8080/"
        },
        "id": "i8xbp3r9g9sR",
        "outputId": "9441a20c-87f6-4d61-d7f4-a44ba41dcf3f"
      },
      "execution_count": 2,
      "outputs": [
        {
          "output_type": "execute_result",
          "data": {
            "text/plain": [
              "{'status': 'ok', 'restart': True}"
            ]
          },
          "metadata": {},
          "execution_count": 2
        }
      ]
    },
    {
      "cell_type": "markdown",
      "source": [
        "<div class=\"alert alert-block alert-warning\">\n",
        "<b>⚠️ The kernel is going to restart. Please wait until it is finished before continuing to the next step. ⚠️</b>\n",
        "</div>\n",
        "\n"
      ],
      "metadata": {
        "id": "XH2SuWuig_lQ"
      }
    },
    {
      "cell_type": "markdown",
      "source": [
        "[What Changed: ]\n",
        "- Authentication  \n",
        "\n",
        "Before:\n",
        "\n",
        "- genai.configure(api_key=\"API Key\")\n",
        "\n",
        "After:\n",
        "\n",
        " - Authenticate Colab user to Google Cloud\n",
        " - Vertex AI init with Project ID and Region\n",
        "\n",
        "  [Not required in Colab Enterprise]"
      ],
      "metadata": {
        "id": "x1oda7ozVODI"
      }
    },
    {
      "cell_type": "code",
      "execution_count": 1,
      "metadata": {
        "id": "JNDLW6CNA7dY"
      },
      "outputs": [],
      "source": [
        "# Authentication\n",
        "\n",
        "# genai.configure(api_key=\"\")\n",
        "\n",
        "import sys\n",
        "\n",
        "# Additional authentication is required for Google Colab\n",
        "if \"google.colab\" in sys.modules:\n",
        "    # Authenticate user to Google Cloud\n",
        "    from google.colab import auth\n",
        "\n",
        "    auth.authenticate_user()\n",
        "\n",
        "if \"google.colab\" in sys.modules:\n",
        "    # Define project information\n",
        "    PROJECT_ID = \"\"  # @param {type:\"string\"}\n",
        "    LOCATION = \"us-central1\"  # @param {type:\"string\"}\n",
        "\n",
        "    # Initialize Vertex AI\n",
        "    import vertexai\n",
        "\n",
        "    vertexai.init(project=PROJECT_ID, location=LOCATION)"
      ]
    },
    {
      "cell_type": "markdown",
      "source": [
        "[What Changed: ]\n",
        "\n",
        "- Import statement\n",
        "\n",
        "\n",
        "Before:\n",
        "\n",
        "- import google.generativeai as genai\n",
        "\n",
        "After:\n",
        "\n",
        "- import vertexai.generative_models as genai\n"
      ],
      "metadata": {
        "id": "pvv51eaKVn5q"
      }
    },
    {
      "cell_type": "code",
      "source": [
        "# Library\n",
        "from IPython.display import display, Markdown, Latex\n",
        "# import google.generativeai as genai\n",
        "import vertexai.generative_models as genai\n",
        "import PyPDF2\n",
        "from rich import print as rich_print\n",
        "from rich.markdown import Markdown as rich_Markdown\n",
        "import textwrap"
      ],
      "metadata": {
        "id": "HrPf6V_1Sown"
      },
      "execution_count": 2,
      "outputs": []
    },
    {
      "cell_type": "markdown",
      "source": [
        "[No Change ]\n",
        "\n",
        "- Model Config and Safety Setting\n",
        "\n",
        "\n",
        "Before:\n",
        "\n",
        "\n",
        "\n",
        "After:\n"
      ],
      "metadata": {
        "id": "N3nFQg-DWACB"
      }
    },
    {
      "cell_type": "markdown",
      "source": [
        "**[Vertex Gemini 1.5 Flash](https://cloud.google.com/vertex-ai/generative-ai/docs/learn/models#gemini-models)**\n",
        "\n",
        "\n",
        "![](https://storage.googleapis.com/github-repo/io24/gemini-api-session/img/vertex_ai_model_1.png)"
      ],
      "metadata": {
        "id": "B9pUX2Is2Wfq"
      }
    },
    {
      "cell_type": "markdown",
      "source": [
        "**[Vertex Gemini 1.5 Pro](https://cloud.google.com/vertex-ai/generative-ai/docs/learn/models#gemini-models)**\n",
        "\n",
        "\n",
        "![](https://storage.googleapis.com/github-repo/io24/gemini-api-session/img/vertex_ai_model_2.png)"
      ],
      "metadata": {
        "id": "vJW3mQYl2gft"
      }
    },
    {
      "cell_type": "markdown",
      "source": [
        "**[Vertex Gemini 1.5 Flash Version](https://cloud.google.com/vertex-ai/generative-ai/docs/learn/model-versions)**\n",
        "\n",
        "\n",
        "![](https://storage.googleapis.com/github-repo/io24/gemini-api-session/img/vertex_ai_model_version_1.png)"
      ],
      "metadata": {
        "id": "GWEBn-Jt2_o0"
      }
    },
    {
      "cell_type": "markdown",
      "source": [
        "**[Vertex Gemini 1.5 Pro Version](https://cloud.google.com/vertex-ai/generative-ai/docs/learn/model-versions)**\n",
        "\n",
        "\n",
        "![](https://storage.googleapis.com/github-repo/io24/gemini-api-session/img/vertex_ai_model_version_2.png)"
      ],
      "metadata": {
        "id": "l0W0eMI63MC3"
      }
    },
    {
      "cell_type": "markdown",
      "source": [
        "### API"
      ],
      "metadata": {
        "id": "2pYF4JHf5z_l"
      }
    },
    {
      "cell_type": "markdown",
      "source": [
        "#### Basic Usage"
      ],
      "metadata": {
        "id": "LOLQc12f51g-"
      }
    },
    {
      "cell_type": "code",
      "source": [
        "def to_markdown(text):\n",
        "  text = text.replace('•', '  *')\n",
        "  return Markdown(textwrap.indent(text, '> ', predicate=lambda _: True))"
      ],
      "metadata": {
        "id": "L88Es4kp6ac9"
      },
      "execution_count": 3,
      "outputs": []
    },
    {
      "cell_type": "code",
      "source": [
        "# Set up the model\n",
        "# Learn more about the API: https://cloud.google.com/vertex-ai/generative-ai/docs/start/quickstarts/quickstart-multimodal\n",
        "# More details about the models: https://cloud.google.com/vertex-ai/generative-ai/docs/learn/models\n",
        "\n",
        "\n",
        "from vertexai.generative_models import (\n",
        "    GenerationConfig,\n",
        "    HarmCategory,\n",
        "    HarmBlockThreshold,\n",
        ")\n",
        "\n",
        "\n",
        "generation_config = GenerationConfig(\n",
        "    temperature=1,\n",
        "    max_output_tokens=8192,\n",
        ")\n",
        "\n",
        "# Explore more about safety settings: https://cloud.google.com/vertex-ai/generative-ai/docs/multimodal/configure-safety-attributes\n",
        "# Explore Gemini's Safety guidance: https://cloud.google.com/vertex-ai/generative-ai/docs/learn/responsible-ai\n",
        "\n",
        "safety_settings = {\n",
        "    HarmCategory.HARM_CATEGORY_HARASSMENT: HarmBlockThreshold.BLOCK_MEDIUM_AND_ABOVE,\n",
        "    HarmCategory.HARM_CATEGORY_HATE_SPEECH: HarmBlockThreshold.BLOCK_MEDIUM_AND_ABOVE,\n",
        "    HarmCategory.HARM_CATEGORY_SEXUALLY_EXPLICIT: HarmBlockThreshold.BLOCK_MEDIUM_AND_ABOVE,\n",
        "    HarmCategory.HARM_CATEGORY_DANGEROUS_CONTENT: HarmBlockThreshold.BLOCK_MEDIUM_AND_ABOVE,\n",
        "}\n",
        "\n",
        "# works with text, code, images, video(with or without audio) and audio(mp3) with 2M input context - complex reasoning\n",
        "model = genai.GenerativeModel(model_name=\"gemini-1.5-pro-001\", # using stable (not latest)\n",
        "                              generation_config=generation_config,\n",
        "                              safety_settings=safety_settings)\n",
        "\n",
        " # works with text, code, images, video(with or without audio) and audio(mp3) with 1M input context - faster inference\n",
        "model_flash = genai.GenerativeModel(model_name=\"gemini-1.5-flash-001\", # using stable (not latest)\n",
        "                              generation_config=generation_config,\n",
        "                              safety_settings=safety_settings)"
      ],
      "metadata": {
        "id": "KhTx4pNbLre7"
      },
      "execution_count": 4,
      "outputs": []
    },
    {
      "cell_type": "markdown",
      "source": [
        "Learn more about what's possible with Vertex AI Gemini API: [Link](https://github.com/GoogleCloudPlatform/generative-ai/tree/main/gemini)"
      ],
      "metadata": {
        "id": "pF2kWbrs6Glf"
      }
    },
    {
      "cell_type": "code",
      "source": [
        "%%time\n",
        "\n",
        "response = model.generate_content(\"What is the meaning of life?\")"
      ],
      "metadata": {
        "colab": {
          "base_uri": "https://localhost:8080/"
        },
        "id": "peAGg64C6Tr0",
        "outputId": "b3afc42a-ed55-42a0-d5ab-3f8427a44b63"
      },
      "execution_count": 5,
      "outputs": [
        {
          "output_type": "stream",
          "name": "stdout",
          "text": [
            "CPU times: user 84.2 ms, sys: 13.3 ms, total: 97.5 ms\n",
            "Wall time: 6.79 s\n"
          ]
        }
      ]
    },
    {
      "cell_type": "code",
      "source": [
        "to_markdown(response.text)"
      ],
      "metadata": {
        "colab": {
          "base_uri": "https://localhost:8080/",
          "height": 260
        },
        "id": "tXnBc0o26XlI",
        "outputId": "9c7c5677-6e57-4ee8-c2e3-672a174556de"
      },
      "execution_count": 6,
      "outputs": [
        {
          "output_type": "execute_result",
          "data": {
            "text/plain": [
              "<IPython.core.display.Markdown object>"
            ],
            "text/markdown": "> As a large language model, I can't tell you the meaning of life. There's no single answer that will satisfy everyone, and that's okay! \n> \n> The meaning of life is a question that philosophers have pondered for centuries. It's a deeply personal question, and the answer will be different for everyone. \n> \n> However, I can offer some ways to think about finding meaning in your life:\n> \n> * **Focus on your values:** What is important to you? What do you believe in? What do you want to stand for? \n> * **Connect with something bigger than yourself:** This could be your community, nature, a spiritual belief, or something else entirely. \n> * **Find your purpose:** What are you passionate about? What do you want to achieve in the world?\n> * **Live in the present moment:**  Don't dwell on the past or worry about the future. Focus on appreciating the here and now. \n> * **Connect with others:** Build meaningful relationships with the people around you. Love, friendship, and community can bring great meaning to life.\n> \n> Ultimately, the meaning of life is what you make it. It's up to you to find your own path and create a life that is meaningful to you. \n"
          },
          "metadata": {},
          "execution_count": 6
        }
      ]
    },
    {
      "cell_type": "code",
      "source": [
        "%%time\n",
        "\n",
        "response = model_flash.generate_content(\"What is the meaning of life?\")"
      ],
      "metadata": {
        "colab": {
          "base_uri": "https://localhost:8080/"
        },
        "id": "J-CT2Ynl662l",
        "outputId": "439a9558-85f3-4796-8677-0656d6906359"
      },
      "execution_count": 7,
      "outputs": [
        {
          "output_type": "stream",
          "name": "stdout",
          "text": [
            "CPU times: user 35.5 ms, sys: 8.72 ms, total: 44.2 ms\n",
            "Wall time: 3.77 s\n"
          ]
        }
      ]
    },
    {
      "cell_type": "code",
      "source": [
        "to_markdown(response.text)"
      ],
      "metadata": {
        "colab": {
          "base_uri": "https://localhost:8080/",
          "height": 411
        },
        "id": "lTJBks6R67Qi",
        "outputId": "53971ef5-532e-4fd5-d29c-0e0035b38f4e"
      },
      "execution_count": 8,
      "outputs": [
        {
          "output_type": "execute_result",
          "data": {
            "text/plain": [
              "<IPython.core.display.Markdown object>"
            ],
            "text/markdown": "> The meaning of life is a question that has been pondered by philosophers and individuals for centuries, and there is no one definitive answer.  \n> \n> **Here's a breakdown of perspectives on the meaning of life:**\n> \n> * **Nihilism:**  This perspective suggests that life has no inherent meaning or purpose. \n> * **Existentialism:** This view emphasizes individual freedom and responsibility for creating meaning in a meaningless universe. \n> * **Religion and Spirituality:** Many religions offer a framework for understanding the meaning of life through faith, belief in a higher power, and the pursuit of spiritual enlightenment.\n> * **Humanism:**  This philosophy focuses on human values, reason, and ethics, emphasizing the importance of compassion, empathy, and contributing to the well-being of others.\n> * **Hedonism:** This approach emphasizes the pursuit of pleasure and happiness as the primary goal in life.\n> * **Meaning as a byproduct of experience:** Some believe that meaning arises naturally from our experiences, relationships, and contributions to the world.\n> \n> **Ultimately, the meaning of life is subjective and personal.**  It depends on your individual values, beliefs, and goals. \n> \n> **Here are some ways to find your own meaning in life:**\n> \n> * **Reflect on your values and passions:** What matters most to you? What brings you joy and fulfillment?\n> * **Set goals and pursue your dreams:**  Having goals gives your life direction and purpose.\n> * **Cultivate meaningful relationships:** Strong relationships with family, friends, and community provide love, support, and a sense of belonging.\n> * **Make a difference in the world:** Find ways to contribute to your community, help others, or leave a positive impact.\n> * **Embrace the journey:** Life is full of ups and downs. Appreciate the good times and learn from the challenges.\n> \n> Remember, the search for meaning is a lifelong journey. Be open to new experiences, perspectives, and ways of understanding the world around you. \n"
          },
          "metadata": {},
          "execution_count": 8
        }
      ]
    },
    {
      "cell_type": "code",
      "source": [
        "response.candidates"
      ],
      "metadata": {
        "colab": {
          "base_uri": "https://localhost:8080/"
        },
        "id": "bsPdNq2F7Bi7",
        "outputId": "21856505-6c77-4712-92eb-826063d32dd5"
      },
      "execution_count": 9,
      "outputs": [
        {
          "output_type": "execute_result",
          "data": {
            "text/plain": [
              "[content {\n",
              "   role: \"model\"\n",
              "   parts {\n",
              "     text: \"The meaning of life is a question that has been pondered by philosophers and individuals for centuries, and there is no one definitive answer.  \\n\\n**Here\\'s a breakdown of perspectives on the meaning of life:**\\n\\n* **Nihilism:**  This perspective suggests that life has no inherent meaning or purpose. \\n* **Existentialism:** This view emphasizes individual freedom and responsibility for creating meaning in a meaningless universe. \\n* **Religion and Spirituality:** Many religions offer a framework for understanding the meaning of life through faith, belief in a higher power, and the pursuit of spiritual enlightenment.\\n* **Humanism:**  This philosophy focuses on human values, reason, and ethics, emphasizing the importance of compassion, empathy, and contributing to the well-being of others.\\n* **Hedonism:** This approach emphasizes the pursuit of pleasure and happiness as the primary goal in life.\\n* **Meaning as a byproduct of experience:** Some believe that meaning arises naturally from our experiences, relationships, and contributions to the world.\\n\\n**Ultimately, the meaning of life is subjective and personal.**  It depends on your individual values, beliefs, and goals. \\n\\n**Here are some ways to find your own meaning in life:**\\n\\n* **Reflect on your values and passions:** What matters most to you? What brings you joy and fulfillment?\\n* **Set goals and pursue your dreams:**  Having goals gives your life direction and purpose.\\n* **Cultivate meaningful relationships:** Strong relationships with family, friends, and community provide love, support, and a sense of belonging.\\n* **Make a difference in the world:** Find ways to contribute to your community, help others, or leave a positive impact.\\n* **Embrace the journey:** Life is full of ups and downs. Appreciate the good times and learn from the challenges.\\n\\nRemember, the search for meaning is a lifelong journey. Be open to new experiences, perspectives, and ways of understanding the world around you. \\n\"\n",
              "   }\n",
              " }\n",
              " finish_reason: STOP\n",
              " safety_ratings {\n",
              "   category: HARM_CATEGORY_HATE_SPEECH\n",
              "   probability: NEGLIGIBLE\n",
              "   probability_score: 0.024798160418868065\n",
              "   severity: HARM_SEVERITY_NEGLIGIBLE\n",
              "   severity_score: 0.017045319080352783\n",
              " }\n",
              " safety_ratings {\n",
              "   category: HARM_CATEGORY_DANGEROUS_CONTENT\n",
              "   probability: NEGLIGIBLE\n",
              "   probability_score: 0.024656856432557106\n",
              "   severity: HARM_SEVERITY_NEGLIGIBLE\n",
              "   severity_score: 0.02112519182264805\n",
              " }\n",
              " safety_ratings {\n",
              "   category: HARM_CATEGORY_HARASSMENT\n",
              "   probability: NEGLIGIBLE\n",
              "   probability_score: 0.029873095452785492\n",
              "   severity: HARM_SEVERITY_NEGLIGIBLE\n",
              "   severity_score: 0.022846195846796036\n",
              " }\n",
              " safety_ratings {\n",
              "   category: HARM_CATEGORY_SEXUALLY_EXPLICIT\n",
              "   probability: NEGLIGIBLE\n",
              "   probability_score: 0.10989668220281601\n",
              "   severity: HARM_SEVERITY_NEGLIGIBLE\n",
              "   severity_score: 0.018941709771752357\n",
              " }]"
            ]
          },
          "metadata": {},
          "execution_count": 9
        }
      ]
    },
    {
      "cell_type": "code",
      "source": [
        "response"
      ],
      "metadata": {
        "colab": {
          "base_uri": "https://localhost:8080/"
        },
        "id": "83ce6AOk8g3i",
        "outputId": "4c98f374-04a3-40dd-a96d-e872e2f53b95"
      },
      "execution_count": 10,
      "outputs": [
        {
          "output_type": "execute_result",
          "data": {
            "text/plain": [
              "candidates {\n",
              "  content {\n",
              "    role: \"model\"\n",
              "    parts {\n",
              "      text: \"The meaning of life is a question that has been pondered by philosophers and individuals for centuries, and there is no one definitive answer.  \\n\\n**Here\\'s a breakdown of perspectives on the meaning of life:**\\n\\n* **Nihilism:**  This perspective suggests that life has no inherent meaning or purpose. \\n* **Existentialism:** This view emphasizes individual freedom and responsibility for creating meaning in a meaningless universe. \\n* **Religion and Spirituality:** Many religions offer a framework for understanding the meaning of life through faith, belief in a higher power, and the pursuit of spiritual enlightenment.\\n* **Humanism:**  This philosophy focuses on human values, reason, and ethics, emphasizing the importance of compassion, empathy, and contributing to the well-being of others.\\n* **Hedonism:** This approach emphasizes the pursuit of pleasure and happiness as the primary goal in life.\\n* **Meaning as a byproduct of experience:** Some believe that meaning arises naturally from our experiences, relationships, and contributions to the world.\\n\\n**Ultimately, the meaning of life is subjective and personal.**  It depends on your individual values, beliefs, and goals. \\n\\n**Here are some ways to find your own meaning in life:**\\n\\n* **Reflect on your values and passions:** What matters most to you? What brings you joy and fulfillment?\\n* **Set goals and pursue your dreams:**  Having goals gives your life direction and purpose.\\n* **Cultivate meaningful relationships:** Strong relationships with family, friends, and community provide love, support, and a sense of belonging.\\n* **Make a difference in the world:** Find ways to contribute to your community, help others, or leave a positive impact.\\n* **Embrace the journey:** Life is full of ups and downs. Appreciate the good times and learn from the challenges.\\n\\nRemember, the search for meaning is a lifelong journey. Be open to new experiences, perspectives, and ways of understanding the world around you. \\n\"\n",
              "    }\n",
              "  }\n",
              "  finish_reason: STOP\n",
              "  safety_ratings {\n",
              "    category: HARM_CATEGORY_HATE_SPEECH\n",
              "    probability: NEGLIGIBLE\n",
              "    probability_score: 0.024798160418868065\n",
              "    severity: HARM_SEVERITY_NEGLIGIBLE\n",
              "    severity_score: 0.017045319080352783\n",
              "  }\n",
              "  safety_ratings {\n",
              "    category: HARM_CATEGORY_DANGEROUS_CONTENT\n",
              "    probability: NEGLIGIBLE\n",
              "    probability_score: 0.024656856432557106\n",
              "    severity: HARM_SEVERITY_NEGLIGIBLE\n",
              "    severity_score: 0.02112519182264805\n",
              "  }\n",
              "  safety_ratings {\n",
              "    category: HARM_CATEGORY_HARASSMENT\n",
              "    probability: NEGLIGIBLE\n",
              "    probability_score: 0.029873095452785492\n",
              "    severity: HARM_SEVERITY_NEGLIGIBLE\n",
              "    severity_score: 0.022846195846796036\n",
              "  }\n",
              "  safety_ratings {\n",
              "    category: HARM_CATEGORY_SEXUALLY_EXPLICIT\n",
              "    probability: NEGLIGIBLE\n",
              "    probability_score: 0.10989668220281601\n",
              "    severity: HARM_SEVERITY_NEGLIGIBLE\n",
              "    severity_score: 0.018941709771752357\n",
              "  }\n",
              "}\n",
              "usage_metadata {\n",
              "  prompt_token_count: 7\n",
              "  candidates_token_count: 403\n",
              "  total_token_count: 410\n",
              "}"
            ]
          },
          "metadata": {},
          "execution_count": 10
        }
      ]
    },
    {
      "cell_type": "markdown",
      "source": [
        "Explore API Troubleshooting and API errors here: [Link](https://cloud.google.com/vertex-ai/generative-ai/docs/model-reference/api-errors)"
      ],
      "metadata": {
        "id": "goT6qsqx7GUe"
      }
    },
    {
      "cell_type": "markdown",
      "source": [
        "#### Streaming"
      ],
      "metadata": {
        "id": "viKTb-iG799N"
      }
    },
    {
      "cell_type": "code",
      "source": [
        "%%time\n",
        "response = model_flash.generate_content(\"What is the meaning of life?\", stream=True)"
      ],
      "metadata": {
        "colab": {
          "base_uri": "https://localhost:8080/"
        },
        "id": "VEtplChs7-UU",
        "outputId": "f0efafa7-2c93-4ca3-94e9-ceabedf8168f"
      },
      "execution_count": 11,
      "outputs": [
        {
          "output_type": "stream",
          "name": "stdout",
          "text": [
            "CPU times: user 11 µs, sys: 2 µs, total: 13 µs\n",
            "Wall time: 16.5 µs\n"
          ]
        }
      ]
    },
    {
      "cell_type": "code",
      "source": [
        "for chunk in response:\n",
        "  print(chunk.text)\n",
        "  print(\"_\"*80)"
      ],
      "metadata": {
        "colab": {
          "base_uri": "https://localhost:8080/"
        },
        "id": "OrB1VhDn8Bk1",
        "outputId": "4630755d-52c2-49d4-9459-bb9260a752fe"
      },
      "execution_count": 12,
      "outputs": [
        {
          "output_type": "stream",
          "name": "stdout",
          "text": [
            "The\n",
            "________________________________________________________________________________\n",
            " meaning of life is a question that has been pondered by philosophers, theologians, and\n",
            "________________________________________________________________________________\n",
            " individuals for centuries. There is no one definitive answer, as the meaning of life\n",
            "________________________________________________________________________________\n",
            " is subjective and personal. Here are some perspectives:\n",
            "\n",
            "**Philosophical perspectives:**\n",
            "\n",
            "* **Nihilism:**  Life has no inherent meaning or purpose.\n",
            "________________________________________________________________________________\n",
            " \n",
            "* **Existentialism:**  Individuals create their own meaning and purpose in a meaningless universe.\n",
            "* **Absurdism:**  The search\n",
            "________________________________________________________________________________\n",
            " for meaning is futile, but we must embrace the absurdity of existence.\n",
            "* **Hedonism:**  The pursuit of pleasure and happiness is the ultimate goal.\n",
            "* **Utilitarianism:**  The greatest good for the greatest number of\n",
            "________________________________________________________________________________\n",
            " people is the most important goal.\n",
            "\n",
            "**Religious perspectives:**\n",
            "\n",
            "* **Theism:**  Life has meaning and purpose as defined by a divine creator.\n",
            "* **Buddhism:**  The goal of life is to achieve enlightenment and escape\n",
            "________________________________________________________________________________\n",
            " suffering.\n",
            "* **Christianity:**  The meaning of life is to love God and others.\n",
            "\n",
            "**Other perspectives:**\n",
            "\n",
            "* **Humanism:**  The meaning of life is found in human relationships, creativity, and the pursuit of knowledge.\n",
            "* **Evolutionary perspective:**  The meaning of life is to survive\n",
            "________________________________________________________________________________\n",
            " and reproduce.\n",
            "* **Personal meaning:**  Each individual creates their own meaning based on their values, experiences, and goals.\n",
            "\n",
            "**Ultimately, the meaning of life is what you make it.**  It is a question that each individual must answer for themselves.  \n",
            "\n",
            "Here are some questions to consider as you explore\n",
            "________________________________________________________________________________\n",
            " your own meaning of life:\n",
            "\n",
            "* What brings you joy and fulfillment?\n",
            "* What are your values and priorities?\n",
            "* What legacy do you want to leave behind?\n",
            "* What impact do you want to have on the world?\n",
            "\n",
            "By reflecting on these questions and exploring different perspectives, you can begin to define\n",
            "________________________________________________________________________________\n",
            " your own unique meaning of life. \n",
            "\n",
            "________________________________________________________________________________\n",
            "\n",
            "________________________________________________________________________________\n"
          ]
        }
      ]
    },
    {
      "cell_type": "markdown",
      "source": [
        "#### Token Count"
      ],
      "metadata": {
        "id": "ChjdMu1v8naw"
      }
    },
    {
      "cell_type": "markdown",
      "source": [
        "<div class=\"alert alert-block alert-warning\">\n",
        "<b>⚠️ A token is equivalent to about 4 characters for Gemini models. 100 tokens are about 60-80 English words.\n",
        "\n",
        "Cloud pricing is done on characters and not tokens. ⚠️</b>\n",
        "</div>\n"
      ],
      "metadata": {
        "id": "VB4Sl6I084tD"
      }
    },
    {
      "cell_type": "code",
      "source": [
        "# more details:  https://cloud.google.com/vertex-ai/generative-ai/docs/multimodal/get-token-count\n",
        "# Pricing details: https://cloud.google.com/vertex-ai/generative-ai/pricing\n",
        "\n",
        "prompt = \"Why is the sky blue?\"\n",
        "\n",
        "# Prompt tokens count\n",
        "response = model.count_tokens(prompt)\n",
        "print(f\"Prompt Token Count: {response.total_tokens}\")\n",
        "print(f\"Prompt Character Count: {response.total_billable_characters}\")\n",
        "\n",
        "# Send text to Gemini\n",
        "response = model.generate_content(prompt)\n",
        "\n",
        "rich_Markdown(response.text)"
      ],
      "metadata": {
        "colab": {
          "base_uri": "https://localhost:8080/",
          "height": 364
        },
        "id": "jfBH34v38nxB",
        "outputId": "1d858314-9a32-428e-c2b1-67a8abca871c"
      },
      "execution_count": 13,
      "outputs": [
        {
          "output_type": "stream",
          "name": "stdout",
          "text": [
            "Prompt Token Count: 6\n",
            "Prompt Character Count: 16\n"
          ]
        },
        {
          "output_type": "execute_result",
          "data": {
            "text/plain": [
              "The sky appears blue due to a phenomenon called \u001b[1mRayleigh scattering\u001b[0m. Here's how it works:                          \n",
              "\n",
              "\u001b[1;33m 1 \u001b[0m\u001b[1mSunlight Enters the Atmosphere:\u001b[0m Sunlight, which appears white to us, is actually a mix of all the colors of the \n",
              "\u001b[1;33m   \u001b[0mrainbow.                                                                                                        \n",
              "\u001b[1;33m 2 \u001b[0m\u001b[1mScattering of Light:\u001b[0m As sunlight enters Earth's atmosphere, it collides with tiny air molecules (mostly nitrogen\n",
              "\u001b[1;33m   \u001b[0mand oxygen). This causes the light to scatter in different directions.                                          \n",
              "\u001b[1;33m 3 \u001b[0m\u001b[1mBlue Light Scatters More:\u001b[0m  Blue and violet light have shorter wavelengths compared to other colors in the       \n",
              "\u001b[1;33m   \u001b[0mspectrum.  Shorter wavelengths are scattered more strongly by the small air molecules.                          \n",
              "\u001b[1;33m 4 \u001b[0m\u001b[1mOur Eyes' Perception:\u001b[0m  While violet light is scattered even more than blue, our eyes are more sensitive to blue \n",
              "\u001b[1;33m   \u001b[0mlight. This is why we perceive the sky as blue rather than a mixture of blue and violet.                        \n",
              "\n",
              "\u001b[1mWhy not other colors?\u001b[0m                                                                                              \n",
              "\n",
              "\u001b[1;33m • \u001b[0m\u001b[1mViolet:\u001b[0m Scattered even more than blue, but our eyes are less sensitive to it.                                   \n",
              "\u001b[1;33m • \u001b[0m\u001b[1mGreen, Yellow, Orange, Red:\u001b[0m These colors have longer wavelengths and are scattered less. They travel more       \n",
              "\u001b[1;33m   \u001b[0mdirectly through the atmosphere.  We see these colors more prominently at sunrise and sunset when sunlight      \n",
              "\u001b[1;33m   \u001b[0mtravels through more of the atmosphere, and the blue light is scattered away.                                   \n",
              "\n",
              "Let me know if you'd like to know more about scattering or any other aspect of light!                              \n"
            ],
            "text/html": [
              "<pre style=\"white-space:pre;overflow-x:auto;line-height:normal;font-family:Menlo,'DejaVu Sans Mono',consolas,'Courier New',monospace\">The sky appears blue due to a phenomenon called <span style=\"font-weight: bold\">Rayleigh scattering</span>. Here's how it works:                          \n",
              "\n",
              "<span style=\"color: #808000; text-decoration-color: #808000; font-weight: bold\"> 1 </span><span style=\"font-weight: bold\">Sunlight Enters the Atmosphere:</span> Sunlight, which appears white to us, is actually a mix of all the colors of the \n",
              "<span style=\"color: #808000; text-decoration-color: #808000; font-weight: bold\">   </span>rainbow.                                                                                                        \n",
              "<span style=\"color: #808000; text-decoration-color: #808000; font-weight: bold\"> 2 </span><span style=\"font-weight: bold\">Scattering of Light:</span> As sunlight enters Earth's atmosphere, it collides with tiny air molecules (mostly nitrogen\n",
              "<span style=\"color: #808000; text-decoration-color: #808000; font-weight: bold\">   </span>and oxygen). This causes the light to scatter in different directions.                                          \n",
              "<span style=\"color: #808000; text-decoration-color: #808000; font-weight: bold\"> 3 </span><span style=\"font-weight: bold\">Blue Light Scatters More:</span>  Blue and violet light have shorter wavelengths compared to other colors in the       \n",
              "<span style=\"color: #808000; text-decoration-color: #808000; font-weight: bold\">   </span>spectrum.  Shorter wavelengths are scattered more strongly by the small air molecules.                          \n",
              "<span style=\"color: #808000; text-decoration-color: #808000; font-weight: bold\"> 4 </span><span style=\"font-weight: bold\">Our Eyes' Perception:</span>  While violet light is scattered even more than blue, our eyes are more sensitive to blue \n",
              "<span style=\"color: #808000; text-decoration-color: #808000; font-weight: bold\">   </span>light. This is why we perceive the sky as blue rather than a mixture of blue and violet.                        \n",
              "\n",
              "<span style=\"font-weight: bold\">Why not other colors?</span>                                                                                              \n",
              "\n",
              "<span style=\"color: #808000; text-decoration-color: #808000; font-weight: bold\"> • </span><span style=\"font-weight: bold\">Violet:</span> Scattered even more than blue, but our eyes are less sensitive to it.                                   \n",
              "<span style=\"color: #808000; text-decoration-color: #808000; font-weight: bold\"> • </span><span style=\"font-weight: bold\">Green, Yellow, Orange, Red:</span> These colors have longer wavelengths and are scattered less. They travel more       \n",
              "<span style=\"color: #808000; text-decoration-color: #808000; font-weight: bold\">   </span>directly through the atmosphere.  We see these colors more prominently at sunrise and sunset when sunlight      \n",
              "<span style=\"color: #808000; text-decoration-color: #808000; font-weight: bold\">   </span>travels through more of the atmosphere, and the blue light is scattered away.                                   \n",
              "\n",
              "Let me know if you'd like to know more about scattering or any other aspect of light!                              \n",
              "</pre>\n"
            ]
          },
          "metadata": {},
          "execution_count": 13
        }
      ]
    },
    {
      "cell_type": "markdown",
      "source": [
        "Two seperate pricing tiers:\n",
        "\n",
        "* ( =< 128K context window)\n",
        "* ( > 128K context window)\n",
        "\n",
        "[More details](https://cloud.google.com/vertex-ai/generative-ai/pricing)"
      ],
      "metadata": {
        "id": "au3gJ2g5-Ic2"
      }
    },
    {
      "cell_type": "code",
      "source": [
        "# Response tokens count\n",
        "usage_metadata = response.usage_metadata\n",
        "print(f\"Prompt Token Count: {usage_metadata.prompt_token_count}\")\n",
        "print(f\"Candidates Token Count: {usage_metadata.candidates_token_count}\")\n",
        "print(f\"Total Token Count: {usage_metadata.total_token_count}\")"
      ],
      "metadata": {
        "colab": {
          "base_uri": "https://localhost:8080/"
        },
        "id": "UEJXeKQo8-_o",
        "outputId": "880864a7-34b6-445d-eac6-3c33530f24ae"
      },
      "execution_count": 14,
      "outputs": [
        {
          "output_type": "stream",
          "name": "stdout",
          "text": [
            "Prompt Token Count: 6\n",
            "Candidates Token Count: 289\n",
            "Total Token Count: 295\n"
          ]
        }
      ]
    },
    {
      "cell_type": "markdown",
      "source": [
        "## Testing Hypothesis"
      ],
      "metadata": {
        "id": "YD5CkSMcbfAB"
      }
    },
    {
      "cell_type": "markdown",
      "source": [
        "### PDF (Extracted Text)"
      ],
      "metadata": {
        "id": "xfojqKhw9LY5"
      }
    },
    {
      "cell_type": "code",
      "source": [
        "#@title Helper Functions\n",
        "## Helper Function\n",
        "\n",
        "import PyPDF2\n",
        "import requests\n",
        "from io import BytesIO\n",
        "\n",
        "# The function reads the PDF directly from the URL and caches in the memory without persisting\n",
        "\n",
        "def pdf_to_dict_str(url_or_file_path):\n",
        "    \"\"\"Reads a PDF from a local file path or URL and returns a dictionary of page text.\"\"\"\n",
        "\n",
        "    # Determine if it's a URL or file path\n",
        "    if url_or_file_path.startswith('http'):\n",
        "        # Fetch the PDF from the URL\n",
        "        response = requests.get(url_or_file_path)\n",
        "        response.raise_for_status()  # Raise an error if the request fails\n",
        "        pdf_file = BytesIO(response.content)\n",
        "    else:\n",
        "        # Open the local file\n",
        "        pdf_file = open(url_or_file_path, 'rb')\n",
        "\n",
        "    # Process the PDF content (same as before)\n",
        "    with pdf_file:\n",
        "        pdf_reader = PyPDF2.PdfReader(pdf_file)\n",
        "        num_pages = len(pdf_reader.pages)\n",
        "        page_dict = {}\n",
        "        for page_num in range(num_pages):\n",
        "            page = pdf_reader.pages[page_num]\n",
        "            page_text = page.extract_text()\n",
        "            page_dict[page_num + 1] = page_text\n",
        "\n",
        "        return str(page_dict)\n"
      ],
      "metadata": {
        "cellView": "form",
        "id": "pwql88iWbcF4"
      },
      "execution_count": 17,
      "outputs": []
    },
    {
      "cell_type": "markdown",
      "source": [
        "Source File: [Link](https://storage.googleapis.com/gemini-lavi-asset/idea_doc/stage_1_prototype_Google%20Cloud%20TPU%20blog.pdf) ~18 pages"
      ],
      "metadata": {
        "id": "ZM7ae6ou0hHd"
      }
    },
    {
      "cell_type": "code",
      "source": [
        "# read through each page and extracts the text and saves in the dictionary as {1:\"context of page 1\"}, 2:\"context of page 2\"}, .... }\n",
        "pdf_context = pdf_to_dict_str(\"https://storage.googleapis.com/gemini-lavi-asset/idea_doc/stage_1_prototype_Google%20Cloud%20TPU%20blog.pdf\")"
      ],
      "metadata": {
        "id": "8ORb_Biw0p0g"
      },
      "execution_count": 18,
      "outputs": []
    },
    {
      "cell_type": "code",
      "source": [
        "pdf_context[:100] #The whole dict is converted to strings so as to pass as context in the model"
      ],
      "metadata": {
        "colab": {
          "base_uri": "https://localhost:8080/",
          "height": 35
        },
        "id": "vTk3NqxD0t2u",
        "outputId": "5b5c2c95-3426-49db-b003-70df78b030a7"
      },
      "execution_count": 19,
      "outputs": [
        {
          "output_type": "execute_result",
          "data": {
            "text/plain": [
              "\"{1: 'Google\\\\nCloud\\\\ndemonstrates\\\\nthe\\\\nworld’ s\\\\nlargest\\\\ndistributed\\\\ntraining\\\\njob\\\\nfor\\\\nlarge\\\\nla\""
            ],
            "application/vnd.google.colaboratory.intrinsic+json": {
              "type": "string"
            }
          },
          "metadata": {},
          "execution_count": 19
        }
      ]
    },
    {
      "cell_type": "code",
      "source": [
        "rich_Markdown(eval(pdf_context)[1]) # Page 1 #use eval to convert string to dict object"
      ],
      "metadata": {
        "colab": {
          "base_uri": "https://localhost:8080/",
          "height": 82
        },
        "id": "034eEoFn0vJ2",
        "outputId": "b047875c-76dc-4974-9b29-da9fd08b2174"
      },
      "execution_count": 20,
      "outputs": [
        {
          "output_type": "execute_result",
          "data": {
            "text/plain": [
              "Google Cloud demonstrates the world’ s largest distributed training job for large language models across 50000+ TPU\n",
              "v5e chips November 9, 2023 Rajesh Anantharaman Product Management Lead, Cloud TPU With the boom in generative AI,  \n",
              "the size of foundational large language models (LLMs) has grown exponentially , utilizing hundreds of billions of  \n",
              "parameters and trillions of training tokens.                                                                       \n"
            ],
            "text/html": [
              "<pre style=\"white-space:pre;overflow-x:auto;line-height:normal;font-family:Menlo,'DejaVu Sans Mono',consolas,'Courier New',monospace\">Google Cloud demonstrates the world’ s largest distributed training job for large language models across 50000+ TPU\n",
              "v5e chips November 9, 2023 Rajesh Anantharaman Product Management Lead, Cloud TPU With the boom in generative AI,  \n",
              "the size of foundational large language models (LLMs) has grown exponentially , utilizing hundreds of billions of  \n",
              "parameters and trillions of training tokens.                                                                       \n",
              "</pre>\n"
            ]
          },
          "metadata": {},
          "execution_count": 20
        }
      ]
    },
    {
      "cell_type": "code",
      "source": [
        "%%time\n",
        "\n",
        "prompt_parts = [\n",
        "  pdf_context,\n",
        "  \"What are key achievement for Google Cloud from the following blog. Mention in bullet.\",\n",
        "]\n",
        "\n",
        "print(model.count_tokens(prompt_parts))\n",
        "response = model.generate_content(prompt_parts)\n",
        "print(\"\\n Usage Metadata:\\n\",response.usage_metadata)\n",
        "rich_Markdown(response.text)"
      ],
      "metadata": {
        "colab": {
          "base_uri": "https://localhost:8080/",
          "height": 622
        },
        "id": "PxrbrXiJ0xU3",
        "outputId": "5e23c4df-fe37-4c4c-ac75-71472c0e679a"
      },
      "execution_count": 21,
      "outputs": [
        {
          "output_type": "stream",
          "name": "stdout",
          "text": [
            "total_tokens: 7523\n",
            "total_billable_characters: 17571\n",
            "\n",
            "\n",
            " Usage Metadata:\n",
            " prompt_token_count: 7523\n",
            "candidates_token_count: 427\n",
            "total_token_count: 7950\n",
            "\n",
            "CPU times: user 74.8 ms, sys: 13.3 ms, total: 88.1 ms\n",
            "Wall time: 10 s\n"
          ]
        },
        {
          "output_type": "execute_result",
          "data": {
            "text/plain": [
              "Here are the key achievements of Google Cloud outlined in the blog, presented as bullet points:                    \n",
              "\n",
              "\u001b[1;33m • \u001b[0m\u001b[1mDemonstrated world's largest distributed training job for LLMs:\u001b[0m Successfully trained large language models      \n",
              "\u001b[1;33m   \u001b[0m(LLMs) across a massive compute cluster of 50,944 Cloud TPU v5e chips. This is believed to be the largest       \n",
              "\u001b[1;33m   \u001b[0mpublicly disclosed LLM distributed training job to date (based on the number of chips).                         \n",
              "\u001b[1;33m • \u001b[0m\u001b[1mAchieved high training performance:\u001b[0m Achieved a Model FLOPs Utilization (MFU) as high as 66.86% with BF16        \n",
              "\u001b[1;33m   \u001b[0mtraining and strong scaling outcomes up to 160 pods. Using INT8 quantization with the AQT library resulted in an\n",
              "\u001b[1;33m   \u001b[0mimpressive 5.32 exa-OP/s, highlighting efficiency gains.                                                        \n",
              "\u001b[1;33m • \u001b[0m\u001b[1mAdvanced and Open-Sourced Key Technologies:\u001b[0m Further developed and made publicly available several crucial       \n",
              "\u001b[1;33m   \u001b[0mcomponents for large-scale ML training:                                                                         \n",
              "\u001b[1;33m   \u001b[0m\u001b[1;33m • \u001b[0m\u001b[1mCloud TPU Multislice Training:\u001b[0m A full-stack training offering designed for scalability, reliability, and ease\n",
              "\u001b[1;33m   \u001b[0m\u001b[1;33m   \u001b[0mof use in optimizing large-scale ML training.                                                                \n",
              "\u001b[1;33m   \u001b[0m\u001b[1;33m • \u001b[0m\u001b[1mXPK:\u001b[0m An ML cluster and job orchestration tool built for use with Google Kubernetes Engine (GKE), simplifying \n",
              "\u001b[1;33m   \u001b[0m\u001b[1;33m   \u001b[0mML job management for engineers.                                                                             \n",
              "\u001b[1;33m   \u001b[0m\u001b[1;33m • \u001b[0m\u001b[1mMaxText:\u001b[0m  A performant and adaptable JAX LLM implementation that leverages XLA for high performance and is   \n",
              "\u001b[1;33m   \u001b[0m\u001b[1;33m   \u001b[0measy for engineers to understand and modify.                                                                 \n",
              "\u001b[1;33m   \u001b[0m\u001b[1;33m • \u001b[0m\u001b[1mAQT:\u001b[0m An efficient training library that uses 8-bit integer quantization for faster training without          \n",
              "\u001b[1;33m   \u001b[0m\u001b[1;33m   \u001b[0msacrificing model quality.                                                                                   \n",
              "\u001b[1;33m • \u001b[0m\u001b[1mOvercame technical challenges of distributed training:\u001b[0m Addressed key challenges in orchestration, compilation,  \n",
              "\u001b[1;33m   \u001b[0mand end-to-end optimization for training at an unprecedented scale. Notably, the teams optimized GKE for        \n",
              "\u001b[1;33m   \u001b[0mhandling large numbers of VMs, improved XLA runtime for large-scale communication, and implemented efficient    \n",
              "\u001b[1;33m   \u001b[0mcheckpointing and data loading strategies.                                                                      \n",
              "\n",
              "These achievements solidify Google Cloud's leadership in providing cutting-edge infrastructure and software        \n",
              "solutions for the rapidly evolving field of large-scale AI and generative AI research.                             \n"
            ],
            "text/html": [
              "<pre style=\"white-space:pre;overflow-x:auto;line-height:normal;font-family:Menlo,'DejaVu Sans Mono',consolas,'Courier New',monospace\">Here are the key achievements of Google Cloud outlined in the blog, presented as bullet points:                    \n",
              "\n",
              "<span style=\"color: #808000; text-decoration-color: #808000; font-weight: bold\"> • </span><span style=\"font-weight: bold\">Demonstrated world's largest distributed training job for LLMs:</span> Successfully trained large language models      \n",
              "<span style=\"color: #808000; text-decoration-color: #808000; font-weight: bold\">   </span>(LLMs) across a massive compute cluster of 50,944 Cloud TPU v5e chips. This is believed to be the largest       \n",
              "<span style=\"color: #808000; text-decoration-color: #808000; font-weight: bold\">   </span>publicly disclosed LLM distributed training job to date (based on the number of chips).                         \n",
              "<span style=\"color: #808000; text-decoration-color: #808000; font-weight: bold\"> • </span><span style=\"font-weight: bold\">Achieved high training performance:</span> Achieved a Model FLOPs Utilization (MFU) as high as 66.86% with BF16        \n",
              "<span style=\"color: #808000; text-decoration-color: #808000; font-weight: bold\">   </span>training and strong scaling outcomes up to 160 pods. Using INT8 quantization with the AQT library resulted in an\n",
              "<span style=\"color: #808000; text-decoration-color: #808000; font-weight: bold\">   </span>impressive 5.32 exa-OP/s, highlighting efficiency gains.                                                        \n",
              "<span style=\"color: #808000; text-decoration-color: #808000; font-weight: bold\"> • </span><span style=\"font-weight: bold\">Advanced and Open-Sourced Key Technologies:</span> Further developed and made publicly available several crucial       \n",
              "<span style=\"color: #808000; text-decoration-color: #808000; font-weight: bold\">   </span>components for large-scale ML training:                                                                         \n",
              "<span style=\"color: #808000; text-decoration-color: #808000; font-weight: bold\">    • </span><span style=\"font-weight: bold\">Cloud TPU Multislice Training:</span> A full-stack training offering designed for scalability, reliability, and ease\n",
              "<span style=\"color: #808000; text-decoration-color: #808000; font-weight: bold\">      </span>of use in optimizing large-scale ML training.                                                                \n",
              "<span style=\"color: #808000; text-decoration-color: #808000; font-weight: bold\">    • </span><span style=\"font-weight: bold\">XPK:</span> An ML cluster and job orchestration tool built for use with Google Kubernetes Engine (GKE), simplifying \n",
              "<span style=\"color: #808000; text-decoration-color: #808000; font-weight: bold\">      </span>ML job management for engineers.                                                                             \n",
              "<span style=\"color: #808000; text-decoration-color: #808000; font-weight: bold\">    • </span><span style=\"font-weight: bold\">MaxText:</span>  A performant and adaptable JAX LLM implementation that leverages XLA for high performance and is   \n",
              "<span style=\"color: #808000; text-decoration-color: #808000; font-weight: bold\">      </span>easy for engineers to understand and modify.                                                                 \n",
              "<span style=\"color: #808000; text-decoration-color: #808000; font-weight: bold\">    • </span><span style=\"font-weight: bold\">AQT:</span> An efficient training library that uses 8-bit integer quantization for faster training without          \n",
              "<span style=\"color: #808000; text-decoration-color: #808000; font-weight: bold\">      </span>sacrificing model quality.                                                                                   \n",
              "<span style=\"color: #808000; text-decoration-color: #808000; font-weight: bold\"> • </span><span style=\"font-weight: bold\">Overcame technical challenges of distributed training:</span> Addressed key challenges in orchestration, compilation,  \n",
              "<span style=\"color: #808000; text-decoration-color: #808000; font-weight: bold\">   </span>and end-to-end optimization for training at an unprecedented scale. Notably, the teams optimized GKE for        \n",
              "<span style=\"color: #808000; text-decoration-color: #808000; font-weight: bold\">   </span>handling large numbers of VMs, improved XLA runtime for large-scale communication, and implemented efficient    \n",
              "<span style=\"color: #808000; text-decoration-color: #808000; font-weight: bold\">   </span>checkpointing and data loading strategies.                                                                      \n",
              "\n",
              "These achievements solidify Google Cloud's leadership in providing cutting-edge infrastructure and software        \n",
              "solutions for the rapidly evolving field of large-scale AI and generative AI research.                             \n",
              "</pre>\n"
            ]
          },
          "metadata": {},
          "execution_count": 21
        }
      ]
    },
    {
      "cell_type": "code",
      "source": [
        "%%time\n",
        "\n",
        "print(model_flash.count_tokens(prompt_parts))\n",
        "response = model_flash.generate_content(prompt_parts)\n",
        "print(\"\\n Usage Metadata:\\n\",response.usage_metadata)\n",
        "rich_Markdown(response.text)"
      ],
      "metadata": {
        "colab": {
          "base_uri": "https://localhost:8080/",
          "height": 557
        },
        "id": "D2A5LxDW1O6v",
        "outputId": "0cd0c46a-cbbd-417e-9f52-dbf2603a518e"
      },
      "execution_count": 23,
      "outputs": [
        {
          "output_type": "stream",
          "name": "stdout",
          "text": [
            "total_tokens: 7523\n",
            "total_billable_characters: 17571\n",
            "\n",
            "\n",
            " Usage Metadata:\n",
            " prompt_token_count: 7523\n",
            "candidates_token_count: 371\n",
            "total_token_count: 7894\n",
            "\n",
            "CPU times: user 38.9 ms, sys: 5.12 ms, total: 44 ms\n",
            "Wall time: 3.56 s\n"
          ]
        },
        {
          "output_type": "execute_result",
          "data": {
            "text/plain": [
              "Here are the key achievements mentioned in the blog for Google Cloud:                                              \n",
              "\n",
              "\u001b[1;33m • \u001b[0m\u001b[1mLargest Distributed LLM Training Job:\u001b[0m Google Cloud demonstrated the world's largest publicly disclosed LLM      \n",
              "\u001b[1;33m   \u001b[0mdistributed training job, using over 50,000 TPU v5e chips.                                                      \n",
              "\u001b[1;33m • \u001b[0m\u001b[1mCloud TPU Multislice Training:\u001b[0m  Google Cloud introduced the general availability of Cloud TPU Multislice        \n",
              "\u001b[1;33m   \u001b[0mTraining, a full-stack training offering designed for scalability, reliability, and ease of use in large-scale  \n",
              "\u001b[1;33m   \u001b[0mML training.                                                                                                    \n",
              "\u001b[1;33m • \u001b[0m\u001b[1mEfficient Scalability:\u001b[0m  They achieved excellent scaling across 50,944 TPU v5e chips, demonstrating the ability  \n",
              "\u001b[1;33m   \u001b[0mto efficiently train large language models at scale.                                                            \n",
              "\u001b[1;33m • \u001b[0m\u001b[1mPerformance Optimization:\u001b[0m They pushed the limits of the JAX training stack, achieving impressive performance    \n",
              "\u001b[1;33m   \u001b[0mwith both BF16 and INT8 quantized training.                                                                     \n",
              "\u001b[1;33m • \u001b[0m\u001b[1mOpen-Sourcing Key Components:\u001b[0m  Google Cloud open-sourced key components of the Multislice Training stack,       \n",
              "\u001b[1;33m   \u001b[0mincluding MaxText, XPK, AQT, and XLA, to contribute to the broader AI/ML community.                             \n",
              "\u001b[1;33m • \u001b[0m\u001b[1mImproved Infrastructure:\u001b[0m  They optimized Google Kubernetes Engine (GKE) to manage large clusters, enabling the  \n",
              "\u001b[1;33m   \u001b[0mefficient orchestration of massive ML jobs.                                                                     \n",
              "\u001b[1;33m • \u001b[0m\u001b[1mQuantized Training Acceleration:\u001b[0m  Their Accurate Quantized Training (AQT) library achieved a 1.2X to 1.4X       \n",
              "\u001b[1;33m   \u001b[0macceleration in training steps per second while maintaining model quality.                                      \n",
              "\u001b[1;33m • \u001b[0m\u001b[1mSoftware Stack Innovation:\u001b[0m  They continued to innovate on their software stack, addressing challenges in        \n",
              "\u001b[1;33m   \u001b[0morchestration, compilation, and end-to-end optimization for large-scale ML training.                            \n",
              "\u001b[1;33m • \u001b[0m\u001b[1mPerformance Metrics:\u001b[0m They achieved impressive Model FLOPs Utilization (MFU) and Effective Model FLOPs           \n",
              "\u001b[1;33m   \u001b[0mUtilization (EMFU) results, demonstrating efficient hardware utilization during training.                       \n"
            ],
            "text/html": [
              "<pre style=\"white-space:pre;overflow-x:auto;line-height:normal;font-family:Menlo,'DejaVu Sans Mono',consolas,'Courier New',monospace\">Here are the key achievements mentioned in the blog for Google Cloud:                                              \n",
              "\n",
              "<span style=\"color: #808000; text-decoration-color: #808000; font-weight: bold\"> • </span><span style=\"font-weight: bold\">Largest Distributed LLM Training Job:</span> Google Cloud demonstrated the world's largest publicly disclosed LLM      \n",
              "<span style=\"color: #808000; text-decoration-color: #808000; font-weight: bold\">   </span>distributed training job, using over 50,000 TPU v5e chips.                                                      \n",
              "<span style=\"color: #808000; text-decoration-color: #808000; font-weight: bold\"> • </span><span style=\"font-weight: bold\">Cloud TPU Multislice Training:</span>  Google Cloud introduced the general availability of Cloud TPU Multislice        \n",
              "<span style=\"color: #808000; text-decoration-color: #808000; font-weight: bold\">   </span>Training, a full-stack training offering designed for scalability, reliability, and ease of use in large-scale  \n",
              "<span style=\"color: #808000; text-decoration-color: #808000; font-weight: bold\">   </span>ML training.                                                                                                    \n",
              "<span style=\"color: #808000; text-decoration-color: #808000; font-weight: bold\"> • </span><span style=\"font-weight: bold\">Efficient Scalability:</span>  They achieved excellent scaling across 50,944 TPU v5e chips, demonstrating the ability  \n",
              "<span style=\"color: #808000; text-decoration-color: #808000; font-weight: bold\">   </span>to efficiently train large language models at scale.                                                            \n",
              "<span style=\"color: #808000; text-decoration-color: #808000; font-weight: bold\"> • </span><span style=\"font-weight: bold\">Performance Optimization:</span> They pushed the limits of the JAX training stack, achieving impressive performance    \n",
              "<span style=\"color: #808000; text-decoration-color: #808000; font-weight: bold\">   </span>with both BF16 and INT8 quantized training.                                                                     \n",
              "<span style=\"color: #808000; text-decoration-color: #808000; font-weight: bold\"> • </span><span style=\"font-weight: bold\">Open-Sourcing Key Components:</span>  Google Cloud open-sourced key components of the Multislice Training stack,       \n",
              "<span style=\"color: #808000; text-decoration-color: #808000; font-weight: bold\">   </span>including MaxText, XPK, AQT, and XLA, to contribute to the broader AI/ML community.                             \n",
              "<span style=\"color: #808000; text-decoration-color: #808000; font-weight: bold\"> • </span><span style=\"font-weight: bold\">Improved Infrastructure:</span>  They optimized Google Kubernetes Engine (GKE) to manage large clusters, enabling the  \n",
              "<span style=\"color: #808000; text-decoration-color: #808000; font-weight: bold\">   </span>efficient orchestration of massive ML jobs.                                                                     \n",
              "<span style=\"color: #808000; text-decoration-color: #808000; font-weight: bold\"> • </span><span style=\"font-weight: bold\">Quantized Training Acceleration:</span>  Their Accurate Quantized Training (AQT) library achieved a 1.2X to 1.4X       \n",
              "<span style=\"color: #808000; text-decoration-color: #808000; font-weight: bold\">   </span>acceleration in training steps per second while maintaining model quality.                                      \n",
              "<span style=\"color: #808000; text-decoration-color: #808000; font-weight: bold\"> • </span><span style=\"font-weight: bold\">Software Stack Innovation:</span>  They continued to innovate on their software stack, addressing challenges in        \n",
              "<span style=\"color: #808000; text-decoration-color: #808000; font-weight: bold\">   </span>orchestration, compilation, and end-to-end optimization for large-scale ML training.                            \n",
              "<span style=\"color: #808000; text-decoration-color: #808000; font-weight: bold\"> • </span><span style=\"font-weight: bold\">Performance Metrics:</span> They achieved impressive Model FLOPs Utilization (MFU) and Effective Model FLOPs           \n",
              "<span style=\"color: #808000; text-decoration-color: #808000; font-weight: bold\">   </span>Utilization (EMFU) results, demonstrating efficient hardware utilization during training.                       \n",
              "</pre>\n"
            ]
          },
          "metadata": {},
          "execution_count": 23
        }
      ]
    },
    {
      "cell_type": "markdown",
      "source": [
        "Understand your billing: [Link](https://cloud.google.com/vertex-ai/generative-ai/pricing)"
      ],
      "metadata": {
        "id": "aljolHAk-zXz"
      }
    },
    {
      "cell_type": "markdown",
      "source": [
        "Source File: [Link](https://storage.googleapis.com/gemini-lavi-asset/idea_doc/goog-10-q-q2-2023-4-1-15.pdf) ~15 pages"
      ],
      "metadata": {
        "id": "M7VegcAS-4OT"
      }
    },
    {
      "cell_type": "code",
      "source": [
        "%%time\n",
        "\n",
        "prompt_parts = [\n",
        "  pdf_to_dict_str('https://storage.googleapis.com/gemini-lavi-asset/idea_doc/goog-10-q-q2-2023-4-1-15.pdf'),\n",
        "  \"\"\"Answer based on the document provided:\n",
        "- How has Google Cloud performed in last quarters?\n",
        "- What factors have influenced its numebrs and is it positive or negative?\n",
        "- What is the leadership view on Google Cloud business?\n",
        "- What are some changes and decisions they have made along the way to achieve their goals?\n",
        "- How are they doing with respect to other cloud companies?\n",
        "  \"\"\",\n",
        "]\n",
        "print(model_flash.count_tokens(prompt_parts))\n",
        "response = model.generate_content(prompt_parts)\n",
        "print(\"\\n Usage Metadata:\\n\",response.usage_metadata)\n",
        "rich_Markdown(response.text)"
      ],
      "metadata": {
        "id": "6wFDusjknFLr",
        "colab": {
          "base_uri": "https://localhost:8080/",
          "height": 687
        },
        "outputId": "4e9d0031-04b4-4be1-89a2-3aeaaf020054"
      },
      "execution_count": 24,
      "outputs": [
        {
          "output_type": "stream",
          "name": "stdout",
          "text": [
            "total_tokens: 11470\n",
            "total_billable_characters: 29442\n",
            "\n",
            "\n",
            " Usage Metadata:\n",
            " prompt_token_count: 11470\n",
            "candidates_token_count: 386\n",
            "total_token_count: 11856\n",
            "\n",
            "CPU times: user 1.56 s, sys: 15.6 ms, total: 1.57 s\n",
            "Wall time: 10.9 s\n"
          ]
        },
        {
          "output_type": "execute_result",
          "data": {
            "text/plain": [
              "While the provided financial statement excerpt offers some insights into Google Cloud's performance, it lacks the  \n",
              "depth to answer your questions comprehensively.                                                                    \n",
              "\n",
              "Here's what we can glean from the document:                                                                        \n",
              "\n",
              "\u001b[1;33m • \u001b[0m\u001b[1mGoogle Cloud is growing\u001b[0m: We see Google Cloud revenues have increased in both the three and six months ended June\n",
              "\u001b[1;33m   \u001b[0m30, 2023, compared to the same periods in 2022. This suggests positive momentum.                                \n",
              "\u001b[1;33m • \u001b[0m\u001b[1mRevenue backlog is significant\u001b[0m:  A large portion of Google Cloud's revenue is backlog, indicating strong future \n",
              "\u001b[1;33m   \u001b[0mrevenue potential.                                                                                              \n",
              "\n",
              "However, we \u001b[1mcannot\u001b[0m ascertain the following from this document alone:                                               \n",
              "\n",
              "\u001b[1;33m • \u001b[0m\u001b[1mSpecific factors influencing Google Cloud's numbers\u001b[0m:  We need a more detailed breakdown of Google Cloud's       \n",
              "\u001b[1;33m   \u001b[0mrevenue drivers, cost structure, and competitive landscape to understand the factors influencing its            \n",
              "\u001b[1;33m   \u001b[0mperformance.                                                                                                    \n",
              "\u001b[1;33m • \u001b[0m\u001b[1mLeadership's view\u001b[0m:  Management's discussion and analysis, usually present in 10-Q reports, would provide        \n",
              "\u001b[1;33m   \u001b[0mleadership's perspective on the business, including their assessment of Google Cloud.                           \n",
              "\u001b[1;33m • \u001b[0m\u001b[1mComparison to competitors\u001b[0m:  This document doesn't provide competitor data. We need market share information and \n",
              "\u001b[1;33m   \u001b[0mcompetitor financial performance to assess Google Cloud's relative performance.                                 \n",
              "\n",
              "\u001b[1mTo get a complete picture, you'd need to consult:\u001b[0m                                                                  \n",
              "\n",
              "\u001b[1;33m • \u001b[0m\u001b[1mThe complete Alphabet Inc. Form 10-Q for the quarterly period ended June 30, 2023.\u001b[0m This document would contain  \n",
              "\u001b[1;33m   \u001b[0msections like Management's Discussion and Analysis, which provides further insights into Google Cloud.          \n",
              "\u001b[1;33m • \u001b[0m\u001b[1mIndustry reports and competitor analysis\u001b[0m:  Seeking information from reputable sources that track the cloud      \n",
              "\u001b[1;33m   \u001b[0mcomputing market would offer a broader context.                                                                 \n",
              "\n",
              "By combining information from these sources, you can develop a well-rounded understanding of Google Cloud's recent \n",
              "performance, the factors driving it, leadership's perspective, and its competitive standing.                       \n"
            ],
            "text/html": [
              "<pre style=\"white-space:pre;overflow-x:auto;line-height:normal;font-family:Menlo,'DejaVu Sans Mono',consolas,'Courier New',monospace\">While the provided financial statement excerpt offers some insights into Google Cloud's performance, it lacks the  \n",
              "depth to answer your questions comprehensively.                                                                    \n",
              "\n",
              "Here's what we can glean from the document:                                                                        \n",
              "\n",
              "<span style=\"color: #808000; text-decoration-color: #808000; font-weight: bold\"> • </span><span style=\"font-weight: bold\">Google Cloud is growing</span>: We see Google Cloud revenues have increased in both the three and six months ended June\n",
              "<span style=\"color: #808000; text-decoration-color: #808000; font-weight: bold\">   </span>30, 2023, compared to the same periods in 2022. This suggests positive momentum.                                \n",
              "<span style=\"color: #808000; text-decoration-color: #808000; font-weight: bold\"> • </span><span style=\"font-weight: bold\">Revenue backlog is significant</span>:  A large portion of Google Cloud's revenue is backlog, indicating strong future \n",
              "<span style=\"color: #808000; text-decoration-color: #808000; font-weight: bold\">   </span>revenue potential.                                                                                              \n",
              "\n",
              "However, we <span style=\"font-weight: bold\">cannot</span> ascertain the following from this document alone:                                               \n",
              "\n",
              "<span style=\"color: #808000; text-decoration-color: #808000; font-weight: bold\"> • </span><span style=\"font-weight: bold\">Specific factors influencing Google Cloud's numbers</span>:  We need a more detailed breakdown of Google Cloud's       \n",
              "<span style=\"color: #808000; text-decoration-color: #808000; font-weight: bold\">   </span>revenue drivers, cost structure, and competitive landscape to understand the factors influencing its            \n",
              "<span style=\"color: #808000; text-decoration-color: #808000; font-weight: bold\">   </span>performance.                                                                                                    \n",
              "<span style=\"color: #808000; text-decoration-color: #808000; font-weight: bold\"> • </span><span style=\"font-weight: bold\">Leadership's view</span>:  Management's discussion and analysis, usually present in 10-Q reports, would provide        \n",
              "<span style=\"color: #808000; text-decoration-color: #808000; font-weight: bold\">   </span>leadership's perspective on the business, including their assessment of Google Cloud.                           \n",
              "<span style=\"color: #808000; text-decoration-color: #808000; font-weight: bold\"> • </span><span style=\"font-weight: bold\">Comparison to competitors</span>:  This document doesn't provide competitor data. We need market share information and \n",
              "<span style=\"color: #808000; text-decoration-color: #808000; font-weight: bold\">   </span>competitor financial performance to assess Google Cloud's relative performance.                                 \n",
              "\n",
              "<span style=\"font-weight: bold\">To get a complete picture, you'd need to consult:</span>                                                                  \n",
              "\n",
              "<span style=\"color: #808000; text-decoration-color: #808000; font-weight: bold\"> • </span><span style=\"font-weight: bold\">The complete Alphabet Inc. Form 10-Q for the quarterly period ended June 30, 2023.</span> This document would contain  \n",
              "<span style=\"color: #808000; text-decoration-color: #808000; font-weight: bold\">   </span>sections like Management's Discussion and Analysis, which provides further insights into Google Cloud.          \n",
              "<span style=\"color: #808000; text-decoration-color: #808000; font-weight: bold\"> • </span><span style=\"font-weight: bold\">Industry reports and competitor analysis</span>:  Seeking information from reputable sources that track the cloud      \n",
              "<span style=\"color: #808000; text-decoration-color: #808000; font-weight: bold\">   </span>computing market would offer a broader context.                                                                 \n",
              "\n",
              "By combining information from these sources, you can develop a well-rounded understanding of Google Cloud's recent \n",
              "performance, the factors driving it, leadership's perspective, and its competitive standing.                       \n",
              "</pre>\n"
            ]
          },
          "metadata": {},
          "execution_count": 24
        }
      ]
    },
    {
      "cell_type": "markdown",
      "source": [
        "### Audio File"
      ],
      "metadata": {
        "id": "00EsLYuNbGPa"
      }
    },
    {
      "cell_type": "markdown",
      "source": [
        "[What Changed: ]\n",
        "\n",
        "- File Upload method\n",
        "\n",
        "\n",
        "Before:\n",
        "\n",
        "- genai.upload_file\n",
        "\n",
        "After:\n",
        "\n",
        "- Part.from_uri [reading from GCS]\n"
      ],
      "metadata": {
        "id": "eGomNFGQXXvR"
      }
    },
    {
      "cell_type": "markdown",
      "source": [
        "Source File: [Link](https://storage.googleapis.com/gemini-lavi-asset/idea_doc/stage_1_prototype_Alphabet%202023%20Q4%20Earnings%20Call.mp3) ~1 hour"
      ],
      "metadata": {
        "id": "c_1nmVuAAGGE"
      }
    },
    {
      "cell_type": "code",
      "source": [
        "from vertexai.generative_models import Part"
      ],
      "metadata": {
        "id": "D1HsR1xYXuX3"
      },
      "execution_count": 25,
      "outputs": []
    },
    {
      "cell_type": "code",
      "source": [
        "earning_calls = Part.from_uri(uri = \"gs://gemini-lavi-asset/production/earning_calls/Alphabet 2023 Q4 Earnings Call.mp3\",\n",
        "    mime_type=\"audio/mpeg\")"
      ],
      "metadata": {
        "id": "3PjkJqwwbIJy"
      },
      "execution_count": 26,
      "outputs": []
    },
    {
      "cell_type": "code",
      "source": [
        "%%time\n",
        "\n",
        "prompt_parts = [\n",
        "  earning_calls,\n",
        "  \"what are major comments by Sundar and Ruth about AI and what key questions were asked by analyst and give their name? give answer in bullets \",\n",
        "]\n",
        "print(model.count_tokens(prompt_parts))\n",
        "response = model.generate_content(prompt_parts)\n",
        "print(\"\\n Usage Metadata:\\n\",response.usage_metadata)\n",
        "rich_Markdown(response.text)"
      ],
      "metadata": {
        "id": "Z9SIRpVhbiv8",
        "colab": {
          "base_uri": "https://localhost:8080/",
          "height": 1000
        },
        "outputId": "4362e77c-bcca-47d0-e216-a49dcb48d0f7"
      },
      "execution_count": 27,
      "outputs": [
        {
          "output_type": "stream",
          "name": "stdout",
          "text": [
            "total_tokens: 29\n",
            "total_billable_characters: 115\n",
            "\n",
            "\n",
            " Usage Metadata:\n",
            " prompt_token_count: 29\n",
            "candidates_token_count: 1643\n",
            "total_token_count: 1672\n",
            "\n",
            "CPU times: user 539 ms, sys: 89 ms, total: 628 ms\n",
            "Wall time: 1min 29s\n"
          ]
        },
        {
          "output_type": "execute_result",
          "data": {
            "text/plain": [
              "Here are the key comments and questions about AI from Alphabet's Q4 2023 earnings call, broken down by speaker:    \n",
              "\n",
              "\u001b[1mSundar Pichai (CEO)\u001b[0m                                                                                                \n",
              "\n",
              "\u001b[1;33m • \u001b[0m\u001b[1mAI Momentum:\u001b[0m Alphabet's results reflect strong momentum in AI and product innovation, continuing into 2024.     \n",
              "\u001b[1;33m • \u001b[0m\u001b[1mAI Investments:\u001b[0m  AI is a core area of investment, with significant focus on its impact on Search, Cloud, and    \n",
              "\u001b[1;33m   \u001b[0mother products.                                                                                                 \n",
              "\u001b[1;33m • \u001b[0m\u001b[1mSearch Generative Experience (SGE):\u001b[0m  SGE is powered by Gemini and is already making Search faster and more      \n",
              "\u001b[1;33m   \u001b[0mcapable of handling complex questions. They are seeing good early user satisfaction.                            \n",
              "\u001b[1;33m • \u001b[0m\u001b[1mGemini AI Model:\u001b[0m Gemini, the result of combining Google's AI research teams, is an industry-leading model that  \n",
              "\u001b[1;33m   \u001b[0munderstands text, images, audio, video, and code. This will fuel the next generation of advancements across many\n",
              "\u001b[1;33m   \u001b[0mproducts.                                                                                                       \n",
              "\u001b[1;33m • \u001b[0m\u001b[1mBard AI Chatbot:\u001b[0m  Bard, powered by Gemini Pro, is significantly more capable in understanding, summarizing,     \n",
              "\u001b[1;33m   \u001b[0mreasoning, coding, and planning. An even more advanced version for subscribers powered by Gemini Ultra is on the\n",
              "\u001b[1;33m   \u001b[0mroadmap.                                                                                                        \n",
              "\u001b[1;33m • \u001b[0m\u001b[1mCloud AI Leadership:\u001b[0m Google Cloud's GenAI capabilities are driving growth and attracting major clients. Google's\n",
              "\u001b[1;33m   \u001b[0mAI infrastructure, including TPU/GPU supercomputers, is a key differentiator.                                   \n",
              "\n",
              "\u001b[1mRuth Porat (CFO)\u001b[0m                                                                                                   \n",
              "\n",
              "\u001b[1;33m • \u001b[0m\u001b[1mAI-Driven Revenue Growth:\u001b[0m  2023 Alphabet revenue growth was driven in part by AI-powered products and services, \n",
              "\u001b[1;33m   \u001b[0mnotably in Cloud and Search.                                                                                    \n",
              "\u001b[1;33m • \u001b[0m\u001b[1mSustained Investment:\u001b[0m Alphabet will continue to invest responsibly in data centers and compute to support AI    \n",
              "\u001b[1;33m   \u001b[0mgrowth, while remaining disciplined with expenses.                                                              \n",
              "\n",
              "\u001b[1mAnalyst Questions and Answers\u001b[0m                                                                                      \n",
              "\n",
              "\u001b[1;33m • \u001b[0m\u001b[1mBrian Nowak (Morgan Stanley):\u001b[0m                                                                                   \n",
              "\u001b[1;33m   \u001b[0m\u001b[1;33m • \u001b[0m\u001b[1mQuestion 1:\u001b[0m What are the hurdles and gating factors dictating the pace of generative AI advertising tools'   \n",
              "\u001b[1;33m   \u001b[0m\u001b[1;33m   \u001b[0mrollout, and when could these tools have a bigger impact on the overall business?                            \n",
              "\u001b[1;33m   \u001b[0m\u001b[1;33m • \u001b[0m\u001b[1mQuestion 2:\u001b[0m How do you think about the long-term sales force intensity of the advertising business as more   \n",
              "\u001b[1;33m   \u001b[0m\u001b[1;33m   \u001b[0mAI-based tools like PMax impact overall ad allocation?                                                       \n",
              "\u001b[1;33m   \u001b[0m\u001b[1;33m • \u001b[0m\u001b[1mAnswer (Philipp Schindler, Chief Business Officer):\u001b[0m  AI has been central to Google's advertising for a long  \n",
              "\u001b[1;33m   \u001b[0m\u001b[1;33m   \u001b[0mtime. The recent advances allow them to drive more value across a range of areas like bidding, targeting, and\n",
              "\u001b[1;33m   \u001b[0m\u001b[1;33m   \u001b[0mcreative. PMax continues to perform well. Adoption of AI tools is driven by getting teams ready to take full \n",
              "\u001b[1;33m   \u001b[0m\u001b[1;33m   \u001b[0madvantage of them. Google's approach prioritizes transformation and growth for all types of customers.       \n",
              "\u001b[1;33m • \u001b[0m\u001b[1mDoug Anmuth (JP Morgan):\u001b[0m                                                                                        \n",
              "\u001b[1;33m   \u001b[0m\u001b[1;33m • \u001b[0m\u001b[1mQuestion 1 (for Ruth):\u001b[0m Can you assess progress on re-engineering the cost structure and provide guideposts   \n",
              "\u001b[1;33m   \u001b[0m\u001b[1;33m   \u001b[0mfor the future?                                                                                              \n",
              "\u001b[1;33m   \u001b[0m\u001b[1;33m • \u001b[0m\u001b[1mQuestion 2 (for Philipp):\u001b[0m Can you discuss more about NFL Sunday Ticket, key learnings from year one, and how \n",
              "\u001b[1;33m   \u001b[0m\u001b[1;33m   \u001b[0myou think about returns on investment, from both an advertising and subscriber perspective?                  \n",
              "\u001b[1;33m   \u001b[0m\u001b[1;33m • \u001b[0m\u001b[1mAnswer 1 (Ruth):\u001b[0m  Alphabet is committed to re-engineering its cost structure while investing for growth      \n",
              "\u001b[1;33m   \u001b[0m\u001b[1;33m   \u001b[0mpriorities. This involves product prioritization, organizational efficiency, a slower hiring pace, and       \n",
              "\u001b[1;33m   \u001b[0m\u001b[1;33m   \u001b[0mongoing efforts in infrastructure optimization and real estate.                                              \n",
              "\u001b[1;33m   \u001b[0m\u001b[1;33m • \u001b[0m\u001b[1mAnswer 2 (Philipp):\u001b[0m NFL Sunday Ticket is a key part of YouTube's strategy to become the must-have app on     \n",
              "\u001b[1;33m   \u001b[0m\u001b[1;33m   \u001b[0mevery TV. User experience feedback has been positive, including regarding navigation, multiview, chat, and   \n",
              "\u001b[1;33m   \u001b[0m\u001b[1;33m   \u001b[0mlow latency. YouTube is pleased with both subscriber sign-ups and advertising demand for the NFL content.    \n",
              "\u001b[1;33m • \u001b[0m\u001b[1mEric Sheridan (Goldman Sachs):\u001b[0m                                                                                  \n",
              "\u001b[1;33m   \u001b[0m\u001b[1;33m • \u001b[0m\u001b[1mQuestion 1 (for Sundar):\u001b[0m How do you see traditional search and Google Assistant evolving in a world with SGE,\n",
              "\u001b[1;33m   \u001b[0m\u001b[1;33m   \u001b[0mBard, and other AI experiences, and how might commercial and non-commercial search use cases change?         \n",
              "\u001b[1;33m   \u001b[0m\u001b[1;33m • \u001b[0m\u001b[1mQuestion 2 (for Ruth):\u001b[0m Could you clarify the one-time items in the earnings release and where they were      \n",
              "\u001b[1;33m   \u001b[0m\u001b[1;33m   \u001b[0mcaptured in the P&L, and were there any legal one-time items?                                                \n",
              "\u001b[1;33m   \u001b[0m\u001b[1;33m • \u001b[0m\u001b[1mAnswer 1 (Sundar):\u001b[0m SGE works well for certain types of queries, and they are expanding its capabilities. He  \n",
              "\u001b[1;33m   \u001b[0m\u001b[1;33m   \u001b[0mbelieves Google Assistant will be complementary, and generative AI will enable it to act more like an agent  \n",
              "\u001b[1;33m   \u001b[0m\u001b[1;33m   \u001b[0mand anticipate user needs.                                                                                   \n",
              "\u001b[1;33m   \u001b[0m\u001b[1;33m • \u001b[0m\u001b[1mAnswer 2 (Ruth):\u001b[0m The $1.2 billion in exit charges related to real estate are reflected in Alphabet-level     \n",
              "\u001b[1;33m   \u001b[0m\u001b[1;33m   \u001b[0mactivities, but spread across various line items in the P&L. Investor Relations can provide more details on  \n",
              "\u001b[1;33m   \u001b[0m\u001b[1;33m   \u001b[0mthe breakdown.                                                                                               \n",
              "\u001b[1;33m • \u001b[0m\u001b[1mJustin Post (BAML):\u001b[0m                                                                                             \n",
              "\u001b[1;33m   \u001b[0m\u001b[1;33m • \u001b[0m\u001b[1mQuestion 1 (for Sundar):\u001b[0m Are there concerns about the use of competitive AI tools as an alternative to       \n",
              "\u001b[1;33m   \u001b[0m\u001b[1;33m   \u001b[0mSearch, and what changes, positive or negative, have you seen in query volumes as you have rolled out SGE?   \n",
              "\u001b[1;33m   \u001b[0m\u001b[1;33m   \u001b[0mWhat makes Google stand out from other AI tools?                                                             \n",
              "\u001b[1;33m   \u001b[0m\u001b[1;33m • \u001b[0m\u001b[1mQuestion 2 (for Ruth):\u001b[0m  The $11 billion in capex was a notable step-up. Were there any one-time items or is  \n",
              "\u001b[1;33m   \u001b[0m\u001b[1;33m   \u001b[0mthis the new run rate for 2024?                                                                              \n",
              "\u001b[1;33m   \u001b[0m\u001b[1;33m • \u001b[0m\u001b[1mAnswer 1 (Sundar):\u001b[0m  People have many information choices, and user expectations are always evolving. Google  \n",
              "\u001b[1;33m   \u001b[0m\u001b[1;33m   \u001b[0mhas a long track record of search innovation. Generative AI is a new tool in their arsenal, but search       \n",
              "\u001b[1;33m   \u001b[0m\u001b[1;33m   \u001b[0minvolves much more, including breadth, depth, and diversity across verticals. They are closely monitoring how\n",
              "\u001b[1;33m   \u001b[0m\u001b[1;33m   \u001b[0musers respond to SGE compared to other options.                                                              \n",
              "\u001b[1;33m   \u001b[0m\u001b[1;33m • \u001b[0m\u001b[1mAnswer 2 (Ruth):\u001b[0m  The $11 billion in Q4 capex was primarily investment in technical infrastructure, with no  \n",
              "\u001b[1;33m   \u001b[0m\u001b[1;33m   \u001b[0mone-time items. It reflects their outlook on AI and the long-term opportunity. They expect capex in 2024 to  \n",
              "\u001b[1;33m   \u001b[0m\u001b[1;33m   \u001b[0mbe notably larger than in 2023.                                                                              \n",
              "\u001b[1;33m • \u001b[0m\u001b[1mRoss Sandler (Barclays):\u001b[0m                                                                                        \n",
              "\u001b[1;33m   \u001b[0m\u001b[1;33m • \u001b[0m\u001b[1mQuestion:\u001b[0m Regarding the DOJ trial, a document disclosed from Google suggested that relying on ad quality     \n",
              "\u001b[1;33m   \u001b[0m\u001b[1;33m   \u001b[0mteams to deliver 20% RPM growth in Search is a fragile strategy. Given that the business has more than       \n",
              "\u001b[1;33m   \u001b[0m\u001b[1;33m   \u001b[0mdoubled since 2019, how do you feel about Google's ability to drive Search RPM going forward, considering the\n",
              "\u001b[1;33m   \u001b[0m\u001b[1;33m   \u001b[0mlarge revenue base?                                                                                          \n",
              "\u001b[1;33m   \u001b[0m\u001b[1;33m • \u001b[0m\u001b[1mAnswer (Sundar):\u001b[0m  He expressed tremendous confidence in Google's quality-driven approach to Search and Ads.  \n",
              "\u001b[1;33m   \u001b[0m\u001b[1;33m   \u001b[0mHe highlighted foundational pillars, including rigorous focus on ad quality to deliver ROI to advertisers,   \n",
              "\u001b[1;33m   \u001b[0m\u001b[1;33m   \u001b[0mimprove user experience, and maintain technical excellence. He believes AI will present opportunities in both\n",
              "\u001b[1;33m   \u001b[0m\u001b[1;33m   \u001b[0morganic and monetization aspects.                                                                            \n",
              "\u001b[1;33m • \u001b[0m\u001b[1mMark Mahaney (Evercore):\u001b[0m                                                                                        \n",
              "\u001b[1;33m   \u001b[0m\u001b[1;33m • \u001b[0m\u001b[1mQuestion 1:\u001b[0m What explains the volatility in Google Cloud's growth (deceleration last quarter, reacceleration \n",
              "\u001b[1;33m   \u001b[0m\u001b[1;33m   \u001b[0mthis quarter)? Is it due to optimization cycles or generative AI workloads trickling in?                     \n",
              "\u001b[1;33m   \u001b[0m\u001b[1;33m • \u001b[0m\u001b[1mQuestion 2:\u001b[0m  How are you using AI to improve creative offerings, particularly on YouTube and Ads? Is         \n",
              "\u001b[1;33m   \u001b[0m\u001b[1;33m   \u001b[0mAI-powered creative a new growth area? How far along are you in offering this to the market, and does it open\n",
              "\u001b[1;33m   \u001b[0m\u001b[1;33m   \u001b[0mup a new area of ad spend?                                                                                   \n",
              "\u001b[1;33m   \u001b[0m\u001b[1;33m • \u001b[0m\u001b[1mAnswer 1 (Sundar):\u001b[0m  Several factors, including excitement about Google Cloud's AI solutions on top of its    \n",
              "\u001b[1;33m   \u001b[0m\u001b[1;33m   \u001b[0mdata analytics infrastructure, are driving interest and adoption. Generative AI is playing a significant role\n",
              "\u001b[1;33m   \u001b[0m\u001b[1;33m   \u001b[0min this early adoption.                                                                                      \n",
              "\u001b[1;33m   \u001b[0m\u001b[1;33m • \u001b[0m\u001b[1mAnswer 2 (Philipp):\u001b[0m  AI has been critical to enabling YouTube creators. Their recent announcement about new  \n",
              "\u001b[1;33m   \u001b[0m\u001b[1;33m   \u001b[0mAI creativity features on YouTube demonstrates this commitment. He believes AI unlocks a new world of        \n",
              "\u001b[1;33m   \u001b[0m\u001b[1;33m   \u001b[0mcreative possibilities that will extend to advertising, building on their existing AI-powered video ad       \n",
              "\u001b[1;33m   \u001b[0m\u001b[1;33m   \u001b[0msolutions.                                                                                                   \n",
              "\n",
              "Let me know if you'd like me to elaborate on any particular point.                                                 \n"
            ],
            "text/html": [
              "<pre style=\"white-space:pre;overflow-x:auto;line-height:normal;font-family:Menlo,'DejaVu Sans Mono',consolas,'Courier New',monospace\">Here are the key comments and questions about AI from Alphabet's Q4 2023 earnings call, broken down by speaker:    \n",
              "\n",
              "<span style=\"font-weight: bold\">Sundar Pichai (CEO)</span>                                                                                                \n",
              "\n",
              "<span style=\"color: #808000; text-decoration-color: #808000; font-weight: bold\"> • </span><span style=\"font-weight: bold\">AI Momentum:</span> Alphabet's results reflect strong momentum in AI and product innovation, continuing into 2024.     \n",
              "<span style=\"color: #808000; text-decoration-color: #808000; font-weight: bold\"> • </span><span style=\"font-weight: bold\">AI Investments:</span>  AI is a core area of investment, with significant focus on its impact on Search, Cloud, and    \n",
              "<span style=\"color: #808000; text-decoration-color: #808000; font-weight: bold\">   </span>other products.                                                                                                 \n",
              "<span style=\"color: #808000; text-decoration-color: #808000; font-weight: bold\"> • </span><span style=\"font-weight: bold\">Search Generative Experience (SGE):</span>  SGE is powered by Gemini and is already making Search faster and more      \n",
              "<span style=\"color: #808000; text-decoration-color: #808000; font-weight: bold\">   </span>capable of handling complex questions. They are seeing good early user satisfaction.                            \n",
              "<span style=\"color: #808000; text-decoration-color: #808000; font-weight: bold\"> • </span><span style=\"font-weight: bold\">Gemini AI Model:</span> Gemini, the result of combining Google's AI research teams, is an industry-leading model that  \n",
              "<span style=\"color: #808000; text-decoration-color: #808000; font-weight: bold\">   </span>understands text, images, audio, video, and code. This will fuel the next generation of advancements across many\n",
              "<span style=\"color: #808000; text-decoration-color: #808000; font-weight: bold\">   </span>products.                                                                                                       \n",
              "<span style=\"color: #808000; text-decoration-color: #808000; font-weight: bold\"> • </span><span style=\"font-weight: bold\">Bard AI Chatbot:</span>  Bard, powered by Gemini Pro, is significantly more capable in understanding, summarizing,     \n",
              "<span style=\"color: #808000; text-decoration-color: #808000; font-weight: bold\">   </span>reasoning, coding, and planning. An even more advanced version for subscribers powered by Gemini Ultra is on the\n",
              "<span style=\"color: #808000; text-decoration-color: #808000; font-weight: bold\">   </span>roadmap.                                                                                                        \n",
              "<span style=\"color: #808000; text-decoration-color: #808000; font-weight: bold\"> • </span><span style=\"font-weight: bold\">Cloud AI Leadership:</span> Google Cloud's GenAI capabilities are driving growth and attracting major clients. Google's\n",
              "<span style=\"color: #808000; text-decoration-color: #808000; font-weight: bold\">   </span>AI infrastructure, including TPU/GPU supercomputers, is a key differentiator.                                   \n",
              "\n",
              "<span style=\"font-weight: bold\">Ruth Porat (CFO)</span>                                                                                                   \n",
              "\n",
              "<span style=\"color: #808000; text-decoration-color: #808000; font-weight: bold\"> • </span><span style=\"font-weight: bold\">AI-Driven Revenue Growth:</span>  2023 Alphabet revenue growth was driven in part by AI-powered products and services, \n",
              "<span style=\"color: #808000; text-decoration-color: #808000; font-weight: bold\">   </span>notably in Cloud and Search.                                                                                    \n",
              "<span style=\"color: #808000; text-decoration-color: #808000; font-weight: bold\"> • </span><span style=\"font-weight: bold\">Sustained Investment:</span> Alphabet will continue to invest responsibly in data centers and compute to support AI    \n",
              "<span style=\"color: #808000; text-decoration-color: #808000; font-weight: bold\">   </span>growth, while remaining disciplined with expenses.                                                              \n",
              "\n",
              "<span style=\"font-weight: bold\">Analyst Questions and Answers</span>                                                                                      \n",
              "\n",
              "<span style=\"color: #808000; text-decoration-color: #808000; font-weight: bold\"> • </span><span style=\"font-weight: bold\">Brian Nowak (Morgan Stanley):</span>                                                                                   \n",
              "<span style=\"color: #808000; text-decoration-color: #808000; font-weight: bold\">    • </span><span style=\"font-weight: bold\">Question 1:</span> What are the hurdles and gating factors dictating the pace of generative AI advertising tools'   \n",
              "<span style=\"color: #808000; text-decoration-color: #808000; font-weight: bold\">      </span>rollout, and when could these tools have a bigger impact on the overall business?                            \n",
              "<span style=\"color: #808000; text-decoration-color: #808000; font-weight: bold\">    • </span><span style=\"font-weight: bold\">Question 2:</span> How do you think about the long-term sales force intensity of the advertising business as more   \n",
              "<span style=\"color: #808000; text-decoration-color: #808000; font-weight: bold\">      </span>AI-based tools like PMax impact overall ad allocation?                                                       \n",
              "<span style=\"color: #808000; text-decoration-color: #808000; font-weight: bold\">    • </span><span style=\"font-weight: bold\">Answer (Philipp Schindler, Chief Business Officer):</span>  AI has been central to Google's advertising for a long  \n",
              "<span style=\"color: #808000; text-decoration-color: #808000; font-weight: bold\">      </span>time. The recent advances allow them to drive more value across a range of areas like bidding, targeting, and\n",
              "<span style=\"color: #808000; text-decoration-color: #808000; font-weight: bold\">      </span>creative. PMax continues to perform well. Adoption of AI tools is driven by getting teams ready to take full \n",
              "<span style=\"color: #808000; text-decoration-color: #808000; font-weight: bold\">      </span>advantage of them. Google's approach prioritizes transformation and growth for all types of customers.       \n",
              "<span style=\"color: #808000; text-decoration-color: #808000; font-weight: bold\"> • </span><span style=\"font-weight: bold\">Doug Anmuth (JP Morgan):</span>                                                                                        \n",
              "<span style=\"color: #808000; text-decoration-color: #808000; font-weight: bold\">    • </span><span style=\"font-weight: bold\">Question 1 (for Ruth):</span> Can you assess progress on re-engineering the cost structure and provide guideposts   \n",
              "<span style=\"color: #808000; text-decoration-color: #808000; font-weight: bold\">      </span>for the future?                                                                                              \n",
              "<span style=\"color: #808000; text-decoration-color: #808000; font-weight: bold\">    • </span><span style=\"font-weight: bold\">Question 2 (for Philipp):</span> Can you discuss more about NFL Sunday Ticket, key learnings from year one, and how \n",
              "<span style=\"color: #808000; text-decoration-color: #808000; font-weight: bold\">      </span>you think about returns on investment, from both an advertising and subscriber perspective?                  \n",
              "<span style=\"color: #808000; text-decoration-color: #808000; font-weight: bold\">    • </span><span style=\"font-weight: bold\">Answer 1 (Ruth):</span>  Alphabet is committed to re-engineering its cost structure while investing for growth      \n",
              "<span style=\"color: #808000; text-decoration-color: #808000; font-weight: bold\">      </span>priorities. This involves product prioritization, organizational efficiency, a slower hiring pace, and       \n",
              "<span style=\"color: #808000; text-decoration-color: #808000; font-weight: bold\">      </span>ongoing efforts in infrastructure optimization and real estate.                                              \n",
              "<span style=\"color: #808000; text-decoration-color: #808000; font-weight: bold\">    • </span><span style=\"font-weight: bold\">Answer 2 (Philipp):</span> NFL Sunday Ticket is a key part of YouTube's strategy to become the must-have app on     \n",
              "<span style=\"color: #808000; text-decoration-color: #808000; font-weight: bold\">      </span>every TV. User experience feedback has been positive, including regarding navigation, multiview, chat, and   \n",
              "<span style=\"color: #808000; text-decoration-color: #808000; font-weight: bold\">      </span>low latency. YouTube is pleased with both subscriber sign-ups and advertising demand for the NFL content.    \n",
              "<span style=\"color: #808000; text-decoration-color: #808000; font-weight: bold\"> • </span><span style=\"font-weight: bold\">Eric Sheridan (Goldman Sachs):</span>                                                                                  \n",
              "<span style=\"color: #808000; text-decoration-color: #808000; font-weight: bold\">    • </span><span style=\"font-weight: bold\">Question 1 (for Sundar):</span> How do you see traditional search and Google Assistant evolving in a world with SGE,\n",
              "<span style=\"color: #808000; text-decoration-color: #808000; font-weight: bold\">      </span>Bard, and other AI experiences, and how might commercial and non-commercial search use cases change?         \n",
              "<span style=\"color: #808000; text-decoration-color: #808000; font-weight: bold\">    • </span><span style=\"font-weight: bold\">Question 2 (for Ruth):</span> Could you clarify the one-time items in the earnings release and where they were      \n",
              "<span style=\"color: #808000; text-decoration-color: #808000; font-weight: bold\">      </span>captured in the P&amp;L, and were there any legal one-time items?                                                \n",
              "<span style=\"color: #808000; text-decoration-color: #808000; font-weight: bold\">    • </span><span style=\"font-weight: bold\">Answer 1 (Sundar):</span> SGE works well for certain types of queries, and they are expanding its capabilities. He  \n",
              "<span style=\"color: #808000; text-decoration-color: #808000; font-weight: bold\">      </span>believes Google Assistant will be complementary, and generative AI will enable it to act more like an agent  \n",
              "<span style=\"color: #808000; text-decoration-color: #808000; font-weight: bold\">      </span>and anticipate user needs.                                                                                   \n",
              "<span style=\"color: #808000; text-decoration-color: #808000; font-weight: bold\">    • </span><span style=\"font-weight: bold\">Answer 2 (Ruth):</span> The $1.2 billion in exit charges related to real estate are reflected in Alphabet-level     \n",
              "<span style=\"color: #808000; text-decoration-color: #808000; font-weight: bold\">      </span>activities, but spread across various line items in the P&amp;L. Investor Relations can provide more details on  \n",
              "<span style=\"color: #808000; text-decoration-color: #808000; font-weight: bold\">      </span>the breakdown.                                                                                               \n",
              "<span style=\"color: #808000; text-decoration-color: #808000; font-weight: bold\"> • </span><span style=\"font-weight: bold\">Justin Post (BAML):</span>                                                                                             \n",
              "<span style=\"color: #808000; text-decoration-color: #808000; font-weight: bold\">    • </span><span style=\"font-weight: bold\">Question 1 (for Sundar):</span> Are there concerns about the use of competitive AI tools as an alternative to       \n",
              "<span style=\"color: #808000; text-decoration-color: #808000; font-weight: bold\">      </span>Search, and what changes, positive or negative, have you seen in query volumes as you have rolled out SGE?   \n",
              "<span style=\"color: #808000; text-decoration-color: #808000; font-weight: bold\">      </span>What makes Google stand out from other AI tools?                                                             \n",
              "<span style=\"color: #808000; text-decoration-color: #808000; font-weight: bold\">    • </span><span style=\"font-weight: bold\">Question 2 (for Ruth):</span>  The $11 billion in capex was a notable step-up. Were there any one-time items or is  \n",
              "<span style=\"color: #808000; text-decoration-color: #808000; font-weight: bold\">      </span>this the new run rate for 2024?                                                                              \n",
              "<span style=\"color: #808000; text-decoration-color: #808000; font-weight: bold\">    • </span><span style=\"font-weight: bold\">Answer 1 (Sundar):</span>  People have many information choices, and user expectations are always evolving. Google  \n",
              "<span style=\"color: #808000; text-decoration-color: #808000; font-weight: bold\">      </span>has a long track record of search innovation. Generative AI is a new tool in their arsenal, but search       \n",
              "<span style=\"color: #808000; text-decoration-color: #808000; font-weight: bold\">      </span>involves much more, including breadth, depth, and diversity across verticals. They are closely monitoring how\n",
              "<span style=\"color: #808000; text-decoration-color: #808000; font-weight: bold\">      </span>users respond to SGE compared to other options.                                                              \n",
              "<span style=\"color: #808000; text-decoration-color: #808000; font-weight: bold\">    • </span><span style=\"font-weight: bold\">Answer 2 (Ruth):</span>  The $11 billion in Q4 capex was primarily investment in technical infrastructure, with no  \n",
              "<span style=\"color: #808000; text-decoration-color: #808000; font-weight: bold\">      </span>one-time items. It reflects their outlook on AI and the long-term opportunity. They expect capex in 2024 to  \n",
              "<span style=\"color: #808000; text-decoration-color: #808000; font-weight: bold\">      </span>be notably larger than in 2023.                                                                              \n",
              "<span style=\"color: #808000; text-decoration-color: #808000; font-weight: bold\"> • </span><span style=\"font-weight: bold\">Ross Sandler (Barclays):</span>                                                                                        \n",
              "<span style=\"color: #808000; text-decoration-color: #808000; font-weight: bold\">    • </span><span style=\"font-weight: bold\">Question:</span> Regarding the DOJ trial, a document disclosed from Google suggested that relying on ad quality     \n",
              "<span style=\"color: #808000; text-decoration-color: #808000; font-weight: bold\">      </span>teams to deliver 20% RPM growth in Search is a fragile strategy. Given that the business has more than       \n",
              "<span style=\"color: #808000; text-decoration-color: #808000; font-weight: bold\">      </span>doubled since 2019, how do you feel about Google's ability to drive Search RPM going forward, considering the\n",
              "<span style=\"color: #808000; text-decoration-color: #808000; font-weight: bold\">      </span>large revenue base?                                                                                          \n",
              "<span style=\"color: #808000; text-decoration-color: #808000; font-weight: bold\">    • </span><span style=\"font-weight: bold\">Answer (Sundar):</span>  He expressed tremendous confidence in Google's quality-driven approach to Search and Ads.  \n",
              "<span style=\"color: #808000; text-decoration-color: #808000; font-weight: bold\">      </span>He highlighted foundational pillars, including rigorous focus on ad quality to deliver ROI to advertisers,   \n",
              "<span style=\"color: #808000; text-decoration-color: #808000; font-weight: bold\">      </span>improve user experience, and maintain technical excellence. He believes AI will present opportunities in both\n",
              "<span style=\"color: #808000; text-decoration-color: #808000; font-weight: bold\">      </span>organic and monetization aspects.                                                                            \n",
              "<span style=\"color: #808000; text-decoration-color: #808000; font-weight: bold\"> • </span><span style=\"font-weight: bold\">Mark Mahaney (Evercore):</span>                                                                                        \n",
              "<span style=\"color: #808000; text-decoration-color: #808000; font-weight: bold\">    • </span><span style=\"font-weight: bold\">Question 1:</span> What explains the volatility in Google Cloud's growth (deceleration last quarter, reacceleration \n",
              "<span style=\"color: #808000; text-decoration-color: #808000; font-weight: bold\">      </span>this quarter)? Is it due to optimization cycles or generative AI workloads trickling in?                     \n",
              "<span style=\"color: #808000; text-decoration-color: #808000; font-weight: bold\">    • </span><span style=\"font-weight: bold\">Question 2:</span>  How are you using AI to improve creative offerings, particularly on YouTube and Ads? Is         \n",
              "<span style=\"color: #808000; text-decoration-color: #808000; font-weight: bold\">      </span>AI-powered creative a new growth area? How far along are you in offering this to the market, and does it open\n",
              "<span style=\"color: #808000; text-decoration-color: #808000; font-weight: bold\">      </span>up a new area of ad spend?                                                                                   \n",
              "<span style=\"color: #808000; text-decoration-color: #808000; font-weight: bold\">    • </span><span style=\"font-weight: bold\">Answer 1 (Sundar):</span>  Several factors, including excitement about Google Cloud's AI solutions on top of its    \n",
              "<span style=\"color: #808000; text-decoration-color: #808000; font-weight: bold\">      </span>data analytics infrastructure, are driving interest and adoption. Generative AI is playing a significant role\n",
              "<span style=\"color: #808000; text-decoration-color: #808000; font-weight: bold\">      </span>in this early adoption.                                                                                      \n",
              "<span style=\"color: #808000; text-decoration-color: #808000; font-weight: bold\">    • </span><span style=\"font-weight: bold\">Answer 2 (Philipp):</span>  AI has been critical to enabling YouTube creators. Their recent announcement about new  \n",
              "<span style=\"color: #808000; text-decoration-color: #808000; font-weight: bold\">      </span>AI creativity features on YouTube demonstrates this commitment. He believes AI unlocks a new world of        \n",
              "<span style=\"color: #808000; text-decoration-color: #808000; font-weight: bold\">      </span>creative possibilities that will extend to advertising, building on their existing AI-powered video ad       \n",
              "<span style=\"color: #808000; text-decoration-color: #808000; font-weight: bold\">      </span>solutions.                                                                                                   \n",
              "\n",
              "Let me know if you'd like me to elaborate on any particular point.                                                 \n",
              "</pre>\n"
            ]
          },
          "metadata": {},
          "execution_count": 27
        }
      ]
    },
    {
      "cell_type": "code",
      "source": [
        "%%time\n",
        "\n",
        "print(model_flash.count_tokens(prompt_parts))\n",
        "response = model_flash.generate_content(prompt_parts)\n",
        "print(\"\\n Usage Metadata:\\n\",response.usage_metadata)\n",
        "rich_Markdown(response.text)"
      ],
      "metadata": {
        "id": "9inzbauaVLv6",
        "colab": {
          "base_uri": "https://localhost:8080/",
          "height": 933
        },
        "outputId": "b2271bb5-99bb-47e6-aa12-8805e5e8a05c"
      },
      "execution_count": 29,
      "outputs": [
        {
          "output_type": "stream",
          "name": "stdout",
          "text": [
            "total_tokens: 29\n",
            "total_billable_characters: 115\n",
            "\n",
            "\n",
            " Usage Metadata:\n",
            " prompt_token_count: 29\n",
            "candidates_token_count: 594\n",
            "total_token_count: 623\n",
            "\n",
            "CPU times: user 244 ms, sys: 45.7 ms, total: 290 ms\n",
            "Wall time: 36.4 s\n"
          ]
        },
        {
          "output_type": "execute_result",
          "data": {
            "text/plain": [
              "Here are the key comments from Sundar and Ruth about AI and the key questions asked by analysts:                   \n",
              "\n",
              "\u001b[1mSundar's Key Comments About AI\u001b[0m                                                                                     \n",
              "\n",
              "\u001b[1;33m • \u001b[0m\u001b[1mInvestments in AI:\u001b[0m  Sundar emphasized Alphabet's significant investments in AI, particularly focusing on how it \n",
              "\u001b[1;33m   \u001b[0mis improving Search.                                                                                            \n",
              "\u001b[1;33m • \u001b[0m\u001b[1mGemini:\u001b[0m He highlighted the launch of Gemini, a new generation of AI models designed for multi-modal             \n",
              "\u001b[1;33m   \u001b[0munderstanding (text, images, audio, video, code). He sees Gemini as a key driver for future advancements.       \n",
              "\u001b[1;33m • \u001b[0m\u001b[1mAI in Search:\u001b[0m Sundar discussed the integration of Gemini into Search, leading to improvements in latency and the\n",
              "\u001b[1;33m   \u001b[0mability to handle more complex queries.                                                                         \n",
              "\u001b[1;33m • \u001b[0m\u001b[1mAI in Advertising:\u001b[0m He pointed out growing interest in AI-powered solutions for advertisers, including a new     \n",
              "\u001b[1;33m   \u001b[0mconversational experience that uses Gemini to accelerate campaign creation.                                     \n",
              "\n",
              "\u001b[1mRuth's Key Comments About AI\u001b[0m                                                                                       \n",
              "\n",
              "\u001b[1;33m • \u001b[0m\u001b[1mAI as a Growth Driver:\u001b[0m  Ruth emphasized the increasing contribution of AI to Google Cloud's momentum and revenue\n",
              "\u001b[1;33m   \u001b[0mgrowth.                                                                                                         \n",
              "\u001b[1;33m • \u001b[0m\u001b[1mAI in Google Workspace:\u001b[0m She mentioned Google Workspace's strong revenue growth, primarily driven by AI-powered  \n",
              "\u001b[1;33m   \u001b[0mfeatures that increase average revenue per seat.                                                                \n",
              "\u001b[1;33m • \u001b[0m\u001b[1mAI's Long-Term Impact:\u001b[0m She highlighted the significant investments Alphabet is making in AI infrastructure,     \n",
              "\u001b[1;33m   \u001b[0mreflecting their belief in AI's extraordinary applications across their businesses.                             \n",
              "\n",
              "\u001b[1mKey Analyst Questions\u001b[0m                                                                                              \n",
              "\n",
              "\u001b[1;33m • \u001b[0m\u001b[1mBrian Nowak (Morgan Stanley):\u001b[0m                                                                                   \n",
              "\u001b[1;33m   \u001b[0m\u001b[1;33m • \u001b[0m\u001b[1mGating Factors for AI in Advertising:\u001b[0m  He asked about hurdles and gating factors that could impact the broad \n",
              "\u001b[1;33m   \u001b[0m\u001b[1;33m   \u001b[0mrollout of new generative AI advertising tools.                                                              \n",
              "\u001b[1;33m   \u001b[0m\u001b[1;33m • \u001b[0m\u001b[1mSales Force Intensity:\u001b[0m Nowak asked about the long-term sales force intensity in the advertising business with\n",
              "\u001b[1;33m   \u001b[0m\u001b[1;33m   \u001b[0mthe adoption of AI-based tools like PMax.                                                                    \n",
              "\u001b[1;33m • \u001b[0m\u001b[1mDoug Anmuth (JPMorgan):\u001b[0m                                                                                         \n",
              "\u001b[1;33m   \u001b[0m\u001b[1;33m • \u001b[0m\u001b[1mProgress on Reengineering Costs:\u001b[0m He asked for an assessment of progress on Alphabet's effort to reengineer   \n",
              "\u001b[1;33m   \u001b[0m\u001b[1;33m   \u001b[0mits cost structure.                                                                                          \n",
              "\u001b[1;33m   \u001b[0m\u001b[1;33m • \u001b[0m\u001b[1mNFL Sunday Ticket:\u001b[0m Anmuth inquired about key learnings from the first year of NFL Sunday Ticket and their    \n",
              "\u001b[1;33m   \u001b[0m\u001b[1;33m   \u001b[0mthoughts on the returns on investment.                                                                       \n",
              "\u001b[1;33m • \u001b[0m\u001b[1mEric Sheridan (Goldman Sachs):\u001b[0m                                                                                  \n",
              "\u001b[1;33m   \u001b[0m\u001b[1;33m • \u001b[0m\u001b[1mSearch Generative Experience Evolution:\u001b[0m He asked how Sundar envisions the evolution of traditional search and\n",
              "\u001b[1;33m   \u001b[0m\u001b[1;33m   \u001b[0mGoogle Assistant in a world with Search Generative Experience, Bard, and other AI tools.                     \n",
              "\u001b[1;33m   \u001b[0m\u001b[1;33m • \u001b[0m\u001b[1mOne-Time Items:\u001b[0m Sheridan wanted clarification on the accounting treatment of one-time items in the quarter,  \n",
              "\u001b[1;33m   \u001b[0m\u001b[1;33m   \u001b[0mparticularly regarding real estate charges.                                                                  \n",
              "\u001b[1;33m • \u001b[0m\u001b[1mMark Mahaney (Evercore):\u001b[0m                                                                                        \n",
              "\u001b[1;33m   \u001b[0m\u001b[1;33m • \u001b[0m\u001b[1mCloud Growth Volatility:\u001b[0m Mahaney inquired about the reason for the volatility in Google Cloud growth,        \n",
              "\u001b[1;33m   \u001b[0m\u001b[1;33m   \u001b[0mconsidering the possible impact of generative AI workloads.                                                  \n",
              "\u001b[1;33m   \u001b[0m\u001b[1;33m • \u001b[0m\u001b[1mAI in YouTube Ads:\u001b[0m He asked about Alphabet's efforts to leverage AI in creating performance-based video ad   \n",
              "\u001b[1;33m   \u001b[0m\u001b[1;33m   \u001b[0mcampaigns for YouTube, particularly targeting SMBs.                                                          \n"
            ],
            "text/html": [
              "<pre style=\"white-space:pre;overflow-x:auto;line-height:normal;font-family:Menlo,'DejaVu Sans Mono',consolas,'Courier New',monospace\">Here are the key comments from Sundar and Ruth about AI and the key questions asked by analysts:                   \n",
              "\n",
              "<span style=\"font-weight: bold\">Sundar's Key Comments About AI</span>                                                                                     \n",
              "\n",
              "<span style=\"color: #808000; text-decoration-color: #808000; font-weight: bold\"> • </span><span style=\"font-weight: bold\">Investments in AI:</span>  Sundar emphasized Alphabet's significant investments in AI, particularly focusing on how it \n",
              "<span style=\"color: #808000; text-decoration-color: #808000; font-weight: bold\">   </span>is improving Search.                                                                                            \n",
              "<span style=\"color: #808000; text-decoration-color: #808000; font-weight: bold\"> • </span><span style=\"font-weight: bold\">Gemini:</span> He highlighted the launch of Gemini, a new generation of AI models designed for multi-modal             \n",
              "<span style=\"color: #808000; text-decoration-color: #808000; font-weight: bold\">   </span>understanding (text, images, audio, video, code). He sees Gemini as a key driver for future advancements.       \n",
              "<span style=\"color: #808000; text-decoration-color: #808000; font-weight: bold\"> • </span><span style=\"font-weight: bold\">AI in Search:</span> Sundar discussed the integration of Gemini into Search, leading to improvements in latency and the\n",
              "<span style=\"color: #808000; text-decoration-color: #808000; font-weight: bold\">   </span>ability to handle more complex queries.                                                                         \n",
              "<span style=\"color: #808000; text-decoration-color: #808000; font-weight: bold\"> • </span><span style=\"font-weight: bold\">AI in Advertising:</span> He pointed out growing interest in AI-powered solutions for advertisers, including a new     \n",
              "<span style=\"color: #808000; text-decoration-color: #808000; font-weight: bold\">   </span>conversational experience that uses Gemini to accelerate campaign creation.                                     \n",
              "\n",
              "<span style=\"font-weight: bold\">Ruth's Key Comments About AI</span>                                                                                       \n",
              "\n",
              "<span style=\"color: #808000; text-decoration-color: #808000; font-weight: bold\"> • </span><span style=\"font-weight: bold\">AI as a Growth Driver:</span>  Ruth emphasized the increasing contribution of AI to Google Cloud's momentum and revenue\n",
              "<span style=\"color: #808000; text-decoration-color: #808000; font-weight: bold\">   </span>growth.                                                                                                         \n",
              "<span style=\"color: #808000; text-decoration-color: #808000; font-weight: bold\"> • </span><span style=\"font-weight: bold\">AI in Google Workspace:</span> She mentioned Google Workspace's strong revenue growth, primarily driven by AI-powered  \n",
              "<span style=\"color: #808000; text-decoration-color: #808000; font-weight: bold\">   </span>features that increase average revenue per seat.                                                                \n",
              "<span style=\"color: #808000; text-decoration-color: #808000; font-weight: bold\"> • </span><span style=\"font-weight: bold\">AI's Long-Term Impact:</span> She highlighted the significant investments Alphabet is making in AI infrastructure,     \n",
              "<span style=\"color: #808000; text-decoration-color: #808000; font-weight: bold\">   </span>reflecting their belief in AI's extraordinary applications across their businesses.                             \n",
              "\n",
              "<span style=\"font-weight: bold\">Key Analyst Questions</span>                                                                                              \n",
              "\n",
              "<span style=\"color: #808000; text-decoration-color: #808000; font-weight: bold\"> • </span><span style=\"font-weight: bold\">Brian Nowak (Morgan Stanley):</span>                                                                                   \n",
              "<span style=\"color: #808000; text-decoration-color: #808000; font-weight: bold\">    • </span><span style=\"font-weight: bold\">Gating Factors for AI in Advertising:</span>  He asked about hurdles and gating factors that could impact the broad \n",
              "<span style=\"color: #808000; text-decoration-color: #808000; font-weight: bold\">      </span>rollout of new generative AI advertising tools.                                                              \n",
              "<span style=\"color: #808000; text-decoration-color: #808000; font-weight: bold\">    • </span><span style=\"font-weight: bold\">Sales Force Intensity:</span> Nowak asked about the long-term sales force intensity in the advertising business with\n",
              "<span style=\"color: #808000; text-decoration-color: #808000; font-weight: bold\">      </span>the adoption of AI-based tools like PMax.                                                                    \n",
              "<span style=\"color: #808000; text-decoration-color: #808000; font-weight: bold\"> • </span><span style=\"font-weight: bold\">Doug Anmuth (JPMorgan):</span>                                                                                         \n",
              "<span style=\"color: #808000; text-decoration-color: #808000; font-weight: bold\">    • </span><span style=\"font-weight: bold\">Progress on Reengineering Costs:</span> He asked for an assessment of progress on Alphabet's effort to reengineer   \n",
              "<span style=\"color: #808000; text-decoration-color: #808000; font-weight: bold\">      </span>its cost structure.                                                                                          \n",
              "<span style=\"color: #808000; text-decoration-color: #808000; font-weight: bold\">    • </span><span style=\"font-weight: bold\">NFL Sunday Ticket:</span> Anmuth inquired about key learnings from the first year of NFL Sunday Ticket and their    \n",
              "<span style=\"color: #808000; text-decoration-color: #808000; font-weight: bold\">      </span>thoughts on the returns on investment.                                                                       \n",
              "<span style=\"color: #808000; text-decoration-color: #808000; font-weight: bold\"> • </span><span style=\"font-weight: bold\">Eric Sheridan (Goldman Sachs):</span>                                                                                  \n",
              "<span style=\"color: #808000; text-decoration-color: #808000; font-weight: bold\">    • </span><span style=\"font-weight: bold\">Search Generative Experience Evolution:</span> He asked how Sundar envisions the evolution of traditional search and\n",
              "<span style=\"color: #808000; text-decoration-color: #808000; font-weight: bold\">      </span>Google Assistant in a world with Search Generative Experience, Bard, and other AI tools.                     \n",
              "<span style=\"color: #808000; text-decoration-color: #808000; font-weight: bold\">    • </span><span style=\"font-weight: bold\">One-Time Items:</span> Sheridan wanted clarification on the accounting treatment of one-time items in the quarter,  \n",
              "<span style=\"color: #808000; text-decoration-color: #808000; font-weight: bold\">      </span>particularly regarding real estate charges.                                                                  \n",
              "<span style=\"color: #808000; text-decoration-color: #808000; font-weight: bold\"> • </span><span style=\"font-weight: bold\">Mark Mahaney (Evercore):</span>                                                                                        \n",
              "<span style=\"color: #808000; text-decoration-color: #808000; font-weight: bold\">    • </span><span style=\"font-weight: bold\">Cloud Growth Volatility:</span> Mahaney inquired about the reason for the volatility in Google Cloud growth,        \n",
              "<span style=\"color: #808000; text-decoration-color: #808000; font-weight: bold\">      </span>considering the possible impact of generative AI workloads.                                                  \n",
              "<span style=\"color: #808000; text-decoration-color: #808000; font-weight: bold\">    • </span><span style=\"font-weight: bold\">AI in YouTube Ads:</span> He asked about Alphabet's efforts to leverage AI in creating performance-based video ad   \n",
              "<span style=\"color: #808000; text-decoration-color: #808000; font-weight: bold\">      </span>campaigns for YouTube, particularly targeting SMBs.                                                          \n",
              "</pre>\n"
            ]
          },
          "metadata": {},
          "execution_count": 29
        }
      ]
    },
    {
      "cell_type": "markdown",
      "source": [
        "### Images (Read PDF as Images)"
      ],
      "metadata": {
        "id": "sHytDs7cwmzi"
      }
    },
    {
      "cell_type": "markdown",
      "source": [
        "[What Changed: ]\n",
        "\n",
        "- File Upload method\n",
        "- PDF to Image method\n",
        "\n",
        "\n",
        "Before:\n",
        "\n",
        "- genai.upload_file\n",
        "- pdf_to_images\n",
        "\n",
        "After:\n",
        "\n",
        "- Part.from_uri [it can read pdf as image directly]\n",
        "- No need of custom function\n"
      ],
      "metadata": {
        "id": "DKEnKukSlwY4"
      }
    },
    {
      "cell_type": "code",
      "source": [
        "blog_pdf = Part.from_uri(uri = \"gs://gemini-lavi-asset/idea_doc/stage_1_prototype_Google Cloud TPU blog.pdf\",\n",
        "    mime_type=\"application/pdf\")"
      ],
      "metadata": {
        "id": "QR30bcWeoYnu"
      },
      "execution_count": 32,
      "outputs": []
    },
    {
      "cell_type": "code",
      "source": [
        "%%time\n",
        "\n",
        "prompt_parts = [\n",
        "  blog_pdf,\n",
        "  \"what is the emfu for bf16 and 128b parameter model with 1 tpu v5e pod? Cite the table and page number and explain the significance of the results\",\n",
        "]\n",
        "response = model.generate_content(prompt_parts)\n",
        "print(\"\\n Usage Metadata:\\n\",response.usage_metadata)\n",
        "rich_Markdown(response.text)"
      ],
      "metadata": {
        "id": "7dRJ6bRfpItY",
        "colab": {
          "base_uri": "https://localhost:8080/",
          "height": 339
        },
        "outputId": "d1e511a5-5275-43ff-b54c-91977adfc849"
      },
      "execution_count": 33,
      "outputs": [
        {
          "output_type": "stream",
          "name": "stdout",
          "text": [
            "\n",
            " Usage Metadata:\n",
            " prompt_token_count: 4683\n",
            "candidates_token_count: 159\n",
            "total_token_count: 4842\n",
            "\n",
            "CPU times: user 52.9 ms, sys: 6.99 ms, total: 59.9 ms\n",
            "Wall time: 7.4 s\n"
          ]
        },
        {
          "output_type": "execute_result",
          "data": {
            "text/plain": [
              "From page 14, the EMFU for the 128B parameter BF16 model on 1 TPU v5e pod is 56.06%.                               \n",
              "\n",
              "This means that the model training job on the TPU v5e chip is achieving 56.06% of the theoretical peak performance \n",
              "of the hardware.                                                                                                   \n",
              "\n",
              "Significance:                                                                                                      \n",
              "\n",
              "\u001b[1;33m • \u001b[0m\u001b[1mGood performance:\u001b[0m An EMFU of 56.06% indicates a relatively good utilization of the TPU v5e's compute            \n",
              "\u001b[1;33m   \u001b[0mcapabilities for such a large model.                                                                            \n",
              "\u001b[1;33m • \u001b[0m\u001b[1mRoom for improvement:\u001b[0m  There is still room to improve the EMFU further by optimizing various aspects like       \n",
              "\u001b[1;33m   \u001b[0msoftware stack, data loading, and communication patterns to achieve closer to 100% utilization.                 \n"
            ],
            "text/html": [
              "<pre style=\"white-space:pre;overflow-x:auto;line-height:normal;font-family:Menlo,'DejaVu Sans Mono',consolas,'Courier New',monospace\">From page 14, the EMFU for the 128B parameter BF16 model on 1 TPU v5e pod is 56.06%.                               \n",
              "\n",
              "This means that the model training job on the TPU v5e chip is achieving 56.06% of the theoretical peak performance \n",
              "of the hardware.                                                                                                   \n",
              "\n",
              "Significance:                                                                                                      \n",
              "\n",
              "<span style=\"color: #808000; text-decoration-color: #808000; font-weight: bold\"> • </span><span style=\"font-weight: bold\">Good performance:</span> An EMFU of 56.06% indicates a relatively good utilization of the TPU v5e's compute            \n",
              "<span style=\"color: #808000; text-decoration-color: #808000; font-weight: bold\">   </span>capabilities for such a large model.                                                                            \n",
              "<span style=\"color: #808000; text-decoration-color: #808000; font-weight: bold\"> • </span><span style=\"font-weight: bold\">Room for improvement:</span>  There is still room to improve the EMFU further by optimizing various aspects like       \n",
              "<span style=\"color: #808000; text-decoration-color: #808000; font-weight: bold\">   </span>software stack, data loading, and communication patterns to achieve closer to 100% utilization.                 \n",
              "</pre>\n"
            ]
          },
          "metadata": {},
          "execution_count": 33
        }
      ]
    },
    {
      "cell_type": "code",
      "source": [
        "%%time\n",
        "\n",
        "response = model_flash.generate_content(prompt_parts)\n",
        "print(\"\\n Usage Metadata:\\n\",response.usage_metadata)\n",
        "rich_Markdown(response.text)"
      ],
      "metadata": {
        "id": "P5zaRMI3VfRH",
        "colab": {
          "base_uri": "https://localhost:8080/",
          "height": 209
        },
        "outputId": "88ba9e67-836c-4356-ac7c-4910a07de341"
      },
      "execution_count": 34,
      "outputs": [
        {
          "output_type": "stream",
          "name": "stdout",
          "text": [
            "\n",
            " Usage Metadata:\n",
            " prompt_token_count: 4683\n",
            "candidates_token_count: 100\n",
            "total_token_count: 4783\n",
            "\n",
            "CPU times: user 26.9 ms, sys: 5.9 ms, total: 32.8 ms\n",
            "Wall time: 3.56 s\n"
          ]
        },
        {
          "output_type": "execute_result",
          "data": {
            "text/plain": [
              "According to the table on page 14, the EMFU for the BF16 and 128B parameter model with 1 TPU v5e pod is 56.06%.    \n",
              "This means that the model is utilizing 56.06% of the peak hardware TFLOP/chip/s for the TPU v5e. This indicates    \n",
              "that the model is making good use of the hardware's capabilities, but there is still room for improvement.         \n"
            ],
            "text/html": [
              "<pre style=\"white-space:pre;overflow-x:auto;line-height:normal;font-family:Menlo,'DejaVu Sans Mono',consolas,'Courier New',monospace\">According to the table on page 14, the EMFU for the BF16 and 128B parameter model with 1 TPU v5e pod is 56.06%.    \n",
              "This means that the model is utilizing 56.06% of the peak hardware TFLOP/chip/s for the TPU v5e. This indicates    \n",
              "that the model is making good use of the hardware's capabilities, but there is still room for improvement.         \n",
              "</pre>\n"
            ]
          },
          "metadata": {},
          "execution_count": 34
        }
      ]
    },
    {
      "cell_type": "markdown",
      "source": [
        "### Video"
      ],
      "metadata": {
        "id": "q6fVmmQ2zefi"
      }
    },
    {
      "cell_type": "markdown",
      "source": [
        "[What Changed: ]\n",
        "\n",
        "- File Upload method\n",
        "\n",
        "Before:\n",
        "\n",
        "- genai.upload_file\n",
        "\n",
        "After:\n",
        "\n",
        "- Part.from_uri [reading from GCS]\n"
      ],
      "metadata": {
        "id": "5XHD0XZzmC1j"
      }
    },
    {
      "cell_type": "code",
      "source": [
        "video = Part.from_uri(uri = \"gs://gemini-lavi-asset/idea_doc/What's next for AI and Google Search _ Google I_O 2023.mp4\",\n",
        "    mime_type=\"video/mp4\")"
      ],
      "metadata": {
        "id": "MpJNIYlXpQDG"
      },
      "execution_count": 35,
      "outputs": []
    },
    {
      "cell_type": "code",
      "source": [
        "%%time\n",
        "\n",
        "prompt_parts = [\n",
        "  video,\n",
        "  \"Describe this video and How is google using generative ai in search? Give response in bullet\",\n",
        "]\n",
        "\n",
        "print(model.count_tokens(prompt_parts))\n",
        "response = model.generate_content(prompt_parts)\n",
        "print(\"\\n Usage Metadata:\\n\",response.usage_metadata)\n",
        "rich_Markdown(response.text)"
      ],
      "metadata": {
        "id": "eHMOVpdGpmVL",
        "colab": {
          "base_uri": "https://localhost:8080/",
          "height": 622
        },
        "outputId": "d15e3d41-102c-480c-f359-667ce41e2c94"
      },
      "execution_count": 36,
      "outputs": [
        {
          "output_type": "stream",
          "name": "stdout",
          "text": [
            "total_tokens: 27157\n",
            "total_billable_characters: 77\n",
            "\n",
            "\n",
            " Usage Metadata:\n",
            " prompt_token_count: 27157\n",
            "candidates_token_count: 358\n",
            "total_token_count: 27515\n",
            "\n",
            "CPU times: user 127 ms, sys: 17.7 ms, total: 145 ms\n",
            "Wall time: 19.5 s\n"
          ]
        },
        {
          "output_type": "execute_result",
          "data": {
            "text/plain": [
              "Sure, here is a description of the video and how Google is using generative AI in search:                          \n",
              "\n",
              "The video showcases Google's innovative approach to search using generative AI. It highlights how this technology  \n",
              "revolutionizes the search experience, making it more conversational, comprehensive, and visually engaging. Here are\n",
              "some ways in which Google is using generative AI in search:                                                        \n",
              "\n",
              "\u001b[1;33m • \u001b[0m\u001b[1mAI-Powered Search Summaries:\u001b[0m The video demonstrates how Google employs generative AI to provide concise and     \n",
              "\u001b[1;33m   \u001b[0minformative summaries of search results. Instead of simply presenting a list of links, users can now receive a  \n",
              "\u001b[1;33m   \u001b[0mconsolidated overview generated by AI, answering their questions directly.                                      \n",
              "\u001b[1;33m • \u001b[0m\u001b[1mMultimodal Search Results:\u001b[0m Google's generative AI enhances search by incorporating diverse formats beyond       \n",
              "\u001b[1;33m   \u001b[0mtraditional text-based results. As seen in the video, searches can now yield images, videos, and even shoppable \n",
              "\u001b[1;33m   \u001b[0mproduct listings, offering a more visually rich and interactive experience.                                     \n",
              "\u001b[1;33m • \u001b[0m\u001b[1mConversational Search:\u001b[0m Google leverages generative AI to enable a more conversational approach to search. Users \n",
              "\u001b[1;33m   \u001b[0mcan ask follow-up questions or refine their searches naturally, as if interacting with a knowledgeable          \n",
              "\u001b[1;33m   \u001b[0massistant. The AI understands the context and provides relevant responses, streamlining the search process.     \n",
              "\u001b[1;33m • \u001b[0m\u001b[1mContent Creation:\u001b[0m Google's generative AI extends beyond information retrieval to empower users in content       \n",
              "\u001b[1;33m   \u001b[0mcreation. As showcased in the video, users can ask Google to generate various forms of content, such as poems,  \n",
              "\u001b[1;33m   \u001b[0mtraining plans, or comparisons. This highlights the AI's ability to understand prompts and produce creative     \n",
              "\u001b[1;33m   \u001b[0moutputs in different formats.                                                                                   \n",
              "\n",
              "In essence, Google is seamlessly integrating generative AI into its search engine, transforming it into a powerful \n",
              "tool that not only retrieves information but also understands, synthesizes, and presents it in a user-friendly and \n",
              "intuitive manner.                                                                                                  \n",
              "\n",
              "Let me know if you have other questions.                                                                           \n"
            ],
            "text/html": [
              "<pre style=\"white-space:pre;overflow-x:auto;line-height:normal;font-family:Menlo,'DejaVu Sans Mono',consolas,'Courier New',monospace\">Sure, here is a description of the video and how Google is using generative AI in search:                          \n",
              "\n",
              "The video showcases Google's innovative approach to search using generative AI. It highlights how this technology  \n",
              "revolutionizes the search experience, making it more conversational, comprehensive, and visually engaging. Here are\n",
              "some ways in which Google is using generative AI in search:                                                        \n",
              "\n",
              "<span style=\"color: #808000; text-decoration-color: #808000; font-weight: bold\"> • </span><span style=\"font-weight: bold\">AI-Powered Search Summaries:</span> The video demonstrates how Google employs generative AI to provide concise and     \n",
              "<span style=\"color: #808000; text-decoration-color: #808000; font-weight: bold\">   </span>informative summaries of search results. Instead of simply presenting a list of links, users can now receive a  \n",
              "<span style=\"color: #808000; text-decoration-color: #808000; font-weight: bold\">   </span>consolidated overview generated by AI, answering their questions directly.                                      \n",
              "<span style=\"color: #808000; text-decoration-color: #808000; font-weight: bold\"> • </span><span style=\"font-weight: bold\">Multimodal Search Results:</span> Google's generative AI enhances search by incorporating diverse formats beyond       \n",
              "<span style=\"color: #808000; text-decoration-color: #808000; font-weight: bold\">   </span>traditional text-based results. As seen in the video, searches can now yield images, videos, and even shoppable \n",
              "<span style=\"color: #808000; text-decoration-color: #808000; font-weight: bold\">   </span>product listings, offering a more visually rich and interactive experience.                                     \n",
              "<span style=\"color: #808000; text-decoration-color: #808000; font-weight: bold\"> • </span><span style=\"font-weight: bold\">Conversational Search:</span> Google leverages generative AI to enable a more conversational approach to search. Users \n",
              "<span style=\"color: #808000; text-decoration-color: #808000; font-weight: bold\">   </span>can ask follow-up questions or refine their searches naturally, as if interacting with a knowledgeable          \n",
              "<span style=\"color: #808000; text-decoration-color: #808000; font-weight: bold\">   </span>assistant. The AI understands the context and provides relevant responses, streamlining the search process.     \n",
              "<span style=\"color: #808000; text-decoration-color: #808000; font-weight: bold\"> • </span><span style=\"font-weight: bold\">Content Creation:</span> Google's generative AI extends beyond information retrieval to empower users in content       \n",
              "<span style=\"color: #808000; text-decoration-color: #808000; font-weight: bold\">   </span>creation. As showcased in the video, users can ask Google to generate various forms of content, such as poems,  \n",
              "<span style=\"color: #808000; text-decoration-color: #808000; font-weight: bold\">   </span>training plans, or comparisons. This highlights the AI's ability to understand prompts and produce creative     \n",
              "<span style=\"color: #808000; text-decoration-color: #808000; font-weight: bold\">   </span>outputs in different formats.                                                                                   \n",
              "\n",
              "In essence, Google is seamlessly integrating generative AI into its search engine, transforming it into a powerful \n",
              "tool that not only retrieves information but also understands, synthesizes, and presents it in a user-friendly and \n",
              "intuitive manner.                                                                                                  \n",
              "\n",
              "Let me know if you have other questions.                                                                           \n",
              "</pre>\n"
            ]
          },
          "metadata": {},
          "execution_count": 36
        }
      ]
    },
    {
      "cell_type": "code",
      "source": [
        "%%time\n",
        "response = model_flash.generate_content(prompt_parts)\n",
        "Markdown(response.text)"
      ],
      "metadata": {
        "id": "xX8tlOdvVkwA"
      },
      "execution_count": null,
      "outputs": []
    },
    {
      "cell_type": "markdown",
      "source": [
        "#### Context Caching [Pre-GA]"
      ],
      "metadata": {
        "id": "sgAvSO_C1pwU"
      }
    },
    {
      "cell_type": "markdown",
      "source": [
        "More details about the API: [Link](https://cloud.google.com/vertex-ai/generative-ai/docs/context-cache/context-cache-overview)\n",
        "\n",
        "Context Caching pricing: [Link](https://cloud.google.com/vertex-ai/generative-ai/pricing#context-caching)"
      ],
      "metadata": {
        "id": "tsHaBKnn1tMn"
      }
    },
    {
      "cell_type": "code",
      "source": [
        "%%time\n",
        "\n",
        "from vertexai.preview import caching\n",
        "import datetime\n",
        "import time\n",
        "\n",
        "# Create a cache with a 5 minute TTL\n",
        "cache = caching.CachedContent.create(\n",
        "    model_name='gemini-1.5-pro-001',\n",
        "    system_instruction=\"\"\"You are an expert researcher. You always stick to the facts in the sources provided, and never make up new facts.\n",
        "Now look at this video, and answer the following questions.\n",
        "\"\"\",\n",
        "    contents=[Part.from_uri(uri = \"gs://gemini-lavi-asset/idea_doc/Responsible AI _ Google I_O 2023.mp4\",\n",
        "    mime_type=\"video/mp4\")\n",
        "],\n",
        "    # caching duration is called the time to live (TTL). If not set, the TTL defaults to 1 hour.\n",
        "    # The cost for caching depends on the input token size and how long you want the tokens to persist.\n",
        "    ttl=datetime.timedelta(minutes=5),\n",
        ")"
      ],
      "metadata": {
        "colab": {
          "base_uri": "https://localhost:8080/"
        },
        "id": "3hsVzC6y4oaK",
        "outputId": "6c83a11f-01cf-4c28-8f04-6990681ca922"
      },
      "execution_count": 50,
      "outputs": [
        {
          "output_type": "stream",
          "name": "stdout",
          "text": [
            "CPU times: user 296 ms, sys: 50.1 ms, total: 346 ms\n",
            "Wall time: 44 s\n"
          ]
        }
      ]
    },
    {
      "cell_type": "code",
      "source": [
        "print(\"Cache ID: \", cache.name)"
      ],
      "metadata": {
        "colab": {
          "base_uri": "https://localhost:8080/"
        },
        "id": "9Gdx2fT046X8",
        "outputId": "98bbc9f5-86c2-448c-a50f-906af2edd225"
      },
      "execution_count": 51,
      "outputs": [
        {
          "output_type": "stream",
          "name": "stdout",
          "text": [
            "Cache ID:  8040121603507355648\n"
          ]
        }
      ]
    },
    {
      "cell_type": "code",
      "source": [
        "%%time\n",
        "\n",
        "from vertexai.preview.generative_models import GenerativeModel\n",
        "\n",
        "\n",
        "# cached_content = caching.CachedContent(cached_content_name=cache.name)\n",
        "\n",
        "# Construct a GenerativeModel which uses the created cache.\n",
        "cached_model =  GenerativeModel.from_cached_content(cached_content=cache)\n",
        "\n",
        "# Query the model\n",
        "response = cached_model.generate_content([(\"\"\"How is Google thinking about responsible AI?.\n",
        "\"\"\")])\n",
        "\n",
        "print(response.usage_metadata)\n",
        "\n",
        "\n",
        "rich_Markdown(response.text)"
      ],
      "metadata": {
        "colab": {
          "base_uri": "https://localhost:8080/",
          "height": 369
        },
        "id": "RrjZhJ-E48Qd",
        "outputId": "6294503f-0532-43f7-9729-6daed0139cbe"
      },
      "execution_count": 53,
      "outputs": [
        {
          "output_type": "stream",
          "name": "stdout",
          "text": [
            "prompt_token_count: 178522\n",
            "candidates_token_count: 233\n",
            "total_token_count: 178755\n",
            "\n",
            "CPU times: user 300 ms, sys: 30.5 ms, total: 331 ms\n",
            "Wall time: 44.7 s\n"
          ]
        },
        {
          "output_type": "execute_result",
          "data": {
            "text/plain": [
              "Google believes that approaching AI development should be both bold and responsible. While there is a natural      \n",
              "tension between these two, the company believes that it is critical to approach that tension productively. Google  \n",
              "is working to ensure that their AI development is responsible from the start, and they believe the only way to be  \n",
              "truly bold in the long term is to be responsible in development. Google developed AI principles in 2018 which guide\n",
              "their approach to AI development.                                                                                  \n",
              "\n",
              "They have developed tools, including an \"About this Image\" tool, which will allow users to see when and where      \n",
              "similar images may have first appeared online, in order to provide additional context about the image and help     \n",
              "determine if it is reliable.  They are also working on providing similar metadata to label images as AI-generated, \n",
              "and new watermarking capabilities to help with misinformation and synthetic media.                                 \n",
              "\n",
              "The company believes that building responsible AI must be a collective effort, and will be working with a broad    \n",
              "coalition of individuals and organizations, including researchers, social scientists, industry experts,            \n",
              "governments, everyday people, creators, and publishers, in order to ensure a vibrant content ecosystem now and in  \n",
              "the future.                                                                                                        \n"
            ],
            "text/html": [
              "<pre style=\"white-space:pre;overflow-x:auto;line-height:normal;font-family:Menlo,'DejaVu Sans Mono',consolas,'Courier New',monospace\">Google believes that approaching AI development should be both bold and responsible. While there is a natural      \n",
              "tension between these two, the company believes that it is critical to approach that tension productively. Google  \n",
              "is working to ensure that their AI development is responsible from the start, and they believe the only way to be  \n",
              "truly bold in the long term is to be responsible in development. Google developed AI principles in 2018 which guide\n",
              "their approach to AI development.                                                                                  \n",
              "\n",
              "They have developed tools, including an \"About this Image\" tool, which will allow users to see when and where      \n",
              "similar images may have first appeared online, in order to provide additional context about the image and help     \n",
              "determine if it is reliable.  They are also working on providing similar metadata to label images as AI-generated, \n",
              "and new watermarking capabilities to help with misinformation and synthetic media.                                 \n",
              "\n",
              "The company believes that building responsible AI must be a collective effort, and will be working with a broad    \n",
              "coalition of individuals and organizations, including researchers, social scientists, industry experts,            \n",
              "governments, everyday people, creators, and publishers, in order to ensure a vibrant content ecosystem now and in  \n",
              "the future.                                                                                                        \n",
              "</pre>\n"
            ]
          },
          "metadata": {},
          "execution_count": 53
        }
      ]
    },
    {
      "cell_type": "code",
      "source": [
        "# Query the model\n",
        "response = cached_model.generate_content([(\"\"\"Summarize key points in the video with the timestamps.\n",
        "\"\"\")])\n",
        "\n",
        "print(response.usage_metadata)\n",
        "\n",
        "\n",
        "rich_Markdown(response.text)"
      ],
      "metadata": {
        "colab": {
          "base_uri": "https://localhost:8080/",
          "height": 546
        },
        "id": "_OFvjCCd51Sm",
        "outputId": "c4754233-6933-413f-dad3-0c1ecd7b9a77"
      },
      "execution_count": 54,
      "outputs": [
        {
          "output_type": "stream",
          "name": "stdout",
          "text": [
            "prompt_token_count: 178525\n",
            "candidates_token_count: 510\n",
            "total_token_count: 179035\n",
            "\n"
          ]
        },
        {
          "output_type": "execute_result",
          "data": {
            "text/plain": [
              "The video is a presentation from the Google I/O event about AI development. Here are the key points:               \n",
              "\n",
              "\u001b[1;33m • \u001b[0m\u001b[1m0:11:\u001b[0m  James Manyika introduces a new area of research at Google called Technology and Society.                 \n",
              "\u001b[1;33m • \u001b[0m\u001b[1m0:20:\u001b[0m  AI has amazing potential to benefit people and society.                                                  \n",
              "\u001b[1;33m • \u001b[0m\u001b[1m0:49:\u001b[0m  Google's approach to AI is both bold and responsible.                                                    \n",
              "\u001b[1;33m • \u001b[0m\u001b[1m1:18:\u001b[0m  Google DeepMind's AlphaFold was able to accurately predict the 3D shapes of 200 million proteins which   \n",
              "\u001b[1;33m   \u001b[0mhas helped medical breakthroughs.                                                                               \n",
              "\u001b[1;33m • \u001b[0m\u001b[1m1:50:\u001b[0m  Over a million researchers around the world have used AlphaFold predictions.                             \n",
              "\u001b[1;33m • \u001b[0m\u001b[1m2:32:\u001b[0m  AI has the potential to worsen existing societal challenges like unfair bias.                            \n",
              "\u001b[1;33m • \u001b[0m\u001b[1m3:17:\u001b[0m  Google is concerned about AI-generated misinformation and is developing ways for people to evaluate      \n",
              "\u001b[1;33m   \u001b[0monline information.                                                                                             \n",
              "\u001b[1;33m • \u001b[0m\u001b[1m4:01:\u001b[0m  A new tool in Google Search provides context about images, such as when and where similar images first   \n",
              "\u001b[1;33m   \u001b[0mappeared.                                                                                                       \n",
              "\u001b[1;33m • \u001b[0m\u001b[1m4:26:\u001b[0m  The same \"About this image\" tool will be available when searching using Google Lens and in Chrome.       \n",
              "\u001b[1;33m • \u001b[0m\u001b[1m4:41:\u001b[0m  Google will add metadata to AI-generated images so people know they were created by AI.                  \n",
              "\u001b[1;33m • \u001b[0m\u001b[1m4:59:\u001b[0m  Google is working with creators and publishers to label AI-generated content.                            \n",
              "\u001b[1;33m • \u001b[0m\u001b[1m5:30:\u001b[0m  Universal Translator is an experimental AI service that translates videos while matching the speaker's   \n",
              "\u001b[1;33m   \u001b[0mlip movements.                                                                                                  \n",
              "\u001b[1;33m • \u001b[0m\u001b[1m6:51:\u001b[0m  Google built the service with guardrails to help prevent the misuse of AI to create deep fakes.          \n",
              "\u001b[1;33m • \u001b[0m\u001b[1m7:29:\u001b[0m  Google was the first major company to decide not to make a general-purpose facial recognition API        \n",
              "\u001b[1;33m   \u001b[0mavailable commercially due to concerns about safeguards.                                                        \n",
              "\u001b[1;33m • \u001b[0m\u001b[1m7:57:\u001b[0m  Google is one of the first in the industry to develop automated adversarial testing using large language \n",
              "\u001b[1;33m   \u001b[0mmodel technology to identify inaccurate output.                                                                 \n",
              "\u001b[1;33m • \u001b[0m\u001b[1m8:35:\u001b[0m  Google's Perspective API, originally created to help publishers mitigate online toxicity, is now being   \n",
              "\u001b[1;33m   \u001b[0mincorporated into large language models.                                                                        \n",
              "\n",
              "The presentation emphasizes that while AI has significant potential for good, it also has the potential to cause   \n",
              "harm. Google is committed to developing AI responsibly and working with others to ensure its ethical use.          \n"
            ],
            "text/html": [
              "<pre style=\"white-space:pre;overflow-x:auto;line-height:normal;font-family:Menlo,'DejaVu Sans Mono',consolas,'Courier New',monospace\">The video is a presentation from the Google I/O event about AI development. Here are the key points:               \n",
              "\n",
              "<span style=\"color: #808000; text-decoration-color: #808000; font-weight: bold\"> • </span><span style=\"font-weight: bold\">0:11:</span>  James Manyika introduces a new area of research at Google called Technology and Society.                 \n",
              "<span style=\"color: #808000; text-decoration-color: #808000; font-weight: bold\"> • </span><span style=\"font-weight: bold\">0:20:</span>  AI has amazing potential to benefit people and society.                                                  \n",
              "<span style=\"color: #808000; text-decoration-color: #808000; font-weight: bold\"> • </span><span style=\"font-weight: bold\">0:49:</span>  Google's approach to AI is both bold and responsible.                                                    \n",
              "<span style=\"color: #808000; text-decoration-color: #808000; font-weight: bold\"> • </span><span style=\"font-weight: bold\">1:18:</span>  Google DeepMind's AlphaFold was able to accurately predict the 3D shapes of 200 million proteins which   \n",
              "<span style=\"color: #808000; text-decoration-color: #808000; font-weight: bold\">   </span>has helped medical breakthroughs.                                                                               \n",
              "<span style=\"color: #808000; text-decoration-color: #808000; font-weight: bold\"> • </span><span style=\"font-weight: bold\">1:50:</span>  Over a million researchers around the world have used AlphaFold predictions.                             \n",
              "<span style=\"color: #808000; text-decoration-color: #808000; font-weight: bold\"> • </span><span style=\"font-weight: bold\">2:32:</span>  AI has the potential to worsen existing societal challenges like unfair bias.                            \n",
              "<span style=\"color: #808000; text-decoration-color: #808000; font-weight: bold\"> • </span><span style=\"font-weight: bold\">3:17:</span>  Google is concerned about AI-generated misinformation and is developing ways for people to evaluate      \n",
              "<span style=\"color: #808000; text-decoration-color: #808000; font-weight: bold\">   </span>online information.                                                                                             \n",
              "<span style=\"color: #808000; text-decoration-color: #808000; font-weight: bold\"> • </span><span style=\"font-weight: bold\">4:01:</span>  A new tool in Google Search provides context about images, such as when and where similar images first   \n",
              "<span style=\"color: #808000; text-decoration-color: #808000; font-weight: bold\">   </span>appeared.                                                                                                       \n",
              "<span style=\"color: #808000; text-decoration-color: #808000; font-weight: bold\"> • </span><span style=\"font-weight: bold\">4:26:</span>  The same \"About this image\" tool will be available when searching using Google Lens and in Chrome.       \n",
              "<span style=\"color: #808000; text-decoration-color: #808000; font-weight: bold\"> • </span><span style=\"font-weight: bold\">4:41:</span>  Google will add metadata to AI-generated images so people know they were created by AI.                  \n",
              "<span style=\"color: #808000; text-decoration-color: #808000; font-weight: bold\"> • </span><span style=\"font-weight: bold\">4:59:</span>  Google is working with creators and publishers to label AI-generated content.                            \n",
              "<span style=\"color: #808000; text-decoration-color: #808000; font-weight: bold\"> • </span><span style=\"font-weight: bold\">5:30:</span>  Universal Translator is an experimental AI service that translates videos while matching the speaker's   \n",
              "<span style=\"color: #808000; text-decoration-color: #808000; font-weight: bold\">   </span>lip movements.                                                                                                  \n",
              "<span style=\"color: #808000; text-decoration-color: #808000; font-weight: bold\"> • </span><span style=\"font-weight: bold\">6:51:</span>  Google built the service with guardrails to help prevent the misuse of AI to create deep fakes.          \n",
              "<span style=\"color: #808000; text-decoration-color: #808000; font-weight: bold\"> • </span><span style=\"font-weight: bold\">7:29:</span>  Google was the first major company to decide not to make a general-purpose facial recognition API        \n",
              "<span style=\"color: #808000; text-decoration-color: #808000; font-weight: bold\">   </span>available commercially due to concerns about safeguards.                                                        \n",
              "<span style=\"color: #808000; text-decoration-color: #808000; font-weight: bold\"> • </span><span style=\"font-weight: bold\">7:57:</span>  Google is one of the first in the industry to develop automated adversarial testing using large language \n",
              "<span style=\"color: #808000; text-decoration-color: #808000; font-weight: bold\">   </span>model technology to identify inaccurate output.                                                                 \n",
              "<span style=\"color: #808000; text-decoration-color: #808000; font-weight: bold\"> • </span><span style=\"font-weight: bold\">8:35:</span>  Google's Perspective API, originally created to help publishers mitigate online toxicity, is now being   \n",
              "<span style=\"color: #808000; text-decoration-color: #808000; font-weight: bold\">   </span>incorporated into large language models.                                                                        \n",
              "\n",
              "The presentation emphasizes that while AI has significant potential for good, it also has the potential to cause   \n",
              "harm. Google is committed to developing AI responsibly and working with others to ensure its ethical use.          \n",
              "</pre>\n"
            ]
          },
          "metadata": {},
          "execution_count": 54
        }
      ]
    },
    {
      "cell_type": "markdown",
      "source": [
        "Learn more:\n",
        "- [get cache information](https://cloud.google.com/vertex-ai/generative-ai/docs/context-cache/context-cache-getinfo)\n",
        "- [update the context](https://cloud.google.com/vertex-ai/generative-ai/docs/context-cache/context-cache-update)\n",
        "- [delete the cache](https://cloud.google.com/vertex-ai/generative-ai/docs/context-cache/context-cache-delete)"
      ],
      "metadata": {
        "id": "wXvZTEPg6XhP"
      }
    },
    {
      "cell_type": "markdown",
      "source": [
        "## Embeddings"
      ],
      "metadata": {
        "id": "FStgGba362-U"
      }
    },
    {
      "cell_type": "markdown",
      "source": [
        "#### Text Embeddings"
      ],
      "metadata": {
        "id": "osUOJ_Wv7BOz"
      }
    },
    {
      "cell_type": "markdown",
      "source": [
        "Learn more: [Link](https://cloud.google.com/vertex-ai/generative-ai/docs/embeddings/get-text-embeddings)\n",
        "\n",
        "More about API and various examples: [Link](https://github.com/GoogleCloudPlatform/generative-ai/blob/main/gemini/qa-ops/intro_Vertex_AI_embeddings.ipynb)"
      ],
      "metadata": {
        "id": "Inoh5JsY71sF"
      }
    },
    {
      "cell_type": "code",
      "source": [
        "from typing import List, Optional\n",
        "\n",
        "from vertexai.language_models import TextEmbeddingInput, TextEmbeddingModel\n",
        "\n",
        "\n",
        "def embed_text(\n",
        "    texts: List[str] = [\"banana muffins? \", \"banana bread? banana muffins?\"],\n",
        "    task: str = \"RETRIEVAL_DOCUMENT\",\n",
        "    model_name: str = \"text-embedding-004\",\n",
        "    dimensionality: Optional[int] = 256,\n",
        ") -> List[List[float]]:\n",
        "    \"\"\"Embeds texts with a pre-trained, foundational model.\"\"\"\n",
        "    model = TextEmbeddingModel.from_pretrained(model_name)\n",
        "    inputs = [TextEmbeddingInput(text, task) for text in texts]\n",
        "    kwargs = dict(output_dimensionality=dimensionality) if dimensionality else {}\n",
        "    embeddings = model.get_embeddings(inputs, **kwargs)\n",
        "    return [embedding.values for embedding in embeddings]\n"
      ],
      "metadata": {
        "id": "oUAc9WNQ649T"
      },
      "execution_count": 56,
      "outputs": []
    },
    {
      "cell_type": "code",
      "source": [
        "embed_text(texts =[\"\"\"Title: The next generation of AI for developers and Google Workspace\"\n",
        "    \"\\n\"\n",
        "    \"Full article:\\n\"\n",
        "    \"\\n\"\n",
        "    \"Gemini API & Google AI Studio: An approachable way to explore and prototype with generative AI applications\n",
        "    \"\"\"])[0][:5]"
      ],
      "metadata": {
        "colab": {
          "base_uri": "https://localhost:8080/"
        },
        "id": "xI8wNDOy7Uc3",
        "outputId": "bd8d92b2-cbf8-49bd-b9b9-8384cbde78d7"
      },
      "execution_count": 60,
      "outputs": [
        {
          "output_type": "execute_result",
          "data": {
            "text/plain": [
              "[0.004852301441133022,\n",
              " -0.01424611359834671,\n",
              " -0.06665414571762085,\n",
              " -0.002811228623613715,\n",
              " 0.01342849526554346]"
            ]
          },
          "metadata": {},
          "execution_count": 60
        }
      ]
    },
    {
      "cell_type": "markdown",
      "source": [
        "#### Multimodal Embeddings"
      ],
      "metadata": {
        "id": "cYmINjxX79Qb"
      }
    },
    {
      "cell_type": "markdown",
      "source": [
        "\n",
        "Learn more: [Link](https://cloud.google.com/vertex-ai/generative-ai/docs/embeddings/get-multimodal-embeddings)\n",
        "\n",
        "More about API and various examples: [Link](https://github.com/GoogleCloudPlatform/generative-ai/blob/main/gemini/qa-ops/intro_Vertex_AI_embeddings.ipynb)"
      ],
      "metadata": {
        "id": "QD4cxR4U8OtQ"
      }
    },
    {
      "cell_type": "code",
      "source": [
        "import vertexai\n",
        "from vertexai.vision_models import Image, MultiModalEmbeddingModel\n",
        "\n",
        "\n",
        "model = MultiModalEmbeddingModel.from_pretrained(\"multimodalembedding\")\n",
        "image = Image.load_from_file(\n",
        "    \"gs://cloud-samples-data/vertex-ai/llm/prompts/landmark1.png\"\n",
        ")\n",
        "\n",
        "embeddings = model.get_embeddings(\n",
        "    image=image,\n",
        "    contextual_text=\"Colosseum\",\n",
        "    dimension=1408,\n",
        ")\n",
        "print(f\"Image Embedding: {embeddings.image_embedding}\")\n",
        "print(f\"Text Embedding: {embeddings.text_embedding}\")"
      ],
      "metadata": {
        "colab": {
          "base_uri": "https://localhost:8080/"
        },
        "id": "djhNV5Xn7_zU",
        "outputId": "8cf1f6c6-4906-480d-a486-b836d27e1f97"
      },
      "execution_count": 61,
      "outputs": [
        {
          "output_type": "stream",
          "name": "stdout",
          "text": [
            "Image Embedding: [-0.018576229, 0.0721649751, -0.000894839293, 0.0352255814, -0.0115684, -0.0331780426, 0.00752555439, -0.00711600948, 0.0243866239, 0.00906777568, 0.0103605883, -0.014841212, 0.00263451273, 0.0189899411, -0.00931768771, 0.0102052251, -0.00773707498, -0.0051591997, 0.0011582583, -0.0218502078, -0.0537479, 0.00534962, -0.0178985652, -0.0122161098, -0.0193113834, 0.0120232608, -0.00242858403, 0.000711550703, -0.00455871271, -0.0116043994, 0.00965422112, -0.00958281383, 0.0134300878, 0.0293937847, -0.0324112698, 0.0183982421, -0.00450017, -0.0277144462, -0.00594411092, -0.00666505424, 0.00899783894, 0.0177115873, 0.0227488838, -0.0494541116, -0.0171989799, -0.00867834594, 0.0300548151, -0.0165857524, 0.00559662422, 0.00315549108, 0.0195676237, -0.0412843153, -0.00172284665, 0.0155285029, -0.0192391369, -0.0053627314, -0.00756449485, -0.00168557011, 0.0212289356, -0.0144133139, -0.0321518667, 0.0170325749, 0.0174203254, 0.0113459919, 0.0120261218, -0.0189776123, 0.0105384663, -0.00787882414, -0.0156748537, 0.00367511972, 0.00455184374, -0.00204352825, -0.00720377313, -0.00999239925, 0.00591287622, 0.0137018068, 0.0142593235, 0.0111876549, -0.0112213176, -0.00580575736, -0.000593463657, -0.00734227756, -0.0114886565, 0.0117106354, 0.0314923264, 0.0293273795, -0.00360499113, -0.0182636473, 0.0112631079, -0.0209546015, 0.000577231578, 0.0374117, 0.0162416603, -0.296242326, 0.0427647457, 0.00659013214, 0.0087947, 0.0103336936, -0.00474718725, -0.0321928486, -0.000379716803, 0.0151096256, 0.00971545372, -0.00884171, 0.0110854413, -0.0114856232, -0.0137409521, 0.00838565826, 0.0351997539, 0.0275392681, -0.0178427119, -0.0224155691, -0.0187134, 0.00552816689, -0.0190091934, 0.0146494163, -0.033017274, 0.0197721068, -0.0201651435, 0.0364330709, 0.00837191, 0.0223603398, -0.0234881137, 0.010722327, -0.00881801359, -0.129025087, -0.0152384359, 0.00820229854, 0.0106612351, -0.0188307241, -0.0111781461, -0.0329059213, -0.00367915584, -0.0244274084, 0.0172209069, -0.0633323342, -0.00161558122, 0.00960113388, 0.0111777857, 0.0155112455, 0.0111184474, -0.0206080563, -0.00209608581, -0.012843987, -0.0102751395, -0.0220237598, -0.00160183071, -0.0155464504, 0.0212217122, -0.0104259718, -0.00717466278, -0.0153701548, -0.0106048202, 0.00368413143, -0.00155119249, -0.021163661, 0.0574851073, 0.0223479588, -0.00183429662, -0.00167324056, -0.0362594128, 0.0111537091, -0.0594344139, -0.00388661982, 0.0323190279, -0.0154729374, 0.00131529069, -0.00155346736, -0.0199944861, 0.00872997474, -0.0190710705, -0.0194219239, 0.00700142374, 0.013274678, -0.00388091686, -0.00399049697, -0.0328742377, -0.00340545597, 0.00928405207, -0.0125629082, -0.0114054736, 0.00927230064, 0.00365532911, 0.0142432358, -0.0110217985, 0.0170992985, -0.00113008765, -0.00344682555, -0.0485521667, 0.00118628913, 0.00706425076, 0.0105018914, -0.000568468939, -0.0198369883, -0.03845888, 0.00708318967, 0.00492822798, 0.00527191302, -0.0178190656, -0.00319371116, 0.0190777667, -0.0257398225, -0.00616634917, 0.0186880827, -0.00188554567, -0.0347566232, -0.0110569447, -0.00909232721, 0.00228204532, -0.00628919201, -0.0578640178, -0.00700248498, -0.0167231075, 0.0237047207, 0.0257036667, -0.0125148986, 0.00205384032, -0.0190626383, -0.0210008528, -0.000924160937, 0.00142389652, -0.00719333114, -0.00711080944, 0.00649702782, -0.00307006412, 0.0129491799, 0.00149576017, -0.0101635186, -0.0223485548, -0.0196548402, 0.000348648522, 0.0135455094, 0.0122195026, 0.00159292482, 0.00965539739, -0.0126812495, 0.0193536784, 0.00107694033, -0.0384468846, -0.0056431531, -0.0024843039, 0.0187512469, -0.0024117094, -0.0114357732, 0.0034516931, 0.0119407512, -0.00599792274, -0.0339846946, 0.00622605067, -0.000981274876, 0.032832142, -0.0420719944, -0.0281337015, -0.00457877, -0.00599279394, -0.0378066413, 0.00926101673, -0.00348856905, 0.000893259828, -0.00761295296, 0.012718291, 0.0118967397, -0.00920270849, 0.0187689494, 0.00190998195, 0.00658916309, 0.0161347613, 0.0310706738, 0.00843319669, 0.0352044031, -0.0213595591, 0.000340636732, 0.00288963574, -0.0304378383, -0.0138243558, 0.00516261393, 0.0100985533, -0.0101800337, 0.0126847317, 0.172836974, 0.0152108688, 0.0361968651, -0.00663701678, -0.0143482275, -0.0180806555, -0.0281234421, -0.180760115, 0.00433351, 0.0183014, -0.00767928641, -0.00603697076, -0.00501603074, 0.00397514226, 0.0221539978, -0.0138690034, 0.00560775632, 0.0184595436, -0.0119754886, 0.00783692487, -0.00302928523, 0.0210583694, -0.0327018686, 0.0093539739, -0.00100722129, -0.0218998697, 0.0259202495, -0.0257414803, 0.0111514451, -0.0204054564, -0.00882354192, 0.00745036034, 0.000999877229, -0.0164809879, 0.0197398458, -0.00437745, -0.0073792669, 0.000704113045, -0.0148459, 0.00592963956, 0.0130320182, 0.0228817202, 0.00504246773, 0.000719467644, -0.00287217344, 0.0221965481, -0.0220823791, 0.00624282612, 0.00412589917, -0.00667627063, 0.00529289665, -0.0139972353, -0.0137411747, -0.0252987277, -0.0178481303, -0.0344791114, 0.02253999, 0.0114579508, 0.0108751254, 0.0493726879, -0.00749654882, -0.00422968855, 0.00843290053, 0.00360225863, -0.00675686309, 0.017184237, 0.0230183359, 0.00491408492, 0.0449084118, 0.0158534814, -0.0145124616, -0.0235165861, -0.0224055108, 0.0390967503, 0.0144209452, 0.0170276761, 0.0139872422, -0.0395055711, -0.0146336015, -0.00312923826, 0.00339938025, 0.0356082283, 0.00104856165, 0.00207376154, 0.030180594, 0.0101876045, 0.0225735754, 0.0112350285, -0.0173218586, -0.00956318062, 0.0165990107, -0.0034408567, 0.00949694, 0.0490252823, -0.0184508897, 0.00903277192, -0.00341436779, -0.0126787648, -0.0243324712, -0.00533416588, -0.0162033085, -0.00948916562, 0.0107622193, 0.0216200557, 0.0645449683, 0.0121018616, 0.00243317313, 0.0226134807, 0.0282159895, 0.0157423299, -0.0127184419, -0.0106762424, -0.00604002, -0.0142705925, 0.0102449274, -0.0301694945, -0.00513127819, -0.015328276, 0.0453268141, 0.00266071036, 0.0133857075, -0.0068568131, 0.00132416596, -0.0313028879, -0.0238179117, -0.0115009621, -0.0154105788, 0.0480675437, -0.0155447396, 0.000511384045, -0.0172678437, -0.00499240635, 0.0146943536, 0.0177907012, 0.00592114637, -0.0138499876, 0.00134320452, -0.00671981182, -0.020943122, -0.00198169518, 5.81303721e-05, 0.00702181226, 0.017812822, 0.00415033801, -0.0277744681, 0.013223133, -0.00481531303, -0.0203378219, 0.0172637906, -0.0233769, 0.00771500403, 0.0375189632, -0.0280283485, -0.00610851729, 0.00605623797, -0.0151976068, -0.01393966, -0.00842809677, 0.0254143141, 0.00275354716, -0.0184014495, -0.00861861557, -0.0480207391, -0.00763314031, 0.0275008716, -0.0305629093, 0.0459845327, 0.0131560285, -0.0141934305, -0.00757096941, -0.0107763298, -0.00168718863, 0.00224796706, 0.0158267785, -0.0154412715, -0.0332246535, 0.0167951398, 0.00511873187, 0.00630409084, 0.00630283169, 0.0202649422, 0.00687999697, -0.00569080375, 0.00542817777, 0.018460393, 0.0249489155, -0.021693727, -0.00817914121, 0.00446796417, 0.00185431878, -0.0105932178, 0.00933698, -0.00674032, -0.040438123, 0.00519793155, 0.0162712261, 0.00148113118, 0.0139652323, -0.0441355668, -0.0346092731, -0.00408831751, 0.0161137115, 0.0109859351, -0.00665895781, 0.025474932, 0.0143159516, 0.0126696313, 0.0413193069, 0.0446357243, -0.00392829534, -0.000687431253, 0.0121091474, 0.0160765555, -0.00324842357, -0.0287511218, -0.0145620666, 0.000250219076, 0.0040066028, -0.0039633424, -0.034354303, -0.00458415831, -0.00307691353, -0.0208652038, 0.130182043, -0.00756484782, 0.0274956319, -0.00681143859, 0.0362834446, -0.0166732501, -0.00654391665, -0.028969381, -0.000613142387, -0.0373009332, 0.0223148074, 0.00224110181, 0.00633943, 0.0181520339, 0.00617686333, 0.0321377367, 0.012622037, 0.0226377845, -0.03804693, 0.0051996978, 0.0372025892, 0.0183158331, 0.0396080315, -0.0123724947, -0.00252544833, 0.0283781625, 0.00452842703, 0.00566903269, -0.0110216131, -0.0366009288, -0.0287150815, -0.0167651456, 0.0181705356, -0.022244839, -0.0384632722, -0.0106490385, -0.0350097455, -0.0348492749, 0.0228214487, 0.0111048315, 0.0077451081, -0.0715224668, 0.014072665, -0.0145240258, -0.00731359422, 0.00514315907, 0.0442190096, -0.0114591988, -0.00634393049, 0.00355615257, -0.00803470705, -0.0086222291, -0.026584005, -0.0320998654, 0.0011764802, 0.00851863623, -0.0230221879, 0.0149176866, -0.0164464284, -0.0447372422, -0.0024060607, -0.0459293872, 0.00302168215, -0.0191536471, -0.00416855142, 0.0257895533, -0.00815633871, 0.00787993614, -0.0173100978, -0.0197018012, 0.0223366432, -0.0048025, 0.00455382513, -0.0199965425, -0.0163615216, -0.0112078125, -0.0192278121, -0.0080998065, 0.0474462099, -0.0308780316, 0.0130957076, 0.0102503477, 0.0117037157, -0.000617305, 0.0247515496, 0.0122399479, -0.020463733, -0.00834037084, 0.00235823379, -0.0188991688, 0.00678156829, -0.0208993163, 0.0168634634, 0.0319757, -0.0124608232, -0.0150145525, -0.0105174361, 0.0105978819, 0.0414385833, -0.0180304945, -0.0304207131, 0.00895058084, -0.0132939955, -0.00410141516, -0.0211795401, -0.0461338237, 0.00574190682, 0.0131917298, 0.0174163301, 0.0115965512, -0.0264458, 0.0582453683, -0.0144613599, -0.0441700518, 0.00325185736, -0.00555406418, -0.0215165801, 0.000475973444, 0.00012584409, -0.00632546749, -0.00526111573, 0.0175692625, -0.00754196057, -0.0240200125, 0.00969937723, -0.0233915132, -0.0341324098, 0.00954738259, 0.00134617696, -0.0259284154, 0.00110271142, 0.00650447467, -0.00852663256, -0.0368925631, 0.0257979389, 0.00704238098, 0.00958073512, 0.00634502061, -0.00320450054, 0.0111146607, -0.0100817876, 0.0380363241, -0.00221493491, -0.0201320108, 0.00669833831, -0.032531973, 0.0210610759, 0.0124171777, -0.0291897133, -0.0362113342, 0.00590135949, -0.0317662135, -0.0468943529, -0.0281628072, 0.0481899604, 0.0230000857, -0.0337358266, -0.0115543967, -0.21943523, -0.0513386056, 0.0187808964, -0.00871023722, -0.0613337718, 0.0380800702, 0.0241337512, 0.000298263098, -0.031036932, 0.0138190296, -0.012006795, 0.0207771305, -0.291569591, 0.00741649885, 0.0305317882, -0.0200372394, 0.00611624494, -0.026194863, -0.00324238278, -0.0181814469, 0.00485790195, -0.0121469768, 0.00593926944, -0.0165579133, -0.00320904958, 0.0201656613, 0.000953347888, 0.0232992116, -0.019908648, -0.0397411436, -0.00802942552, -0.00257392181, 0.0158081669, 0.00314681767, 0.00751964562, 0.026294956, 0.00366001809, 0.0182672627, 0.000355619966, 0.00812596083, 0.0153624155, -0.0216525421, -0.013047345, 0.00389740337, 0.00233580521, -0.0144877695, -0.0160614382, -0.0148109635, -0.0229652599, -0.132650375, 0.0644959435, 0.0281969905, -0.0323960781, -0.0154845733, 0.0173448175, 0.00618496491, -0.00378590077, -0.00199135742, -0.0185618512, -0.0223780666, 0.0194862317, -0.00725687947, -0.0326886624, -0.0240648389, -0.0131106498, -0.0151292207, 0.0146971941, 0.0317776129, -0.000443242403, 0.0213273168, -0.0416307598, -0.000523781579, 0.00870518386, -0.01662012, -0.0215017572, -0.027015578, 0.0217872635, 0.00331179518, -0.0114098573, 0.0345177911, 0.0127858734, -0.00867052376, 0.0347022861, 0.0253900643, -0.00879020896, 0.00441296399, 0.0204449873, 0.0195662491, -0.200735122, 0.00778004713, -0.0083684558, 0.00618202426, -0.0209602285, -0.0279014, -0.0164013952, 0.0350572579, 0.0125698168, -0.0211332925, 0.0488784201, -0.0163232498, 0.00589337712, 0.0156466588, -0.00198694575, -0.0193578862, 0.0134711694, -0.0217805859, 0.00500291167, -0.0027124621, 0.0235124975, 0.0122690387, 0.02387641, -0.0259295329, -0.0179789104, 0.0308245569, -0.0101763047, -0.0253534503, 0.00261040078, -0.0137314806, -0.0582957231, 0.00476235151, -0.0252685919, -0.0245394353, -0.0092212, -0.0101043172, -0.00982599426, 0.0717108175, 0.0227589514, 0.00795848668, -0.0131236296, 0.001929063, -0.00336154969, 0.00905201305, -0.0240954906, 0.0234277938, -0.0642982572, 0.000988413463, 0.000464269076, 0.00542627415, -0.00619146647, -0.000821178139, -0.0408495329, 0.0218653884, 0.000543787726, -0.0157023631, 0.0252052695, -0.00101311062, -0.0326636173, -0.000692022964, 0.00958983414, 0.0222255215, -0.0166521426, 0.0176364873, -0.00659903931, -0.0120480936, -0.0386311375, -0.0296521429, -0.0168340728, 0.0483807437, -0.0204546154, -0.0119345542, 0.0271356255, -6.67824452e-06, 0.185806438, 0.015962163, 0.000527662691, -0.00670271553, -0.016505247, 0.00236258656, -0.0197706632, -0.0053607421, 0.0142008783, 0.0165039804, 0.0696999058, 0.0205775443, -0.00260432344, -0.0453845, -0.02211928, 0.0227724947, -0.000836011, -0.0152219692, -0.0186733548, 0.015888419, 0.0094280811, -0.00178175292, 0.00153755944, 0.0115465913, -0.0237157848, 0.00610557757, -0.00268063089, -0.00404749811, -0.00147630495, -0.0330099501, -0.0129031595, 0.0216319337, -0.00567716407, -0.00490293512, 0.00828190893, 0.00779829221, -0.0242786, 0.0103314342, 0.007146121, -0.0315642357, 0.00706548197, 0.0138400048, 0.0232925694, -0.00757891778, -0.0021259354, -0.00505208643, 0.0116506796, -0.00252474705, -0.0103601012, -0.0124371219, 0.00917388406, -0.0270508528, 0.0214688648, -0.025402246, 0.0201323088, -0.0155387539, -0.0142741911, 0.00401837891, 0.00166526344, 0.0270727854, -0.00586340949, -0.0131861484, -0.0119584911, 0.000986029627, 0.0207741056, 0.0087676784, -0.0114373164, -0.0401695557, 0.0182046909, -0.00179015542, 0.0119982325, 0.00626691896, -0.0191994105, 0.0158204455, -0.036596939, 0.00622968143, -0.00289853802, 0.0214549433, -0.00556306541, -0.0225609075, -0.0212678816, 0.000853823032, -0.00617606845, -0.0265946705, 0.0135836247, -0.0176676642, -0.0223625787, 0.0333520062, 0.00189325516, 0.0420229509, 0.0052424157, 0.0240687169, 0.0138372416, -0.0295514204, -0.0075447103, 0.0129385768, 0.00624438236, 0.0108943749, -0.0102290642, 0.0290894751, 0.0133629227, 0.0187427066, 0.00153554359, 0.0109058544, -0.0326478, -0.021772366, -0.0155422259, 0.00219751522, -0.0182435624, -0.0122972494, 0.0327397287, -0.00368764345, 0.0177894793, -0.00875893608, 0.00531444466, -0.0262574311, -0.00891504157, 0.000337622478, -0.00926562585, 0.00923021231, 0.0122796716, -0.0287850164, -0.0021996086, -0.0143905832, -0.00989666861, -0.0122552179, -0.0183953512, -0.0130084176, -0.0144674964, -0.00156727317, 0.0185900722, 0.0393234566, -0.0173322484, -0.0479334779, -0.0193171035, 0.0286237523, 0.0383534394, 0.0107935844, 0.0422556214, -0.00849964283, -0.0122769317, -0.0701349303, 0.0176944416, -0.033429347, -0.0127182445, -0.0184264313, 0.0233679283, -0.00727129029, -0.00969487, 0.0149845574, 0.00633138418, 0.0171231925, 0.00453380821, 0.0429646, -0.0231918488, -0.000930849114, 0.00131230045, -0.0103129111, 0.0145964855, -0.0484012663, 0.0322437882, 0.00230832887, 0.0195897985, -0.00373123609, -0.0131460773, 0.000656282529, -0.0223899651, -0.00653017126, -0.032135684, 0.0276114736, -0.00869963598, -0.0172382314, 0.00772233307, 0.00102484517, 0.0452161394, 0.0076084896, -0.0196026061, -0.0103503475, -0.00794359855, -0.0161967259, -0.0012413573, -0.0120902071, -0.0253465399, -0.0187753756, -0.00320396968, 0.00774225, -0.00153346907, 0.00274683419, 0.000256337284, -0.0230739508, -0.00715104, -0.0171488877, 0.0139128966, -0.0129235722, 0.000692381698, -0.0165008027, -0.00581844337, 0.00324112782, -0.0144544812, -0.0419638641, 0.0234412029, -0.0156446155, -0.0374365374, -0.0360628851, -0.0842487663, 0.00807403214, 0.00585292326, -0.00985086709, 0.014731925, -0.00701558916, 0.0109867491, -0.015906401, 0.00697615603, 0.00696078595, 0.0545794517, 0.0164244194, -0.0263768565, -0.0081842728, -0.0244604982, 0.0230559465, -0.0187715348, -0.00180882029, 0.0384768, -0.00704684155, -0.00232684519, 0.00600550976, 5.43243514e-05, -0.00709237624, -0.00615642453, 0.0135040423, 0.00810152758, -0.00344467186, 0.0167059228, -0.00933121704, -0.0336633809, -0.00162879634, 0.0263157394, -0.0210403726, 0.00709654065, 0.0113237621, 0.0222325213, -0.0106713166, 0.00859879516, -0.026968481, -0.0104592917, 0.0119784577, 0.00884547085, -0.0242179614, 0.000893308548, -0.02532636, 0.0261912812, -0.0261547156, -0.0178672131, 0.00377737754, -0.016059909, -0.0035819707, 0.00857026502, -0.00900490396, -0.00551359868, -0.00384641322, 0.0139707346, -0.0157044157, 0.0101492731, 0.00177422562, 0.0250487216, -0.00164462649, -0.0109828273, 0.00944735948, -0.0176185444, -0.0139087318, -0.00783816725, 0.0151469372, -0.00107756455, -0.0120127471, 0.00926185772, -0.052015923, 0.0226929709, -0.0243104696, -0.0033536288, -0.0168982632, 0.0183155686, 0.00154020241, 0.000856504717, -0.00660302304, -0.0106287831, -0.0168432463, 0.0126756551, -0.0225366838, 0.00108618278, 0.0362391919, 0.0137851015, 0.00687709264, -0.00763928518, -0.000956737262, 0.0304248445, 0.0353808962, 0.0135978358, -0.0220547579, 0.00396972522, -0.0191595126, 0.0104718851, -0.00193619169, -0.0309068449, -0.00960594695, 0.0343435034, -0.0123251677, -0.0233592782, -0.0160674788, 0.0336633958, 0.00638362486, 0.016088, 0.0314996503, -0.0233298596, -0.0110973706, -0.0119426502, 0.0192787796, -0.0310109295, 0.0150527144, 0.0194879901, -0.0111575378, -0.00358331576, -0.0328256637, 0.023582099, -0.00928404927, 0.0120483181, -0.0313224681, -0.00787253305, -0.0437682942, 0.00176055345, -0.00644427119, -0.00605702493, -0.0594767705, 0.015086622, -0.0110929143, 0.00636433205, -0.0218369886, 0.0032398391, 0.00993060227, 0.0148405656, -0.00916738436, -0.0144709637, 0.0703975335, -0.00141148583, -0.0108496398, 0.00130737387, 0.0441471078, -0.0472166, -0.0226171855, 0.0340129286, -0.00550534809, 0.020601742, -0.0314893201, 0.0141231399, 0.00209532515, 0.0271273684, 0.0110276146, 0.0250665341, 0.0100407787, -5.52801685e-05, 0.00657494972, -0.0153391631, 0.0307269339, 0.0233086944, -0.00240066694, -0.0285217687, 0.00479965378, 0.0100469263, -0.00961791631, -0.00118755, -0.0028269412, 0.00810455624, -0.007266236, 0.00775441108, 0.0412095599, 0.00233388809, -0.0117477849, 0.0217479039, -0.0100617278, 0.00692220079, -0.0191388912, -0.0332900845, -0.013252398, 0.00231244555, -0.0158101507, 0.00735141709, -0.0220448691, -0.00685124239, -0.011129952, -0.0136133702, -0.00110930484, 0.0142940469, 0.0137945339, -0.0182943214, 0.0416617021, 0.00572506944, -0.0274437349, -0.0195587706, 0.00778059894, -0.00441267, -0.0147592649, -0.0426626503, 0.0313234106, -0.0118919574, -0.0261764061, 0.0691859797, -0.0362151898, -0.0301539917, 0.0096343793, 0.0189283825, 0.0167997386, -0.00184261554, -0.00892293453, 0.0232401695, 0.0228174832, 0.0105037345, -0.0125617506, -0.0201812591, -0.0305085331, 0.0249081627, 0.0251269154, -0.0442773961, 0.0125647569, 0.00375926401, 0.00532898819, 0.00375777436, 0.0262714606, 0.0158841871, 0.00907733, -0.010728295, -0.00932935905, 0.00243221503, 0.00183139532, -0.00309970672, -0.0184743367, -0.00836655777, -0.0393872857, 0.0235513374, -0.0185076706, -0.0109582059, -0.0179376453, 0.0180242546, 0.0195573736, 0.00732925255, -0.0171875786, -0.0345351063, 0.0273048058, 0.00897027925, 0.00826455653, -0.0267575271, -0.0340321399, 0.0569698103, 0.00516455946, -0.00432612, -0.00323426467, -0.0120799867, 0.0198640786, 0.0177859403, 0.00640368974, -0.00642294111, -0.0336845107, 0.0118662398, 0.0134619819, -0.0121844495, -0.0184690244, 0.00800687727, 0.0189967323, 0.0014546857, 0.0102589158, -0.00629289728, 0.036355298, -0.0407871, -0.0422977321, 0.0130353039, -0.0135612963, -0.00830063876, 0.03616466, 0.00301913824, 0.0068613817, 0.0138940439, 0.0370129757, 0.00841140188, -0.0106427381, 0.0161875989, 0.00922948122, 0.0120926974, 0.0070616114, -0.0424790457, -0.00572475651, 0.0166268367, -0.0243618488, -0.00268155686, 0.014171985, -0.00733930804, 0.0105859768, 0.0208179615, -0.004678878, -0.0215846505, 0.00926931854, -0.00916640926, 0.0376413129, 0.00816181116, -0.0235864073, 0.00135204417, -0.122949868, 0.0247316696, -0.0151317203, 0.0141920242, -0.0209718607, 0.00733149564, 0.00954881869, 0.00737372367, 0.0369854197, -0.0256222337, -0.0192350801, 0.0139099211, 0.00316315843, 0.00501204282, 0.001241424, -0.0131299905, -0.00817604456, -0.00511627318, 0.0127521576, -0.00167277793, 0.000848389231, -0.0176552776, -0.0129033476, -0.016767595, -0.00830704253, -0.0109041343, -0.0194261018, -0.032381352, -0.0291345026, -0.0144480495, -0.00860316399, -0.0181850046, 0.0135219693, 0.00221194257, -0.012792726, -0.0153594594, -0.0264599025, -0.00654246844, 0.0157911424, -0.014714309, 0.00986209232, 0.0301289074, -0.0134530328, -0.000112651549, -0.00347900065, 0.00154032069, -0.0149078257, -0.0315671414, -0.00416566059, -0.0434337668, 0.0126526393, -0.0237268172, 0.0352707095, -0.000940569909, 0.0257713012, -0.00683449674, 0.0138847958, -0.0133971032, 0.00508746784, -0.00633585, -0.0327212214, -0.00683517521, -0.00985742733, 0.00648592832, 0.00380182033, 0.00904429331, 0.000864484464, 0.0163954943, -0.0199931283, 0.021853108, 0.0431401357, 0.00464834692, -0.0018907768, -0.00186965847, 0.0119353617, -0.00842435099, 0.0172567554, 0.00781564694, -0.0017227541, 0.00559498882, 0.0224030595, -0.00716518564, 0.0163243506]\n",
            "Text Embedding: [0.00230261497, 0.0278982632, -0.0118582929, 0.0397426598, 0.00652313326, 0.00735203829, 0.000643933599, -0.000492631167, 0.0012561006, 0.0214912444, 0.0337049402, -0.0170024466, 0.0136549165, 0.0133778974, -0.0167709421, -0.00411162246, 0.00810521469, 0.0233420134, 0.0413143709, 0.0111016789, -0.00341685885, -0.00160506042, -0.00444635144, -0.0264375415, -0.0188246, -0.0164798629, 0.0193691421, -0.00394955697, 0.0164419543, 0.00567058707, 0.0145565765, 0.027768679, -0.000531363883, 0.0325794592, -0.0508852787, 0.00896782614, 0.0337881222, -0.0125531303, -0.0408407487, -0.00305510662, 0.0228332169, 0.00302672968, 0.010745313, -0.0171144474, -0.0199602656, 0.020476114, 0.026460683, 0.00689925719, 0.00117239694, 0.0314194039, 0.00214161398, -0.0111680394, 0.0537296049, -0.00855851453, -0.0216580965, 0.00928885862, -0.013913136, 0.0389485545, 0.00355332578, -0.00221196166, -0.00690432079, -0.00863502361, 0.0154451653, 0.000676229422, 0.00716229388, 0.032136552, 0.0221748762, 0.0167853162, -0.0100789694, -0.00368288043, -0.00539744785, -0.00225324137, 0.00588878058, -0.0199666712, 0.0176618584, -0.00504115969, 0.0114790509, -0.00604344066, 0.000695256807, 0.027104754, -0.00188637793, 0.030635003, -0.0249360614, -0.00575463, -0.0115143536, 0.0446749739, 0.000531255035, -0.00531568, -0.00294036348, 0.00148748211, 0.00880119856, 0.0223997459, 0.00985762663, -0.00317092799, 0.0289793089, 0.00928698573, 0.00559491199, 0.0261882208, 0.0336596929, -0.0081630405, 0.000354396936, 0.000625271234, -0.00497896224, 0.010521356, 0.00510425773, -0.0296505168, 0.0139733478, -0.00106373674, 0.00248900848, 0.0338709801, 0.0061844252, -0.029607499, 0.0237844735, 0.0422030278, 0.000535997795, 0.0217056405, 0.0137984138, 0.0116727175, -0.0105136428, 0.0506827384, -0.011559804, 0.0199880898, -0.0337922908, -0.00445144437, -0.0256778765, -0.00938948151, -0.00331721851, -0.0095650563, 0.019647168, 0.0220762212, -0.0124582853, -0.0122572295, 0.0277705621, -0.0365362279, 0.00988040306, -0.019051902, 0.0181261525, 0.0186834615, -0.0203995202, -0.0121099763, -0.0107085872, 0.0178877115, 0.0253222361, -0.0161644071, -0.0362844393, -0.00105952413, 0.00539037632, 0.013336028, 0.0510348454, -0.00985071901, 0.00630079, -0.0203586612, 0.0307147503, 0.0364704207, 0.00854492746, -0.0143367425, 0.0112866322, 0.0137094185, -0.00215181918, 0.0189978387, -0.0288195778, -0.0105737755, -0.00135381892, -0.0092057744, -0.0141140148, 0.0151985176, 0.00864344649, -0.0100362049, 0.00142346357, 0.0264592022, -0.0151058678, -0.016707303, 0.0126017062, 0.00139328337, 0.009271916, -0.00180826627, -0.0108686863, -0.00711642765, -0.00597099494, 0.00808166526, 0.0279925223, -0.00882785767, 0.0242868252, 0.0150653962, -0.0108182216, 0.0225567874, 0.015123317, -0.00938281417, -0.00308206258, 0.00482303742, 0.0139584169, 0.00553690922, -0.0329328813, -0.00391916325, -0.00217873324, 0.0163828, -0.0224394258, 0.0302331783, 0.00133356347, 0.0256381817, 0.0318031311, -0.00848255865, 0.0303741395, 0.0388671458, 7.34147907e-05, -0.0176430084, -0.0048661232, 0.00616287068, 0.00751447259, 0.00894593727, 0.00316037028, 0.00918200798, 0.00864572823, 0.00472218217, 0.0356092453, -0.0251461975, 0.00120810326, -0.0430258252, 0.0392093062, -0.0258818269, -0.0168002918, 0.00279238145, -0.00171542389, 0.0171280559, -0.0128576867, 0.0047163642, 0.0125469407, 0.0116851283, 0.0285329446, 0.0164260026, 0.00229888153, 0.0115485387, -0.027747266, -0.0014175704, -0.000524479081, 0.0220302492, 0.00906966161, 0.000808464712, 0.00463526417, -0.00407822663, -0.00490730163, 0.00298341573, -0.0100647043, -0.00668658502, -0.00295834849, 0.0320682526, 0.0101379631, 0.0169692282, -0.00178577274, 0.0127455331, 0.0237907339, 0.00629207399, -0.0281352941, -0.0200879984, -0.0194566865, -0.0142582553, 0.0130045032, 0.0245022736, -0.0137075139, 0.0421730615, 0.00798452087, 0.0155936405, -0.00912386179, 0.023719443, 0.00721991714, -0.0226700082, 0.00573940808, -9.87192543e-05, 0.0260729119, 0.00027322612, 0.0200594384, 0.0266396794, -0.00156639877, -0.00687028281, -0.0180738308, 0.0291047562, 0.0250515882, -0.00869002938, -0.0179202612, 0.0145785352, 0.0101965927, 0.0300452746, 0.0149848601, 0.0182359368, 0.00465912325, 0.00609958544, -0.00411004853, -0.0159086715, 0.0241077933, 0.016423367, 0.00985715445, 0.0109532122, 0.0123757292, 0.0084268162, 0.0187044833, -0.00294285291, -0.00335529423, 0.00112207676, -0.0130412746, 0.00135777763, -0.0196119063, -0.0272350274, -0.0258698016, -0.00233961106, -0.0210883208, 0.0323393382, -0.00811475143, -0.00411544135, -0.00586097827, 0.00958984159, -0.00318478607, 0.0229904819, -0.0282682851, 0.0296856035, -0.00276480406, 0.00775406, 0.0173240378, 0.0120664062, -0.0153746847, 0.00117545121, -0.00798565056, 0.000845921517, -0.0183114875, -0.0242590494, 0.0330757722, 0.0355981328, -0.00884827, 0.0062972107, -0.00262617925, 0.00282700034, 0.0169561133, -0.0332698748, -0.00383669673, -0.00287146051, -0.013770299, 0.0029220297, 0.042822279, 0.0240222663, -0.000790707476, -0.00370022422, -0.0283930972, 0.0138190705, -0.00439871242, 0.00537550217, -0.00736741768, 0.00659644138, 0.00760730449, -0.00578255439, -0.000841791392, -0.000825337949, 0.00562453875, -0.0277131628, 0.0301259514, 0.0175405, -0.00775628071, 0.0202623922, 0.00348505448, 0.00713515049, -0.023682097, 0.00790442433, 0.0296656583, 0.0239830334, -0.00236563431, 0.0189604759, 0.0132111134, 0.0438527502, -0.000395083654, 0.0131688816, -0.00266419956, 0.0152334459, 0.0110515, -0.0104263267, 0.0136062661, -0.0185677186, -0.018197652, 0.00590894558, -0.0575277358, -0.0132452482, 0.0119712381, -0.000234765204, 0.00171603065, 0.0336838067, -0.00125930703, -0.00687440392, 0.0378378741, -0.00253395294, -0.0137713365, 0.00929034222, 0.00204526889, 0.0116958106, -0.00273538893, 0.0161645934, -0.0146895163, 0.00392079121, -0.00528915599, -0.00951443706, -0.00285741664, 0.013249781, 0.00336367614, 0.00604636502, -0.0136938822, -0.0149240624, -0.015525911, -0.00525003811, 0.00811736286, -0.0109166047, 0.0141959712, 0.00031419177, -0.00199314207, -0.000549537654, 0.00339699606, 0.0218930915, 0.00837722421, -0.00289587863, 0.00276776822, 0.0244481042, -0.216891333, -0.0160662308, -0.0243483856, 0.0103337867, 0.0192811266, 0.0355272964, 0.00385043863, -0.0188979805, 0.00661829673, -0.00289374054, -0.0134504838, 0.0198856555, 0.00431956258, 0.00874929316, 0.0450509042, 0.0106419949, 0.0138405804, -0.000328046706, 0.0151686184, 0.019789163, 0.0267013144, 0.0292695388, 0.0184172671, -0.186716706, 0.0194913596, -0.0102715204, 0.021443408, 0.0270725191, 0.0084965, 0.00855276268, 0.0218923464, -0.00697082607, -0.00592162367, -0.0126023851, 0.0112023372, 0.023786528, -0.00357667916, -0.00657382328, -0.0205247179, -0.00268509425, -0.0093495613, 0.000741696451, 0.0279008374, -0.000686853717, -0.0131064076, 0.0129698347, 0.021181887, 0.0222327635, 0.0255927891, 0.000978649827, 0.00156337372, 0.0240950231, -0.0240348205, 0.0195316412, 0.0350994356, -0.215818316, -0.03470039, 0.0152349388, -0.00905469246, 0.00885306951, 0.0281405896, -0.0292666368, 0.0116564408, 0.000945476699, -0.00375695969, -0.00241870247, -0.0126300901, 0.0389712155, 0.0135747632, 0.0135097522, 0.0237607956, -0.0086046923, -0.00966189429, -0.00681982841, 0.0103602633, -0.0147748571, -0.00614277925, 0.00653658714, -0.00268220436, 0.0141357072, -0.00755367242, -0.0154301543, -0.00672848104, 0.0141013199, 0.000282041961, -0.0431148969, 0.00372325792, 0.00204025605, 0.0143514229, 0.0197106916, 0.0206679925, 0.0125041325, 0.008231516, -0.015212669, 0.00293748593, -0.0137253497, 0.00396367675, 0.0171546843, 0.00211948925, 0.0284373201, 0.00423536, 0.01474931, 0.0155864954, 0.0252904072, -0.0167946797, -0.0286151469, 0.00744822342, -0.00312575512, 0.0238137487, -0.000753715343, 0.0326761529, 0.0159067642, -0.0013324914, 0.00481245713, -0.00612778869, -0.0194577295, 0.0196464919, -0.0180332828, -0.00707871933, 0.0169484224, 0.00607426371, 0.0509947091, -0.000693861104, -0.0100407526, -0.00415252289, -0.00064676156, -0.024382906, -0.036586903, -0.00322849397, -0.00903151464, -0.0442970246, -0.0276814569, 0.0248988774, 0.0269785076, 0.0165465456, 0.00315283029, -0.0149966134, -0.0204287879, -0.0124207074, -0.0188071951, 0.00323868706, 0.0141021069, 0.000658662932, 0.00410827249, 0.0183592271, 0.0157166105, 0.00604351191, 0.00772821158, 0.00210163533, 0.00445989799, 0.00577719416, 0.0254005175, 0.00804796, 0.0347274579, -0.0199881438, -0.0176873095, -0.0067063896, -0.0151616381, -0.0169808287, 0.00140544516, 0.0177653302, 0.0263888706, 0.0729806274, 0.000679904828, -0.0100377472, 0.00589286955, 0.0266717933, -0.00691459188, -0.010968619, 5.51427693e-05, 0.0299347378, -0.0248841811, 0.000243186936, 0.013749172, -0.00287591433, -0.00640919106, 0.0145288389, 0.00381697109, 0.00817843061, 0.0147117404, -0.0139156589, -0.0177093167, -0.00756011158, 0.0133441584, 0.0407237709, 0.00453239679, -0.0201736763, -0.00349062053, -0.0177651197, -0.00595739484, 0.0112209655, -0.0116686067, 0.021778224, -0.00116121792, -0.0034242426, -0.00914501492, -0.0186432153, 0.0333082154, -0.00249365345, -0.00173164008, 0.017022172, 0.010897696, -0.00068815914, 0.0180938672, 0.00757863466, -0.21309635, 0.00243121805, 0.00725920685, -0.172823414, 0.00769806933, 0.00627682079, -0.012526717, 0.00853239838, -0.000729731284, -0.000977558317, -0.0122625846, 0.00241178484, -0.00453469856, 0.0371291637, -0.028157359, 0.00741772633, -0.00364596397, 0.00116485904, 0.0341938213, -0.00191134145, -0.0153293079, 0.0091368854, 0.0244882014, -0.0346513, -0.0298554301, -0.0101180254, -0.00462356862, -0.00153643778, 0.0201439112, -0.0169146918, 0.00370186358, 0.00663088262, 0.0067460821, 0.00651121465, -0.00360184093, 0.0057909023, 0.026536379, 0.00217105495, 0.0136411423, -0.00440045213, -0.0178614296, 0.00981872, 0.015389042, -0.0121258218, 0.0153975, 0.0375413559, 0.0195972864, -0.0141548654, 0.0144251995, 0.0352701, 0.0132474294, -0.0115490491, 0.00518215122, 0.0322647542, 0.0162915159, -0.00730146701, -0.00797059853, 0.0262213927, -0.02072425, 0.0306109507, 0.0137696089, 0.0262350067, -0.00161540194, -0.0181359258, 0.0447188579, -0.0115625923, 0.00189729384, -0.00399034563, -0.00330626452, -0.00952930655, -0.0495624244, -0.00903587136, 0.0189820882, -0.0046589449, 0.0360471122, -0.0297935735, -0.0122107472, 0.0169694126, 0.0157090276, 0.0162125174, 0.0122825345, 0.00601210585, 0.0159941167, 0.0210929848, -0.0147521636, 0.00603408599, -0.0169308726, -0.0154585689, -0.00668796431, 0.0393602848, -0.014639765, 0.00617670687, -0.0132344291, 0.0241092034, -0.00769350398, 0.0100617604, 0.00752443308, -0.00809328351, 0.00773757091, 0.0182044394, -0.0041451687, -0.00566119887, 0.0048477184, -0.0180035681, 0.0116080418, -0.00436645932, 0.0322510526, -0.0152097251, -0.00213270565, 0.0233511701, 0.0397744365, 0.01135513, -0.00215588557, -0.0119975777, -0.00813648105, 0.0248555411, -0.000648818386, -0.012202776, 0.00947458, 0.0262334011, -0.0145669449, 0.00654325262, 0.00620729895, 0.00241465517, -0.0337087065, 0.0371614844, 0.0358429328, -0.00473034335, -0.0120297698, 0.00196892861, 0.00733175455, 0.0194556154, -0.00545031391, 0.0161519255, 0.0139816571, 0.027659148, 0.0131877754, 0.0174240898, 0.00106837449, -0.016187327, 0.0192323271, -0.0143531729, 0.00248042471, 0.00914042629, -0.00880100485, -0.0130706467, -0.0172396414, 0.0407591946, 0.00587186124, -0.00461415621, -0.00859799888, 0.00921030808, -0.0106176101, 0.0062116296, -0.0086096311, 0.00583488075, -0.00321768154, 0.101581544, 0.0139167542, 0.0327963, -0.00666049495, 0.0084413914, 0.00957048684, 0.00674013514, 0.0503205, 0.0321149491, 0.00793622434, -0.00607622741, 0.00402891, 0.0244963728, 0.0314633325, 0.00720902951, 0.0393663496, 0.00680777384, -0.0010149288, 0.052896291, 0.000577694736, -0.0588788874, -0.00401203148, 0.0475770049, -0.00504254503, -0.00734817469, -0.0158823933, 0.00916812, 0.0143262707, 0.00175381708, -0.00318572, 0.016769113, 0.0217243135, 0.0070058261, 0.0214982275, -0.00119791331, 0.0016474541, -0.0199396648, -0.028833108, -0.0173311327, 0.013492072, 0.00267132395, -0.00706053665, -0.0143203577, 0.0322578028, 0.00867473148, 0.0234441832, -0.018991949, -0.0106026726, -0.00840948, -0.00439042645, 0.0202441104, 0.0214493126, 0.0165904723, 0.0257704537, -0.00345395575, 0.0334274694, -0.0149274431, -0.00441886066, -0.0189504214, 0.0463091, -0.0210848916, 0.00790793169, -0.0076274476, 0.00703002606, -0.0166662, -0.00257775886, -0.00488535175, 0.0111446939, 0.0192253795, 0.0129857436, 0.0560698472, 0.0180381555, 0.0075727, 0.0116992611, -0.00140037888, 0.0408161618, -0.012285497, -0.0144351674, 0.198181465, -0.00978651363, -0.0376934111, -0.00549978716, 0.0131372306, -0.0110963667, 0.0216989592, 0.00913057104, 0.00464092242, 0.000260554109, 0.0260368772, -0.00108057773, -0.00282815238, 0.00182804023, 0.0162840597, 0.0228928048, -0.0325505659, -0.0129091572, 0.00328102917, -0.0197706055, 0.0453646556, 0.00940693449, 0.0115632443, 0.00203754776, -0.00219353195, 0.026028052, 0.00650414964, -0.0273089651, -0.00407073833, 0.0229538959, 0.0102799116, 0.00342446, -0.0150299063, 0.00431549875, -0.019446278, 0.0130334347, 0.00293591199, 0.00221243012, 0.0233971886, -0.0157118645, -0.0231346935, 0.00632970035, -0.0015706569, 0.0316217877, 0.031389039, -0.0247713029, 0.00666298764, 0.00672269147, -0.0112566091, 0.0091385, -0.0063562328, -0.0239219703, 0.00374217727, 0.00777230458, -0.0135458848, 0.00114457065, 0.00664034439, 0.0484912656, 0.00816420373, -0.00888089463, 0.00654927082, 0.0333290398, 0.0139587065, 0.0100378869, -0.0268030018, 0.0486377813, -0.00282568648, 0.0308496151, 0.0113921352, 0.0144066578, 0.00260439445, 0.00013430645, 0.000739327, 0.00987485051, -0.00728762802, 0.0168890301, 0.0272681341, -0.0109518711, 0.011293456, -0.00705150375, 0.0104918797, -0.0248093624, 0.0207964014, 0.00744284457, -0.0338238217, -0.000448033505, -0.022174539, -0.0143500185, -0.0137446038, 0.00986977573, -0.0152818421, 0.00440901937, -0.0111284787, -0.030661393, -0.00565329194, 0.0227519646, 0.027706841, 0.0344599932, 0.0104168123, -0.0348154753, 0.0267292932, -0.024388371, 0.00628756592, -0.0192523804, -0.00664676121, 0.0231725313, -0.0114813223, 0.0204396639, 0.0351550952, -0.0152637465, 0.0146160023, -0.00831656065, -0.00551084662, 0.00165481539, 0.0374503657, -0.0023853071, -0.00292214169, -0.00572820613, 0.0212148242, 0.0144039728, -0.0430179164, -0.0179528669, 0.00898031332, 0.00437755091, -0.0147609226, -0.0206905678, -0.0187179986, -0.00306489016, 0.00142166635, -0.017315248, 0.00410397397, 0.00784690399, -0.0307799466, 0.0127331642, -0.00925248582, 0.00942398794, -0.00410907296, 0.00610202318, -0.00442447327, 0.0135228187, 0.0142487222, -0.00570268231, 0.0108165145, -0.0205620583, 0.0232394394, -0.0475111641, -0.00770230405, 0.000968561391, 0.00352497073, -0.0105552347, -0.0192455668, 0.0123981293, 0.0117566185, 0.0152631737, 0.0120910825, 0.00961834472, 0.0157929342, 0.0261772629, 0.0575207584, -0.00145160232, -0.0163800381, -0.015431812, 0.00046954368, 0.0260442253, 0.0167721286, -0.00157523109, 0.0454534702, -0.0075728111, -0.0420436896, 0.00594898593, -0.0231836271, 0.0374347866, -0.0232824273, -0.0149065144, 0.0232367292, -0.0117732128, -0.00112513138, -0.000187819795, -0.0177624524, -0.0130811315, 0.0171908513, -0.0182964038, -0.0256934427, 0.0159657691, 0.00544251269, 0.00555311376, -0.00254357327, 0.0198213514, 0.000253386213, 0.0249440782, 0.00796111, -0.00533092488, -0.00783157721, 0.0206377022, -0.016468415, 0.000395336974, 0.0152493836, -0.184803769, -0.0171671696, 0.0148325535, -0.00965008419, -0.015881218, 0.0167290121, 0.0106350901, 0.0227508172, -0.0166636184, 0.0183864161, 0.0299009904, -0.00769458, 0.0114207035, 0.0206291359, 0.0234777965, 0.00790251512, -0.0290357489, 0.010654496, -2.25625481e-05, 0.0060691461, 0.0160659179, -0.0188304354, -0.00417975755, 0.00482934248, 0.0092855636, 0.1934717, 0.0138473585, 0.00669027399, 0.0367310271, 0.00837564189, -0.0500946417, -0.0169559047, -0.00429197, 0.024037404, 0.0238224249, -0.0258335341, 0.0302372463, -0.00574839814, -0.00921429414, -0.00723822182, 0.0193585064, 0.0307989754, 0.000707560335, -0.00580950733, -0.000370610884, 0.0217599384, 0.00522159133, 0.000724623096, -0.00958945695, 0.0232698787, 0.00555989286, 0.00389861246, 0.00184009445, 0.00617870037, -0.00174887909, 0.0168586466, -0.017786758, -0.00588768767, -0.0141311539, -0.00203112839, -0.0141899148, 0.00590829831, 0.00903809909, 0.0287172198, -0.000184080374, 0.0272568353, 0.0145109594, -0.00143877906, 0.0174464732, 0.197936252, 0.00510059437, -0.000689895183, 0.00272953953, 0.0311601311, -0.0147805754, -0.0164912231, 0.00502287131, 0.0172323566, 0.00110063737, 0.0379352644, 0.0028472566, -0.0203378201, 0.00294240192, -0.0125146415, -0.0140073886, 0.0192050412, 0.0184657834, 0.0118111139, -0.00613582833, 0.0103809712, -0.00383623061, -0.0115572624, -0.007921407, 0.0297216866, 6.29405913e-05, 0.0252398178, -0.00573538477, -0.00261422712, 0.00380071322, -0.0257611834, 0.0346925184, -0.014545287, 0.0302650314, -0.019512333, -0.0164124649, 0.00508234603, 0.0144079728, 0.00370661, -0.216452047, -0.0135222245, -0.0351374038, -0.00662473077, -0.0150912479, -0.0061697932, 0.00886679161, -0.00416494487, 0.188021928, 0.00265249843, -0.00482669612, 0.0206832141, -0.015921697, 0.00634304853, -0.0160853546, 0.0352467038, 0.00569605501, 0.0233601648, 0.0245520733, 0.0348517969, 0.00117191963, 0.0205611475, 0.00942603, 0.0190546922, 0.0143036461, 0.0281386171, -0.0345544145, -0.0177277569, -0.0079849083, 0.00215418614, 0.0194616, 0.0193386, -0.216656297, -0.0163301211, 0.0345887542, -0.00318108406, -0.0173698924, 0.0160427615, 0.00478314143, -0.0184912793, 0.0160822291, 0.0305388886, 0.00654177694, 0.0084070405, -0.0271449871, -0.018915277, -0.0296912193, -0.217184827, -0.0151745426, 0.0116974115, -0.0164897088, 0.02207941, 0.0273763519, 0.0116395, 0.031163685, -0.00372815062, -0.0238469522, -0.0178420767, 0.0164123513, -0.00806262, 0.00114209263, -0.00232002651, 0.000171091844, -0.0130821215, -7.40434407e-05, 0.0489397161, -0.0298357829, -0.0217726752, -0.00972165819, 0.00284114853, 0.012191657, 0.0441158451, 0.000645676104, 0.0120122405, -0.00702609681, 0.0185250025, -0.0285244919, 0.00644839322, 0.0248905215, 0.00111186574, 0.0270160977, -0.00699674292, -0.0138534401, 0.00924647879, 0.0164394956, 0.00156424, 0.00736336317, 0.0255811177, 0.00454199826, -0.011266401, -0.0181102641, 0.0120055536, 0.00151908223, -0.0520581827, -0.0327384174, 0.0187946372, 0.0128262239, 0.00856233109, 0.0121633615, 0.0117345173, -0.00528488168, 0.0283486098, 0.0112955142, 0.0214299392, -0.0415015146, -0.0112659549, 0.0116221486, -0.00980622787, -0.015981093, -0.00748312054, -0.0091635827, 0.0168925, -0.0062409644, -0.0119857229, -0.00360520347, -0.00342923077, 0.0159261767, -0.00624681, 0.0293429978, 0.00127982418, -0.0148312859, -0.0138497781, -0.00242507923, 0.0303507019, 0.00771156512, -0.00842300616, -0.00392227806, 0.0136631979, 0.00465531088, -0.00508464128, 0.0110956645, -0.0199483316, -0.0194458403, 0.00382392248, -0.0049558985, -0.00999363884, 0.0237151179, 0.0292328987, 0.0229762699, -0.0172801837, 0.0023289735, 0.0186488517, -0.00509273168, 0.0115386359, 0.00892811175, -0.000325006724, -0.0272329524, 0.0188608039, 0.00656559691, 0.0279909428, -0.0186691266, -0.0161355808, 0.0458375439, 0.00261399196, 0.0144304391, -0.00441717776, -0.00221896078, -0.0104549583, 0.0212757345, 0.00405230746, 0.0244171843, -0.00166659965, -0.000413784175, -0.0182796028, -0.0114059299, 0.0196350068, -0.00541615114, 0.0075152046, -0.0128589598, 0.0111101493, 0.00890274066, -0.000940385449, -0.00975162, -0.0324222706, 0.00200740853, 0.00398514094, 0.0156780239, 0.00116260478, -0.0170883089, 7.4243304e-05, 0.00530116074, 0.0298703611, 0.0105120596, 0.00856259465, -0.00286932103, 0.0203099567, 0.0117842471, -0.0114248376, 0.0218436588, 0.0240980741, -0.00318022608, -0.0138806095, 0.000828247401, -0.0185443442, 0.025018109, -0.00886833, -0.0126360282, 0.0156586822, -0.0180523284, 0.0151689528, 0.0145584745, 0.00517212739, -0.026785329, 0.00514001306, 0.00504468242, 0.0217239, -0.0132880714, 0.0123008257, 0.00940375, -0.0157922897, -0.0151086152, 0.0207144171, -0.00829904433, -0.0461476855, -0.00445021689, 0.00890104752, 0.0326629281, -0.00298578897, -0.00660903426, 0.000862186425, 0.00884689577, -0.0229718201, -0.0205135047, -0.00915660523, 0.00651907502, -0.00884786714, -0.00318175857, 0.00644577947, -0.0154075911, 0.0125094252, -0.00985686574, 0.0194304641, -7.02426187e-05, 0.0371565856, 0.0273935087, 0.0183861554, -0.0116689149, -0.000434185815, 0.00590021908, 0.00691057509, 0.016638156, 0.00858743489, -3.82575536e-06, 0.00434029382, -0.0181215, -0.0370284319, 0.0118364142]\n"
          ]
        }
      ]
    }
  ]
}