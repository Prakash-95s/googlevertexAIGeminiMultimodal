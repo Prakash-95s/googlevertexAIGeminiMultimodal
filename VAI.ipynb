{
  "nbformat": 4,
  "nbformat_minor": 0,
  "metadata": {
    "colab": {
      "provenance": []
    },
    "kernelspec": {
      "name": "python3",
      "display_name": "Python 3"
    },
    "language_info": {
      "name": "python"
    }
  },
  "cells": [
    {
      "cell_type": "code",
      "source": [
        "# Copyright 2024 Google LLC\n",
        "#\n",
        "# Licensed under the Apache License, Version 2.0 (the \"License\");\n",
        "# you may not use this file except in compliance with the License.\n",
        "# You may obtain a copy of the License at\n",
        "#\n",
        "#     https://www.apache.org/licenses/LICENSE-2.0\n",
        "#\n",
        "# Unless required by applicable law or agreed to in writing, software\n",
        "# distributed under the License is distributed on an \"AS IS\" BASIS,\n",
        "# WITHOUT WARRANTIES OR CONDITIONS OF ANY KIND, either express or implied.\n",
        "# See the License for the specific language governing permissions and\n",
        "# limitations under the License."
      ],
      "metadata": {
        "id": "-hNWQi6jS4ny"
      },
      "execution_count": null,
      "outputs": []
    },
    {
      "cell_type": "markdown",
      "source": [
        "| | |\n",
        "|-|-|\n",
        "|Author(s) | [Lavi Nigam](https://github.com/lavinigam-gcp) |"
      ],
      "metadata": {
        "id": "coW3oVMyS5DQ"
      }
    },
    {
      "cell_type": "markdown",
      "source": [
        "\n",
        "**bit.ly / io24-gemini-api**"
      ],
      "metadata": {
        "id": "2CCdHv8jWIUN"
      }
    },
    {
      "cell_type": "markdown",
      "source": [
        "# Step 1 - Google Cloud Vertex AI Gemini API"
      ],
      "metadata": {
        "id": "6RMTXdSRChy4"
      }
    },
    {
      "cell_type": "markdown",
      "source": [
        "[What Changed: ]\n",
        "- SDK installation\n",
        "\n",
        "Before:\n",
        "\n",
        "- ! pip install --upgrade google-generativeai\n",
        "\n",
        "After:\n",
        "\n",
        "- ! pip install --upgrade google-cloud-aiplatform"
      ],
      "metadata": {
        "id": "y7nHwXiDU-9b"
      }
    },
    {
      "cell_type": "code",
      "source": [
        "# Library installation # needs restarts\n",
        "\n",
        "# ! pip install --upgrade google-generativeai\n",
        "! pip install --upgrade google-cloud-aiplatform\n",
        "! pip install PyPDF2\n",
        "# ! apt-get install poppler-utils\n",
        "# ! pip install pdf2image"
      ],
      "metadata": {
        "colab": {
          "base_uri": "https://localhost:8080/",
          "height": 967
        },
        "id": "vOZVZgNJDCfL",
        "outputId": "6d6adf9a-1b3b-4916-c3da-ea36609f5957"
      },
      "execution_count": 1,
      "outputs": [
        {
          "output_type": "stream",
          "name": "stdout",
          "text": [
            "Requirement already satisfied: google-cloud-aiplatform in /usr/local/lib/python3.10/dist-packages (1.48.0)\n",
            "Collecting google-cloud-aiplatform\n",
            "  Downloading google_cloud_aiplatform-1.51.0-py2.py3-none-any.whl (5.0 MB)\n",
            "\u001b[2K     \u001b[90m━━━━━━━━━━━━━━━━━━━━━━━━━━━━━━━━━━━━━━━━\u001b[0m \u001b[32m5.0/5.0 MB\u001b[0m \u001b[31m11.2 MB/s\u001b[0m eta \u001b[36m0:00:00\u001b[0m\n",
            "\u001b[?25hRequirement already satisfied: google-api-core[grpc]!=2.0.*,!=2.1.*,!=2.2.*,!=2.3.*,!=2.4.*,!=2.5.*,!=2.6.*,!=2.7.*,<3.0.0dev,>=1.34.1 in /usr/local/lib/python3.10/dist-packages (from google-cloud-aiplatform) (2.11.1)\n",
            "Requirement already satisfied: google-auth<3.0.0dev,>=2.14.1 in /usr/local/lib/python3.10/dist-packages (from google-cloud-aiplatform) (2.27.0)\n",
            "Requirement already satisfied: proto-plus<2.0.0dev,>=1.22.0 in /usr/local/lib/python3.10/dist-packages (from google-cloud-aiplatform) (1.23.0)\n",
            "Requirement already satisfied: protobuf!=3.20.0,!=3.20.1,!=4.21.0,!=4.21.1,!=4.21.2,!=4.21.3,!=4.21.4,!=4.21.5,<5.0.0dev,>=3.19.5 in /usr/local/lib/python3.10/dist-packages (from google-cloud-aiplatform) (3.20.3)\n",
            "Requirement already satisfied: packaging>=14.3 in /usr/local/lib/python3.10/dist-packages (from google-cloud-aiplatform) (24.0)\n",
            "Requirement already satisfied: google-cloud-storage<3.0.0dev,>=1.32.0 in /usr/local/lib/python3.10/dist-packages (from google-cloud-aiplatform) (2.8.0)\n",
            "Requirement already satisfied: google-cloud-bigquery!=3.20.0,<4.0.0dev,>=1.15.0 in /usr/local/lib/python3.10/dist-packages (from google-cloud-aiplatform) (3.21.0)\n",
            "Requirement already satisfied: google-cloud-resource-manager<3.0.0dev,>=1.3.3 in /usr/local/lib/python3.10/dist-packages (from google-cloud-aiplatform) (1.12.3)\n",
            "Requirement already satisfied: shapely<3.0.0dev in /usr/local/lib/python3.10/dist-packages (from google-cloud-aiplatform) (2.0.4)\n",
            "Requirement already satisfied: pydantic<3 in /usr/local/lib/python3.10/dist-packages (from google-cloud-aiplatform) (2.7.1)\n",
            "Requirement already satisfied: docstring-parser<1 in /usr/local/lib/python3.10/dist-packages (from google-cloud-aiplatform) (0.16)\n",
            "Requirement already satisfied: googleapis-common-protos<2.0.dev0,>=1.56.2 in /usr/local/lib/python3.10/dist-packages (from google-api-core[grpc]!=2.0.*,!=2.1.*,!=2.2.*,!=2.3.*,!=2.4.*,!=2.5.*,!=2.6.*,!=2.7.*,<3.0.0dev,>=1.34.1->google-cloud-aiplatform) (1.63.0)\n",
            "Requirement already satisfied: requests<3.0.0.dev0,>=2.18.0 in /usr/local/lib/python3.10/dist-packages (from google-api-core[grpc]!=2.0.*,!=2.1.*,!=2.2.*,!=2.3.*,!=2.4.*,!=2.5.*,!=2.6.*,!=2.7.*,<3.0.0dev,>=1.34.1->google-cloud-aiplatform) (2.31.0)\n",
            "Requirement already satisfied: grpcio<2.0dev,>=1.33.2 in /usr/local/lib/python3.10/dist-packages (from google-api-core[grpc]!=2.0.*,!=2.1.*,!=2.2.*,!=2.3.*,!=2.4.*,!=2.5.*,!=2.6.*,!=2.7.*,<3.0.0dev,>=1.34.1->google-cloud-aiplatform) (1.63.0)\n",
            "Requirement already satisfied: grpcio-status<2.0.dev0,>=1.33.2 in /usr/local/lib/python3.10/dist-packages (from google-api-core[grpc]!=2.0.*,!=2.1.*,!=2.2.*,!=2.3.*,!=2.4.*,!=2.5.*,!=2.6.*,!=2.7.*,<3.0.0dev,>=1.34.1->google-cloud-aiplatform) (1.48.2)\n",
            "Requirement already satisfied: cachetools<6.0,>=2.0.0 in /usr/local/lib/python3.10/dist-packages (from google-auth<3.0.0dev,>=2.14.1->google-cloud-aiplatform) (5.3.3)\n",
            "Requirement already satisfied: pyasn1-modules>=0.2.1 in /usr/local/lib/python3.10/dist-packages (from google-auth<3.0.0dev,>=2.14.1->google-cloud-aiplatform) (0.4.0)\n",
            "Requirement already satisfied: rsa<5,>=3.1.4 in /usr/local/lib/python3.10/dist-packages (from google-auth<3.0.0dev,>=2.14.1->google-cloud-aiplatform) (4.9)\n",
            "Requirement already satisfied: google-cloud-core<3.0.0dev,>=1.6.0 in /usr/local/lib/python3.10/dist-packages (from google-cloud-bigquery!=3.20.0,<4.0.0dev,>=1.15.0->google-cloud-aiplatform) (2.3.3)\n",
            "Requirement already satisfied: google-resumable-media<3.0dev,>=0.6.0 in /usr/local/lib/python3.10/dist-packages (from google-cloud-bigquery!=3.20.0,<4.0.0dev,>=1.15.0->google-cloud-aiplatform) (2.7.0)\n",
            "Requirement already satisfied: python-dateutil<3.0dev,>=2.7.2 in /usr/local/lib/python3.10/dist-packages (from google-cloud-bigquery!=3.20.0,<4.0.0dev,>=1.15.0->google-cloud-aiplatform) (2.8.2)\n",
            "Requirement already satisfied: grpc-google-iam-v1<1.0.0dev,>=0.12.4 in /usr/local/lib/python3.10/dist-packages (from google-cloud-resource-manager<3.0.0dev,>=1.3.3->google-cloud-aiplatform) (0.13.0)\n",
            "Requirement already satisfied: annotated-types>=0.4.0 in /usr/local/lib/python3.10/dist-packages (from pydantic<3->google-cloud-aiplatform) (0.6.0)\n",
            "Requirement already satisfied: pydantic-core==2.18.2 in /usr/local/lib/python3.10/dist-packages (from pydantic<3->google-cloud-aiplatform) (2.18.2)\n",
            "Requirement already satisfied: typing-extensions>=4.6.1 in /usr/local/lib/python3.10/dist-packages (from pydantic<3->google-cloud-aiplatform) (4.11.0)\n",
            "Requirement already satisfied: numpy<3,>=1.14 in /usr/local/lib/python3.10/dist-packages (from shapely<3.0.0dev->google-cloud-aiplatform) (1.25.2)\n",
            "Requirement already satisfied: google-crc32c<2.0dev,>=1.0 in /usr/local/lib/python3.10/dist-packages (from google-resumable-media<3.0dev,>=0.6.0->google-cloud-bigquery!=3.20.0,<4.0.0dev,>=1.15.0->google-cloud-aiplatform) (1.5.0)\n",
            "Requirement already satisfied: pyasn1<0.7.0,>=0.4.6 in /usr/local/lib/python3.10/dist-packages (from pyasn1-modules>=0.2.1->google-auth<3.0.0dev,>=2.14.1->google-cloud-aiplatform) (0.6.0)\n",
            "Requirement already satisfied: six>=1.5 in /usr/local/lib/python3.10/dist-packages (from python-dateutil<3.0dev,>=2.7.2->google-cloud-bigquery!=3.20.0,<4.0.0dev,>=1.15.0->google-cloud-aiplatform) (1.16.0)\n",
            "Requirement already satisfied: charset-normalizer<4,>=2 in /usr/local/lib/python3.10/dist-packages (from requests<3.0.0.dev0,>=2.18.0->google-api-core[grpc]!=2.0.*,!=2.1.*,!=2.2.*,!=2.3.*,!=2.4.*,!=2.5.*,!=2.6.*,!=2.7.*,<3.0.0dev,>=1.34.1->google-cloud-aiplatform) (3.3.2)\n",
            "Requirement already satisfied: idna<4,>=2.5 in /usr/local/lib/python3.10/dist-packages (from requests<3.0.0.dev0,>=2.18.0->google-api-core[grpc]!=2.0.*,!=2.1.*,!=2.2.*,!=2.3.*,!=2.4.*,!=2.5.*,!=2.6.*,!=2.7.*,<3.0.0dev,>=1.34.1->google-cloud-aiplatform) (3.7)\n",
            "Requirement already satisfied: urllib3<3,>=1.21.1 in /usr/local/lib/python3.10/dist-packages (from requests<3.0.0.dev0,>=2.18.0->google-api-core[grpc]!=2.0.*,!=2.1.*,!=2.2.*,!=2.3.*,!=2.4.*,!=2.5.*,!=2.6.*,!=2.7.*,<3.0.0dev,>=1.34.1->google-cloud-aiplatform) (2.0.7)\n",
            "Requirement already satisfied: certifi>=2017.4.17 in /usr/local/lib/python3.10/dist-packages (from requests<3.0.0.dev0,>=2.18.0->google-api-core[grpc]!=2.0.*,!=2.1.*,!=2.2.*,!=2.3.*,!=2.4.*,!=2.5.*,!=2.6.*,!=2.7.*,<3.0.0dev,>=1.34.1->google-cloud-aiplatform) (2024.2.2)\n",
            "Installing collected packages: google-cloud-aiplatform\n",
            "  Attempting uninstall: google-cloud-aiplatform\n",
            "    Found existing installation: google-cloud-aiplatform 1.48.0\n",
            "    Uninstalling google-cloud-aiplatform-1.48.0:\n",
            "      Successfully uninstalled google-cloud-aiplatform-1.48.0\n",
            "Successfully installed google-cloud-aiplatform-1.51.0\n"
          ]
        },
        {
          "output_type": "display_data",
          "data": {
            "application/vnd.colab-display-data+json": {
              "pip_warning": {
                "packages": [
                  "google"
                ]
              },
              "id": "aad2b4ffa108475cb37e51ad8e0d87be"
            }
          },
          "metadata": {}
        },
        {
          "output_type": "stream",
          "name": "stdout",
          "text": [
            "Collecting PyPDF2\n",
            "  Downloading pypdf2-3.0.1-py3-none-any.whl (232 kB)\n",
            "\u001b[?25l     \u001b[90m━━━━━━━━━━━━━━━━━━━━━━━━━━━━━━━━━━━━━━━━\u001b[0m \u001b[32m0.0/232.6 kB\u001b[0m \u001b[31m?\u001b[0m eta \u001b[36m-:--:--\u001b[0m\r\u001b[2K     \u001b[91m━━━━━━━━━━━━━━━━━━━━━━━━━━━━━\u001b[0m\u001b[91m╸\u001b[0m\u001b[90m━━━━━━━━━━\u001b[0m \u001b[32m174.1/232.6 kB\u001b[0m \u001b[31m5.1 MB/s\u001b[0m eta \u001b[36m0:00:01\u001b[0m\r\u001b[2K     \u001b[90m━━━━━━━━━━━━━━━━━━━━━━━━━━━━━━━━━━━━━━━━\u001b[0m \u001b[32m232.6/232.6 kB\u001b[0m \u001b[31m5.0 MB/s\u001b[0m eta \u001b[36m0:00:00\u001b[0m\n",
            "\u001b[?25hInstalling collected packages: PyPDF2\n",
            "Successfully installed PyPDF2-3.0.1\n"
          ]
        }
      ]
    },
    {
      "cell_type": "markdown",
      "source": [
        "[What Changed: ]\n",
        "- Authentication  \n",
        "\n",
        "Before:\n",
        "\n",
        "- genai.configure(api_key=\"API Key\")\n",
        "\n",
        "After:\n",
        "\n",
        " - Authenticate Colab user to Google Cloud\n",
        " - Vertex AI init with Project ID and Region\n",
        "\n",
        "  [Not required in Colab Enterprise]"
      ],
      "metadata": {
        "id": "x1oda7ozVODI"
      }
    },
    {
      "cell_type": "code",
      "execution_count": 1,
      "metadata": {
        "id": "JNDLW6CNA7dY"
      },
      "outputs": [],
      "source": [
        "# Authentication\n",
        "\n",
        "# genai.configure(api_key=\"\")\n",
        "\n",
        "import sys\n",
        "\n",
        "# Additional authentication is required for Google Colab\n",
        "if \"google.colab\" in sys.modules:\n",
        "    # Authenticate user to Google Cloud\n",
        "    from google.colab import auth\n",
        "\n",
        "    auth.authenticate_user()\n",
        "\n",
        "if \"google.colab\" in sys.modules:\n",
        "    # Define project information\n",
        "    PROJECT_ID = \"\"  # @param {type:\"string\"}\n",
        "    LOCATION = \"us-central1\"  # @param {type:\"string\"}\n",
        "\n",
        "    # Initialize Vertex AI\n",
        "    import vertexai\n",
        "\n",
        "    vertexai.init(project=PROJECT_ID, location=LOCATION)"
      ]
    },
    {
      "cell_type": "code",
      "source": [
        "# Downloading data from Google Drive\n",
        "!gdown --folder https://drive.google.com/drive/folders/1RfMScB0Y1LUQdW5tvjyYA4_D21H5HMaT?usp=sharing -O /content/data/"
      ],
      "metadata": {
        "colab": {
          "base_uri": "https://localhost:8080/"
        },
        "id": "bhSUD7Humsoj",
        "outputId": "97b15a9e-a071-4d7b-d3c0-91b6f25fd2ad"
      },
      "execution_count": 2,
      "outputs": [
        {
          "output_type": "stream",
          "name": "stdout",
          "text": [
            "Retrieving folder contents\n",
            "Processing file 1iT0qe9EU8RQyiAlrMlJ-SH-E_WtMGFNm goog-10-q-q2-2023-4-1-15.pdf\n",
            "Processing file 1qs4blSxatemVxpZ3dt1yzESDa4aNWptD Google's newest and most capable AI  Gemini.mp3\n",
            "Processing file 1oX_TaQZjOiuDUwsTrqz7zq5HMEe7cEMR Google's newest and most capable AI _ Gemini.mp4\n",
            "Processing file 1totf67pJ3XYhILCY0TrbS1tHm7PwCZES Responsible AI _ Google I_O 2023.mp4\n",
            "Processing file 1kaq58S4oRmuZgDqK109uc6mwedVmPAby stage_1_prototype_Alphabet 2023 Q4 Earnings Call.mp3\n",
            "Processing file 1GXGfwoe8-vsoOM1E8SBOCybc7R5XRd2P stage_1_prototype_Google Cloud TPU blog.pdf\n",
            "Processing file 19aqpEZqTVTERbySYVrtDgSjuUBUabeSE What's next for AI and Google Search _ Google I_O 2023.mp4\n",
            "Retrieving folder contents completed\n",
            "Building directory structure\n",
            "Building directory structure completed\n",
            "Downloading...\n",
            "From: https://drive.google.com/uc?id=1iT0qe9EU8RQyiAlrMlJ-SH-E_WtMGFNm\n",
            "To: /content/data/Idea/goog-10-q-q2-2023-4-1-15.pdf\n",
            "100% 217k/217k [00:00<00:00, 96.1MB/s]\n",
            "Downloading...\n",
            "From: https://drive.google.com/uc?id=1qs4blSxatemVxpZ3dt1yzESDa4aNWptD\n",
            "To: /content/data/Idea/Google's newest and most capable AI  Gemini.mp3\n",
            "100% 6.60M/6.60M [00:00<00:00, 33.7MB/s]\n",
            "Downloading...\n",
            "From: https://drive.google.com/uc?id=1oX_TaQZjOiuDUwsTrqz7zq5HMEe7cEMR\n",
            "To: /content/data/Idea/Google's newest and most capable AI _ Gemini.mp4\n",
            "100% 14.7M/14.7M [00:00<00:00, 88.7MB/s]\n",
            "Downloading...\n",
            "From: https://drive.google.com/uc?id=1totf67pJ3XYhILCY0TrbS1tHm7PwCZES\n",
            "To: /content/data/Idea/Responsible AI _ Google I_O 2023.mp4\n",
            "100% 64.5M/64.5M [00:00<00:00, 198MB/s]\n",
            "Downloading...\n",
            "From (original): https://drive.google.com/uc?id=1kaq58S4oRmuZgDqK109uc6mwedVmPAby\n",
            "From (redirected): https://drive.google.com/uc?id=1kaq58S4oRmuZgDqK109uc6mwedVmPAby&confirm=t&uuid=222b236a-3750-47f2-9937-e2dd5221c1d5\n",
            "To: /content/data/Idea/stage_1_prototype_Alphabet 2023 Q4 Earnings Call.mp3\n",
            "100% 109M/109M [00:01<00:00, 86.4MB/s] \n",
            "Downloading...\n",
            "From: https://drive.google.com/uc?id=1GXGfwoe8-vsoOM1E8SBOCybc7R5XRd2P\n",
            "To: /content/data/Idea/stage_1_prototype_Google Cloud TPU blog.pdf\n",
            "100% 1.01M/1.01M [00:00<00:00, 94.5MB/s]\n",
            "Downloading...\n",
            "From: https://drive.google.com/uc?id=19aqpEZqTVTERbySYVrtDgSjuUBUabeSE\n",
            "To: /content/data/Idea/What's next for AI and Google Search _ Google I_O 2023.mp4\n",
            "100% 5.35M/5.35M [00:00<00:00, 58.4MB/s]\n",
            "Download completed\n"
          ]
        }
      ]
    },
    {
      "cell_type": "markdown",
      "source": [
        "[What Changed: ]\n",
        "\n",
        "-\n",
        "\n",
        "\n",
        "Before:\n",
        "\n",
        "-\n",
        "\n",
        "After:\n",
        "\n",
        "-\n"
      ],
      "metadata": {
        "id": "308fQIDEVkqD"
      }
    },
    {
      "cell_type": "markdown",
      "source": [
        "[What Changed: ]\n",
        "\n",
        "- Import statement\n",
        "\n",
        "\n",
        "Before:\n",
        "\n",
        "- import google.generativeai as genai\n",
        "\n",
        "After:\n",
        "\n",
        "- import vertexai.generative_models as genai\n"
      ],
      "metadata": {
        "id": "pvv51eaKVn5q"
      }
    },
    {
      "cell_type": "code",
      "source": [
        "# Library\n",
        "from IPython.display import display, Markdown, Latex\n",
        "# import google.generativeai as genai\n",
        "import vertexai.generative_models as genai\n",
        "import PyPDF2\n",
        "from rich import print as rich_print\n",
        "from rich.markdown import Markdown as rich_Markdown"
      ],
      "metadata": {
        "id": "HrPf6V_1Sown"
      },
      "execution_count": 5,
      "outputs": []
    },
    {
      "cell_type": "markdown",
      "source": [
        "[No Change ]\n",
        "\n",
        "- Model Config and Safety Setting\n",
        "\n",
        "\n",
        "Before:\n",
        "\n",
        "\n",
        "\n",
        "After:\n"
      ],
      "metadata": {
        "id": "N3nFQg-DWACB"
      }
    },
    {
      "cell_type": "code",
      "source": [
        "# Set up the model\n",
        "from vertexai.generative_models import (\n",
        "    GenerationConfig,\n",
        "    HarmCategory,\n",
        "    HarmBlockThreshold,\n",
        ")\n",
        "\n",
        "\n",
        "generation_config = GenerationConfig(\n",
        "    temperature=1,\n",
        "    max_output_tokens=8192,\n",
        ")\n",
        "\n",
        "\n",
        "safety_settings = {\n",
        "    HarmCategory.HARM_CATEGORY_HARASSMENT: HarmBlockThreshold.BLOCK_MEDIUM_AND_ABOVE,\n",
        "    HarmCategory.HARM_CATEGORY_HATE_SPEECH: HarmBlockThreshold.BLOCK_MEDIUM_AND_ABOVE,\n",
        "    HarmCategory.HARM_CATEGORY_SEXUALLY_EXPLICIT: HarmBlockThreshold.BLOCK_MEDIUM_AND_ABOVE,\n",
        "    HarmCategory.HARM_CATEGORY_DANGEROUS_CONTENT: HarmBlockThreshold.BLOCK_MEDIUM_AND_ABOVE,\n",
        "}\n",
        "\n",
        "model = genai.GenerativeModel(model_name=\"gemini-1.5-pro-preview-0409\",\n",
        "                              generation_config=generation_config,\n",
        "                              safety_settings=safety_settings)\n",
        "\n",
        "model_flash = genai.GenerativeModel(model_name=\"gemini-1.5-flash-preview-0514\",\n",
        "                              generation_config=generation_config,\n",
        "                              safety_settings=safety_settings)"
      ],
      "metadata": {
        "id": "KhTx4pNbLre7"
      },
      "execution_count": 12,
      "outputs": []
    },
    {
      "cell_type": "markdown",
      "source": [
        "### PDF\n",
        "\n",
        "[No Change]"
      ],
      "metadata": {
        "id": "YD5CkSMcbfAB"
      }
    },
    {
      "cell_type": "code",
      "source": [
        "#@title Helper Functions\n",
        "## Helper Function\n",
        "\n",
        "def pdf_to_dict_str(file_path):\n",
        "    \"\"\"Reads a PDF file and returns a dictionary with page numbers as keys and page text as values.\"\"\"\n",
        "\n",
        "    with open(file_path, 'rb') as pdf_file:\n",
        "        pdf_reader = PyPDF2.PdfReader(pdf_file)\n",
        "        num_pages = len(pdf_reader.pages)\n",
        "\n",
        "        page_dict = {}\n",
        "        for page_num in range(num_pages):\n",
        "            page = pdf_reader.pages[page_num]\n",
        "            page_text = page.extract_text()\n",
        "            page_dict[page_num + 1] = page_text  # Page numbers start from 1\n",
        "\n",
        "        return str(page_dict)"
      ],
      "metadata": {
        "cellView": "form",
        "id": "pwql88iWbcF4"
      },
      "execution_count": 7,
      "outputs": []
    },
    {
      "cell_type": "code",
      "source": [
        "%%time\n",
        "\n",
        "prompt_parts = [\n",
        "  pdf_to_dict_str(\"/content/data/Idea/stage_1_prototype_Google Cloud TPU blog.pdf\"),\n",
        "  \"What are key achievement for Google Cloud from the following blog. Mention in bullet.\",\n",
        "]\n",
        "response = model.generate_content(prompt_parts)\n",
        "rich_Markdown(response.text)"
      ],
      "metadata": {
        "colab": {
          "base_uri": "https://localhost:8080/",
          "height": 260
        },
        "id": "ZzDM8-fhDa5x",
        "outputId": "908165e8-6a27-4757-d266-d80ed2d6addc"
      },
      "execution_count": 19,
      "outputs": [
        {
          "output_type": "stream",
          "name": "stdout",
          "text": [
            "CPU times: user 331 ms, sys: 4.12 ms, total: 335 ms\n",
            "Wall time: 6.17 s\n"
          ]
        },
        {
          "output_type": "execute_result",
          "data": {
            "text/plain": [
              "Here are the key achievements of Google Cloud based on the information you provided:                               \n",
              "\n",
              "\u001b[1;33m • \u001b[0mGoogle Cloud TPU ran the world’s largest distributed training job for LLMs across 50,000+ TPU v5e chips.        \n",
              "\u001b[1;33m • \u001b[0mThe training was performed using the Cloud TPU Multislice Training on a compute cluster of 50,944 Cloud TPU v5e \n",
              "\u001b[1;33m   \u001b[0mchips.                                                                                                          \n",
              "\u001b[1;33m • \u001b[0mThe cluster used has more AI accelerators than the TOP1 Supercomputer Frontier at Oak Ridge National Laboratory,\n",
              "\u001b[1;33m   \u001b[0mwhich featured 37,888 AMD MI250X GPUs.                                                                          \n",
              "\u001b[1;33m • \u001b[0mThe distributed training job was set up on the JAX framework, utilizing XPK, GKE, MaxText, AQT, and other       \n",
              "\u001b[1;33m   \u001b[0mcomponents of the JAX training stack.                                                                           \n",
              "\u001b[1;33m • \u001b[0mAchieved as high as 66.86% MFU with BF16 training on a single TPU v5e pod and strong scaling outcomes when      \n",
              "\u001b[1;33m   \u001b[0mexpanding to 160 pods.                                                                                          \n",
              "\u001b[1;33m • \u001b[0mAchieved an impressive observed 5.32 exa-OP/s with INT8 quantized training.                                     \n",
              "\u001b[1;33m • \u001b[0mOpen-sourced all the code used in the project.                                                                  \n"
            ],
            "text/html": [
              "<pre style=\"white-space:pre;overflow-x:auto;line-height:normal;font-family:Menlo,'DejaVu Sans Mono',consolas,'Courier New',monospace\">Here are the key achievements of Google Cloud based on the information you provided:                               \n",
              "\n",
              "<span style=\"color: #808000; text-decoration-color: #808000; font-weight: bold\"> • </span>Google Cloud TPU ran the world’s largest distributed training job for LLMs across 50,000+ TPU v5e chips.        \n",
              "<span style=\"color: #808000; text-decoration-color: #808000; font-weight: bold\"> • </span>The training was performed using the Cloud TPU Multislice Training on a compute cluster of 50,944 Cloud TPU v5e \n",
              "<span style=\"color: #808000; text-decoration-color: #808000; font-weight: bold\">   </span>chips.                                                                                                          \n",
              "<span style=\"color: #808000; text-decoration-color: #808000; font-weight: bold\"> • </span>The cluster used has more AI accelerators than the TOP1 Supercomputer Frontier at Oak Ridge National Laboratory,\n",
              "<span style=\"color: #808000; text-decoration-color: #808000; font-weight: bold\">   </span>which featured 37,888 AMD MI250X GPUs.                                                                          \n",
              "<span style=\"color: #808000; text-decoration-color: #808000; font-weight: bold\"> • </span>The distributed training job was set up on the JAX framework, utilizing XPK, GKE, MaxText, AQT, and other       \n",
              "<span style=\"color: #808000; text-decoration-color: #808000; font-weight: bold\">   </span>components of the JAX training stack.                                                                           \n",
              "<span style=\"color: #808000; text-decoration-color: #808000; font-weight: bold\"> • </span>Achieved as high as 66.86% MFU with BF16 training on a single TPU v5e pod and strong scaling outcomes when      \n",
              "<span style=\"color: #808000; text-decoration-color: #808000; font-weight: bold\">   </span>expanding to 160 pods.                                                                                          \n",
              "<span style=\"color: #808000; text-decoration-color: #808000; font-weight: bold\"> • </span>Achieved an impressive observed 5.32 exa-OP/s with INT8 quantized training.                                     \n",
              "<span style=\"color: #808000; text-decoration-color: #808000; font-weight: bold\"> • </span>Open-sourced all the code used in the project.                                                                  \n",
              "</pre>\n"
            ]
          },
          "metadata": {},
          "execution_count": 19
        }
      ]
    },
    {
      "cell_type": "code",
      "source": [
        "%%time\n",
        "\n",
        "response = model_flash.generate_content(prompt_parts)\n",
        "rich_Markdown(response.text)"
      ],
      "metadata": {
        "colab": {
          "base_uri": "https://localhost:8080/",
          "height": 516
        },
        "id": "WaDypW2RUWpS",
        "outputId": "00503554-457e-4e77-8285-1973d407fef4"
      },
      "execution_count": 18,
      "outputs": [
        {
          "output_type": "stream",
          "name": "stdout",
          "text": [
            "CPU times: user 25.5 ms, sys: 2.32 ms, total: 27.8 ms\n",
            "Wall time: 3.31 s\n"
          ]
        },
        {
          "output_type": "execute_result",
          "data": {
            "text/plain": [
              "The provided document doesn't provide enough information to answer those questions comprehensively. Here's why:    \n",
              "\n",
              "\u001b[1;33m • \u001b[0m\u001b[1mFocus on Overall Financial Performance:\u001b[0m The document primarily focuses on Alphabet's overall financial          \n",
              "\u001b[1;33m   \u001b[0mperformance, including consolidated statements and notes, as well as disclosures regarding revenue sources and  \n",
              "\u001b[1;33m   \u001b[0maccounting policies.                                                                                            \n",
              "\u001b[1;33m • \u001b[0m\u001b[1mLimited Google Cloud Specific Data:\u001b[0m  While it does break down revenue by category, the information on Google    \n",
              "\u001b[1;33m   \u001b[0mCloud is limited to revenue figures for the last two quarters. It doesn't offer historical performance data,    \n",
              "\u001b[1;33m   \u001b[0mdetailed insights into the factors affecting performance, or direct comparisons to competitors.                 \n",
              "\u001b[1;33m • \u001b[0m\u001b[1mLack of Management Commentary:\u001b[0m The document lacks any management commentary or discussion of Google Cloud's     \n",
              "\u001b[1;33m   \u001b[0mspecific strategies, challenges, or goals.                                                                      \n",
              "\n",
              "\u001b[1mTo answer your questions more thoroughly, you'd need to consult additional sources:\u001b[0m                                \n",
              "\n",
              "\u001b[1;33m • \u001b[0m\u001b[1mAlphabet's Annual Reports (Form 10-K):\u001b[0m These reports provide a more detailed analysis of Google Cloud, including\n",
              "\u001b[1;33m   \u001b[0mhistorical performance data, explanations of key performance drivers, and management's outlook on the business. \n",
              "\u001b[1;33m • \u001b[0m\u001b[1mEarnings Call Transcripts:\u001b[0m  These transcripts contain detailed discussions from Alphabet's leadership team about\n",
              "\u001b[1;33m   \u001b[0mthe company's performance, including Google Cloud. They often provide valuable insights into the business's     \n",
              "\u001b[1;33m   \u001b[0mdirection and challenges.                                                                                       \n",
              "\u001b[1;33m • \u001b[0m\u001b[1mIndustry Analyst Reports:\u001b[0m  Industry analysts closely follow the cloud computing market and publish reports      \n",
              "\u001b[1;33m   \u001b[0manalyzing the performance of Google Cloud and its competitors.                                                  \n",
              "\n",
              "\u001b[1mIn general:\u001b[0m                                                                                                        \n",
              "\n",
              "\u001b[1;33m • \u001b[0mGoogle Cloud has been growing significantly in recent years. It is a key focus area for Alphabet as they seek to\n",
              "\u001b[1;33m   \u001b[0mdiversify revenue away from advertising.                                                                        \n",
              "\u001b[1;33m • \u001b[0mGoogle Cloud faces strong competition from companies like Amazon Web Services (AWS) and Microsoft Azure.        \n",
              "\n",
              "To get specific details on Google Cloud's performance, strategies, and competitive position, it's essential to     \n",
              "consult those additional sources.                                                                                  \n"
            ],
            "text/html": [
              "<pre style=\"white-space:pre;overflow-x:auto;line-height:normal;font-family:Menlo,'DejaVu Sans Mono',consolas,'Courier New',monospace\">The provided document doesn't provide enough information to answer those questions comprehensively. Here's why:    \n",
              "\n",
              "<span style=\"color: #808000; text-decoration-color: #808000; font-weight: bold\"> • </span><span style=\"font-weight: bold\">Focus on Overall Financial Performance:</span> The document primarily focuses on Alphabet's overall financial          \n",
              "<span style=\"color: #808000; text-decoration-color: #808000; font-weight: bold\">   </span>performance, including consolidated statements and notes, as well as disclosures regarding revenue sources and  \n",
              "<span style=\"color: #808000; text-decoration-color: #808000; font-weight: bold\">   </span>accounting policies.                                                                                            \n",
              "<span style=\"color: #808000; text-decoration-color: #808000; font-weight: bold\"> • </span><span style=\"font-weight: bold\">Limited Google Cloud Specific Data:</span>  While it does break down revenue by category, the information on Google    \n",
              "<span style=\"color: #808000; text-decoration-color: #808000; font-weight: bold\">   </span>Cloud is limited to revenue figures for the last two quarters. It doesn't offer historical performance data,    \n",
              "<span style=\"color: #808000; text-decoration-color: #808000; font-weight: bold\">   </span>detailed insights into the factors affecting performance, or direct comparisons to competitors.                 \n",
              "<span style=\"color: #808000; text-decoration-color: #808000; font-weight: bold\"> • </span><span style=\"font-weight: bold\">Lack of Management Commentary:</span> The document lacks any management commentary or discussion of Google Cloud's     \n",
              "<span style=\"color: #808000; text-decoration-color: #808000; font-weight: bold\">   </span>specific strategies, challenges, or goals.                                                                      \n",
              "\n",
              "<span style=\"font-weight: bold\">To answer your questions more thoroughly, you'd need to consult additional sources:</span>                                \n",
              "\n",
              "<span style=\"color: #808000; text-decoration-color: #808000; font-weight: bold\"> • </span><span style=\"font-weight: bold\">Alphabet's Annual Reports (Form 10-K):</span> These reports provide a more detailed analysis of Google Cloud, including\n",
              "<span style=\"color: #808000; text-decoration-color: #808000; font-weight: bold\">   </span>historical performance data, explanations of key performance drivers, and management's outlook on the business. \n",
              "<span style=\"color: #808000; text-decoration-color: #808000; font-weight: bold\"> • </span><span style=\"font-weight: bold\">Earnings Call Transcripts:</span>  These transcripts contain detailed discussions from Alphabet's leadership team about\n",
              "<span style=\"color: #808000; text-decoration-color: #808000; font-weight: bold\">   </span>the company's performance, including Google Cloud. They often provide valuable insights into the business's     \n",
              "<span style=\"color: #808000; text-decoration-color: #808000; font-weight: bold\">   </span>direction and challenges.                                                                                       \n",
              "<span style=\"color: #808000; text-decoration-color: #808000; font-weight: bold\"> • </span><span style=\"font-weight: bold\">Industry Analyst Reports:</span>  Industry analysts closely follow the cloud computing market and publish reports      \n",
              "<span style=\"color: #808000; text-decoration-color: #808000; font-weight: bold\">   </span>analyzing the performance of Google Cloud and its competitors.                                                  \n",
              "\n",
              "<span style=\"font-weight: bold\">In general:</span>                                                                                                        \n",
              "\n",
              "<span style=\"color: #808000; text-decoration-color: #808000; font-weight: bold\"> • </span>Google Cloud has been growing significantly in recent years. It is a key focus area for Alphabet as they seek to\n",
              "<span style=\"color: #808000; text-decoration-color: #808000; font-weight: bold\">   </span>diversify revenue away from advertising.                                                                        \n",
              "<span style=\"color: #808000; text-decoration-color: #808000; font-weight: bold\"> • </span>Google Cloud faces strong competition from companies like Amazon Web Services (AWS) and Microsoft Azure.        \n",
              "\n",
              "To get specific details on Google Cloud's performance, strategies, and competitive position, it's essential to     \n",
              "consult those additional sources.                                                                                  \n",
              "</pre>\n"
            ]
          },
          "metadata": {},
          "execution_count": 18
        }
      ]
    },
    {
      "cell_type": "code",
      "source": [
        "%%time\n",
        "\n",
        "prompt_parts = [\n",
        "  pdf_to_dict_str('/content/data/Idea/goog-10-q-q2-2023-4-1-15.pdf'),\n",
        "  \"\"\"Answer based on the document provided:\n",
        "- How has Google Cloud performed in last quarters?\n",
        "- What factors have influenced its numebrs and is it positive or negative?\n",
        "- What is the leadership view on Google Cloud business?\n",
        "- What are some changes and decisions they have made along the way to achieve their goals?\n",
        "- How are they doing with respect to other cloud companies?\n",
        "  \"\"\",\n",
        "]\n",
        "response = model.generate_content(prompt_parts)\n",
        "rich_Markdown(response.text)"
      ],
      "metadata": {
        "colab": {
          "base_uri": "https://localhost:8080/",
          "height": 372
        },
        "id": "6wFDusjknFLr",
        "outputId": "48191294-6308-4f46-8d71-edc8fd2af9ac"
      },
      "execution_count": 34,
      "outputs": [
        {
          "output_type": "stream",
          "name": "stdout",
          "text": [
            "CPU times: user 741 ms, sys: 0 ns, total: 741 ms\n",
            "Wall time: 7.94 s\n"
          ]
        },
        {
          "output_type": "execute_result",
          "data": {
            "text/plain": [
              "The provided text is the Alphabet Inc. 10-Q report for the quarterly period ended June 30, 2023. This document does\n",
              "not contain information about the market share of Google Cloud compared to its competitors, the leadership view on \n",
              "the business, or the changes and decisions made.                                                                   \n",
              "\n",
              "However, the document does state that:                                                                             \n",
              "\n",
              "\u001b[1;33m • \u001b[0mGoogle Cloud revenues were $6.276 billion for the three months ended June 30, 2022 and $8.031 billion for the   \n",
              "\u001b[1;33m   \u001b[0mthree months ended June 30, 2023.                                                                               \n",
              "\u001b[1;33m • \u001b[0mGoogle Cloud revenues were $12.097 billion for the six months ended June 30, 2022 and $15.485 billion for the   \n",
              "\u001b[1;33m   \u001b[0msix months ended June 30, 2023.                                                                                 \n",
              "\n",
              "This shows that Google Cloud has grown its revenue in the past year. The specific factors that influenced these    \n",
              "numbers are not provided in this document.                                                                         \n",
              "\n",
              "To find out more about the leadership view, strategic decisions, and market share, you would need to consult other \n",
              "sources like:                                                                                                      \n",
              "\n",
              "\u001b[1;33m • \u001b[0m\u001b[1mAlphabet Inc.'s  Annual Report (Form 10-K)\u001b[0m for a more comprehensive view of the business.                       \n",
              "\u001b[1;33m • \u001b[0m\u001b[1mEarnings call transcripts and presentations\u001b[0m: These often provide qualitative insights from leadership.          \n",
              "\u001b[1;33m • \u001b[0m\u001b[1mIndustry analyst reports\u001b[0m: These offer comparative analyses of Google Cloud's performance against competitors.   \n"
            ],
            "text/html": [
              "<pre style=\"white-space:pre;overflow-x:auto;line-height:normal;font-family:Menlo,'DejaVu Sans Mono',consolas,'Courier New',monospace\">The provided text is the Alphabet Inc. 10-Q report for the quarterly period ended June 30, 2023. This document does\n",
              "not contain information about the market share of Google Cloud compared to its competitors, the leadership view on \n",
              "the business, or the changes and decisions made.                                                                   \n",
              "\n",
              "However, the document does state that:                                                                             \n",
              "\n",
              "<span style=\"color: #808000; text-decoration-color: #808000; font-weight: bold\"> • </span>Google Cloud revenues were $6.276 billion for the three months ended June 30, 2022 and $8.031 billion for the   \n",
              "<span style=\"color: #808000; text-decoration-color: #808000; font-weight: bold\">   </span>three months ended June 30, 2023.                                                                               \n",
              "<span style=\"color: #808000; text-decoration-color: #808000; font-weight: bold\"> • </span>Google Cloud revenues were $12.097 billion for the six months ended June 30, 2022 and $15.485 billion for the   \n",
              "<span style=\"color: #808000; text-decoration-color: #808000; font-weight: bold\">   </span>six months ended June 30, 2023.                                                                                 \n",
              "\n",
              "This shows that Google Cloud has grown its revenue in the past year. The specific factors that influenced these    \n",
              "numbers are not provided in this document.                                                                         \n",
              "\n",
              "To find out more about the leadership view, strategic decisions, and market share, you would need to consult other \n",
              "sources like:                                                                                                      \n",
              "\n",
              "<span style=\"color: #808000; text-decoration-color: #808000; font-weight: bold\"> • </span><span style=\"font-weight: bold\">Alphabet Inc.'s  Annual Report (Form 10-K)</span> for a more comprehensive view of the business.                       \n",
              "<span style=\"color: #808000; text-decoration-color: #808000; font-weight: bold\"> • </span><span style=\"font-weight: bold\">Earnings call transcripts and presentations</span>: These often provide qualitative insights from leadership.          \n",
              "<span style=\"color: #808000; text-decoration-color: #808000; font-weight: bold\"> • </span><span style=\"font-weight: bold\">Industry analyst reports</span>: These offer comparative analyses of Google Cloud's performance against competitors.   \n",
              "</pre>\n"
            ]
          },
          "metadata": {},
          "execution_count": 34
        }
      ]
    },
    {
      "cell_type": "code",
      "source": [
        "%%time\n",
        "\n",
        "response = model_flash.generate_content(prompt_parts)\n",
        "rich_Markdown(response.text)"
      ],
      "metadata": {
        "colab": {
          "base_uri": "https://localhost:8080/",
          "height": 612
        },
        "id": "dCoYqo3ZUhke",
        "outputId": "3ce243b3-733e-4768-d1fc-4d856f3bc695"
      },
      "execution_count": 33,
      "outputs": [
        {
          "output_type": "stream",
          "name": "stdout",
          "text": [
            "CPU times: user 40.9 ms, sys: 4.59 ms, total: 45.5 ms\n",
            "Wall time: 5.06 s\n"
          ]
        },
        {
          "output_type": "execute_result",
          "data": {
            "text/plain": [
              "The provided document doesn't offer specific details on Google Cloud's performance compared to other cloud         \n",
              "companies or provide insights into leadership's views on the business.  However, it does give us some data points  \n",
              "to understand its financial performance:                                                                           \n",
              "\n",
              "\u001b[1;33m • \u001b[0m\u001b[1mRevenue growth:\u001b[0m Google Cloud revenue increased from $6,276 million in the three months ended June 30, 2022, to  \n",
              "\u001b[1;33m   \u001b[0m$8,031 million in the same period of 2023.  The trend continues for the six-month period with revenue going from\n",
              "\u001b[1;33m   \u001b[0m$12,097 million to $15,485 million.  This indicates strong revenue growth for the business.                     \n",
              "\u001b[1;33m • \u001b[0m\u001b[1mRevenue Backlog:\u001b[0m  As of June 30, 2023, Google Cloud had a revenue backlog of $60.6 billion, representing        \n",
              "\u001b[1;33m   \u001b[0mcommitments for future services. This suggests a significant pipeline of future revenue.                        \n",
              "\u001b[1;33m • \u001b[0m\u001b[1mDeferred revenue:\u001b[0m  The document mentions deferred revenues primarily relate to Google Cloud and Google other. As\n",
              "\u001b[1;33m   \u001b[0mof December 31, 2022, total deferred revenue was $4.5 billion, of which $2.1 billion was recognized as revenue  \n",
              "\u001b[1;33m   \u001b[0mduring the six months ended June 30, 2023. This indicates a substantial portion of Google Cloud revenue is      \n",
              "\u001b[1;33m   \u001b[0mrecognized over time as services are delivered.                                                                 \n",
              "\n",
              "\u001b[1mFactors influencing Google Cloud numbers:\u001b[0m                                                                          \n",
              "\n",
              "While the document doesn't directly state factors influencing Google Cloud's performance, it mentions several      \n",
              "trends that could be relevant:                                                                                     \n",
              "\n",
              "\u001b[1;33m • \u001b[0m\u001b[1mShift from offline to online:\u001b[0m The document states that the continuing shift from offline to online will likely  \n",
              "\u001b[1;33m   \u001b[0mbenefit the company's business. This suggests that Google Cloud could be benefiting from the growing adoption of\n",
              "\u001b[1;33m   \u001b[0mcloud services in various sectors.                                                                              \n",
              "\u001b[1;33m • \u001b[0m\u001b[1mInvestment in technical infrastructure:\u001b[0m Alphabet continues to invest in its technical infrastructure, which     \n",
              "\u001b[1;33m   \u001b[0mcould be driving the growth of Google Cloud services.                                                           \n",
              "\u001b[1;33m • \u001b[0m\u001b[1mAcquisition and strategic investments:\u001b[0m Alphabet's strategy of acquiring and investing in new businesses,        \n",
              "\u001b[1;33m   \u001b[0mproducts, services, and technologies could be contributing to Google Cloud's offerings and growth.              \n",
              "\n",
              "\u001b[1mTo get a more complete picture of Google Cloud's performance and the leadership's views, you would need to access:\u001b[0m \n",
              "\n",
              "\u001b[1;33m • \u001b[0m\u001b[1mAlphabet's 10-K report:\u001b[0m This annual report provides a more comprehensive analysis of Google Cloud's performance,\n",
              "\u001b[1;33m   \u001b[0mincluding comparisons to competitors, detailed risk factors, and the company's strategy for the business.       \n",
              "\u001b[1;33m • \u001b[0m\u001b[1mEarnings call transcripts:\u001b[0m During earnings calls, Alphabet executives discuss Google Cloud's performance in     \n",
              "\u001b[1;33m   \u001b[0mdetail, offering insights into their strategies, challenges, and future plans.                                  \n",
              "\u001b[1;33m • \u001b[0m\u001b[1mIndustry research reports:\u001b[0m  Research reports from firms specializing in the cloud computing industry provide    \n",
              "\u001b[1;33m   \u001b[0mindependent analysis and comparisons of Google Cloud to its competitors.                                        \n"
            ],
            "text/html": [
              "<pre style=\"white-space:pre;overflow-x:auto;line-height:normal;font-family:Menlo,'DejaVu Sans Mono',consolas,'Courier New',monospace\">The provided document doesn't offer specific details on Google Cloud's performance compared to other cloud         \n",
              "companies or provide insights into leadership's views on the business.  However, it does give us some data points  \n",
              "to understand its financial performance:                                                                           \n",
              "\n",
              "<span style=\"color: #808000; text-decoration-color: #808000; font-weight: bold\"> • </span><span style=\"font-weight: bold\">Revenue growth:</span> Google Cloud revenue increased from $6,276 million in the three months ended June 30, 2022, to  \n",
              "<span style=\"color: #808000; text-decoration-color: #808000; font-weight: bold\">   </span>$8,031 million in the same period of 2023.  The trend continues for the six-month period with revenue going from\n",
              "<span style=\"color: #808000; text-decoration-color: #808000; font-weight: bold\">   </span>$12,097 million to $15,485 million.  This indicates strong revenue growth for the business.                     \n",
              "<span style=\"color: #808000; text-decoration-color: #808000; font-weight: bold\"> • </span><span style=\"font-weight: bold\">Revenue Backlog:</span>  As of June 30, 2023, Google Cloud had a revenue backlog of $60.6 billion, representing        \n",
              "<span style=\"color: #808000; text-decoration-color: #808000; font-weight: bold\">   </span>commitments for future services. This suggests a significant pipeline of future revenue.                        \n",
              "<span style=\"color: #808000; text-decoration-color: #808000; font-weight: bold\"> • </span><span style=\"font-weight: bold\">Deferred revenue:</span>  The document mentions deferred revenues primarily relate to Google Cloud and Google other. As\n",
              "<span style=\"color: #808000; text-decoration-color: #808000; font-weight: bold\">   </span>of December 31, 2022, total deferred revenue was $4.5 billion, of which $2.1 billion was recognized as revenue  \n",
              "<span style=\"color: #808000; text-decoration-color: #808000; font-weight: bold\">   </span>during the six months ended June 30, 2023. This indicates a substantial portion of Google Cloud revenue is      \n",
              "<span style=\"color: #808000; text-decoration-color: #808000; font-weight: bold\">   </span>recognized over time as services are delivered.                                                                 \n",
              "\n",
              "<span style=\"font-weight: bold\">Factors influencing Google Cloud numbers:</span>                                                                          \n",
              "\n",
              "While the document doesn't directly state factors influencing Google Cloud's performance, it mentions several      \n",
              "trends that could be relevant:                                                                                     \n",
              "\n",
              "<span style=\"color: #808000; text-decoration-color: #808000; font-weight: bold\"> • </span><span style=\"font-weight: bold\">Shift from offline to online:</span> The document states that the continuing shift from offline to online will likely  \n",
              "<span style=\"color: #808000; text-decoration-color: #808000; font-weight: bold\">   </span>benefit the company's business. This suggests that Google Cloud could be benefiting from the growing adoption of\n",
              "<span style=\"color: #808000; text-decoration-color: #808000; font-weight: bold\">   </span>cloud services in various sectors.                                                                              \n",
              "<span style=\"color: #808000; text-decoration-color: #808000; font-weight: bold\"> • </span><span style=\"font-weight: bold\">Investment in technical infrastructure:</span> Alphabet continues to invest in its technical infrastructure, which     \n",
              "<span style=\"color: #808000; text-decoration-color: #808000; font-weight: bold\">   </span>could be driving the growth of Google Cloud services.                                                           \n",
              "<span style=\"color: #808000; text-decoration-color: #808000; font-weight: bold\"> • </span><span style=\"font-weight: bold\">Acquisition and strategic investments:</span> Alphabet's strategy of acquiring and investing in new businesses,        \n",
              "<span style=\"color: #808000; text-decoration-color: #808000; font-weight: bold\">   </span>products, services, and technologies could be contributing to Google Cloud's offerings and growth.              \n",
              "\n",
              "<span style=\"font-weight: bold\">To get a more complete picture of Google Cloud's performance and the leadership's views, you would need to access:</span> \n",
              "\n",
              "<span style=\"color: #808000; text-decoration-color: #808000; font-weight: bold\"> • </span><span style=\"font-weight: bold\">Alphabet's 10-K report:</span> This annual report provides a more comprehensive analysis of Google Cloud's performance,\n",
              "<span style=\"color: #808000; text-decoration-color: #808000; font-weight: bold\">   </span>including comparisons to competitors, detailed risk factors, and the company's strategy for the business.       \n",
              "<span style=\"color: #808000; text-decoration-color: #808000; font-weight: bold\"> • </span><span style=\"font-weight: bold\">Earnings call transcripts:</span> During earnings calls, Alphabet executives discuss Google Cloud's performance in     \n",
              "<span style=\"color: #808000; text-decoration-color: #808000; font-weight: bold\">   </span>detail, offering insights into their strategies, challenges, and future plans.                                  \n",
              "<span style=\"color: #808000; text-decoration-color: #808000; font-weight: bold\"> • </span><span style=\"font-weight: bold\">Industry research reports:</span>  Research reports from firms specializing in the cloud computing industry provide    \n",
              "<span style=\"color: #808000; text-decoration-color: #808000; font-weight: bold\">   </span>independent analysis and comparisons of Google Cloud to its competitors.                                        \n",
              "</pre>\n"
            ]
          },
          "metadata": {},
          "execution_count": 33
        }
      ]
    },
    {
      "cell_type": "markdown",
      "source": [
        "### Audio File"
      ],
      "metadata": {
        "id": "00EsLYuNbGPa"
      }
    },
    {
      "cell_type": "markdown",
      "source": [
        "[What Changed: ]\n",
        "\n",
        "- File Upload method\n",
        "\n",
        "\n",
        "Before:\n",
        "\n",
        "- genai.upload_file\n",
        "\n",
        "After:\n",
        "\n",
        "- Part.from_uri [reading from GCS]\n"
      ],
      "metadata": {
        "id": "eGomNFGQXXvR"
      }
    },
    {
      "cell_type": "code",
      "source": [
        "from vertexai.generative_models import Part"
      ],
      "metadata": {
        "id": "D1HsR1xYXuX3"
      },
      "execution_count": 21,
      "outputs": []
    },
    {
      "cell_type": "code",
      "source": [
        "# earning_calls = genai.upload_file(path=\"/content/stage_1_prototype_Alphabet 2023 Q4 Earnings Call.mp3\",\n",
        "#                             display_name=\"earning_calls\")\n",
        "\n",
        "earning_calls = Part.from_uri(uri = \"gs://gemini-lavi-asset/production/earning_calls/Alphabet 2023 Q4 Earnings Call.mp3\",\n",
        "    mime_type=\"audio/mpeg\")"
      ],
      "metadata": {
        "id": "3PjkJqwwbIJy"
      },
      "execution_count": 22,
      "outputs": []
    },
    {
      "cell_type": "code",
      "source": [
        "%%time\n",
        "\n",
        "prompt_parts = [\n",
        "  earning_calls,\n",
        "  \"How has performance max worked out for Google Ads?\",\n",
        "]\n",
        "response = model.generate_content(prompt_parts)\n",
        "rich_Markdown(response.text)"
      ],
      "metadata": {
        "id": "Z9SIRpVhbiv8",
        "colab": {
          "base_uri": "https://localhost:8080/",
          "height": 116
        },
        "outputId": "522e0478-f3cc-4640-cd40-8eba4c21dd31"
      },
      "execution_count": 23,
      "outputs": [
        {
          "output_type": "stream",
          "name": "stdout",
          "text": [
            "CPU times: user 255 ms, sys: 32.7 ms, total: 288 ms\n",
            "Wall time: 48.8 s\n"
          ]
        },
        {
          "output_type": "execute_result",
          "data": {
            "text/plain": [
              "Performance Max has remained a bright spot for Google Ads in Q4 of 2023 and drove incremental query growth during  \n",
              "key shopping moments like Cyber Five. Google is seeing strong feedback on automatically created assets for         \n",
              "Performance Max in Q4 and they are expanding to eight languages. It is also helping retailers accelerate omni      \n",
              "growth and capture holiday demand.                                                                                 \n"
            ],
            "text/html": [
              "<pre style=\"white-space:pre;overflow-x:auto;line-height:normal;font-family:Menlo,'DejaVu Sans Mono',consolas,'Courier New',monospace\">Performance Max has remained a bright spot for Google Ads in Q4 of 2023 and drove incremental query growth during  \n",
              "key shopping moments like Cyber Five. Google is seeing strong feedback on automatically created assets for         \n",
              "Performance Max in Q4 and they are expanding to eight languages. It is also helping retailers accelerate omni      \n",
              "growth and capture holiday demand.                                                                                 \n",
              "</pre>\n"
            ]
          },
          "metadata": {},
          "execution_count": 23
        }
      ]
    },
    {
      "cell_type": "code",
      "source": [
        "%%time\n",
        "\n",
        "response = model_flash.generate_content(prompt_parts)\n",
        "rich_Markdown(response.text)"
      ],
      "metadata": {
        "colab": {
          "base_uri": "https://localhost:8080/",
          "height": 132
        },
        "id": "9inzbauaVLv6",
        "outputId": "04934468-d1ee-4074-c47a-8ab0a561c094"
      },
      "execution_count": 25,
      "outputs": [
        {
          "output_type": "stream",
          "name": "stdout",
          "text": [
            "CPU times: user 100 ms, sys: 16.8 ms, total: 117 ms\n",
            "Wall time: 18.9 s\n"
          ]
        },
        {
          "output_type": "execute_result",
          "data": {
            "text/plain": [
              "According to the conference call, performance max has been a bright spot for Google Ads. The team is very excited  \n",
              "about the demand gen momentum. They have tens of thousands of advertisers testing it and seeing an average of 6%   \n",
              "more conversions per dollar versus image-only ads in discovery campaigns.                                          \n",
              "\n",
              "Performance max has also been a win for retailers looking to accelerate omni-growth and capture holiday demand.    \n"
            ],
            "text/html": [
              "<pre style=\"white-space:pre;overflow-x:auto;line-height:normal;font-family:Menlo,'DejaVu Sans Mono',consolas,'Courier New',monospace\">According to the conference call, performance max has been a bright spot for Google Ads. The team is very excited  \n",
              "about the demand gen momentum. They have tens of thousands of advertisers testing it and seeing an average of 6%   \n",
              "more conversions per dollar versus image-only ads in discovery campaigns.                                          \n",
              "\n",
              "Performance max has also been a win for retailers looking to accelerate omni-growth and capture holiday demand.    \n",
              "</pre>\n"
            ]
          },
          "metadata": {},
          "execution_count": 25
        }
      ]
    },
    {
      "cell_type": "markdown",
      "source": [
        "### Images"
      ],
      "metadata": {
        "id": "sHytDs7cwmzi"
      }
    },
    {
      "cell_type": "markdown",
      "source": [
        "[What Changed: ]\n",
        "\n",
        "- File Upload method\n",
        "- PDF to Image method\n",
        "\n",
        "\n",
        "Before:\n",
        "\n",
        "- genai.upload_file\n",
        "- pdf_to_images\n",
        "\n",
        "After:\n",
        "\n",
        "- Part.from_uri [it can read pdf as image directly]\n",
        "- No need of custom function\n"
      ],
      "metadata": {
        "id": "DKEnKukSlwY4"
      }
    },
    {
      "cell_type": "code",
      "source": [
        "blog_pdf = Part.from_uri(uri = \"gs://gemini-lavi-asset/idea_doc/stage_1_prototype_Google Cloud TPU blog.pdf\",\n",
        "    mime_type=\"application/pdf\")"
      ],
      "metadata": {
        "id": "QR30bcWeoYnu"
      },
      "execution_count": 26,
      "outputs": []
    },
    {
      "cell_type": "code",
      "source": [
        "%%time\n",
        "\n",
        "prompt_parts = [\n",
        "  blog_pdf,\n",
        "  \"what is the emfu for bf16 and 128b parameter model with 1 tpu v5e pod? Cite the table and page number and explain the significance of the results\",\n",
        "]\n",
        "response = model.generate_content(prompt_parts)\n",
        "rich_Markdown(response.text)"
      ],
      "metadata": {
        "colab": {
          "base_uri": "https://localhost:8080/",
          "height": 180
        },
        "id": "7dRJ6bRfpItY",
        "outputId": "9a167f58-a56b-4af7-ed9a-d2432a0ac014"
      },
      "execution_count": 27,
      "outputs": [
        {
          "output_type": "stream",
          "name": "stdout",
          "text": [
            "CPU times: user 37.5 ms, sys: 7.18 ms, total: 44.7 ms\n",
            "Wall time: 6.67 s\n"
          ]
        },
        {
          "output_type": "execute_result",
          "data": {
            "text/plain": [
              "According to the table \"MaxText LLM Training Results\" on page 14, the EMFU for a BF16 128B parameter model with 1  \n",
              "TPU v5e pod is 56.06%.                                                                                             \n",
              "\n",
              "This result signifies that the model training achieved 56.06% of the theoretical peak performance of the TPU v5e   \n",
              "hardware for floating-point operations. EMFU (Effective Model FLOPs Utilization) considers both quantized and      \n",
              "floating-point operations, providing a broader view of hardware utilization efficiency. While a higher EMFU is     \n",
              "generally desirable, achieving over 50% utilization on a large language model with a single TPU v5e pod            \n",
              "demonstrates efficient use of the hardware's capabilities.                                                         \n"
            ],
            "text/html": [
              "<pre style=\"white-space:pre;overflow-x:auto;line-height:normal;font-family:Menlo,'DejaVu Sans Mono',consolas,'Courier New',monospace\">According to the table \"MaxText LLM Training Results\" on page 14, the EMFU for a BF16 128B parameter model with 1  \n",
              "TPU v5e pod is 56.06%.                                                                                             \n",
              "\n",
              "This result signifies that the model training achieved 56.06% of the theoretical peak performance of the TPU v5e   \n",
              "hardware for floating-point operations. EMFU (Effective Model FLOPs Utilization) considers both quantized and      \n",
              "floating-point operations, providing a broader view of hardware utilization efficiency. While a higher EMFU is     \n",
              "generally desirable, achieving over 50% utilization on a large language model with a single TPU v5e pod            \n",
              "demonstrates efficient use of the hardware's capabilities.                                                         \n",
              "</pre>\n"
            ]
          },
          "metadata": {},
          "execution_count": 27
        }
      ]
    },
    {
      "cell_type": "code",
      "source": [
        "%%time\n",
        "\n",
        "response = model_flash.generate_content(prompt_parts)\n",
        "rich_Markdown(response.text)"
      ],
      "metadata": {
        "colab": {
          "base_uri": "https://localhost:8080/",
          "height": 228
        },
        "id": "P5zaRMI3VfRH",
        "outputId": "a08c3a70-154e-4600-a30d-ed879b63b581"
      },
      "execution_count": 28,
      "outputs": [
        {
          "output_type": "stream",
          "name": "stdout",
          "text": [
            "CPU times: user 24.2 ms, sys: 4.14 ms, total: 28.3 ms\n",
            "Wall time: 3.55 s\n"
          ]
        },
        {
          "output_type": "execute_result",
          "data": {
            "text/plain": [
              "The EMFU for the BF16 and 128B parameter model with 1 TPU v5e pod is 56.06%. This can be found in the table on page\n",
              "14 of the document.                                                                                                \n",
              "\n",
              "This result is significant because it shows that the model is achieving a good level of efficiency even when       \n",
              "running on a single pod. The EMFU is a measure of how well the model is utilizing the available compute resources. \n",
              "A higher EMFU indicates that the model is using more of the available compute power, which can lead to faster      \n",
              "training times.                                                                                                    \n",
              "\n",
              "In this case, the EMFU of 56.06% suggests that the model is utilizing roughly half of the available compute power. \n",
              "This is a good result for a single pod, and it suggests that the model could be even more efficient if it were run \n",
              "on a larger cluster of pods.                                                                                       \n"
            ],
            "text/html": [
              "<pre style=\"white-space:pre;overflow-x:auto;line-height:normal;font-family:Menlo,'DejaVu Sans Mono',consolas,'Courier New',monospace\">The EMFU for the BF16 and 128B parameter model with 1 TPU v5e pod is 56.06%. This can be found in the table on page\n",
              "14 of the document.                                                                                                \n",
              "\n",
              "This result is significant because it shows that the model is achieving a good level of efficiency even when       \n",
              "running on a single pod. The EMFU is a measure of how well the model is utilizing the available compute resources. \n",
              "A higher EMFU indicates that the model is using more of the available compute power, which can lead to faster      \n",
              "training times.                                                                                                    \n",
              "\n",
              "In this case, the EMFU of 56.06% suggests that the model is utilizing roughly half of the available compute power. \n",
              "This is a good result for a single pod, and it suggests that the model could be even more efficient if it were run \n",
              "on a larger cluster of pods.                                                                                       \n",
              "</pre>\n"
            ]
          },
          "metadata": {},
          "execution_count": 28
        }
      ]
    },
    {
      "cell_type": "markdown",
      "source": [
        "### Video"
      ],
      "metadata": {
        "id": "q6fVmmQ2zefi"
      }
    },
    {
      "cell_type": "markdown",
      "source": [
        "[What Changed: ]\n",
        "\n",
        "- File Upload method\n",
        "- Splitting video into frame\n",
        "\n",
        "Before:\n",
        "\n",
        "- genai.upload_file\n",
        "- process_video\n",
        "\n",
        "After:\n",
        "\n",
        "- Part.from_uri [reading from GCS]\n",
        "- No need to convert the video->frames\n"
      ],
      "metadata": {
        "id": "5XHD0XZzmC1j"
      }
    },
    {
      "cell_type": "code",
      "source": [
        "#@title Helper Functions\n",
        "## Helper Function\n",
        "\n",
        "import cv2\n",
        "import os\n",
        "import shutil\n",
        "\n",
        "def process_video(video_file_path, full_video=False):\n",
        "    \"\"\"\n",
        "    Extracts frames from a video, optionally uploads them, and returns a list of File objects.\n",
        "\n",
        "    Args:\n",
        "        video_file_path (str): Path to the video file.\n",
        "        full_video (bool, optional): If True, uploads all frames. Otherwise, uploads a 10-second slice. Defaults to False.\n",
        "\n",
        "    Returns:\n",
        "        list: A list of File objects, each containing file path, response (if uploaded), and timestamp.\n",
        "    \"\"\"\n",
        "\n",
        "    FRAME_EXTRACTION_DIRECTORY = \"/content/frames\"\n",
        "    FRAME_PREFIX = \"_frame\"\n",
        "\n",
        "    def create_frame_output_dir(output_dir):\n",
        "        \"\"\"Creates or cleans up the frame output directory.\"\"\"\n",
        "        if not os.path.exists(output_dir):\n",
        "            os.makedirs(output_dir)\n",
        "        else:\n",
        "            shutil.rmtree(output_dir)\n",
        "            os.makedirs(output_dir)\n",
        "\n",
        "    def get_timestamp(filename):\n",
        "        \"\"\"Extracts the timestamp from a frame filename.\"\"\"\n",
        "        parts = filename.split(FRAME_PREFIX)\n",
        "        if len(parts) != 2:\n",
        "            return None  # Incorrect format\n",
        "        return parts[1].split('.')[0]\n",
        "\n",
        "    class File:\n",
        "        \"\"\"Represents a file with path, display name, timestamp, and optional response.\"\"\"\n",
        "        def __init__(self, file_path, display_name=None):\n",
        "            self.file_path = file_path\n",
        "            self.display_name = display_name or os.path.basename(file_path)\n",
        "            self.timestamp = get_timestamp(file_path)\n",
        "\n",
        "        def set_file_response(self, response):\n",
        "            self.response = response\n",
        "\n",
        "    # Extract frames\n",
        "    create_frame_output_dir(FRAME_EXTRACTION_DIRECTORY)\n",
        "    vidcap = cv2.VideoCapture(video_file_path)\n",
        "    if not vidcap.isOpened():\n",
        "        raise ValueError(\"Could not open video file.\")\n",
        "\n",
        "    fps = vidcap.get(cv2.CAP_PROP_FPS)\n",
        "    frame_duration = 1 / fps\n",
        "    output_file_prefix = os.path.basename(video_file_path).replace('.', '_')\n",
        "    frame_count = 0\n",
        "    count = 0\n",
        "\n",
        "    while vidcap.isOpened():\n",
        "        success, frame = vidcap.read()\n",
        "        if not success:\n",
        "            break  # End of video\n",
        "\n",
        "        if int(count / fps) == frame_count:\n",
        "            min = frame_count // 60\n",
        "            sec = frame_count % 60\n",
        "            time_string = f\"{min:02d}:{sec:02d}\"\n",
        "            image_name = f\"{output_file_prefix}{FRAME_PREFIX}{time_string}.jpg\"\n",
        "            output_filename = os.path.join(FRAME_EXTRACTION_DIRECTORY, image_name)\n",
        "            cv2.imwrite(output_filename, frame)\n",
        "            frame_count += 1\n",
        "\n",
        "        count += 1\n",
        "\n",
        "    vidcap.release()\n",
        "    print(f\"Extracted: {frame_count} frames\")\n",
        "\n",
        "    # Process and optionally upload frames\n",
        "    files = [File(os.path.join(FRAME_EXTRACTION_DIRECTORY, file)) for file in sorted(os.listdir(FRAME_EXTRACTION_DIRECTORY))]\n",
        "    files_to_upload = files if full_video else files[40:50]  # Adjust slice as needed\n",
        "\n",
        "    uploaded_files = []\n",
        "    print(f'Uploading {len(files_to_upload)} files...')\n",
        "    for file in files_to_upload:\n",
        "        print(f'Uploading: {file.file_path}...')\n",
        "        try:\n",
        "            response = genai.upload_file(path=file.file_path)  # Assuming 'genai' is available\n",
        "            file.set_file_response(response)\n",
        "            uploaded_files.append(file)\n",
        "        except Exception as e:\n",
        "            print(f\"Error uploading {file.file_path}: {e}\")\n",
        "\n",
        "    print(f\"Uploaded: {len(uploaded_files)} files\")\n",
        "    return uploaded_files\n",
        "\n",
        "# Make GenerateContent request with the structure described above.\n",
        "def make_request(prompt, files):\n",
        "  request = [prompt]\n",
        "  for file in files:\n",
        "    request.append(file.timestamp)\n",
        "    request.append(file.response)\n",
        "  return request"
      ],
      "metadata": {
        "cellView": "form",
        "id": "GfPC35Kmze0O"
      },
      "execution_count": null,
      "outputs": []
    },
    {
      "cell_type": "code",
      "source": [
        "# # Upload a video ~ 1min\n",
        "# video_file_name = \"/content/What's next for AI and Google Search _ Google I_O 2023.mp4\"\n",
        "# processed_files_search = process_video(video_file_name, full_video=True)"
      ],
      "metadata": {
        "id": "l-rus7l4-VST"
      },
      "execution_count": null,
      "outputs": []
    },
    {
      "cell_type": "code",
      "source": [
        "video = Part.from_uri(uri = \"gs://gemini-lavi-asset/idea_doc/What's next for AI and Google Search _ Google I_O 2023.mp4\",\n",
        "    mime_type=\"video/mp4\")"
      ],
      "metadata": {
        "id": "MpJNIYlXpQDG"
      },
      "execution_count": 29,
      "outputs": []
    },
    {
      "cell_type": "code",
      "source": [
        "%%time\n",
        "\n",
        "prompt_parts = [\n",
        "  video,\n",
        "  \"Describe this video and How is google using generative ai in search? Give response in bullet\",\n",
        "]\n",
        "response = model.generate_content(prompt_parts)\n",
        "Markdown(response.text)"
      ],
      "metadata": {
        "colab": {
          "base_uri": "https://localhost:8080/",
          "height": 406
        },
        "id": "eHMOVpdGpmVL",
        "outputId": "fcce0409-ff0d-4acc-af55-dc8f76c45575"
      },
      "execution_count": 30,
      "outputs": [
        {
          "output_type": "stream",
          "name": "stdout",
          "text": [
            "CPU times: user 62.2 ms, sys: 9.71 ms, total: 71.9 ms\n",
            "Wall time: 11.8 s\n"
          ]
        },
        {
          "output_type": "execute_result",
          "data": {
            "text/plain": [
              "<IPython.core.display.Markdown object>"
            ],
            "text/markdown": "Here's a breakdown of the video and how Google is using generative AI in search:\n\n**Video Description:**\n\n* The video showcases Google's new AI-powered search features.\n* Users can ask complex questions in a single search bar, including specific requirements and filters.\n* Google's generative AI provides conversational, summarized answers drawing from various web sources.\n* It goes beyond traditional search results by:\n    * Offering product suggestions with visual examples.\n    * Creating personalized training plans.\n    * Comparing options side-by-side.\n    * Engaging in debates on popular topics.\n\n**How Google Uses Generative AI in Search:**\n\n* **Understanding complex queries:** AI allows Google to grasp the nuances and multiple facets of a user's question, even if it's phrased conversationally.\n* **Synthesizing information:**  Instead of just providing links, generative AI assembles relevant information from various sources to create a concise summary directly in the search results.\n* **Enhancing search results:**  AI goes beyond text by integrating visuals like product images and videos, making results more engaging and informative.\n* **Interactive follow-ups:** The \"ask a follow-up\" button allows users to dive deeper into a topic and refine their search, creating a more dynamic search experience. \n* **Personalization:** AI tailors responses based on user preferences and search history, offering more relevant and helpful information.\n"
          },
          "metadata": {},
          "execution_count": 30
        }
      ]
    },
    {
      "cell_type": "code",
      "source": [
        "%%time\n",
        "response = model_flash.generate_content(prompt_parts)\n",
        "Markdown(response.text)"
      ],
      "metadata": {
        "colab": {
          "base_uri": "https://localhost:8080/",
          "height": 441
        },
        "id": "xX8tlOdvVkwA",
        "outputId": "468d4a6e-b5d0-4bd9-e2cb-4a6136e0f9a0"
      },
      "execution_count": 31,
      "outputs": [
        {
          "output_type": "stream",
          "name": "stdout",
          "text": [
            "CPU times: user 40.3 ms, sys: 7.41 ms, total: 47.7 ms\n",
            "Wall time: 7.19 s\n"
          ]
        },
        {
          "output_type": "execute_result",
          "data": {
            "text/plain": [
              "<IPython.core.display.Markdown object>"
            ],
            "text/markdown": "Sure, here is a description of the video and how Google is using Generative AI in search:\n\n**Video Description:**\nThe video showcases Google's new Search experience, which is powered by Generative AI. \nThe video highlights the following:\n\n* **Evolution of Search:**  The video starts by stating that AI has been behind the evolution of search for over a decade and now, it's moving front and center.\n* **AI-Powered Search:**  It demonstrates how Generative AI can understand complex search queries and provide comprehensive results. \n* **Interactive and Conversational:**  The video shows how users can interact with search results, ask follow-up questions, and receive more relevant information.\n* **Personalized Results:**  The video emphasizes that search results are tailored to individual needs and preferences.\n* **Unlocking New Search Possibilities:** The video concludes by highlighting that Generative AI is unlocking new ways to search and that Google is committed to continuously improving the Search experience.\n\n**How Google is Using Generative AI in Search:**\n\n* **Understanding Complex Queries:**  Generative AI helps Google understand complex and nuanced search queries that may not be easily expressed with traditional keywords.\n* **Generating Comprehensive Results:**  AI can generate summaries of information from various sources, providing users with a broader understanding of the topic.\n* **Facilitating Conversation:**  Generative AI enables users to have a more conversational experience with Search, asking follow-up questions and receiving deeper insights.\n* **Personalization:**  AI can personalize search results based on user history, interests, and location.\n* **Uncovering Hidden Information:**  Generative AI can help Google identify and present relevant information that may not be easily found through traditional keyword searches.\n\nIn essence, the video shows how Google is leveraging the power of Generative AI to enhance the Search experience, making it more intuitive, comprehensive, and personalized for users. \n"
          },
          "metadata": {},
          "execution_count": 31
        }
      ]
    }
  ]
}