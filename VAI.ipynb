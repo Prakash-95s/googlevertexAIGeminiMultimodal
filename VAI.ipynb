{
  "nbformat": 4,
  "nbformat_minor": 0,
  "metadata": {
    "colab": {
      "provenance": []
    },
    "kernelspec": {
      "name": "python3",
      "display_name": "Python 3"
    },
    "language_info": {
      "name": "python"
    }
  },
  "cells": [
    {
      "cell_type": "code",
      "source": [
        "# Copyright 2024 Google LLC\n",
        "#\n",
        "# Licensed under the Apache License, Version 2.0 (the \"License\");\n",
        "# you may not use this file except in compliance with the License.\n",
        "# You may obtain a copy of the License at\n",
        "#\n",
        "#     https://www.apache.org/licenses/LICENSE-2.0\n",
        "#\n",
        "# Unless required by applicable law or agreed to in writing, software\n",
        "# distributed under the License is distributed on an \"AS IS\" BASIS,\n",
        "# WITHOUT WARRANTIES OR CONDITIONS OF ANY KIND, either express or implied.\n",
        "# See the License for the specific language governing permissions and\n",
        "# limitations under the License."
      ],
      "metadata": {
        "id": "-hNWQi6jS4ny"
      },
      "execution_count": null,
      "outputs": []
    },
    {
      "cell_type": "markdown",
      "source": [
        "| | |\n",
        "|-|-|\n",
        "|Author(s) | [Lavi Nigam](https://github.com/lavinigam-gcp) |"
      ],
      "metadata": {
        "id": "coW3oVMyS5DQ"
      }
    },
    {
      "cell_type": "markdown",
      "source": [
        "Notebooks:\n",
        "**goo.gle/io24-gemini-api**\n",
        "\n",
        "Google AI Cookbook:\n",
        "**goo.gle/google-ai-cookbook**\n",
        "\n",
        "Vertex AI Cookbook:\n",
        "**goo.gle/vertex-ai-cookbook**"
      ],
      "metadata": {
        "id": "2CCdHv8jWIUN"
      }
    },
    {
      "cell_type": "markdown",
      "source": [
        "# Step 1 - Google Cloud Vertex AI Gemini API"
      ],
      "metadata": {
        "id": "6RMTXdSRChy4"
      }
    },
    {
      "cell_type": "markdown",
      "source": [
        "[What Changed: ]\n",
        "- SDK installation\n",
        "\n",
        "Before:\n",
        "\n",
        "- ! pip install --upgrade google-generativeai\n",
        "\n",
        "After:\n",
        "\n",
        "- ! pip install --upgrade google-cloud-aiplatform"
      ],
      "metadata": {
        "id": "y7nHwXiDU-9b"
      }
    },
    {
      "cell_type": "code",
      "source": [
        "# Library installation # needs restarts\n",
        "\n",
        "# ! pip install --upgrade google-generativeai\n",
        "! pip install --upgrade google-cloud-aiplatform\n",
        "! pip install PyPDF2\n",
        "# ! apt-get install poppler-utils\n",
        "# ! pip install pdf2image"
      ],
      "metadata": {
        "id": "vOZVZgNJDCfL"
      },
      "execution_count": 62,
      "outputs": []
    },
    {
      "cell_type": "markdown",
      "source": [
        "### Restart current runtime\n",
        "\n",
        "To use the newly installed packages in this Jupyter runtime, you must restart the runtime. You can do this by running the cell below, which will restart the current kernel."
      ],
      "metadata": {
        "id": "cqXk-QMUg9Cv"
      }
    },
    {
      "cell_type": "code",
      "source": [
        "# Restart kernel after installs so that your environment can access the new packages\n",
        "import IPython\n",
        "import time\n",
        "\n",
        "app = IPython.Application.instance()\n",
        "app.kernel.do_shutdown(True)"
      ],
      "metadata": {
        "colab": {
          "base_uri": "https://localhost:8080/"
        },
        "id": "i8xbp3r9g9sR",
        "outputId": "9441a20c-87f6-4d61-d7f4-a44ba41dcf3f"
      },
      "execution_count": 2,
      "outputs": [
        {
          "output_type": "execute_result",
          "data": {
            "text/plain": [
              "{'status': 'ok', 'restart': True}"
            ]
          },
          "metadata": {},
          "execution_count": 2
        }
      ]
    },
    {
      "cell_type": "markdown",
      "source": [
        "<div class=\"alert alert-block alert-warning\">\n",
        "<b>⚠️ The kernel is going to restart. Please wait until it is finished before continuing to the next step. ⚠️</b>\n",
        "</div>\n",
        "\n"
      ],
      "metadata": {
        "id": "XH2SuWuig_lQ"
      }
    },
    {
      "cell_type": "markdown",
      "source": [
        "[What Changed: ]\n",
        "- Authentication  \n",
        "\n",
        "Before:\n",
        "\n",
        "- genai.configure(api_key=\"API Key\")\n",
        "\n",
        "After:\n",
        "\n",
        " - Authenticate Colab user to Google Cloud\n",
        " - Vertex AI init with Project ID and Region\n",
        "\n",
        "  [Not required in Colab Enterprise]"
      ],
      "metadata": {
        "id": "x1oda7ozVODI"
      }
    },
    {
      "cell_type": "code",
      "execution_count": 1,
      "metadata": {
        "id": "JNDLW6CNA7dY"
      },
      "outputs": [],
      "source": [
        "# Authentication\n",
        "\n",
        "# genai.configure(api_key=\"\")\n",
        "\n",
        "import sys\n",
        "\n",
        "# Additional authentication is required for Google Colab\n",
        "if \"google.colab\" in sys.modules:\n",
        "    # Authenticate user to Google Cloud\n",
        "    from google.colab import auth\n",
        "\n",
        "    auth.authenticate_user()\n",
        "\n",
        "if \"google.colab\" in sys.modules:\n",
        "    # Define project information\n",
        "    PROJECT_ID = \"\"  # @param {type:\"string\"}\n",
        "    LOCATION = \"us-central1\"  # @param {type:\"string\"}\n",
        "\n",
        "    # Initialize Vertex AI\n",
        "    import vertexai\n",
        "\n",
        "    vertexai.init(project=PROJECT_ID, location=LOCATION)"
      ]
    },
    {
      "cell_type": "markdown",
      "source": [
        "[What Changed: ]\n",
        "\n",
        "- Import statement\n",
        "\n",
        "\n",
        "Before:\n",
        "\n",
        "- import google.generativeai as genai\n",
        "\n",
        "After:\n",
        "\n",
        "- import vertexai.generative_models as genai\n"
      ],
      "metadata": {
        "id": "pvv51eaKVn5q"
      }
    },
    {
      "cell_type": "code",
      "source": [
        "# Library\n",
        "from IPython.display import display, Markdown, Latex\n",
        "# import google.generativeai as genai\n",
        "import vertexai.generative_models as genai\n",
        "import PyPDF2\n",
        "from rich import print as rich_print\n",
        "from rich.markdown import Markdown as rich_Markdown\n",
        "import textwrap"
      ],
      "metadata": {
        "id": "HrPf6V_1Sown"
      },
      "execution_count": 2,
      "outputs": []
    },
    {
      "cell_type": "markdown",
      "source": [
        "[No Change ]\n",
        "\n",
        "- Model Config and Safety Setting\n",
        "\n",
        "\n",
        "Before:\n",
        "\n",
        "\n",
        "\n",
        "After:\n"
      ],
      "metadata": {
        "id": "N3nFQg-DWACB"
      }
    },
    {
      "cell_type": "markdown",
      "source": [
        "**[Vertex Gemini 1.5 Flash](https://cloud.google.com/vertex-ai/generative-ai/docs/learn/models#gemini-models)**\n",
        "\n",
        "\n",
        "![](https://storage.googleapis.com/github-repo/io24/gemini-api-session/img/vertex_ai_model_1.png)"
      ],
      "metadata": {
        "id": "B9pUX2Is2Wfq"
      }
    },
    {
      "cell_type": "markdown",
      "source": [
        "**[Vertex Gemini 1.5 Pro](https://cloud.google.com/vertex-ai/generative-ai/docs/learn/models#gemini-models)**\n",
        "\n",
        "\n",
        "![](https://storage.googleapis.com/github-repo/io24/gemini-api-session/img/vertex_ai_model_2.png)"
      ],
      "metadata": {
        "id": "vJW3mQYl2gft"
      }
    },
    {
      "cell_type": "markdown",
      "source": [
        "**[Vertex Gemini 1.5 Flash Version](https://cloud.google.com/vertex-ai/generative-ai/docs/learn/model-versions)**\n",
        "\n",
        "\n",
        "![](https://storage.googleapis.com/github-repo/io24/gemini-api-session/img/vertex_ai_model_version_1.png)"
      ],
      "metadata": {
        "id": "GWEBn-Jt2_o0"
      }
    },
    {
      "cell_type": "markdown",
      "source": [
        "**[Vertex Gemini 1.5 Pro Version](https://cloud.google.com/vertex-ai/generative-ai/docs/learn/model-versions)**\n",
        "\n",
        "\n",
        "![](https://storage.googleapis.com/github-repo/io24/gemini-api-session/img/vertex_ai_model_version_2.png)"
      ],
      "metadata": {
        "id": "l0W0eMI63MC3"
      }
    },
    {
      "cell_type": "markdown",
      "source": [
        "### API"
      ],
      "metadata": {
        "id": "2pYF4JHf5z_l"
      }
    },
    {
      "cell_type": "markdown",
      "source": [
        "#### Basic Usage"
      ],
      "metadata": {
        "id": "LOLQc12f51g-"
      }
    },
    {
      "cell_type": "code",
      "source": [
        "def to_markdown(text):\n",
        "  text = text.replace('•', '  *')\n",
        "  return Markdown(textwrap.indent(text, '> ', predicate=lambda _: True))"
      ],
      "metadata": {
        "id": "L88Es4kp6ac9"
      },
      "execution_count": 3,
      "outputs": []
    },
    {
      "cell_type": "code",
      "source": [
        "# Set up the model\n",
        "# Learn more about the API: https://cloud.google.com/vertex-ai/generative-ai/docs/start/quickstarts/quickstart-multimodal\n",
        "# More details about the models: https://cloud.google.com/vertex-ai/generative-ai/docs/learn/models\n",
        "\n",
        "\n",
        "from vertexai.generative_models import (\n",
        "    GenerationConfig,\n",
        "    HarmCategory,\n",
        "    HarmBlockThreshold,\n",
        ")\n",
        "\n",
        "\n",
        "generation_config = GenerationConfig(\n",
        "    temperature=1,\n",
        "    max_output_tokens=8192,\n",
        ")\n",
        "\n",
        "# Explore more about safety settings: https://cloud.google.com/vertex-ai/generative-ai/docs/multimodal/configure-safety-attributes\n",
        "# Explore Gemini's Safety guidance: https://cloud.google.com/vertex-ai/generative-ai/docs/learn/responsible-ai\n",
        "\n",
        "safety_settings = {\n",
        "    HarmCategory.HARM_CATEGORY_HARASSMENT: HarmBlockThreshold.BLOCK_MEDIUM_AND_ABOVE,\n",
        "    HarmCategory.HARM_CATEGORY_HATE_SPEECH: HarmBlockThreshold.BLOCK_MEDIUM_AND_ABOVE,\n",
        "    HarmCategory.HARM_CATEGORY_SEXUALLY_EXPLICIT: HarmBlockThreshold.BLOCK_MEDIUM_AND_ABOVE,\n",
        "    HarmCategory.HARM_CATEGORY_DANGEROUS_CONTENT: HarmBlockThreshold.BLOCK_MEDIUM_AND_ABOVE,\n",
        "}\n",
        "\n",
        "# works with text, code, images, video(with or without audio) and audio(mp3) with 2M input context - complex reasoning\n",
        "model = genai.GenerativeModel(model_name=\"gemini-1.5-pro-001\", # using stable (not latest)\n",
        "                              generation_config=generation_config,\n",
        "                              safety_settings=safety_settings)\n",
        "\n",
        " # works with text, code, images, video(with or without audio) and audio(mp3) with 1M input context - faster inference\n",
        "model_flash = genai.GenerativeModel(model_name=\"gemini-1.5-flash-001\", # using stable (not latest)\n",
        "                              generation_config=generation_config,\n",
        "                              safety_settings=safety_settings)"
      ],
      "metadata": {
        "id": "KhTx4pNbLre7"
      },
      "execution_count": 4,
      "outputs": []
    },
    {
      "cell_type": "markdown",
      "source": [
        "Learn more about what's possible with Vertex AI Gemini API: [Link](https://github.com/GoogleCloudPlatform/generative-ai/tree/main/gemini)"
      ],
      "metadata": {
        "id": "pF2kWbrs6Glf"
      }
    },
    {
      "cell_type": "code",
      "source": [
        "%%time\n",
        "\n",
        "response = model.generate_content(\"What is the meaning of life?\")"
      ],
      "metadata": {
        "colab": {
          "base_uri": "https://localhost:8080/"
        },
        "id": "peAGg64C6Tr0",
        "outputId": "b3afc42a-ed55-42a0-d5ab-3f8427a44b63"
      },
      "execution_count": 5,
      "outputs": [
        {
          "output_type": "stream",
          "name": "stdout",
          "text": [
            "CPU times: user 84.2 ms, sys: 13.3 ms, total: 97.5 ms\n",
            "Wall time: 6.79 s\n"
          ]
        }
      ]
    },
    {
      "cell_type": "code",
      "source": [
        "to_markdown(response.text)"
      ],
      "metadata": {
        "colab": {
          "base_uri": "https://localhost:8080/",
          "height": 260
        },
        "id": "tXnBc0o26XlI",
        "outputId": "9c7c5677-6e57-4ee8-c2e3-672a174556de"
      },
      "execution_count": 6,
      "outputs": [
        {
          "output_type": "execute_result",
          "data": {
            "text/plain": [
              "<IPython.core.display.Markdown object>"
            ],
            "text/markdown": "> As a large language model, I can't tell you the meaning of life. There's no single answer that will satisfy everyone, and that's okay! \n> \n> The meaning of life is a question that philosophers have pondered for centuries. It's a deeply personal question, and the answer will be different for everyone. \n> \n> However, I can offer some ways to think about finding meaning in your life:\n> \n> * **Focus on your values:** What is important to you? What do you believe in? What do you want to stand for? \n> * **Connect with something bigger than yourself:** This could be your community, nature, a spiritual belief, or something else entirely. \n> * **Find your purpose:** What are you passionate about? What do you want to achieve in the world?\n> * **Live in the present moment:**  Don't dwell on the past or worry about the future. Focus on appreciating the here and now. \n> * **Connect with others:** Build meaningful relationships with the people around you. Love, friendship, and community can bring great meaning to life.\n> \n> Ultimately, the meaning of life is what you make it. It's up to you to find your own path and create a life that is meaningful to you. \n"
          },
          "metadata": {},
          "execution_count": 6
        }
      ]
    },
    {
      "cell_type": "code",
      "source": [
        "%%time\n",
        "\n",
        "response = model_flash.generate_content(\"What is the meaning of life?\")"
      ],
      "metadata": {
        "colab": {
          "base_uri": "https://localhost:8080/"
        },
        "id": "J-CT2Ynl662l",
        "outputId": "439a9558-85f3-4796-8677-0656d6906359"
      },
      "execution_count": 7,
      "outputs": [
        {
          "output_type": "stream",
          "name": "stdout",
          "text": [
            "CPU times: user 35.5 ms, sys: 8.72 ms, total: 44.2 ms\n",
            "Wall time: 3.77 s\n"
          ]
        }
      ]
    },
    {
      "cell_type": "code",
      "source": [
        "to_markdown(response.text)"
      ],
      "metadata": {
        "colab": {
          "base_uri": "https://localhost:8080/",
          "height": 411
        },
        "id": "lTJBks6R67Qi",
        "outputId": "53971ef5-532e-4fd5-d29c-0e0035b38f4e"
      },
      "execution_count": 8,
      "outputs": [
        {
          "output_type": "execute_result",
          "data": {
            "text/plain": [
              "<IPython.core.display.Markdown object>"
            ],
            "text/markdown": "> The meaning of life is a question that has been pondered by philosophers and individuals for centuries, and there is no one definitive answer.  \n> \n> **Here's a breakdown of perspectives on the meaning of life:**\n> \n> * **Nihilism:**  This perspective suggests that life has no inherent meaning or purpose. \n> * **Existentialism:** This view emphasizes individual freedom and responsibility for creating meaning in a meaningless universe. \n> * **Religion and Spirituality:** Many religions offer a framework for understanding the meaning of life through faith, belief in a higher power, and the pursuit of spiritual enlightenment.\n> * **Humanism:**  This philosophy focuses on human values, reason, and ethics, emphasizing the importance of compassion, empathy, and contributing to the well-being of others.\n> * **Hedonism:** This approach emphasizes the pursuit of pleasure and happiness as the primary goal in life.\n> * **Meaning as a byproduct of experience:** Some believe that meaning arises naturally from our experiences, relationships, and contributions to the world.\n> \n> **Ultimately, the meaning of life is subjective and personal.**  It depends on your individual values, beliefs, and goals. \n> \n> **Here are some ways to find your own meaning in life:**\n> \n> * **Reflect on your values and passions:** What matters most to you? What brings you joy and fulfillment?\n> * **Set goals and pursue your dreams:**  Having goals gives your life direction and purpose.\n> * **Cultivate meaningful relationships:** Strong relationships with family, friends, and community provide love, support, and a sense of belonging.\n> * **Make a difference in the world:** Find ways to contribute to your community, help others, or leave a positive impact.\n> * **Embrace the journey:** Life is full of ups and downs. Appreciate the good times and learn from the challenges.\n> \n> Remember, the search for meaning is a lifelong journey. Be open to new experiences, perspectives, and ways of understanding the world around you. \n"
          },
          "metadata": {},
          "execution_count": 8
        }
      ]
    },
    {
      "cell_type": "code",
      "source": [
        "response.candidates"
      ],
      "metadata": {
        "colab": {
          "base_uri": "https://localhost:8080/"
        },
        "id": "bsPdNq2F7Bi7",
        "outputId": "21856505-6c77-4712-92eb-826063d32dd5"
      },
      "execution_count": 9,
      "outputs": [
        {
          "output_type": "execute_result",
          "data": {
            "text/plain": [
              "[content {\n",
              "   role: \"model\"\n",
              "   parts {\n",
              "     text: \"The meaning of life is a question that has been pondered by philosophers and individuals for centuries, and there is no one definitive answer.  \\n\\n**Here\\'s a breakdown of perspectives on the meaning of life:**\\n\\n* **Nihilism:**  This perspective suggests that life has no inherent meaning or purpose. \\n* **Existentialism:** This view emphasizes individual freedom and responsibility for creating meaning in a meaningless universe. \\n* **Religion and Spirituality:** Many religions offer a framework for understanding the meaning of life through faith, belief in a higher power, and the pursuit of spiritual enlightenment.\\n* **Humanism:**  This philosophy focuses on human values, reason, and ethics, emphasizing the importance of compassion, empathy, and contributing to the well-being of others.\\n* **Hedonism:** This approach emphasizes the pursuit of pleasure and happiness as the primary goal in life.\\n* **Meaning as a byproduct of experience:** Some believe that meaning arises naturally from our experiences, relationships, and contributions to the world.\\n\\n**Ultimately, the meaning of life is subjective and personal.**  It depends on your individual values, beliefs, and goals. \\n\\n**Here are some ways to find your own meaning in life:**\\n\\n* **Reflect on your values and passions:** What matters most to you? What brings you joy and fulfillment?\\n* **Set goals and pursue your dreams:**  Having goals gives your life direction and purpose.\\n* **Cultivate meaningful relationships:** Strong relationships with family, friends, and community provide love, support, and a sense of belonging.\\n* **Make a difference in the world:** Find ways to contribute to your community, help others, or leave a positive impact.\\n* **Embrace the journey:** Life is full of ups and downs. Appreciate the good times and learn from the challenges.\\n\\nRemember, the search for meaning is a lifelong journey. Be open to new experiences, perspectives, and ways of understanding the world around you. \\n\"\n",
              "   }\n",
              " }\n",
              " finish_reason: STOP\n",
              " safety_ratings {\n",
              "   category: HARM_CATEGORY_HATE_SPEECH\n",
              "   probability: NEGLIGIBLE\n",
              "   probability_score: 0.024798160418868065\n",
              "   severity: HARM_SEVERITY_NEGLIGIBLE\n",
              "   severity_score: 0.017045319080352783\n",
              " }\n",
              " safety_ratings {\n",
              "   category: HARM_CATEGORY_DANGEROUS_CONTENT\n",
              "   probability: NEGLIGIBLE\n",
              "   probability_score: 0.024656856432557106\n",
              "   severity: HARM_SEVERITY_NEGLIGIBLE\n",
              "   severity_score: 0.02112519182264805\n",
              " }\n",
              " safety_ratings {\n",
              "   category: HARM_CATEGORY_HARASSMENT\n",
              "   probability: NEGLIGIBLE\n",
              "   probability_score: 0.029873095452785492\n",
              "   severity: HARM_SEVERITY_NEGLIGIBLE\n",
              "   severity_score: 0.022846195846796036\n",
              " }\n",
              " safety_ratings {\n",
              "   category: HARM_CATEGORY_SEXUALLY_EXPLICIT\n",
              "   probability: NEGLIGIBLE\n",
              "   probability_score: 0.10989668220281601\n",
              "   severity: HARM_SEVERITY_NEGLIGIBLE\n",
              "   severity_score: 0.018941709771752357\n",
              " }]"
            ]
          },
          "metadata": {},
          "execution_count": 9
        }
      ]
    },
    {
      "cell_type": "code",
      "source": [
        "response"
      ],
      "metadata": {
        "colab": {
          "base_uri": "https://localhost:8080/"
        },
        "id": "83ce6AOk8g3i",
        "outputId": "4c98f374-04a3-40dd-a96d-e872e2f53b95"
      },
      "execution_count": 10,
      "outputs": [
        {
          "output_type": "execute_result",
          "data": {
            "text/plain": [
              "candidates {\n",
              "  content {\n",
              "    role: \"model\"\n",
              "    parts {\n",
              "      text: \"The meaning of life is a question that has been pondered by philosophers and individuals for centuries, and there is no one definitive answer.  \\n\\n**Here\\'s a breakdown of perspectives on the meaning of life:**\\n\\n* **Nihilism:**  This perspective suggests that life has no inherent meaning or purpose. \\n* **Existentialism:** This view emphasizes individual freedom and responsibility for creating meaning in a meaningless universe. \\n* **Religion and Spirituality:** Many religions offer a framework for understanding the meaning of life through faith, belief in a higher power, and the pursuit of spiritual enlightenment.\\n* **Humanism:**  This philosophy focuses on human values, reason, and ethics, emphasizing the importance of compassion, empathy, and contributing to the well-being of others.\\n* **Hedonism:** This approach emphasizes the pursuit of pleasure and happiness as the primary goal in life.\\n* **Meaning as a byproduct of experience:** Some believe that meaning arises naturally from our experiences, relationships, and contributions to the world.\\n\\n**Ultimately, the meaning of life is subjective and personal.**  It depends on your individual values, beliefs, and goals. \\n\\n**Here are some ways to find your own meaning in life:**\\n\\n* **Reflect on your values and passions:** What matters most to you? What brings you joy and fulfillment?\\n* **Set goals and pursue your dreams:**  Having goals gives your life direction and purpose.\\n* **Cultivate meaningful relationships:** Strong relationships with family, friends, and community provide love, support, and a sense of belonging.\\n* **Make a difference in the world:** Find ways to contribute to your community, help others, or leave a positive impact.\\n* **Embrace the journey:** Life is full of ups and downs. Appreciate the good times and learn from the challenges.\\n\\nRemember, the search for meaning is a lifelong journey. Be open to new experiences, perspectives, and ways of understanding the world around you. \\n\"\n",
              "    }\n",
              "  }\n",
              "  finish_reason: STOP\n",
              "  safety_ratings {\n",
              "    category: HARM_CATEGORY_HATE_SPEECH\n",
              "    probability: NEGLIGIBLE\n",
              "    probability_score: 0.024798160418868065\n",
              "    severity: HARM_SEVERITY_NEGLIGIBLE\n",
              "    severity_score: 0.017045319080352783\n",
              "  }\n",
              "  safety_ratings {\n",
              "    category: HARM_CATEGORY_DANGEROUS_CONTENT\n",
              "    probability: NEGLIGIBLE\n",
              "    probability_score: 0.024656856432557106\n",
              "    severity: HARM_SEVERITY_NEGLIGIBLE\n",
              "    severity_score: 0.02112519182264805\n",
              "  }\n",
              "  safety_ratings {\n",
              "    category: HARM_CATEGORY_HARASSMENT\n",
              "    probability: NEGLIGIBLE\n",
              "    probability_score: 0.029873095452785492\n",
              "    severity: HARM_SEVERITY_NEGLIGIBLE\n",
              "    severity_score: 0.022846195846796036\n",
              "  }\n",
              "  safety_ratings {\n",
              "    category: HARM_CATEGORY_SEXUALLY_EXPLICIT\n",
              "    probability: NEGLIGIBLE\n",
              "    probability_score: 0.10989668220281601\n",
              "    severity: HARM_SEVERITY_NEGLIGIBLE\n",
              "    severity_score: 0.018941709771752357\n",
              "  }\n",
              "}\n",
              "usage_metadata {\n",
              "  prompt_token_count: 7\n",
              "  candidates_token_count: 403\n",
              "  total_token_count: 410\n",
              "}"
            ]
          },
          "metadata": {},
          "execution_count": 10
        }
      ]
    },
    {
      "cell_type": "markdown",
      "source": [
        "Explore API Troubleshooting and API errors here: [Link](https://cloud.google.com/vertex-ai/generative-ai/docs/model-reference/api-errors)"
      ],
      "metadata": {
        "id": "goT6qsqx7GUe"
      }
    },
    {
      "cell_type": "markdown",
      "source": [
        "#### Streaming"
      ],
      "metadata": {
        "id": "viKTb-iG799N"
      }
    },
    {
      "cell_type": "code",
      "source": [
        "%%time\n",
        "response = model_flash.generate_content(\"What is the meaning of life?\", stream=True)"
      ],
      "metadata": {
        "colab": {
          "base_uri": "https://localhost:8080/"
        },
        "id": "VEtplChs7-UU",
        "outputId": "f0efafa7-2c93-4ca3-94e9-ceabedf8168f"
      },
      "execution_count": 11,
      "outputs": [
        {
          "output_type": "stream",
          "name": "stdout",
          "text": [
            "CPU times: user 11 µs, sys: 2 µs, total: 13 µs\n",
            "Wall time: 16.5 µs\n"
          ]
        }
      ]
    },
    {
      "cell_type": "code",
      "source": [
        "for chunk in response:\n",
        "  print(chunk.text)\n",
        "  print(\"_\"*80)"
      ],
      "metadata": {
        "colab": {
          "base_uri": "https://localhost:8080/"
        },
        "id": "OrB1VhDn8Bk1",
        "outputId": "4630755d-52c2-49d4-9459-bb9260a752fe"
      },
      "execution_count": 12,
      "outputs": [
        {
          "output_type": "stream",
          "name": "stdout",
          "text": [
            "The\n",
            "________________________________________________________________________________\n",
            " meaning of life is a question that has been pondered by philosophers, theologians, and\n",
            "________________________________________________________________________________\n",
            " individuals for centuries. There is no one definitive answer, as the meaning of life\n",
            "________________________________________________________________________________\n",
            " is subjective and personal. Here are some perspectives:\n",
            "\n",
            "**Philosophical perspectives:**\n",
            "\n",
            "* **Nihilism:**  Life has no inherent meaning or purpose.\n",
            "________________________________________________________________________________\n",
            " \n",
            "* **Existentialism:**  Individuals create their own meaning and purpose in a meaningless universe.\n",
            "* **Absurdism:**  The search\n",
            "________________________________________________________________________________\n",
            " for meaning is futile, but we must embrace the absurdity of existence.\n",
            "* **Hedonism:**  The pursuit of pleasure and happiness is the ultimate goal.\n",
            "* **Utilitarianism:**  The greatest good for the greatest number of\n",
            "________________________________________________________________________________\n",
            " people is the most important goal.\n",
            "\n",
            "**Religious perspectives:**\n",
            "\n",
            "* **Theism:**  Life has meaning and purpose as defined by a divine creator.\n",
            "* **Buddhism:**  The goal of life is to achieve enlightenment and escape\n",
            "________________________________________________________________________________\n",
            " suffering.\n",
            "* **Christianity:**  The meaning of life is to love God and others.\n",
            "\n",
            "**Other perspectives:**\n",
            "\n",
            "* **Humanism:**  The meaning of life is found in human relationships, creativity, and the pursuit of knowledge.\n",
            "* **Evolutionary perspective:**  The meaning of life is to survive\n",
            "________________________________________________________________________________\n",
            " and reproduce.\n",
            "* **Personal meaning:**  Each individual creates their own meaning based on their values, experiences, and goals.\n",
            "\n",
            "**Ultimately, the meaning of life is what you make it.**  It is a question that each individual must answer for themselves.  \n",
            "\n",
            "Here are some questions to consider as you explore\n",
            "________________________________________________________________________________\n",
            " your own meaning of life:\n",
            "\n",
            "* What brings you joy and fulfillment?\n",
            "* What are your values and priorities?\n",
            "* What legacy do you want to leave behind?\n",
            "* What impact do you want to have on the world?\n",
            "\n",
            "By reflecting on these questions and exploring different perspectives, you can begin to define\n",
            "________________________________________________________________________________\n",
            " your own unique meaning of life. \n",
            "\n",
            "________________________________________________________________________________\n",
            "\n",
            "________________________________________________________________________________\n"
          ]
        }
      ]
    },
    {
      "cell_type": "markdown",
      "source": [
        "#### Token Count"
      ],
      "metadata": {
        "id": "ChjdMu1v8naw"
      }
    },
    {
      "cell_type": "markdown",
      "source": [
        "<div class=\"alert alert-block alert-warning\">\n",
        "<b>⚠️ A token is equivalent to about 4 characters for Gemini models. 100 tokens are about 60-80 English words.\n",
        "\n",
        "Cloud pricing is done on characters and not tokens. ⚠️</b>\n",
        "</div>\n"
      ],
      "metadata": {
        "id": "VB4Sl6I084tD"
      }
    },
    {
      "cell_type": "code",
      "source": [
        "# more details:  https://cloud.google.com/vertex-ai/generative-ai/docs/multimodal/get-token-count\n",
        "# Pricing details: https://cloud.google.com/vertex-ai/generative-ai/pricing\n",
        "\n",
        "prompt = \"Why is the sky blue?\"\n",
        "\n",
        "# Prompt tokens count\n",
        "response = model.count_tokens(prompt)\n",
        "print(f\"Prompt Token Count: {response.total_tokens}\")\n",
        "print(f\"Prompt Character Count: {response.total_billable_characters}\")\n",
        "\n",
        "# Send text to Gemini\n",
        "response = model.generate_content(prompt)\n",
        "\n",
        "rich_Markdown(response.text)"
      ],
      "metadata": {
        "colab": {
          "base_uri": "https://localhost:8080/",
          "height": 364
        },
        "id": "jfBH34v38nxB",
        "outputId": "1d858314-9a32-428e-c2b1-67a8abca871c"
      },
      "execution_count": 13,
      "outputs": [
        {
          "output_type": "stream",
          "name": "stdout",
          "text": [
            "Prompt Token Count: 6\n",
            "Prompt Character Count: 16\n"
          ]
        },
        {
          "output_type": "execute_result",
          "data": {
            "text/plain": [
              "The sky appears blue due to a phenomenon called \u001b[1mRayleigh scattering\u001b[0m. Here's how it works:                          \n",
              "\n",
              "\u001b[1;33m 1 \u001b[0m\u001b[1mSunlight Enters the Atmosphere:\u001b[0m Sunlight, which appears white to us, is actually a mix of all the colors of the \n",
              "\u001b[1;33m   \u001b[0mrainbow.                                                                                                        \n",
              "\u001b[1;33m 2 \u001b[0m\u001b[1mScattering of Light:\u001b[0m As sunlight enters Earth's atmosphere, it collides with tiny air molecules (mostly nitrogen\n",
              "\u001b[1;33m   \u001b[0mand oxygen). This causes the light to scatter in different directions.                                          \n",
              "\u001b[1;33m 3 \u001b[0m\u001b[1mBlue Light Scatters More:\u001b[0m  Blue and violet light have shorter wavelengths compared to other colors in the       \n",
              "\u001b[1;33m   \u001b[0mspectrum.  Shorter wavelengths are scattered more strongly by the small air molecules.                          \n",
              "\u001b[1;33m 4 \u001b[0m\u001b[1mOur Eyes' Perception:\u001b[0m  While violet light is scattered even more than blue, our eyes are more sensitive to blue \n",
              "\u001b[1;33m   \u001b[0mlight. This is why we perceive the sky as blue rather than a mixture of blue and violet.                        \n",
              "\n",
              "\u001b[1mWhy not other colors?\u001b[0m                                                                                              \n",
              "\n",
              "\u001b[1;33m • \u001b[0m\u001b[1mViolet:\u001b[0m Scattered even more than blue, but our eyes are less sensitive to it.                                   \n",
              "\u001b[1;33m • \u001b[0m\u001b[1mGreen, Yellow, Orange, Red:\u001b[0m These colors have longer wavelengths and are scattered less. They travel more       \n",
              "\u001b[1;33m   \u001b[0mdirectly through the atmosphere.  We see these colors more prominently at sunrise and sunset when sunlight      \n",
              "\u001b[1;33m   \u001b[0mtravels through more of the atmosphere, and the blue light is scattered away.                                   \n",
              "\n",
              "Let me know if you'd like to know more about scattering or any other aspect of light!                              \n"
            ],
            "text/html": [
              "<pre style=\"white-space:pre;overflow-x:auto;line-height:normal;font-family:Menlo,'DejaVu Sans Mono',consolas,'Courier New',monospace\">The sky appears blue due to a phenomenon called <span style=\"font-weight: bold\">Rayleigh scattering</span>. Here's how it works:                          \n",
              "\n",
              "<span style=\"color: #808000; text-decoration-color: #808000; font-weight: bold\"> 1 </span><span style=\"font-weight: bold\">Sunlight Enters the Atmosphere:</span> Sunlight, which appears white to us, is actually a mix of all the colors of the \n",
              "<span style=\"color: #808000; text-decoration-color: #808000; font-weight: bold\">   </span>rainbow.                                                                                                        \n",
              "<span style=\"color: #808000; text-decoration-color: #808000; font-weight: bold\"> 2 </span><span style=\"font-weight: bold\">Scattering of Light:</span> As sunlight enters Earth's atmosphere, it collides with tiny air molecules (mostly nitrogen\n",
              "<span style=\"color: #808000; text-decoration-color: #808000; font-weight: bold\">   </span>and oxygen). This causes the light to scatter in different directions.                                          \n",
              "<span style=\"color: #808000; text-decoration-color: #808000; font-weight: bold\"> 3 </span><span style=\"font-weight: bold\">Blue Light Scatters More:</span>  Blue and violet light have shorter wavelengths compared to other colors in the       \n",
              "<span style=\"color: #808000; text-decoration-color: #808000; font-weight: bold\">   </span>spectrum.  Shorter wavelengths are scattered more strongly by the small air molecules.                          \n",
              "<span style=\"color: #808000; text-decoration-color: #808000; font-weight: bold\"> 4 </span><span style=\"font-weight: bold\">Our Eyes' Perception:</span>  While violet light is scattered even more than blue, our eyes are more sensitive to blue \n",
              "<span style=\"color: #808000; text-decoration-color: #808000; font-weight: bold\">   </span>light. This is why we perceive the sky as blue rather than a mixture of blue and violet.                        \n",
              "\n",
              "<span style=\"font-weight: bold\">Why not other colors?</span>                                                                                              \n",
              "\n",
              "<span style=\"color: #808000; text-decoration-color: #808000; font-weight: bold\"> • </span><span style=\"font-weight: bold\">Violet:</span> Scattered even more than blue, but our eyes are less sensitive to it.                                   \n",
              "<span style=\"color: #808000; text-decoration-color: #808000; font-weight: bold\"> • </span><span style=\"font-weight: bold\">Green, Yellow, Orange, Red:</span> These colors have longer wavelengths and are scattered less. They travel more       \n",
              "<span style=\"color: #808000; text-decoration-color: #808000; font-weight: bold\">   </span>directly through the atmosphere.  We see these colors more prominently at sunrise and sunset when sunlight      \n",
              "<span style=\"color: #808000; text-decoration-color: #808000; font-weight: bold\">   </span>travels through more of the atmosphere, and the blue light is scattered away.                                   \n",
              "\n",
              "Let me know if you'd like to know more about scattering or any other aspect of light!                              \n",
              "</pre>\n"
            ]
          },
          "metadata": {},
          "execution_count": 13
        }
      ]
    },
    {
      "cell_type": "markdown",
      "source": [
        "Two seperate pricing tiers:\n",
        "\n",
        "* ( =< 128K context window)\n",
        "* ( > 128K context window)\n",
        "\n",
        "[More details](https://cloud.google.com/vertex-ai/generative-ai/pricing)"
      ],
      "metadata": {
        "id": "au3gJ2g5-Ic2"
      }
    },
    {
      "cell_type": "code",
      "source": [
        "# Response tokens count\n",
        "usage_metadata = response.usage_metadata\n",
        "print(f\"Prompt Token Count: {usage_metadata.prompt_token_count}\")\n",
        "print(f\"Candidates Token Count: {usage_metadata.candidates_token_count}\")\n",
        "print(f\"Total Token Count: {usage_metadata.total_token_count}\")"
      ],
      "metadata": {
        "colab": {
          "base_uri": "https://localhost:8080/"
        },
        "id": "UEJXeKQo8-_o",
        "outputId": "880864a7-34b6-445d-eac6-3c33530f24ae"
      },
      "execution_count": 14,
      "outputs": [
        {
          "output_type": "stream",
          "name": "stdout",
          "text": [
            "Prompt Token Count: 6\n",
            "Candidates Token Count: 289\n",
            "Total Token Count: 295\n"
          ]
        }
      ]
    },
    {
      "cell_type": "markdown",
      "source": [
        "## Testing Hypothesis"
      ],
      "metadata": {
        "id": "YD5CkSMcbfAB"
      }
    },
    {
      "cell_type": "markdown",
      "source": [
        "### PDF (Extracted Text)"
      ],
      "metadata": {
        "id": "xfojqKhw9LY5"
      }
    },
    {
      "cell_type": "code",
      "source": [
        "#@title Helper Functions\n",
        "## Helper Function\n",
        "\n",
        "import PyPDF2\n",
        "import requests\n",
        "from io import BytesIO\n",
        "\n",
        "# The function reads the PDF directly from the URL and caches in the memory without persisting\n",
        "\n",
        "def pdf_to_dict_str(url_or_file_path):\n",
        "    \"\"\"Reads a PDF from a local file path or URL and returns a dictionary of page text.\"\"\"\n",
        "\n",
        "    # Determine if it's a URL or file path\n",
        "    if url_or_file_path.startswith('http'):\n",
        "        # Fetch the PDF from the URL\n",
        "        response = requests.get(url_or_file_path)\n",
        "        response.raise_for_status()  # Raise an error if the request fails\n",
        "        pdf_file = BytesIO(response.content)\n",
        "    else:\n",
        "        # Open the local file\n",
        "        pdf_file = open(url_or_file_path, 'rb')\n",
        "\n",
        "    # Process the PDF content (same as before)\n",
        "    with pdf_file:\n",
        "        pdf_reader = PyPDF2.PdfReader(pdf_file)\n",
        "        num_pages = len(pdf_reader.pages)\n",
        "        page_dict = {}\n",
        "        for page_num in range(num_pages):\n",
        "            page = pdf_reader.pages[page_num]\n",
        "            page_text = page.extract_text()\n",
        "            page_dict[page_num + 1] = page_text\n",
        "\n",
        "        return str(page_dict)\n"
      ],
      "metadata": {
        "cellView": "form",
        "id": "pwql88iWbcF4"
      },
      "execution_count": 17,
      "outputs": []
    },
    {
      "cell_type": "markdown",
      "source": [
        "Source File: [Link](https://storage.googleapis.com/gemini-lavi-asset/idea_doc/stage_1_prototype_Google%20Cloud%20TPU%20blog.pdf) ~18 pages"
      ],
      "metadata": {
        "id": "ZM7ae6ou0hHd"
      }
    },
    {
      "cell_type": "code",
      "source": [
        "# read through each page and extracts the text and saves in the dictionary as {1:\"context of page 1\"}, 2:\"context of page 2\"}, .... }\n",
        "pdf_context = pdf_to_dict_str(\"https://storage.googleapis.com/gemini-lavi-asset/idea_doc/stage_1_prototype_Google%20Cloud%20TPU%20blog.pdf\")"
      ],
      "metadata": {
        "id": "8ORb_Biw0p0g"
      },
      "execution_count": 18,
      "outputs": []
    },
    {
      "cell_type": "code",
      "source": [
        "pdf_context[:100] #The whole dict is converted to strings so as to pass as context in the model"
      ],
      "metadata": {
        "colab": {
          "base_uri": "https://localhost:8080/",
          "height": 35
        },
        "id": "vTk3NqxD0t2u",
        "outputId": "5b5c2c95-3426-49db-b003-70df78b030a7"
      },
      "execution_count": 19,
      "outputs": [
        {
          "output_type": "execute_result",
          "data": {
            "text/plain": [
              "\"{1: 'Google\\\\nCloud\\\\ndemonstrates\\\\nthe\\\\nworld’ s\\\\nlargest\\\\ndistributed\\\\ntraining\\\\njob\\\\nfor\\\\nlarge\\\\nla\""
            ],
            "application/vnd.google.colaboratory.intrinsic+json": {
              "type": "string"
            }
          },
          "metadata": {},
          "execution_count": 19
        }
      ]
    },
    {
      "cell_type": "code",
      "source": [
        "rich_Markdown(eval(pdf_context)[1]) # Page 1 #use eval to convert string to dict object"
      ],
      "metadata": {
        "colab": {
          "base_uri": "https://localhost:8080/",
          "height": 82
        },
        "id": "034eEoFn0vJ2",
        "outputId": "b047875c-76dc-4974-9b29-da9fd08b2174"
      },
      "execution_count": 20,
      "outputs": [
        {
          "output_type": "execute_result",
          "data": {
            "text/plain": [
              "Google Cloud demonstrates the world’ s largest distributed training job for large language models across 50000+ TPU\n",
              "v5e chips November 9, 2023 Rajesh Anantharaman Product Management Lead, Cloud TPU With the boom in generative AI,  \n",
              "the size of foundational large language models (LLMs) has grown exponentially , utilizing hundreds of billions of  \n",
              "parameters and trillions of training tokens.                                                                       \n"
            ],
            "text/html": [
              "<pre style=\"white-space:pre;overflow-x:auto;line-height:normal;font-family:Menlo,'DejaVu Sans Mono',consolas,'Courier New',monospace\">Google Cloud demonstrates the world’ s largest distributed training job for large language models across 50000+ TPU\n",
              "v5e chips November 9, 2023 Rajesh Anantharaman Product Management Lead, Cloud TPU With the boom in generative AI,  \n",
              "the size of foundational large language models (LLMs) has grown exponentially , utilizing hundreds of billions of  \n",
              "parameters and trillions of training tokens.                                                                       \n",
              "</pre>\n"
            ]
          },
          "metadata": {},
          "execution_count": 20
        }
      ]
    },
    {
      "cell_type": "code",
      "source": [
        "%%time\n",
        "\n",
        "prompt_parts = [\n",
        "  pdf_context,\n",
        "  \"What are key achievement for Google Cloud from the following blog. Mention in bullet.\",\n",
        "]\n",
        "\n",
        "print(model.count_tokens(prompt_parts))\n",
        "response = model.generate_content(prompt_parts)\n",
        "print(\"\\n Usage Metadata:\\n\",response.usage_metadata)\n",
        "rich_Markdown(response.text)"
      ],
      "metadata": {
        "colab": {
          "base_uri": "https://localhost:8080/",
          "height": 622
        },
        "id": "PxrbrXiJ0xU3",
        "outputId": "5e23c4df-fe37-4c4c-ac75-71472c0e679a"
      },
      "execution_count": 21,
      "outputs": [
        {
          "output_type": "stream",
          "name": "stdout",
          "text": [
            "total_tokens: 7523\n",
            "total_billable_characters: 17571\n",
            "\n",
            "\n",
            " Usage Metadata:\n",
            " prompt_token_count: 7523\n",
            "candidates_token_count: 427\n",
            "total_token_count: 7950\n",
            "\n",
            "CPU times: user 74.8 ms, sys: 13.3 ms, total: 88.1 ms\n",
            "Wall time: 10 s\n"
          ]
        },
        {
          "output_type": "execute_result",
          "data": {
            "text/plain": [
              "Here are the key achievements of Google Cloud outlined in the blog, presented as bullet points:                    \n",
              "\n",
              "\u001b[1;33m • \u001b[0m\u001b[1mDemonstrated world's largest distributed training job for LLMs:\u001b[0m Successfully trained large language models      \n",
              "\u001b[1;33m   \u001b[0m(LLMs) across a massive compute cluster of 50,944 Cloud TPU v5e chips. This is believed to be the largest       \n",
              "\u001b[1;33m   \u001b[0mpublicly disclosed LLM distributed training job to date (based on the number of chips).                         \n",
              "\u001b[1;33m • \u001b[0m\u001b[1mAchieved high training performance:\u001b[0m Achieved a Model FLOPs Utilization (MFU) as high as 66.86% with BF16        \n",
              "\u001b[1;33m   \u001b[0mtraining and strong scaling outcomes up to 160 pods. Using INT8 quantization with the AQT library resulted in an\n",
              "\u001b[1;33m   \u001b[0mimpressive 5.32 exa-OP/s, highlighting efficiency gains.                                                        \n",
              "\u001b[1;33m • \u001b[0m\u001b[1mAdvanced and Open-Sourced Key Technologies:\u001b[0m Further developed and made publicly available several crucial       \n",
              "\u001b[1;33m   \u001b[0mcomponents for large-scale ML training:                                                                         \n",
              "\u001b[1;33m   \u001b[0m\u001b[1;33m • \u001b[0m\u001b[1mCloud TPU Multislice Training:\u001b[0m A full-stack training offering designed for scalability, reliability, and ease\n",
              "\u001b[1;33m   \u001b[0m\u001b[1;33m   \u001b[0mof use in optimizing large-scale ML training.                                                                \n",
              "\u001b[1;33m   \u001b[0m\u001b[1;33m • \u001b[0m\u001b[1mXPK:\u001b[0m An ML cluster and job orchestration tool built for use with Google Kubernetes Engine (GKE), simplifying \n",
              "\u001b[1;33m   \u001b[0m\u001b[1;33m   \u001b[0mML job management for engineers.                                                                             \n",
              "\u001b[1;33m   \u001b[0m\u001b[1;33m • \u001b[0m\u001b[1mMaxText:\u001b[0m  A performant and adaptable JAX LLM implementation that leverages XLA for high performance and is   \n",
              "\u001b[1;33m   \u001b[0m\u001b[1;33m   \u001b[0measy for engineers to understand and modify.                                                                 \n",
              "\u001b[1;33m   \u001b[0m\u001b[1;33m • \u001b[0m\u001b[1mAQT:\u001b[0m An efficient training library that uses 8-bit integer quantization for faster training without          \n",
              "\u001b[1;33m   \u001b[0m\u001b[1;33m   \u001b[0msacrificing model quality.                                                                                   \n",
              "\u001b[1;33m • \u001b[0m\u001b[1mOvercame technical challenges of distributed training:\u001b[0m Addressed key challenges in orchestration, compilation,  \n",
              "\u001b[1;33m   \u001b[0mand end-to-end optimization for training at an unprecedented scale. Notably, the teams optimized GKE for        \n",
              "\u001b[1;33m   \u001b[0mhandling large numbers of VMs, improved XLA runtime for large-scale communication, and implemented efficient    \n",
              "\u001b[1;33m   \u001b[0mcheckpointing and data loading strategies.                                                                      \n",
              "\n",
              "These achievements solidify Google Cloud's leadership in providing cutting-edge infrastructure and software        \n",
              "solutions for the rapidly evolving field of large-scale AI and generative AI research.                             \n"
            ],
            "text/html": [
              "<pre style=\"white-space:pre;overflow-x:auto;line-height:normal;font-family:Menlo,'DejaVu Sans Mono',consolas,'Courier New',monospace\">Here are the key achievements of Google Cloud outlined in the blog, presented as bullet points:                    \n",
              "\n",
              "<span style=\"color: #808000; text-decoration-color: #808000; font-weight: bold\"> • </span><span style=\"font-weight: bold\">Demonstrated world's largest distributed training job for LLMs:</span> Successfully trained large language models      \n",
              "<span style=\"color: #808000; text-decoration-color: #808000; font-weight: bold\">   </span>(LLMs) across a massive compute cluster of 50,944 Cloud TPU v5e chips. This is believed to be the largest       \n",
              "<span style=\"color: #808000; text-decoration-color: #808000; font-weight: bold\">   </span>publicly disclosed LLM distributed training job to date (based on the number of chips).                         \n",
              "<span style=\"color: #808000; text-decoration-color: #808000; font-weight: bold\"> • </span><span style=\"font-weight: bold\">Achieved high training performance:</span> Achieved a Model FLOPs Utilization (MFU) as high as 66.86% with BF16        \n",
              "<span style=\"color: #808000; text-decoration-color: #808000; font-weight: bold\">   </span>training and strong scaling outcomes up to 160 pods. Using INT8 quantization with the AQT library resulted in an\n",
              "<span style=\"color: #808000; text-decoration-color: #808000; font-weight: bold\">   </span>impressive 5.32 exa-OP/s, highlighting efficiency gains.                                                        \n",
              "<span style=\"color: #808000; text-decoration-color: #808000; font-weight: bold\"> • </span><span style=\"font-weight: bold\">Advanced and Open-Sourced Key Technologies:</span> Further developed and made publicly available several crucial       \n",
              "<span style=\"color: #808000; text-decoration-color: #808000; font-weight: bold\">   </span>components for large-scale ML training:                                                                         \n",
              "<span style=\"color: #808000; text-decoration-color: #808000; font-weight: bold\">    • </span><span style=\"font-weight: bold\">Cloud TPU Multislice Training:</span> A full-stack training offering designed for scalability, reliability, and ease\n",
              "<span style=\"color: #808000; text-decoration-color: #808000; font-weight: bold\">      </span>of use in optimizing large-scale ML training.                                                                \n",
              "<span style=\"color: #808000; text-decoration-color: #808000; font-weight: bold\">    • </span><span style=\"font-weight: bold\">XPK:</span> An ML cluster and job orchestration tool built for use with Google Kubernetes Engine (GKE), simplifying \n",
              "<span style=\"color: #808000; text-decoration-color: #808000; font-weight: bold\">      </span>ML job management for engineers.                                                                             \n",
              "<span style=\"color: #808000; text-decoration-color: #808000; font-weight: bold\">    • </span><span style=\"font-weight: bold\">MaxText:</span>  A performant and adaptable JAX LLM implementation that leverages XLA for high performance and is   \n",
              "<span style=\"color: #808000; text-decoration-color: #808000; font-weight: bold\">      </span>easy for engineers to understand and modify.                                                                 \n",
              "<span style=\"color: #808000; text-decoration-color: #808000; font-weight: bold\">    • </span><span style=\"font-weight: bold\">AQT:</span> An efficient training library that uses 8-bit integer quantization for faster training without          \n",
              "<span style=\"color: #808000; text-decoration-color: #808000; font-weight: bold\">      </span>sacrificing model quality.                                                                                   \n",
              "<span style=\"color: #808000; text-decoration-color: #808000; font-weight: bold\"> • </span><span style=\"font-weight: bold\">Overcame technical challenges of distributed training:</span> Addressed key challenges in orchestration, compilation,  \n",
              "<span style=\"color: #808000; text-decoration-color: #808000; font-weight: bold\">   </span>and end-to-end optimization for training at an unprecedented scale. Notably, the teams optimized GKE for        \n",
              "<span style=\"color: #808000; text-decoration-color: #808000; font-weight: bold\">   </span>handling large numbers of VMs, improved XLA runtime for large-scale communication, and implemented efficient    \n",
              "<span style=\"color: #808000; text-decoration-color: #808000; font-weight: bold\">   </span>checkpointing and data loading strategies.                                                                      \n",
              "\n",
              "These achievements solidify Google Cloud's leadership in providing cutting-edge infrastructure and software        \n",
              "solutions for the rapidly evolving field of large-scale AI and generative AI research.                             \n",
              "</pre>\n"
            ]
          },
          "metadata": {},
          "execution_count": 21
        }
      ]
    },
    {
      "cell_type": "code",
      "source": [
        "%%time\n",
        "\n",
        "print(model_flash.count_tokens(prompt_parts))\n",
        "response = model_flash.generate_content(prompt_parts)\n",
        "print(\"\\n Usage Metadata:\\n\",response.usage_metadata)\n",
        "rich_Markdown(response.text)"
      ],
      "metadata": {
        "colab": {
          "base_uri": "https://localhost:8080/",
          "height": 557
        },
        "id": "D2A5LxDW1O6v",
        "outputId": "0cd0c46a-cbbd-417e-9f52-dbf2603a518e"
      },
      "execution_count": 23,
      "outputs": [
        {
          "output_type": "stream",
          "name": "stdout",
          "text": [
            "total_tokens: 7523\n",
            "total_billable_characters: 17571\n",
            "\n",
            "\n",
            " Usage Metadata:\n",
            " prompt_token_count: 7523\n",
            "candidates_token_count: 371\n",
            "total_token_count: 7894\n",
            "\n",
            "CPU times: user 38.9 ms, sys: 5.12 ms, total: 44 ms\n",
            "Wall time: 3.56 s\n"
          ]
        },
        {
          "output_type": "execute_result",
          "data": {
            "text/plain": [
              "Here are the key achievements mentioned in the blog for Google Cloud:                                              \n",
              "\n",
              "\u001b[1;33m • \u001b[0m\u001b[1mLargest Distributed LLM Training Job:\u001b[0m Google Cloud demonstrated the world's largest publicly disclosed LLM      \n",
              "\u001b[1;33m   \u001b[0mdistributed training job, using over 50,000 TPU v5e chips.                                                      \n",
              "\u001b[1;33m • \u001b[0m\u001b[1mCloud TPU Multislice Training:\u001b[0m  Google Cloud introduced the general availability of Cloud TPU Multislice        \n",
              "\u001b[1;33m   \u001b[0mTraining, a full-stack training offering designed for scalability, reliability, and ease of use in large-scale  \n",
              "\u001b[1;33m   \u001b[0mML training.                                                                                                    \n",
              "\u001b[1;33m • \u001b[0m\u001b[1mEfficient Scalability:\u001b[0m  They achieved excellent scaling across 50,944 TPU v5e chips, demonstrating the ability  \n",
              "\u001b[1;33m   \u001b[0mto efficiently train large language models at scale.                                                            \n",
              "\u001b[1;33m • \u001b[0m\u001b[1mPerformance Optimization:\u001b[0m They pushed the limits of the JAX training stack, achieving impressive performance    \n",
              "\u001b[1;33m   \u001b[0mwith both BF16 and INT8 quantized training.                                                                     \n",
              "\u001b[1;33m • \u001b[0m\u001b[1mOpen-Sourcing Key Components:\u001b[0m  Google Cloud open-sourced key components of the Multislice Training stack,       \n",
              "\u001b[1;33m   \u001b[0mincluding MaxText, XPK, AQT, and XLA, to contribute to the broader AI/ML community.                             \n",
              "\u001b[1;33m • \u001b[0m\u001b[1mImproved Infrastructure:\u001b[0m  They optimized Google Kubernetes Engine (GKE) to manage large clusters, enabling the  \n",
              "\u001b[1;33m   \u001b[0mefficient orchestration of massive ML jobs.                                                                     \n",
              "\u001b[1;33m • \u001b[0m\u001b[1mQuantized Training Acceleration:\u001b[0m  Their Accurate Quantized Training (AQT) library achieved a 1.2X to 1.4X       \n",
              "\u001b[1;33m   \u001b[0macceleration in training steps per second while maintaining model quality.                                      \n",
              "\u001b[1;33m • \u001b[0m\u001b[1mSoftware Stack Innovation:\u001b[0m  They continued to innovate on their software stack, addressing challenges in        \n",
              "\u001b[1;33m   \u001b[0morchestration, compilation, and end-to-end optimization for large-scale ML training.                            \n",
              "\u001b[1;33m • \u001b[0m\u001b[1mPerformance Metrics:\u001b[0m They achieved impressive Model FLOPs Utilization (MFU) and Effective Model FLOPs           \n",
              "\u001b[1;33m   \u001b[0mUtilization (EMFU) results, demonstrating efficient hardware utilization during training.                       \n"
            ],
            "text/html": [
              "<pre style=\"white-space:pre;overflow-x:auto;line-height:normal;font-family:Menlo,'DejaVu Sans Mono',consolas,'Courier New',monospace\">Here are the key achievements mentioned in the blog for Google Cloud:                                              \n",
              "\n",
              "<span style=\"color: #808000; text-decoration-color: #808000; font-weight: bold\"> • </span><span style=\"font-weight: bold\">Largest Distributed LLM Training Job:</span> Google Cloud demonstrated the world's largest publicly disclosed LLM      \n",
              "<span style=\"color: #808000; text-decoration-color: #808000; font-weight: bold\">   </span>distributed training job, using over 50,000 TPU v5e chips.                                                      \n",
              "<span style=\"color: #808000; text-decoration-color: #808000; font-weight: bold\"> • </span><span style=\"font-weight: bold\">Cloud TPU Multislice Training:</span>  Google Cloud introduced the general availability of Cloud TPU Multislice        \n",
              "<span style=\"color: #808000; text-decoration-color: #808000; font-weight: bold\">   </span>Training, a full-stack training offering designed for scalability, reliability, and ease of use in large-scale  \n",
              "<span style=\"color: #808000; text-decoration-color: #808000; font-weight: bold\">   </span>ML training.                                                                                                    \n",
              "<span style=\"color: #808000; text-decoration-color: #808000; font-weight: bold\"> • </span><span style=\"font-weight: bold\">Efficient Scalability:</span>  They achieved excellent scaling across 50,944 TPU v5e chips, demonstrating the ability  \n",
              "<span style=\"color: #808000; text-decoration-color: #808000; font-weight: bold\">   </span>to efficiently train large language models at scale.                                                            \n",
              "<span style=\"color: #808000; text-decoration-color: #808000; font-weight: bold\"> • </span><span style=\"font-weight: bold\">Performance Optimization:</span> They pushed the limits of the JAX training stack, achieving impressive performance    \n",
              "<span style=\"color: #808000; text-decoration-color: #808000; font-weight: bold\">   </span>with both BF16 and INT8 quantized training.                                                                     \n",
              "<span style=\"color: #808000; text-decoration-color: #808000; font-weight: bold\"> • </span><span style=\"font-weight: bold\">Open-Sourcing Key Components:</span>  Google Cloud open-sourced key components of the Multislice Training stack,       \n",
              "<span style=\"color: #808000; text-decoration-color: #808000; font-weight: bold\">   </span>including MaxText, XPK, AQT, and XLA, to contribute to the broader AI/ML community.                             \n",
              "<span style=\"color: #808000; text-decoration-color: #808000; font-weight: bold\"> • </span><span style=\"font-weight: bold\">Improved Infrastructure:</span>  They optimized Google Kubernetes Engine (GKE) to manage large clusters, enabling the  \n",
              "<span style=\"color: #808000; text-decoration-color: #808000; font-weight: bold\">   </span>efficient orchestration of massive ML jobs.                                                                     \n",
              "<span style=\"color: #808000; text-decoration-color: #808000; font-weight: bold\"> • </span><span style=\"font-weight: bold\">Quantized Training Acceleration:</span>  Their Accurate Quantized Training (AQT) library achieved a 1.2X to 1.4X       \n",
              "<span style=\"color: #808000; text-decoration-color: #808000; font-weight: bold\">   </span>acceleration in training steps per second while maintaining model quality.                                      \n",
              "<span style=\"color: #808000; text-decoration-color: #808000; font-weight: bold\"> • </span><span style=\"font-weight: bold\">Software Stack Innovation:</span>  They continued to innovate on their software stack, addressing challenges in        \n",
              "<span style=\"color: #808000; text-decoration-color: #808000; font-weight: bold\">   </span>orchestration, compilation, and end-to-end optimization for large-scale ML training.                            \n",
              "<span style=\"color: #808000; text-decoration-color: #808000; font-weight: bold\"> • </span><span style=\"font-weight: bold\">Performance Metrics:</span> They achieved impressive Model FLOPs Utilization (MFU) and Effective Model FLOPs           \n",
              "<span style=\"color: #808000; text-decoration-color: #808000; font-weight: bold\">   </span>Utilization (EMFU) results, demonstrating efficient hardware utilization during training.                       \n",
              "</pre>\n"
            ]
          },
          "metadata": {},
          "execution_count": 23
        }
      ]
    },
    {
      "cell_type": "markdown",
      "source": [
        "Understand your billing: [Link](https://cloud.google.com/vertex-ai/generative-ai/pricing)"
      ],
      "metadata": {
        "id": "aljolHAk-zXz"
      }
    },
    {
      "cell_type": "markdown",
      "source": [
        "Source File: [Link](https://storage.googleapis.com/gemini-lavi-asset/idea_doc/goog-10-q-q2-2023-4-1-15.pdf) ~15 pages"
      ],
      "metadata": {
        "id": "M7VegcAS-4OT"
      }
    },
    {
      "cell_type": "code",
      "source": [
        "%%time\n",
        "\n",
        "prompt_parts = [\n",
        "  pdf_to_dict_str('https://storage.googleapis.com/gemini-lavi-asset/idea_doc/goog-10-q-q2-2023-4-1-15.pdf'),\n",
        "  \"\"\"Answer based on the document provided:\n",
        "- How has Google Cloud performed in last quarters?\n",
        "- What factors have influenced its numebrs and is it positive or negative?\n",
        "- What is the leadership view on Google Cloud business?\n",
        "- What are some changes and decisions they have made along the way to achieve their goals?\n",
        "- How are they doing with respect to other cloud companies?\n",
        "  \"\"\",\n",
        "]\n",
        "print(model_flash.count_tokens(prompt_parts))\n",
        "response = model.generate_content(prompt_parts)\n",
        "print(\"\\n Usage Metadata:\\n\",response.usage_metadata)\n",
        "rich_Markdown(response.text)"
      ],
      "metadata": {
        "id": "6wFDusjknFLr",
        "colab": {
          "base_uri": "https://localhost:8080/",
          "height": 687
        },
        "outputId": "4e9d0031-04b4-4be1-89a2-3aeaaf020054"
      },
      "execution_count": 24,
      "outputs": [
        {
          "output_type": "stream",
          "name": "stdout",
          "text": [
            "total_tokens: 11470\n",
            "total_billable_characters: 29442\n",
            "\n",
            "\n",
            " Usage Metadata:\n",
            " prompt_token_count: 11470\n",
            "candidates_token_count: 386\n",
            "total_token_count: 11856\n",
            "\n",
            "CPU times: user 1.56 s, sys: 15.6 ms, total: 1.57 s\n",
            "Wall time: 10.9 s\n"
          ]
        },
        {
          "output_type": "execute_result",
          "data": {
            "text/plain": [
              "While the provided financial statement excerpt offers some insights into Google Cloud's performance, it lacks the  \n",
              "depth to answer your questions comprehensively.                                                                    \n",
              "\n",
              "Here's what we can glean from the document:                                                                        \n",
              "\n",
              "\u001b[1;33m • \u001b[0m\u001b[1mGoogle Cloud is growing\u001b[0m: We see Google Cloud revenues have increased in both the three and six months ended June\n",
              "\u001b[1;33m   \u001b[0m30, 2023, compared to the same periods in 2022. This suggests positive momentum.                                \n",
              "\u001b[1;33m • \u001b[0m\u001b[1mRevenue backlog is significant\u001b[0m:  A large portion of Google Cloud's revenue is backlog, indicating strong future \n",
              "\u001b[1;33m   \u001b[0mrevenue potential.                                                                                              \n",
              "\n",
              "However, we \u001b[1mcannot\u001b[0m ascertain the following from this document alone:                                               \n",
              "\n",
              "\u001b[1;33m • \u001b[0m\u001b[1mSpecific factors influencing Google Cloud's numbers\u001b[0m:  We need a more detailed breakdown of Google Cloud's       \n",
              "\u001b[1;33m   \u001b[0mrevenue drivers, cost structure, and competitive landscape to understand the factors influencing its            \n",
              "\u001b[1;33m   \u001b[0mperformance.                                                                                                    \n",
              "\u001b[1;33m • \u001b[0m\u001b[1mLeadership's view\u001b[0m:  Management's discussion and analysis, usually present in 10-Q reports, would provide        \n",
              "\u001b[1;33m   \u001b[0mleadership's perspective on the business, including their assessment of Google Cloud.                           \n",
              "\u001b[1;33m • \u001b[0m\u001b[1mComparison to competitors\u001b[0m:  This document doesn't provide competitor data. We need market share information and \n",
              "\u001b[1;33m   \u001b[0mcompetitor financial performance to assess Google Cloud's relative performance.                                 \n",
              "\n",
              "\u001b[1mTo get a complete picture, you'd need to consult:\u001b[0m                                                                  \n",
              "\n",
              "\u001b[1;33m • \u001b[0m\u001b[1mThe complete Alphabet Inc. Form 10-Q for the quarterly period ended June 30, 2023.\u001b[0m This document would contain  \n",
              "\u001b[1;33m   \u001b[0msections like Management's Discussion and Analysis, which provides further insights into Google Cloud.          \n",
              "\u001b[1;33m • \u001b[0m\u001b[1mIndustry reports and competitor analysis\u001b[0m:  Seeking information from reputable sources that track the cloud      \n",
              "\u001b[1;33m   \u001b[0mcomputing market would offer a broader context.                                                                 \n",
              "\n",
              "By combining information from these sources, you can develop a well-rounded understanding of Google Cloud's recent \n",
              "performance, the factors driving it, leadership's perspective, and its competitive standing.                       \n"
            ],
            "text/html": [
              "<pre style=\"white-space:pre;overflow-x:auto;line-height:normal;font-family:Menlo,'DejaVu Sans Mono',consolas,'Courier New',monospace\">While the provided financial statement excerpt offers some insights into Google Cloud's performance, it lacks the  \n",
              "depth to answer your questions comprehensively.                                                                    \n",
              "\n",
              "Here's what we can glean from the document:                                                                        \n",
              "\n",
              "<span style=\"color: #808000; text-decoration-color: #808000; font-weight: bold\"> • </span><span style=\"font-weight: bold\">Google Cloud is growing</span>: We see Google Cloud revenues have increased in both the three and six months ended June\n",
              "<span style=\"color: #808000; text-decoration-color: #808000; font-weight: bold\">   </span>30, 2023, compared to the same periods in 2022. This suggests positive momentum.                                \n",
              "<span style=\"color: #808000; text-decoration-color: #808000; font-weight: bold\"> • </span><span style=\"font-weight: bold\">Revenue backlog is significant</span>:  A large portion of Google Cloud's revenue is backlog, indicating strong future \n",
              "<span style=\"color: #808000; text-decoration-color: #808000; font-weight: bold\">   </span>revenue potential.                                                                                              \n",
              "\n",
              "However, we <span style=\"font-weight: bold\">cannot</span> ascertain the following from this document alone:                                               \n",
              "\n",
              "<span style=\"color: #808000; text-decoration-color: #808000; font-weight: bold\"> • </span><span style=\"font-weight: bold\">Specific factors influencing Google Cloud's numbers</span>:  We need a more detailed breakdown of Google Cloud's       \n",
              "<span style=\"color: #808000; text-decoration-color: #808000; font-weight: bold\">   </span>revenue drivers, cost structure, and competitive landscape to understand the factors influencing its            \n",
              "<span style=\"color: #808000; text-decoration-color: #808000; font-weight: bold\">   </span>performance.                                                                                                    \n",
              "<span style=\"color: #808000; text-decoration-color: #808000; font-weight: bold\"> • </span><span style=\"font-weight: bold\">Leadership's view</span>:  Management's discussion and analysis, usually present in 10-Q reports, would provide        \n",
              "<span style=\"color: #808000; text-decoration-color: #808000; font-weight: bold\">   </span>leadership's perspective on the business, including their assessment of Google Cloud.                           \n",
              "<span style=\"color: #808000; text-decoration-color: #808000; font-weight: bold\"> • </span><span style=\"font-weight: bold\">Comparison to competitors</span>:  This document doesn't provide competitor data. We need market share information and \n",
              "<span style=\"color: #808000; text-decoration-color: #808000; font-weight: bold\">   </span>competitor financial performance to assess Google Cloud's relative performance.                                 \n",
              "\n",
              "<span style=\"font-weight: bold\">To get a complete picture, you'd need to consult:</span>                                                                  \n",
              "\n",
              "<span style=\"color: #808000; text-decoration-color: #808000; font-weight: bold\"> • </span><span style=\"font-weight: bold\">The complete Alphabet Inc. Form 10-Q for the quarterly period ended June 30, 2023.</span> This document would contain  \n",
              "<span style=\"color: #808000; text-decoration-color: #808000; font-weight: bold\">   </span>sections like Management's Discussion and Analysis, which provides further insights into Google Cloud.          \n",
              "<span style=\"color: #808000; text-decoration-color: #808000; font-weight: bold\"> • </span><span style=\"font-weight: bold\">Industry reports and competitor analysis</span>:  Seeking information from reputable sources that track the cloud      \n",
              "<span style=\"color: #808000; text-decoration-color: #808000; font-weight: bold\">   </span>computing market would offer a broader context.                                                                 \n",
              "\n",
              "By combining information from these sources, you can develop a well-rounded understanding of Google Cloud's recent \n",
              "performance, the factors driving it, leadership's perspective, and its competitive standing.                       \n",
              "</pre>\n"
            ]
          },
          "metadata": {},
          "execution_count": 24
        }
      ]
    },
    {
      "cell_type": "markdown",
      "source": [
        "### Audio File"
      ],
      "metadata": {
        "id": "00EsLYuNbGPa"
      }
    },
    {
      "cell_type": "markdown",
      "source": [
        "[What Changed: ]\n",
        "\n",
        "- File Upload method\n",
        "\n",
        "\n",
        "Before:\n",
        "\n",
        "- genai.upload_file\n",
        "\n",
        "After:\n",
        "\n",
        "- Part.from_uri [reading from GCS]\n"
      ],
      "metadata": {
        "id": "eGomNFGQXXvR"
      }
    },
    {
      "cell_type": "markdown",
      "source": [
        "Source File: [Link](https://storage.googleapis.com/gemini-lavi-asset/idea_doc/stage_1_prototype_Alphabet%202023%20Q4%20Earnings%20Call.mp3) ~1 hour"
      ],
      "metadata": {
        "id": "c_1nmVuAAGGE"
      }
    },
    {
      "cell_type": "code",
      "source": [
        "from vertexai.generative_models import Part"
      ],
      "metadata": {
        "id": "D1HsR1xYXuX3"
      },
      "execution_count": 25,
      "outputs": []
    },
    {
      "cell_type": "code",
      "source": [
        "earning_calls = Part.from_uri(uri = \"gs://gemini-lavi-asset/production/earning_calls/Alphabet 2023 Q4 Earnings Call.mp3\",\n",
        "    mime_type=\"audio/mpeg\")"
      ],
      "metadata": {
        "id": "3PjkJqwwbIJy"
      },
      "execution_count": 26,
      "outputs": []
    },
    {
      "cell_type": "code",
      "source": [
        "%%time\n",
        "\n",
        "prompt_parts = [\n",
        "  earning_calls,\n",
        "  \"what are major comments by Sundar and Ruth about AI and what key questions were asked by analyst and give their name? give answer in bullets \",\n",
        "]\n",
        "print(model.count_tokens(prompt_parts))\n",
        "response = model.generate_content(prompt_parts)\n",
        "print(\"\\n Usage Metadata:\\n\",response.usage_metadata)\n",
        "rich_Markdown(response.text)"
      ],
      "metadata": {
        "id": "Z9SIRpVhbiv8",
        "colab": {
          "base_uri": "https://localhost:8080/",
          "height": 1000
        },
        "outputId": "4362e77c-bcca-47d0-e216-a49dcb48d0f7"
      },
      "execution_count": 27,
      "outputs": [
        {
          "output_type": "stream",
          "name": "stdout",
          "text": [
            "total_tokens: 29\n",
            "total_billable_characters: 115\n",
            "\n",
            "\n",
            " Usage Metadata:\n",
            " prompt_token_count: 29\n",
            "candidates_token_count: 1643\n",
            "total_token_count: 1672\n",
            "\n",
            "CPU times: user 539 ms, sys: 89 ms, total: 628 ms\n",
            "Wall time: 1min 29s\n"
          ]
        },
        {
          "output_type": "execute_result",
          "data": {
            "text/plain": [
              "Here are the key comments and questions about AI from Alphabet's Q4 2023 earnings call, broken down by speaker:    \n",
              "\n",
              "\u001b[1mSundar Pichai (CEO)\u001b[0m                                                                                                \n",
              "\n",
              "\u001b[1;33m • \u001b[0m\u001b[1mAI Momentum:\u001b[0m Alphabet's results reflect strong momentum in AI and product innovation, continuing into 2024.     \n",
              "\u001b[1;33m • \u001b[0m\u001b[1mAI Investments:\u001b[0m  AI is a core area of investment, with significant focus on its impact on Search, Cloud, and    \n",
              "\u001b[1;33m   \u001b[0mother products.                                                                                                 \n",
              "\u001b[1;33m • \u001b[0m\u001b[1mSearch Generative Experience (SGE):\u001b[0m  SGE is powered by Gemini and is already making Search faster and more      \n",
              "\u001b[1;33m   \u001b[0mcapable of handling complex questions. They are seeing good early user satisfaction.                            \n",
              "\u001b[1;33m • \u001b[0m\u001b[1mGemini AI Model:\u001b[0m Gemini, the result of combining Google's AI research teams, is an industry-leading model that  \n",
              "\u001b[1;33m   \u001b[0munderstands text, images, audio, video, and code. This will fuel the next generation of advancements across many\n",
              "\u001b[1;33m   \u001b[0mproducts.                                                                                                       \n",
              "\u001b[1;33m • \u001b[0m\u001b[1mBard AI Chatbot:\u001b[0m  Bard, powered by Gemini Pro, is significantly more capable in understanding, summarizing,     \n",
              "\u001b[1;33m   \u001b[0mreasoning, coding, and planning. An even more advanced version for subscribers powered by Gemini Ultra is on the\n",
              "\u001b[1;33m   \u001b[0mroadmap.                                                                                                        \n",
              "\u001b[1;33m • \u001b[0m\u001b[1mCloud AI Leadership:\u001b[0m Google Cloud's GenAI capabilities are driving growth and attracting major clients. Google's\n",
              "\u001b[1;33m   \u001b[0mAI infrastructure, including TPU/GPU supercomputers, is a key differentiator.                                   \n",
              "\n",
              "\u001b[1mRuth Porat (CFO)\u001b[0m                                                                                                   \n",
              "\n",
              "\u001b[1;33m • \u001b[0m\u001b[1mAI-Driven Revenue Growth:\u001b[0m  2023 Alphabet revenue growth was driven in part by AI-powered products and services, \n",
              "\u001b[1;33m   \u001b[0mnotably in Cloud and Search.                                                                                    \n",
              "\u001b[1;33m • \u001b[0m\u001b[1mSustained Investment:\u001b[0m Alphabet will continue to invest responsibly in data centers and compute to support AI    \n",
              "\u001b[1;33m   \u001b[0mgrowth, while remaining disciplined with expenses.                                                              \n",
              "\n",
              "\u001b[1mAnalyst Questions and Answers\u001b[0m                                                                                      \n",
              "\n",
              "\u001b[1;33m • \u001b[0m\u001b[1mBrian Nowak (Morgan Stanley):\u001b[0m                                                                                   \n",
              "\u001b[1;33m   \u001b[0m\u001b[1;33m • \u001b[0m\u001b[1mQuestion 1:\u001b[0m What are the hurdles and gating factors dictating the pace of generative AI advertising tools'   \n",
              "\u001b[1;33m   \u001b[0m\u001b[1;33m   \u001b[0mrollout, and when could these tools have a bigger impact on the overall business?                            \n",
              "\u001b[1;33m   \u001b[0m\u001b[1;33m • \u001b[0m\u001b[1mQuestion 2:\u001b[0m How do you think about the long-term sales force intensity of the advertising business as more   \n",
              "\u001b[1;33m   \u001b[0m\u001b[1;33m   \u001b[0mAI-based tools like PMax impact overall ad allocation?                                                       \n",
              "\u001b[1;33m   \u001b[0m\u001b[1;33m • \u001b[0m\u001b[1mAnswer (Philipp Schindler, Chief Business Officer):\u001b[0m  AI has been central to Google's advertising for a long  \n",
              "\u001b[1;33m   \u001b[0m\u001b[1;33m   \u001b[0mtime. The recent advances allow them to drive more value across a range of areas like bidding, targeting, and\n",
              "\u001b[1;33m   \u001b[0m\u001b[1;33m   \u001b[0mcreative. PMax continues to perform well. Adoption of AI tools is driven by getting teams ready to take full \n",
              "\u001b[1;33m   \u001b[0m\u001b[1;33m   \u001b[0madvantage of them. Google's approach prioritizes transformation and growth for all types of customers.       \n",
              "\u001b[1;33m • \u001b[0m\u001b[1mDoug Anmuth (JP Morgan):\u001b[0m                                                                                        \n",
              "\u001b[1;33m   \u001b[0m\u001b[1;33m • \u001b[0m\u001b[1mQuestion 1 (for Ruth):\u001b[0m Can you assess progress on re-engineering the cost structure and provide guideposts   \n",
              "\u001b[1;33m   \u001b[0m\u001b[1;33m   \u001b[0mfor the future?                                                                                              \n",
              "\u001b[1;33m   \u001b[0m\u001b[1;33m • \u001b[0m\u001b[1mQuestion 2 (for Philipp):\u001b[0m Can you discuss more about NFL Sunday Ticket, key learnings from year one, and how \n",
              "\u001b[1;33m   \u001b[0m\u001b[1;33m   \u001b[0myou think about returns on investment, from both an advertising and subscriber perspective?                  \n",
              "\u001b[1;33m   \u001b[0m\u001b[1;33m • \u001b[0m\u001b[1mAnswer 1 (Ruth):\u001b[0m  Alphabet is committed to re-engineering its cost structure while investing for growth      \n",
              "\u001b[1;33m   \u001b[0m\u001b[1;33m   \u001b[0mpriorities. This involves product prioritization, organizational efficiency, a slower hiring pace, and       \n",
              "\u001b[1;33m   \u001b[0m\u001b[1;33m   \u001b[0mongoing efforts in infrastructure optimization and real estate.                                              \n",
              "\u001b[1;33m   \u001b[0m\u001b[1;33m • \u001b[0m\u001b[1mAnswer 2 (Philipp):\u001b[0m NFL Sunday Ticket is a key part of YouTube's strategy to become the must-have app on     \n",
              "\u001b[1;33m   \u001b[0m\u001b[1;33m   \u001b[0mevery TV. User experience feedback has been positive, including regarding navigation, multiview, chat, and   \n",
              "\u001b[1;33m   \u001b[0m\u001b[1;33m   \u001b[0mlow latency. YouTube is pleased with both subscriber sign-ups and advertising demand for the NFL content.    \n",
              "\u001b[1;33m • \u001b[0m\u001b[1mEric Sheridan (Goldman Sachs):\u001b[0m                                                                                  \n",
              "\u001b[1;33m   \u001b[0m\u001b[1;33m • \u001b[0m\u001b[1mQuestion 1 (for Sundar):\u001b[0m How do you see traditional search and Google Assistant evolving in a world with SGE,\n",
              "\u001b[1;33m   \u001b[0m\u001b[1;33m   \u001b[0mBard, and other AI experiences, and how might commercial and non-commercial search use cases change?         \n",
              "\u001b[1;33m   \u001b[0m\u001b[1;33m • \u001b[0m\u001b[1mQuestion 2 (for Ruth):\u001b[0m Could you clarify the one-time items in the earnings release and where they were      \n",
              "\u001b[1;33m   \u001b[0m\u001b[1;33m   \u001b[0mcaptured in the P&L, and were there any legal one-time items?                                                \n",
              "\u001b[1;33m   \u001b[0m\u001b[1;33m • \u001b[0m\u001b[1mAnswer 1 (Sundar):\u001b[0m SGE works well for certain types of queries, and they are expanding its capabilities. He  \n",
              "\u001b[1;33m   \u001b[0m\u001b[1;33m   \u001b[0mbelieves Google Assistant will be complementary, and generative AI will enable it to act more like an agent  \n",
              "\u001b[1;33m   \u001b[0m\u001b[1;33m   \u001b[0mand anticipate user needs.                                                                                   \n",
              "\u001b[1;33m   \u001b[0m\u001b[1;33m • \u001b[0m\u001b[1mAnswer 2 (Ruth):\u001b[0m The $1.2 billion in exit charges related to real estate are reflected in Alphabet-level     \n",
              "\u001b[1;33m   \u001b[0m\u001b[1;33m   \u001b[0mactivities, but spread across various line items in the P&L. Investor Relations can provide more details on  \n",
              "\u001b[1;33m   \u001b[0m\u001b[1;33m   \u001b[0mthe breakdown.                                                                                               \n",
              "\u001b[1;33m • \u001b[0m\u001b[1mJustin Post (BAML):\u001b[0m                                                                                             \n",
              "\u001b[1;33m   \u001b[0m\u001b[1;33m • \u001b[0m\u001b[1mQuestion 1 (for Sundar):\u001b[0m Are there concerns about the use of competitive AI tools as an alternative to       \n",
              "\u001b[1;33m   \u001b[0m\u001b[1;33m   \u001b[0mSearch, and what changes, positive or negative, have you seen in query volumes as you have rolled out SGE?   \n",
              "\u001b[1;33m   \u001b[0m\u001b[1;33m   \u001b[0mWhat makes Google stand out from other AI tools?                                                             \n",
              "\u001b[1;33m   \u001b[0m\u001b[1;33m • \u001b[0m\u001b[1mQuestion 2 (for Ruth):\u001b[0m  The $11 billion in capex was a notable step-up. Were there any one-time items or is  \n",
              "\u001b[1;33m   \u001b[0m\u001b[1;33m   \u001b[0mthis the new run rate for 2024?                                                                              \n",
              "\u001b[1;33m   \u001b[0m\u001b[1;33m • \u001b[0m\u001b[1mAnswer 1 (Sundar):\u001b[0m  People have many information choices, and user expectations are always evolving. Google  \n",
              "\u001b[1;33m   \u001b[0m\u001b[1;33m   \u001b[0mhas a long track record of search innovation. Generative AI is a new tool in their arsenal, but search       \n",
              "\u001b[1;33m   \u001b[0m\u001b[1;33m   \u001b[0minvolves much more, including breadth, depth, and diversity across verticals. They are closely monitoring how\n",
              "\u001b[1;33m   \u001b[0m\u001b[1;33m   \u001b[0musers respond to SGE compared to other options.                                                              \n",
              "\u001b[1;33m   \u001b[0m\u001b[1;33m • \u001b[0m\u001b[1mAnswer 2 (Ruth):\u001b[0m  The $11 billion in Q4 capex was primarily investment in technical infrastructure, with no  \n",
              "\u001b[1;33m   \u001b[0m\u001b[1;33m   \u001b[0mone-time items. It reflects their outlook on AI and the long-term opportunity. They expect capex in 2024 to  \n",
              "\u001b[1;33m   \u001b[0m\u001b[1;33m   \u001b[0mbe notably larger than in 2023.                                                                              \n",
              "\u001b[1;33m • \u001b[0m\u001b[1mRoss Sandler (Barclays):\u001b[0m                                                                                        \n",
              "\u001b[1;33m   \u001b[0m\u001b[1;33m • \u001b[0m\u001b[1mQuestion:\u001b[0m Regarding the DOJ trial, a document disclosed from Google suggested that relying on ad quality     \n",
              "\u001b[1;33m   \u001b[0m\u001b[1;33m   \u001b[0mteams to deliver 20% RPM growth in Search is a fragile strategy. Given that the business has more than       \n",
              "\u001b[1;33m   \u001b[0m\u001b[1;33m   \u001b[0mdoubled since 2019, how do you feel about Google's ability to drive Search RPM going forward, considering the\n",
              "\u001b[1;33m   \u001b[0m\u001b[1;33m   \u001b[0mlarge revenue base?                                                                                          \n",
              "\u001b[1;33m   \u001b[0m\u001b[1;33m • \u001b[0m\u001b[1mAnswer (Sundar):\u001b[0m  He expressed tremendous confidence in Google's quality-driven approach to Search and Ads.  \n",
              "\u001b[1;33m   \u001b[0m\u001b[1;33m   \u001b[0mHe highlighted foundational pillars, including rigorous focus on ad quality to deliver ROI to advertisers,   \n",
              "\u001b[1;33m   \u001b[0m\u001b[1;33m   \u001b[0mimprove user experience, and maintain technical excellence. He believes AI will present opportunities in both\n",
              "\u001b[1;33m   \u001b[0m\u001b[1;33m   \u001b[0morganic and monetization aspects.                                                                            \n",
              "\u001b[1;33m • \u001b[0m\u001b[1mMark Mahaney (Evercore):\u001b[0m                                                                                        \n",
              "\u001b[1;33m   \u001b[0m\u001b[1;33m • \u001b[0m\u001b[1mQuestion 1:\u001b[0m What explains the volatility in Google Cloud's growth (deceleration last quarter, reacceleration \n",
              "\u001b[1;33m   \u001b[0m\u001b[1;33m   \u001b[0mthis quarter)? Is it due to optimization cycles or generative AI workloads trickling in?                     \n",
              "\u001b[1;33m   \u001b[0m\u001b[1;33m • \u001b[0m\u001b[1mQuestion 2:\u001b[0m  How are you using AI to improve creative offerings, particularly on YouTube and Ads? Is         \n",
              "\u001b[1;33m   \u001b[0m\u001b[1;33m   \u001b[0mAI-powered creative a new growth area? How far along are you in offering this to the market, and does it open\n",
              "\u001b[1;33m   \u001b[0m\u001b[1;33m   \u001b[0mup a new area of ad spend?                                                                                   \n",
              "\u001b[1;33m   \u001b[0m\u001b[1;33m • \u001b[0m\u001b[1mAnswer 1 (Sundar):\u001b[0m  Several factors, including excitement about Google Cloud's AI solutions on top of its    \n",
              "\u001b[1;33m   \u001b[0m\u001b[1;33m   \u001b[0mdata analytics infrastructure, are driving interest and adoption. Generative AI is playing a significant role\n",
              "\u001b[1;33m   \u001b[0m\u001b[1;33m   \u001b[0min this early adoption.                                                                                      \n",
              "\u001b[1;33m   \u001b[0m\u001b[1;33m • \u001b[0m\u001b[1mAnswer 2 (Philipp):\u001b[0m  AI has been critical to enabling YouTube creators. Their recent announcement about new  \n",
              "\u001b[1;33m   \u001b[0m\u001b[1;33m   \u001b[0mAI creativity features on YouTube demonstrates this commitment. He believes AI unlocks a new world of        \n",
              "\u001b[1;33m   \u001b[0m\u001b[1;33m   \u001b[0mcreative possibilities that will extend to advertising, building on their existing AI-powered video ad       \n",
              "\u001b[1;33m   \u001b[0m\u001b[1;33m   \u001b[0msolutions.                                                                                                   \n",
              "\n",
              "Let me know if you'd like me to elaborate on any particular point.                                                 \n"
            ],
            "text/html": [
              "<pre style=\"white-space:pre;overflow-x:auto;line-height:normal;font-family:Menlo,'DejaVu Sans Mono',consolas,'Courier New',monospace\">Here are the key comments and questions about AI from Alphabet's Q4 2023 earnings call, broken down by speaker:    \n",
              "\n",
              "<span style=\"font-weight: bold\">Sundar Pichai (CEO)</span>                                                                                                \n",
              "\n",
              "<span style=\"color: #808000; text-decoration-color: #808000; font-weight: bold\"> • </span><span style=\"font-weight: bold\">AI Momentum:</span> Alphabet's results reflect strong momentum in AI and product innovation, continuing into 2024.     \n",
              "<span style=\"color: #808000; text-decoration-color: #808000; font-weight: bold\"> • </span><span style=\"font-weight: bold\">AI Investments:</span>  AI is a core area of investment, with significant focus on its impact on Search, Cloud, and    \n",
              "<span style=\"color: #808000; text-decoration-color: #808000; font-weight: bold\">   </span>other products.                                                                                                 \n",
              "<span style=\"color: #808000; text-decoration-color: #808000; font-weight: bold\"> • </span><span style=\"font-weight: bold\">Search Generative Experience (SGE):</span>  SGE is powered by Gemini and is already making Search faster and more      \n",
              "<span style=\"color: #808000; text-decoration-color: #808000; font-weight: bold\">   </span>capable of handling complex questions. They are seeing good early user satisfaction.                            \n",
              "<span style=\"color: #808000; text-decoration-color: #808000; font-weight: bold\"> • </span><span style=\"font-weight: bold\">Gemini AI Model:</span> Gemini, the result of combining Google's AI research teams, is an industry-leading model that  \n",
              "<span style=\"color: #808000; text-decoration-color: #808000; font-weight: bold\">   </span>understands text, images, audio, video, and code. This will fuel the next generation of advancements across many\n",
              "<span style=\"color: #808000; text-decoration-color: #808000; font-weight: bold\">   </span>products.                                                                                                       \n",
              "<span style=\"color: #808000; text-decoration-color: #808000; font-weight: bold\"> • </span><span style=\"font-weight: bold\">Bard AI Chatbot:</span>  Bard, powered by Gemini Pro, is significantly more capable in understanding, summarizing,     \n",
              "<span style=\"color: #808000; text-decoration-color: #808000; font-weight: bold\">   </span>reasoning, coding, and planning. An even more advanced version for subscribers powered by Gemini Ultra is on the\n",
              "<span style=\"color: #808000; text-decoration-color: #808000; font-weight: bold\">   </span>roadmap.                                                                                                        \n",
              "<span style=\"color: #808000; text-decoration-color: #808000; font-weight: bold\"> • </span><span style=\"font-weight: bold\">Cloud AI Leadership:</span> Google Cloud's GenAI capabilities are driving growth and attracting major clients. Google's\n",
              "<span style=\"color: #808000; text-decoration-color: #808000; font-weight: bold\">   </span>AI infrastructure, including TPU/GPU supercomputers, is a key differentiator.                                   \n",
              "\n",
              "<span style=\"font-weight: bold\">Ruth Porat (CFO)</span>                                                                                                   \n",
              "\n",
              "<span style=\"color: #808000; text-decoration-color: #808000; font-weight: bold\"> • </span><span style=\"font-weight: bold\">AI-Driven Revenue Growth:</span>  2023 Alphabet revenue growth was driven in part by AI-powered products and services, \n",
              "<span style=\"color: #808000; text-decoration-color: #808000; font-weight: bold\">   </span>notably in Cloud and Search.                                                                                    \n",
              "<span style=\"color: #808000; text-decoration-color: #808000; font-weight: bold\"> • </span><span style=\"font-weight: bold\">Sustained Investment:</span> Alphabet will continue to invest responsibly in data centers and compute to support AI    \n",
              "<span style=\"color: #808000; text-decoration-color: #808000; font-weight: bold\">   </span>growth, while remaining disciplined with expenses.                                                              \n",
              "\n",
              "<span style=\"font-weight: bold\">Analyst Questions and Answers</span>                                                                                      \n",
              "\n",
              "<span style=\"color: #808000; text-decoration-color: #808000; font-weight: bold\"> • </span><span style=\"font-weight: bold\">Brian Nowak (Morgan Stanley):</span>                                                                                   \n",
              "<span style=\"color: #808000; text-decoration-color: #808000; font-weight: bold\">    • </span><span style=\"font-weight: bold\">Question 1:</span> What are the hurdles and gating factors dictating the pace of generative AI advertising tools'   \n",
              "<span style=\"color: #808000; text-decoration-color: #808000; font-weight: bold\">      </span>rollout, and when could these tools have a bigger impact on the overall business?                            \n",
              "<span style=\"color: #808000; text-decoration-color: #808000; font-weight: bold\">    • </span><span style=\"font-weight: bold\">Question 2:</span> How do you think about the long-term sales force intensity of the advertising business as more   \n",
              "<span style=\"color: #808000; text-decoration-color: #808000; font-weight: bold\">      </span>AI-based tools like PMax impact overall ad allocation?                                                       \n",
              "<span style=\"color: #808000; text-decoration-color: #808000; font-weight: bold\">    • </span><span style=\"font-weight: bold\">Answer (Philipp Schindler, Chief Business Officer):</span>  AI has been central to Google's advertising for a long  \n",
              "<span style=\"color: #808000; text-decoration-color: #808000; font-weight: bold\">      </span>time. The recent advances allow them to drive more value across a range of areas like bidding, targeting, and\n",
              "<span style=\"color: #808000; text-decoration-color: #808000; font-weight: bold\">      </span>creative. PMax continues to perform well. Adoption of AI tools is driven by getting teams ready to take full \n",
              "<span style=\"color: #808000; text-decoration-color: #808000; font-weight: bold\">      </span>advantage of them. Google's approach prioritizes transformation and growth for all types of customers.       \n",
              "<span style=\"color: #808000; text-decoration-color: #808000; font-weight: bold\"> • </span><span style=\"font-weight: bold\">Doug Anmuth (JP Morgan):</span>                                                                                        \n",
              "<span style=\"color: #808000; text-decoration-color: #808000; font-weight: bold\">    • </span><span style=\"font-weight: bold\">Question 1 (for Ruth):</span> Can you assess progress on re-engineering the cost structure and provide guideposts   \n",
              "<span style=\"color: #808000; text-decoration-color: #808000; font-weight: bold\">      </span>for the future?                                                                                              \n",
              "<span style=\"color: #808000; text-decoration-color: #808000; font-weight: bold\">    • </span><span style=\"font-weight: bold\">Question 2 (for Philipp):</span> Can you discuss more about NFL Sunday Ticket, key learnings from year one, and how \n",
              "<span style=\"color: #808000; text-decoration-color: #808000; font-weight: bold\">      </span>you think about returns on investment, from both an advertising and subscriber perspective?                  \n",
              "<span style=\"color: #808000; text-decoration-color: #808000; font-weight: bold\">    • </span><span style=\"font-weight: bold\">Answer 1 (Ruth):</span>  Alphabet is committed to re-engineering its cost structure while investing for growth      \n",
              "<span style=\"color: #808000; text-decoration-color: #808000; font-weight: bold\">      </span>priorities. This involves product prioritization, organizational efficiency, a slower hiring pace, and       \n",
              "<span style=\"color: #808000; text-decoration-color: #808000; font-weight: bold\">      </span>ongoing efforts in infrastructure optimization and real estate.                                              \n",
              "<span style=\"color: #808000; text-decoration-color: #808000; font-weight: bold\">    • </span><span style=\"font-weight: bold\">Answer 2 (Philipp):</span> NFL Sunday Ticket is a key part of YouTube's strategy to become the must-have app on     \n",
              "<span style=\"color: #808000; text-decoration-color: #808000; font-weight: bold\">      </span>every TV. User experience feedback has been positive, including regarding navigation, multiview, chat, and   \n",
              "<span style=\"color: #808000; text-decoration-color: #808000; font-weight: bold\">      </span>low latency. YouTube is pleased with both subscriber sign-ups and advertising demand for the NFL content.    \n",
              "<span style=\"color: #808000; text-decoration-color: #808000; font-weight: bold\"> • </span><span style=\"font-weight: bold\">Eric Sheridan (Goldman Sachs):</span>                                                                                  \n",
              "<span style=\"color: #808000; text-decoration-color: #808000; font-weight: bold\">    • </span><span style=\"font-weight: bold\">Question 1 (for Sundar):</span> How do you see traditional search and Google Assistant evolving in a world with SGE,\n",
              "<span style=\"color: #808000; text-decoration-color: #808000; font-weight: bold\">      </span>Bard, and other AI experiences, and how might commercial and non-commercial search use cases change?         \n",
              "<span style=\"color: #808000; text-decoration-color: #808000; font-weight: bold\">    • </span><span style=\"font-weight: bold\">Question 2 (for Ruth):</span> Could you clarify the one-time items in the earnings release and where they were      \n",
              "<span style=\"color: #808000; text-decoration-color: #808000; font-weight: bold\">      </span>captured in the P&amp;L, and were there any legal one-time items?                                                \n",
              "<span style=\"color: #808000; text-decoration-color: #808000; font-weight: bold\">    • </span><span style=\"font-weight: bold\">Answer 1 (Sundar):</span> SGE works well for certain types of queries, and they are expanding its capabilities. He  \n",
              "<span style=\"color: #808000; text-decoration-color: #808000; font-weight: bold\">      </span>believes Google Assistant will be complementary, and generative AI will enable it to act more like an agent  \n",
              "<span style=\"color: #808000; text-decoration-color: #808000; font-weight: bold\">      </span>and anticipate user needs.                                                                                   \n",
              "<span style=\"color: #808000; text-decoration-color: #808000; font-weight: bold\">    • </span><span style=\"font-weight: bold\">Answer 2 (Ruth):</span> The $1.2 billion in exit charges related to real estate are reflected in Alphabet-level     \n",
              "<span style=\"color: #808000; text-decoration-color: #808000; font-weight: bold\">      </span>activities, but spread across various line items in the P&amp;L. Investor Relations can provide more details on  \n",
              "<span style=\"color: #808000; text-decoration-color: #808000; font-weight: bold\">      </span>the breakdown.                                                                                               \n",
              "<span style=\"color: #808000; text-decoration-color: #808000; font-weight: bold\"> • </span><span style=\"font-weight: bold\">Justin Post (BAML):</span>                                                                                             \n",
              "<span style=\"color: #808000; text-decoration-color: #808000; font-weight: bold\">    • </span><span style=\"font-weight: bold\">Question 1 (for Sundar):</span> Are there concerns about the use of competitive AI tools as an alternative to       \n",
              "<span style=\"color: #808000; text-decoration-color: #808000; font-weight: bold\">      </span>Search, and what changes, positive or negative, have you seen in query volumes as you have rolled out SGE?   \n",
              "<span style=\"color: #808000; text-decoration-color: #808000; font-weight: bold\">      </span>What makes Google stand out from other AI tools?                                                             \n",
              "<span style=\"color: #808000; text-decoration-color: #808000; font-weight: bold\">    • </span><span style=\"font-weight: bold\">Question 2 (for Ruth):</span>  The $11 billion in capex was a notable step-up. Were there any one-time items or is  \n",
              "<span style=\"color: #808000; text-decoration-color: #808000; font-weight: bold\">      </span>this the new run rate for 2024?                                                                              \n",
              "<span style=\"color: #808000; text-decoration-color: #808000; font-weight: bold\">    • </span><span style=\"font-weight: bold\">Answer 1 (Sundar):</span>  People have many information choices, and user expectations are always evolving. Google  \n",
              "<span style=\"color: #808000; text-decoration-color: #808000; font-weight: bold\">      </span>has a long track record of search innovation. Generative AI is a new tool in their arsenal, but search       \n",
              "<span style=\"color: #808000; text-decoration-color: #808000; font-weight: bold\">      </span>involves much more, including breadth, depth, and diversity across verticals. They are closely monitoring how\n",
              "<span style=\"color: #808000; text-decoration-color: #808000; font-weight: bold\">      </span>users respond to SGE compared to other options.                                                              \n",
              "<span style=\"color: #808000; text-decoration-color: #808000; font-weight: bold\">    • </span><span style=\"font-weight: bold\">Answer 2 (Ruth):</span>  The $11 billion in Q4 capex was primarily investment in technical infrastructure, with no  \n",
              "<span style=\"color: #808000; text-decoration-color: #808000; font-weight: bold\">      </span>one-time items. It reflects their outlook on AI and the long-term opportunity. They expect capex in 2024 to  \n",
              "<span style=\"color: #808000; text-decoration-color: #808000; font-weight: bold\">      </span>be notably larger than in 2023.                                                                              \n",
              "<span style=\"color: #808000; text-decoration-color: #808000; font-weight: bold\"> • </span><span style=\"font-weight: bold\">Ross Sandler (Barclays):</span>                                                                                        \n",
              "<span style=\"color: #808000; text-decoration-color: #808000; font-weight: bold\">    • </span><span style=\"font-weight: bold\">Question:</span> Regarding the DOJ trial, a document disclosed from Google suggested that relying on ad quality     \n",
              "<span style=\"color: #808000; text-decoration-color: #808000; font-weight: bold\">      </span>teams to deliver 20% RPM growth in Search is a fragile strategy. Given that the business has more than       \n",
              "<span style=\"color: #808000; text-decoration-color: #808000; font-weight: bold\">      </span>doubled since 2019, how do you feel about Google's ability to drive Search RPM going forward, considering the\n",
              "<span style=\"color: #808000; text-decoration-color: #808000; font-weight: bold\">      </span>large revenue base?                                                                                          \n",
              "<span style=\"color: #808000; text-decoration-color: #808000; font-weight: bold\">    • </span><span style=\"font-weight: bold\">Answer (Sundar):</span>  He expressed tremendous confidence in Google's quality-driven approach to Search and Ads.  \n",
              "<span style=\"color: #808000; text-decoration-color: #808000; font-weight: bold\">      </span>He highlighted foundational pillars, including rigorous focus on ad quality to deliver ROI to advertisers,   \n",
              "<span style=\"color: #808000; text-decoration-color: #808000; font-weight: bold\">      </span>improve user experience, and maintain technical excellence. He believes AI will present opportunities in both\n",
              "<span style=\"color: #808000; text-decoration-color: #808000; font-weight: bold\">      </span>organic and monetization aspects.                                                                            \n",
              "<span style=\"color: #808000; text-decoration-color: #808000; font-weight: bold\"> • </span><span style=\"font-weight: bold\">Mark Mahaney (Evercore):</span>                                                                                        \n",
              "<span style=\"color: #808000; text-decoration-color: #808000; font-weight: bold\">    • </span><span style=\"font-weight: bold\">Question 1:</span> What explains the volatility in Google Cloud's growth (deceleration last quarter, reacceleration \n",
              "<span style=\"color: #808000; text-decoration-color: #808000; font-weight: bold\">      </span>this quarter)? Is it due to optimization cycles or generative AI workloads trickling in?                     \n",
              "<span style=\"color: #808000; text-decoration-color: #808000; font-weight: bold\">    • </span><span style=\"font-weight: bold\">Question 2:</span>  How are you using AI to improve creative offerings, particularly on YouTube and Ads? Is         \n",
              "<span style=\"color: #808000; text-decoration-color: #808000; font-weight: bold\">      </span>AI-powered creative a new growth area? How far along are you in offering this to the market, and does it open\n",
              "<span style=\"color: #808000; text-decoration-color: #808000; font-weight: bold\">      </span>up a new area of ad spend?                                                                                   \n",
              "<span style=\"color: #808000; text-decoration-color: #808000; font-weight: bold\">    • </span><span style=\"font-weight: bold\">Answer 1 (Sundar):</span>  Several factors, including excitement about Google Cloud's AI solutions on top of its    \n",
              "<span style=\"color: #808000; text-decoration-color: #808000; font-weight: bold\">      </span>data analytics infrastructure, are driving interest and adoption. Generative AI is playing a significant role\n",
              "<span style=\"color: #808000; text-decoration-color: #808000; font-weight: bold\">      </span>in this early adoption.                                                                                      \n",
              "<span style=\"color: #808000; text-decoration-color: #808000; font-weight: bold\">    • </span><span style=\"font-weight: bold\">Answer 2 (Philipp):</span>  AI has been critical to enabling YouTube creators. Their recent announcement about new  \n",
              "<span style=\"color: #808000; text-decoration-color: #808000; font-weight: bold\">      </span>AI creativity features on YouTube demonstrates this commitment. He believes AI unlocks a new world of        \n",
              "<span style=\"color: #808000; text-decoration-color: #808000; font-weight: bold\">      </span>creative possibilities that will extend to advertising, building on their existing AI-powered video ad       \n",
              "<span style=\"color: #808000; text-decoration-color: #808000; font-weight: bold\">      </span>solutions.                                                                                                   \n",
              "\n",
              "Let me know if you'd like me to elaborate on any particular point.                                                 \n",
              "</pre>\n"
            ]
          },
          "metadata": {},
          "execution_count": 27
        }
      ]
    },
    {
      "cell_type": "code",
      "source": [
        "%%time\n",
        "\n",
        "print(model_flash.count_tokens(prompt_parts))\n",
        "response = model_flash.generate_content(prompt_parts)\n",
        "print(\"\\n Usage Metadata:\\n\",response.usage_metadata)\n",
        "rich_Markdown(response.text)"
      ],
      "metadata": {
        "id": "9inzbauaVLv6",
        "colab": {
          "base_uri": "https://localhost:8080/",
          "height": 933
        },
        "outputId": "b2271bb5-99bb-47e6-aa12-8805e5e8a05c"
      },
      "execution_count": 29,
      "outputs": [
        {
          "output_type": "stream",
          "name": "stdout",
          "text": [
            "total_tokens: 29\n",
            "total_billable_characters: 115\n",
            "\n",
            "\n",
            " Usage Metadata:\n",
            " prompt_token_count: 29\n",
            "candidates_token_count: 594\n",
            "total_token_count: 623\n",
            "\n",
            "CPU times: user 244 ms, sys: 45.7 ms, total: 290 ms\n",
            "Wall time: 36.4 s\n"
          ]
        },
        {
          "output_type": "execute_result",
          "data": {
            "text/plain": [
              "Here are the key comments from Sundar and Ruth about AI and the key questions asked by analysts:                   \n",
              "\n",
              "\u001b[1mSundar's Key Comments About AI\u001b[0m                                                                                     \n",
              "\n",
              "\u001b[1;33m • \u001b[0m\u001b[1mInvestments in AI:\u001b[0m  Sundar emphasized Alphabet's significant investments in AI, particularly focusing on how it \n",
              "\u001b[1;33m   \u001b[0mis improving Search.                                                                                            \n",
              "\u001b[1;33m • \u001b[0m\u001b[1mGemini:\u001b[0m He highlighted the launch of Gemini, a new generation of AI models designed for multi-modal             \n",
              "\u001b[1;33m   \u001b[0munderstanding (text, images, audio, video, code). He sees Gemini as a key driver for future advancements.       \n",
              "\u001b[1;33m • \u001b[0m\u001b[1mAI in Search:\u001b[0m Sundar discussed the integration of Gemini into Search, leading to improvements in latency and the\n",
              "\u001b[1;33m   \u001b[0mability to handle more complex queries.                                                                         \n",
              "\u001b[1;33m • \u001b[0m\u001b[1mAI in Advertising:\u001b[0m He pointed out growing interest in AI-powered solutions for advertisers, including a new     \n",
              "\u001b[1;33m   \u001b[0mconversational experience that uses Gemini to accelerate campaign creation.                                     \n",
              "\n",
              "\u001b[1mRuth's Key Comments About AI\u001b[0m                                                                                       \n",
              "\n",
              "\u001b[1;33m • \u001b[0m\u001b[1mAI as a Growth Driver:\u001b[0m  Ruth emphasized the increasing contribution of AI to Google Cloud's momentum and revenue\n",
              "\u001b[1;33m   \u001b[0mgrowth.                                                                                                         \n",
              "\u001b[1;33m • \u001b[0m\u001b[1mAI in Google Workspace:\u001b[0m She mentioned Google Workspace's strong revenue growth, primarily driven by AI-powered  \n",
              "\u001b[1;33m   \u001b[0mfeatures that increase average revenue per seat.                                                                \n",
              "\u001b[1;33m • \u001b[0m\u001b[1mAI's Long-Term Impact:\u001b[0m She highlighted the significant investments Alphabet is making in AI infrastructure,     \n",
              "\u001b[1;33m   \u001b[0mreflecting their belief in AI's extraordinary applications across their businesses.                             \n",
              "\n",
              "\u001b[1mKey Analyst Questions\u001b[0m                                                                                              \n",
              "\n",
              "\u001b[1;33m • \u001b[0m\u001b[1mBrian Nowak (Morgan Stanley):\u001b[0m                                                                                   \n",
              "\u001b[1;33m   \u001b[0m\u001b[1;33m • \u001b[0m\u001b[1mGating Factors for AI in Advertising:\u001b[0m  He asked about hurdles and gating factors that could impact the broad \n",
              "\u001b[1;33m   \u001b[0m\u001b[1;33m   \u001b[0mrollout of new generative AI advertising tools.                                                              \n",
              "\u001b[1;33m   \u001b[0m\u001b[1;33m • \u001b[0m\u001b[1mSales Force Intensity:\u001b[0m Nowak asked about the long-term sales force intensity in the advertising business with\n",
              "\u001b[1;33m   \u001b[0m\u001b[1;33m   \u001b[0mthe adoption of AI-based tools like PMax.                                                                    \n",
              "\u001b[1;33m • \u001b[0m\u001b[1mDoug Anmuth (JPMorgan):\u001b[0m                                                                                         \n",
              "\u001b[1;33m   \u001b[0m\u001b[1;33m • \u001b[0m\u001b[1mProgress on Reengineering Costs:\u001b[0m He asked for an assessment of progress on Alphabet's effort to reengineer   \n",
              "\u001b[1;33m   \u001b[0m\u001b[1;33m   \u001b[0mits cost structure.                                                                                          \n",
              "\u001b[1;33m   \u001b[0m\u001b[1;33m • \u001b[0m\u001b[1mNFL Sunday Ticket:\u001b[0m Anmuth inquired about key learnings from the first year of NFL Sunday Ticket and their    \n",
              "\u001b[1;33m   \u001b[0m\u001b[1;33m   \u001b[0mthoughts on the returns on investment.                                                                       \n",
              "\u001b[1;33m • \u001b[0m\u001b[1mEric Sheridan (Goldman Sachs):\u001b[0m                                                                                  \n",
              "\u001b[1;33m   \u001b[0m\u001b[1;33m • \u001b[0m\u001b[1mSearch Generative Experience Evolution:\u001b[0m He asked how Sundar envisions the evolution of traditional search and\n",
              "\u001b[1;33m   \u001b[0m\u001b[1;33m   \u001b[0mGoogle Assistant in a world with Search Generative Experience, Bard, and other AI tools.                     \n",
              "\u001b[1;33m   \u001b[0m\u001b[1;33m • \u001b[0m\u001b[1mOne-Time Items:\u001b[0m Sheridan wanted clarification on the accounting treatment of one-time items in the quarter,  \n",
              "\u001b[1;33m   \u001b[0m\u001b[1;33m   \u001b[0mparticularly regarding real estate charges.                                                                  \n",
              "\u001b[1;33m • \u001b[0m\u001b[1mMark Mahaney (Evercore):\u001b[0m                                                                                        \n",
              "\u001b[1;33m   \u001b[0m\u001b[1;33m • \u001b[0m\u001b[1mCloud Growth Volatility:\u001b[0m Mahaney inquired about the reason for the volatility in Google Cloud growth,        \n",
              "\u001b[1;33m   \u001b[0m\u001b[1;33m   \u001b[0mconsidering the possible impact of generative AI workloads.                                                  \n",
              "\u001b[1;33m   \u001b[0m\u001b[1;33m • \u001b[0m\u001b[1mAI in YouTube Ads:\u001b[0m He asked about Alphabet's efforts to leverage AI in creating performance-based video ad   \n",
              "\u001b[1;33m   \u001b[0m\u001b[1;33m   \u001b[0mcampaigns for YouTube, particularly targeting SMBs.                                                          \n"
            ],
            "text/html": [
              "<pre style=\"white-space:pre;overflow-x:auto;line-height:normal;font-family:Menlo,'DejaVu Sans Mono',consolas,'Courier New',monospace\">Here are the key comments from Sundar and Ruth about AI and the key questions asked by analysts:                   \n",
              "\n",
              "<span style=\"font-weight: bold\">Sundar's Key Comments About AI</span>                                                                                     \n",
              "\n",
              "<span style=\"color: #808000; text-decoration-color: #808000; font-weight: bold\"> • </span><span style=\"font-weight: bold\">Investments in AI:</span>  Sundar emphasized Alphabet's significant investments in AI, particularly focusing on how it \n",
              "<span style=\"color: #808000; text-decoration-color: #808000; font-weight: bold\">   </span>is improving Search.                                                                                            \n",
              "<span style=\"color: #808000; text-decoration-color: #808000; font-weight: bold\"> • </span><span style=\"font-weight: bold\">Gemini:</span> He highlighted the launch of Gemini, a new generation of AI models designed for multi-modal             \n",
              "<span style=\"color: #808000; text-decoration-color: #808000; font-weight: bold\">   </span>understanding (text, images, audio, video, code). He sees Gemini as a key driver for future advancements.       \n",
              "<span style=\"color: #808000; text-decoration-color: #808000; font-weight: bold\"> • </span><span style=\"font-weight: bold\">AI in Search:</span> Sundar discussed the integration of Gemini into Search, leading to improvements in latency and the\n",
              "<span style=\"color: #808000; text-decoration-color: #808000; font-weight: bold\">   </span>ability to handle more complex queries.                                                                         \n",
              "<span style=\"color: #808000; text-decoration-color: #808000; font-weight: bold\"> • </span><span style=\"font-weight: bold\">AI in Advertising:</span> He pointed out growing interest in AI-powered solutions for advertisers, including a new     \n",
              "<span style=\"color: #808000; text-decoration-color: #808000; font-weight: bold\">   </span>conversational experience that uses Gemini to accelerate campaign creation.                                     \n",
              "\n",
              "<span style=\"font-weight: bold\">Ruth's Key Comments About AI</span>                                                                                       \n",
              "\n",
              "<span style=\"color: #808000; text-decoration-color: #808000; font-weight: bold\"> • </span><span style=\"font-weight: bold\">AI as a Growth Driver:</span>  Ruth emphasized the increasing contribution of AI to Google Cloud's momentum and revenue\n",
              "<span style=\"color: #808000; text-decoration-color: #808000; font-weight: bold\">   </span>growth.                                                                                                         \n",
              "<span style=\"color: #808000; text-decoration-color: #808000; font-weight: bold\"> • </span><span style=\"font-weight: bold\">AI in Google Workspace:</span> She mentioned Google Workspace's strong revenue growth, primarily driven by AI-powered  \n",
              "<span style=\"color: #808000; text-decoration-color: #808000; font-weight: bold\">   </span>features that increase average revenue per seat.                                                                \n",
              "<span style=\"color: #808000; text-decoration-color: #808000; font-weight: bold\"> • </span><span style=\"font-weight: bold\">AI's Long-Term Impact:</span> She highlighted the significant investments Alphabet is making in AI infrastructure,     \n",
              "<span style=\"color: #808000; text-decoration-color: #808000; font-weight: bold\">   </span>reflecting their belief in AI's extraordinary applications across their businesses.                             \n",
              "\n",
              "<span style=\"font-weight: bold\">Key Analyst Questions</span>                                                                                              \n",
              "\n",
              "<span style=\"color: #808000; text-decoration-color: #808000; font-weight: bold\"> • </span><span style=\"font-weight: bold\">Brian Nowak (Morgan Stanley):</span>                                                                                   \n",
              "<span style=\"color: #808000; text-decoration-color: #808000; font-weight: bold\">    • </span><span style=\"font-weight: bold\">Gating Factors for AI in Advertising:</span>  He asked about hurdles and gating factors that could impact the broad \n",
              "<span style=\"color: #808000; text-decoration-color: #808000; font-weight: bold\">      </span>rollout of new generative AI advertising tools.                                                              \n",
              "<span style=\"color: #808000; text-decoration-color: #808000; font-weight: bold\">    • </span><span style=\"font-weight: bold\">Sales Force Intensity:</span> Nowak asked about the long-term sales force intensity in the advertising business with\n",
              "<span style=\"color: #808000; text-decoration-color: #808000; font-weight: bold\">      </span>the adoption of AI-based tools like PMax.                                                                    \n",
              "<span style=\"color: #808000; text-decoration-color: #808000; font-weight: bold\"> • </span><span style=\"font-weight: bold\">Doug Anmuth (JPMorgan):</span>                                                                                         \n",
              "<span style=\"color: #808000; text-decoration-color: #808000; font-weight: bold\">    • </span><span style=\"font-weight: bold\">Progress on Reengineering Costs:</span> He asked for an assessment of progress on Alphabet's effort to reengineer   \n",
              "<span style=\"color: #808000; text-decoration-color: #808000; font-weight: bold\">      </span>its cost structure.                                                                                          \n",
              "<span style=\"color: #808000; text-decoration-color: #808000; font-weight: bold\">    • </span><span style=\"font-weight: bold\">NFL Sunday Ticket:</span> Anmuth inquired about key learnings from the first year of NFL Sunday Ticket and their    \n",
              "<span style=\"color: #808000; text-decoration-color: #808000; font-weight: bold\">      </span>thoughts on the returns on investment.                                                                       \n",
              "<span style=\"color: #808000; text-decoration-color: #808000; font-weight: bold\"> • </span><span style=\"font-weight: bold\">Eric Sheridan (Goldman Sachs):</span>                                                                                  \n",
              "<span style=\"color: #808000; text-decoration-color: #808000; font-weight: bold\">    • </span><span style=\"font-weight: bold\">Search Generative Experience Evolution:</span> He asked how Sundar envisions the evolution of traditional search and\n",
              "<span style=\"color: #808000; text-decoration-color: #808000; font-weight: bold\">      </span>Google Assistant in a world with Search Generative Experience, Bard, and other AI tools.                     \n",
              "<span style=\"color: #808000; text-decoration-color: #808000; font-weight: bold\">    • </span><span style=\"font-weight: bold\">One-Time Items:</span> Sheridan wanted clarification on the accounting treatment of one-time items in the quarter,  \n",
              "<span style=\"color: #808000; text-decoration-color: #808000; font-weight: bold\">      </span>particularly regarding real estate charges.                                                                  \n",
              "<span style=\"color: #808000; text-decoration-color: #808000; font-weight: bold\"> • </span><span style=\"font-weight: bold\">Mark Mahaney (Evercore):</span>                                                                                        \n",
              "<span style=\"color: #808000; text-decoration-color: #808000; font-weight: bold\">    • </span><span style=\"font-weight: bold\">Cloud Growth Volatility:</span> Mahaney inquired about the reason for the volatility in Google Cloud growth,        \n",
              "<span style=\"color: #808000; text-decoration-color: #808000; font-weight: bold\">      </span>considering the possible impact of generative AI workloads.                                                  \n",
              "<span style=\"color: #808000; text-decoration-color: #808000; font-weight: bold\">    • </span><span style=\"font-weight: bold\">AI in YouTube Ads:</span> He asked about Alphabet's efforts to leverage AI in creating performance-based video ad   \n",
              "<span style=\"color: #808000; text-decoration-color: #808000; font-weight: bold\">      </span>campaigns for YouTube, particularly targeting SMBs.                                                          \n",
              "</pre>\n"
            ]
          },
          "metadata": {},
          "execution_count": 29
        }
      ]
    },
    {
      "cell_type": "markdown",
      "source": [
        "### Images (Read PDF as Images)"
      ],
      "metadata": {
        "id": "sHytDs7cwmzi"
      }
    },
    {
      "cell_type": "markdown",
      "source": [
        "[What Changed: ]\n",
        "\n",
        "- File Upload method\n",
        "- PDF to Image method\n",
        "\n",
        "\n",
        "Before:\n",
        "\n",
        "- genai.upload_file\n",
        "- pdf_to_images\n",
        "\n",
        "After:\n",
        "\n",
        "- Part.from_uri [it can read pdf as image directly]\n",
        "- No need of custom function\n"
      ],
      "metadata": {
        "id": "DKEnKukSlwY4"
      }
    },
    {
      "cell_type": "code",
      "source": [
        "blog_pdf = Part.from_uri(uri = \"gs://gemini-lavi-asset/idea_doc/stage_1_prototype_Google Cloud TPU blog.pdf\",\n",
        "    mime_type=\"application/pdf\")"
      ],
      "metadata": {
        "id": "QR30bcWeoYnu"
      },
      "execution_count": 32,
      "outputs": []
    },
    {
      "cell_type": "code",
      "source": [
        "%%time\n",
        "\n",
        "prompt_parts = [\n",
        "  blog_pdf,\n",
        "  \"what is the emfu for bf16 and 128b parameter model with 1 tpu v5e pod? Cite the table and page number and explain the significance of the results\",\n",
        "]\n",
        "response = model.generate_content(prompt_parts)\n",
        "print(\"\\n Usage Metadata:\\n\",response.usage_metadata)\n",
        "rich_Markdown(response.text)"
      ],
      "metadata": {
        "id": "7dRJ6bRfpItY",
        "colab": {
          "base_uri": "https://localhost:8080/",
          "height": 339
        },
        "outputId": "d1e511a5-5275-43ff-b54c-91977adfc849"
      },
      "execution_count": 33,
      "outputs": [
        {
          "output_type": "stream",
          "name": "stdout",
          "text": [
            "\n",
            " Usage Metadata:\n",
            " prompt_token_count: 4683\n",
            "candidates_token_count: 159\n",
            "total_token_count: 4842\n",
            "\n",
            "CPU times: user 52.9 ms, sys: 6.99 ms, total: 59.9 ms\n",
            "Wall time: 7.4 s\n"
          ]
        },
        {
          "output_type": "execute_result",
          "data": {
            "text/plain": [
              "From page 14, the EMFU for the 128B parameter BF16 model on 1 TPU v5e pod is 56.06%.                               \n",
              "\n",
              "This means that the model training job on the TPU v5e chip is achieving 56.06% of the theoretical peak performance \n",
              "of the hardware.                                                                                                   \n",
              "\n",
              "Significance:                                                                                                      \n",
              "\n",
              "\u001b[1;33m • \u001b[0m\u001b[1mGood performance:\u001b[0m An EMFU of 56.06% indicates a relatively good utilization of the TPU v5e's compute            \n",
              "\u001b[1;33m   \u001b[0mcapabilities for such a large model.                                                                            \n",
              "\u001b[1;33m • \u001b[0m\u001b[1mRoom for improvement:\u001b[0m  There is still room to improve the EMFU further by optimizing various aspects like       \n",
              "\u001b[1;33m   \u001b[0msoftware stack, data loading, and communication patterns to achieve closer to 100% utilization.                 \n"
            ],
            "text/html": [
              "<pre style=\"white-space:pre;overflow-x:auto;line-height:normal;font-family:Menlo,'DejaVu Sans Mono',consolas,'Courier New',monospace\">From page 14, the EMFU for the 128B parameter BF16 model on 1 TPU v5e pod is 56.06%.                               \n",
              "\n",
              "This means that the model training job on the TPU v5e chip is achieving 56.06% of the theoretical peak performance \n",
              "of the hardware.                                                                                                   \n",
              "\n",
              "Significance:                                                                                                      \n",
              "\n",
              "<span style=\"color: #808000; text-decoration-color: #808000; font-weight: bold\"> • </span><span style=\"font-weight: bold\">Good performance:</span> An EMFU of 56.06% indicates a relatively good utilization of the TPU v5e's compute            \n",
              "<span style=\"color: #808000; text-decoration-color: #808000; font-weight: bold\">   </span>capabilities for such a large model.                                                                            \n",
              "<span style=\"color: #808000; text-decoration-color: #808000; font-weight: bold\"> • </span><span style=\"font-weight: bold\">Room for improvement:</span>  There is still room to improve the EMFU further by optimizing various aspects like       \n",
              "<span style=\"color: #808000; text-decoration-color: #808000; font-weight: bold\">   </span>software stack, data loading, and communication patterns to achieve closer to 100% utilization.                 \n",
              "</pre>\n"
            ]
          },
          "metadata": {},
          "execution_count": 33
        }
      ]
    },
    {
      "cell_type": "code",
      "source": [
        "%%time\n",
        "\n",
        "response = model_flash.generate_content(prompt_parts)\n",
        "print(\"\\n Usage Metadata:\\n\",response.usage_metadata)\n",
        "rich_Markdown(response.text)"
      ],
      "metadata": {
        "id": "P5zaRMI3VfRH",
        "colab": {
          "base_uri": "https://localhost:8080/",
          "height": 209
        },
        "outputId": "88ba9e67-836c-4356-ac7c-4910a07de341"
      },
      "execution_count": 34,
      "outputs": [
        {
          "output_type": "stream",
          "name": "stdout",
          "text": [
            "\n",
            " Usage Metadata:\n",
            " prompt_token_count: 4683\n",
            "candidates_token_count: 100\n",
            "total_token_count: 4783\n",
            "\n",
            "CPU times: user 26.9 ms, sys: 5.9 ms, total: 32.8 ms\n",
            "Wall time: 3.56 s\n"
          ]
        },
        {
          "output_type": "execute_result",
          "data": {
            "text/plain": [
              "According to the table on page 14, the EMFU for the BF16 and 128B parameter model with 1 TPU v5e pod is 56.06%.    \n",
              "This means that the model is utilizing 56.06% of the peak hardware TFLOP/chip/s for the TPU v5e. This indicates    \n",
              "that the model is making good use of the hardware's capabilities, but there is still room for improvement.         \n"
            ],
            "text/html": [
              "<pre style=\"white-space:pre;overflow-x:auto;line-height:normal;font-family:Menlo,'DejaVu Sans Mono',consolas,'Courier New',monospace\">According to the table on page 14, the EMFU for the BF16 and 128B parameter model with 1 TPU v5e pod is 56.06%.    \n",
              "This means that the model is utilizing 56.06% of the peak hardware TFLOP/chip/s for the TPU v5e. This indicates    \n",
              "that the model is making good use of the hardware's capabilities, but there is still room for improvement.         \n",
              "</pre>\n"
            ]
          },
          "metadata": {},
          "execution_count": 34
        }
      ]
    },
    {
      "cell_type": "markdown",
      "source": [
        "### Video"
      ],
      "metadata": {
        "id": "q6fVmmQ2zefi"
      }
    },
    {
      "cell_type": "markdown",
      "source": [
        "[What Changed: ]\n",
        "\n",
        "- File Upload method\n",
        "\n",
        "Before:\n",
        "\n",
        "- genai.upload_file\n",
        "\n",
        "After:\n",
        "\n",
        "- Part.from_uri [reading from GCS]\n"
      ],
      "metadata": {
        "id": "5XHD0XZzmC1j"
      }
    },
    {
      "cell_type": "code",
      "source": [
        "video = Part.from_uri(uri = \"gs://gemini-lavi-asset/idea_doc/What's next for AI and Google Search _ Google I_O 2023.mp4\",\n",
        "    mime_type=\"video/mp4\")"
      ],
      "metadata": {
        "id": "MpJNIYlXpQDG"
      },
      "execution_count": 35,
      "outputs": []
    },
    {
      "cell_type": "code",
      "source": [
        "%%time\n",
        "\n",
        "prompt_parts = [\n",
        "  video,\n",
        "  \"Describe this video and How is google using generative ai in search? Give response in bullet\",\n",
        "]\n",
        "\n",
        "print(model.count_tokens(prompt_parts))\n",
        "response = model.generate_content(prompt_parts)\n",
        "print(\"\\n Usage Metadata:\\n\",response.usage_metadata)\n",
        "rich_Markdown(response.text)"
      ],
      "metadata": {
        "id": "eHMOVpdGpmVL",
        "colab": {
          "base_uri": "https://localhost:8080/",
          "height": 622
        },
        "outputId": "d15e3d41-102c-480c-f359-667ce41e2c94"
      },
      "execution_count": 36,
      "outputs": [
        {
          "output_type": "stream",
          "name": "stdout",
          "text": [
            "total_tokens: 27157\n",
            "total_billable_characters: 77\n",
            "\n",
            "\n",
            " Usage Metadata:\n",
            " prompt_token_count: 27157\n",
            "candidates_token_count: 358\n",
            "total_token_count: 27515\n",
            "\n",
            "CPU times: user 127 ms, sys: 17.7 ms, total: 145 ms\n",
            "Wall time: 19.5 s\n"
          ]
        },
        {
          "output_type": "execute_result",
          "data": {
            "text/plain": [
              "Sure, here is a description of the video and how Google is using generative AI in search:                          \n",
              "\n",
              "The video showcases Google's innovative approach to search using generative AI. It highlights how this technology  \n",
              "revolutionizes the search experience, making it more conversational, comprehensive, and visually engaging. Here are\n",
              "some ways in which Google is using generative AI in search:                                                        \n",
              "\n",
              "\u001b[1;33m • \u001b[0m\u001b[1mAI-Powered Search Summaries:\u001b[0m The video demonstrates how Google employs generative AI to provide concise and     \n",
              "\u001b[1;33m   \u001b[0minformative summaries of search results. Instead of simply presenting a list of links, users can now receive a  \n",
              "\u001b[1;33m   \u001b[0mconsolidated overview generated by AI, answering their questions directly.                                      \n",
              "\u001b[1;33m • \u001b[0m\u001b[1mMultimodal Search Results:\u001b[0m Google's generative AI enhances search by incorporating diverse formats beyond       \n",
              "\u001b[1;33m   \u001b[0mtraditional text-based results. As seen in the video, searches can now yield images, videos, and even shoppable \n",
              "\u001b[1;33m   \u001b[0mproduct listings, offering a more visually rich and interactive experience.                                     \n",
              "\u001b[1;33m • \u001b[0m\u001b[1mConversational Search:\u001b[0m Google leverages generative AI to enable a more conversational approach to search. Users \n",
              "\u001b[1;33m   \u001b[0mcan ask follow-up questions or refine their searches naturally, as if interacting with a knowledgeable          \n",
              "\u001b[1;33m   \u001b[0massistant. The AI understands the context and provides relevant responses, streamlining the search process.     \n",
              "\u001b[1;33m • \u001b[0m\u001b[1mContent Creation:\u001b[0m Google's generative AI extends beyond information retrieval to empower users in content       \n",
              "\u001b[1;33m   \u001b[0mcreation. As showcased in the video, users can ask Google to generate various forms of content, such as poems,  \n",
              "\u001b[1;33m   \u001b[0mtraining plans, or comparisons. This highlights the AI's ability to understand prompts and produce creative     \n",
              "\u001b[1;33m   \u001b[0moutputs in different formats.                                                                                   \n",
              "\n",
              "In essence, Google is seamlessly integrating generative AI into its search engine, transforming it into a powerful \n",
              "tool that not only retrieves information but also understands, synthesizes, and presents it in a user-friendly and \n",
              "intuitive manner.                                                                                                  \n",
              "\n",
              "Let me know if you have other questions.                                                                           \n"
            ],
            "text/html": [
              "<pre style=\"white-space:pre;overflow-x:auto;line-height:normal;font-family:Menlo,'DejaVu Sans Mono',consolas,'Courier New',monospace\">Sure, here is a description of the video and how Google is using generative AI in search:                          \n",
              "\n",
              "The video showcases Google's innovative approach to search using generative AI. It highlights how this technology  \n",
              "revolutionizes the search experience, making it more conversational, comprehensive, and visually engaging. Here are\n",
              "some ways in which Google is using generative AI in search:                                                        \n",
              "\n",
              "<span style=\"color: #808000; text-decoration-color: #808000; font-weight: bold\"> • </span><span style=\"font-weight: bold\">AI-Powered Search Summaries:</span> The video demonstrates how Google employs generative AI to provide concise and     \n",
              "<span style=\"color: #808000; text-decoration-color: #808000; font-weight: bold\">   </span>informative summaries of search results. Instead of simply presenting a list of links, users can now receive a  \n",
              "<span style=\"color: #808000; text-decoration-color: #808000; font-weight: bold\">   </span>consolidated overview generated by AI, answering their questions directly.                                      \n",
              "<span style=\"color: #808000; text-decoration-color: #808000; font-weight: bold\"> • </span><span style=\"font-weight: bold\">Multimodal Search Results:</span> Google's generative AI enhances search by incorporating diverse formats beyond       \n",
              "<span style=\"color: #808000; text-decoration-color: #808000; font-weight: bold\">   </span>traditional text-based results. As seen in the video, searches can now yield images, videos, and even shoppable \n",
              "<span style=\"color: #808000; text-decoration-color: #808000; font-weight: bold\">   </span>product listings, offering a more visually rich and interactive experience.                                     \n",
              "<span style=\"color: #808000; text-decoration-color: #808000; font-weight: bold\"> • </span><span style=\"font-weight: bold\">Conversational Search:</span> Google leverages generative AI to enable a more conversational approach to search. Users \n",
              "<span style=\"color: #808000; text-decoration-color: #808000; font-weight: bold\">   </span>can ask follow-up questions or refine their searches naturally, as if interacting with a knowledgeable          \n",
              "<span style=\"color: #808000; text-decoration-color: #808000; font-weight: bold\">   </span>assistant. The AI understands the context and provides relevant responses, streamlining the search process.     \n",
              "<span style=\"color: #808000; text-decoration-color: #808000; font-weight: bold\"> • </span><span style=\"font-weight: bold\">Content Creation:</span> Google's generative AI extends beyond information retrieval to empower users in content       \n",
              "<span style=\"color: #808000; text-decoration-color: #808000; font-weight: bold\">   </span>creation. As showcased in the video, users can ask Google to generate various forms of content, such as poems,  \n",
              "<span style=\"color: #808000; text-decoration-color: #808000; font-weight: bold\">   </span>training plans, or comparisons. This highlights the AI's ability to understand prompts and produce creative     \n",
              "<span style=\"color: #808000; text-decoration-color: #808000; font-weight: bold\">   </span>outputs in different formats.                                                                                   \n",
              "\n",
              "In essence, Google is seamlessly integrating generative AI into its search engine, transforming it into a powerful \n",
              "tool that not only retrieves information but also understands, synthesizes, and presents it in a user-friendly and \n",
              "intuitive manner.                                                                                                  \n",
              "\n",
              "Let me know if you have other questions.                                                                           \n",
              "</pre>\n"
            ]
          },
          "metadata": {},
          "execution_count": 36
        }
      ]
    },
    {
      "cell_type": "code",
      "source": [
        "%%time\n",
        "response = model_flash.generate_content(prompt_parts)\n",
        "Markdown(response.text)"
      ],
      "metadata": {
        "id": "xX8tlOdvVkwA"
      },
      "execution_count": null,
      "outputs": []
    },
    {
      "cell_type": "markdown",
      "source": [
        "#### Context Caching [Pre-GA]"
      ],
      "metadata": {
        "id": "sgAvSO_C1pwU"
      }
    },
    {
      "cell_type": "markdown",
      "source": [
        "More details about the API: [Link](https://cloud.google.com/vertex-ai/generative-ai/docs/context-cache/context-cache-overview)\n",
        "\n",
        "Context Caching pricing: [Link](https://cloud.google.com/vertex-ai/generative-ai/pricing#context-caching)"
      ],
      "metadata": {
        "id": "tsHaBKnn1tMn"
      }
    },
    {
      "cell_type": "code",
      "source": [
        "%%time\n",
        "\n",
        "from vertexai.preview import caching\n",
        "import datetime\n",
        "import time\n",
        "\n",
        "# Create a cache with a 5 minute TTL\n",
        "cache = caching.CachedContent.create(\n",
        "    model_name='gemini-1.5-pro-001',\n",
        "    system_instruction=\"\"\"You are an expert researcher. You always stick to the facts in the sources provided, and never make up new facts.\n",
        "Now look at this video, and answer the following questions.\n",
        "\"\"\",\n",
        "    contents=[Part.from_uri(uri = \"gs://gemini-lavi-asset/idea_doc/Responsible AI _ Google I_O 2023.mp4\",\n",
        "    mime_type=\"video/mp4\")\n",
        "],\n",
        "    # caching duration is called the time to live (TTL). If not set, the TTL defaults to 1 hour.\n",
        "    # The cost for caching depends on the input token size and how long you want the tokens to persist.\n",
        "    ttl=datetime.timedelta(minutes=5),\n",
        ")"
      ],
      "metadata": {
        "colab": {
          "base_uri": "https://localhost:8080/"
        },
        "id": "3hsVzC6y4oaK",
        "outputId": "6c83a11f-01cf-4c28-8f04-6990681ca922"
      },
      "execution_count": 50,
      "outputs": [
        {
          "output_type": "stream",
          "name": "stdout",
          "text": [
            "CPU times: user 296 ms, sys: 50.1 ms, total: 346 ms\n",
            "Wall time: 44 s\n"
          ]
        }
      ]
    },
    {
      "cell_type": "code",
      "source": [
        "print(\"Cache ID: \", cache.name)"
      ],
      "metadata": {
        "colab": {
          "base_uri": "https://localhost:8080/"
        },
        "id": "9Gdx2fT046X8",
        "outputId": "98bbc9f5-86c2-448c-a50f-906af2edd225"
      },
      "execution_count": 51,
      "outputs": [
        {
          "output_type": "stream",
          "name": "stdout",
          "text": [
            "Cache ID:  8040121603507355648\n"
          ]
        }
      ]
    },
    {
      "cell_type": "code",
      "source": [
        "%%time\n",
        "\n",
        "from vertexai.preview.generative_models import GenerativeModel\n",
        "\n",
        "\n",
        "# cached_content = caching.CachedContent(cached_content_name=cache.name)\n",
        "\n",
        "# Construct a GenerativeModel which uses the created cache.\n",
        "cached_model =  GenerativeModel.from_cached_content(cached_content=cache)\n",
        "\n",
        "# Query the model\n",
        "response = cached_model.generate_content([(\"\"\"How is Google thinking about responsible AI?.\n",
        "\"\"\")])\n",
        "\n",
        "print(response.usage_metadata)\n",
        "\n",
        "\n",
        "rich_Markdown(response.text)"
      ],
      "metadata": {
        "colab": {
          "base_uri": "https://localhost:8080/",
          "height": 369
        },
        "id": "RrjZhJ-E48Qd",
        "outputId": "6294503f-0532-43f7-9729-6daed0139cbe"
      },
      "execution_count": 53,
      "outputs": [
        {
          "output_type": "stream",
          "name": "stdout",
          "text": [
            "prompt_token_count: 178522\n",
            "candidates_token_count: 233\n",
            "total_token_count: 178755\n",
            "\n",
            "CPU times: user 300 ms, sys: 30.5 ms, total: 331 ms\n",
            "Wall time: 44.7 s\n"
          ]
        },
        {
          "output_type": "execute_result",
          "data": {
            "text/plain": [
              "Google believes that approaching AI development should be both bold and responsible. While there is a natural      \n",
              "tension between these two, the company believes that it is critical to approach that tension productively. Google  \n",
              "is working to ensure that their AI development is responsible from the start, and they believe the only way to be  \n",
              "truly bold in the long term is to be responsible in development. Google developed AI principles in 2018 which guide\n",
              "their approach to AI development.                                                                                  \n",
              "\n",
              "They have developed tools, including an \"About this Image\" tool, which will allow users to see when and where      \n",
              "similar images may have first appeared online, in order to provide additional context about the image and help     \n",
              "determine if it is reliable.  They are also working on providing similar metadata to label images as AI-generated, \n",
              "and new watermarking capabilities to help with misinformation and synthetic media.                                 \n",
              "\n",
              "The company believes that building responsible AI must be a collective effort, and will be working with a broad    \n",
              "coalition of individuals and organizations, including researchers, social scientists, industry experts,            \n",
              "governments, everyday people, creators, and publishers, in order to ensure a vibrant content ecosystem now and in  \n",
              "the future.                                                                                                        \n"
            ],
            "text/html": [
              "<pre style=\"white-space:pre;overflow-x:auto;line-height:normal;font-family:Menlo,'DejaVu Sans Mono',consolas,'Courier New',monospace\">Google believes that approaching AI development should be both bold and responsible. While there is a natural      \n",
              "tension between these two, the company believes that it is critical to approach that tension productively. Google  \n",
              "is working to ensure that their AI development is responsible from the start, and they believe the only way to be  \n",
              "truly bold in the long term is to be responsible in development. Google developed AI principles in 2018 which guide\n",
              "their approach to AI development.                                                                                  \n",
              "\n",
              "They have developed tools, including an \"About this Image\" tool, which will allow users to see when and where      \n",
              "similar images may have first appeared online, in order to provide additional context about the image and help     \n",
              "determine if it is reliable.  They are also working on providing similar metadata to label images as AI-generated, \n",
              "and new watermarking capabilities to help with misinformation and synthetic media.                                 \n",
              "\n",
              "The company believes that building responsible AI must be a collective effort, and will be working with a broad    \n",
              "coalition of individuals and organizations, including researchers, social scientists, industry experts,            \n",
              "governments, everyday people, creators, and publishers, in order to ensure a vibrant content ecosystem now and in  \n",
              "the future.                                                                                                        \n",
              "</pre>\n"
            ]
          },
          "metadata": {},
          "execution_count": 53
        }
      ]
    },
    {
      "cell_type": "code",
      "source": [
        "# Query the model\n",
        "response = cached_model.generate_content([(\"\"\"Summarize key points in the video with the timestamps.\n",
        "\"\"\")])\n",
        "\n",
        "print(response.usage_metadata)\n",
        "\n",
        "\n",
        "rich_Markdown(response.text)"
      ],
      "metadata": {
        "colab": {
          "base_uri": "https://localhost:8080/",
          "height": 546
        },
        "id": "_OFvjCCd51Sm",
        "outputId": "c4754233-6933-413f-dad3-0c1ecd7b9a77"
      },
      "execution_count": 54,
      "outputs": [
        {
          "output_type": "stream",
          "name": "stdout",
          "text": [
            "prompt_token_count: 178525\n",
            "candidates_token_count: 510\n",
            "total_token_count: 179035\n",
            "\n"
          ]
        },
        {
          "output_type": "execute_result",
          "data": {
            "text/plain": [
              "The video is a presentation from the Google I/O event about AI development. Here are the key points:               \n",
              "\n",
              "\u001b[1;33m • \u001b[0m\u001b[1m0:11:\u001b[0m  James Manyika introduces a new area of research at Google called Technology and Society.                 \n",
              "\u001b[1;33m • \u001b[0m\u001b[1m0:20:\u001b[0m  AI has amazing potential to benefit people and society.                                                  \n",
              "\u001b[1;33m • \u001b[0m\u001b[1m0:49:\u001b[0m  Google's approach to AI is both bold and responsible.                                                    \n",
              "\u001b[1;33m • \u001b[0m\u001b[1m1:18:\u001b[0m  Google DeepMind's AlphaFold was able to accurately predict the 3D shapes of 200 million proteins which   \n",
              "\u001b[1;33m   \u001b[0mhas helped medical breakthroughs.                                                                               \n",
              "\u001b[1;33m • \u001b[0m\u001b[1m1:50:\u001b[0m  Over a million researchers around the world have used AlphaFold predictions.                             \n",
              "\u001b[1;33m • \u001b[0m\u001b[1m2:32:\u001b[0m  AI has the potential to worsen existing societal challenges like unfair bias.                            \n",
              "\u001b[1;33m • \u001b[0m\u001b[1m3:17:\u001b[0m  Google is concerned about AI-generated misinformation and is developing ways for people to evaluate      \n",
              "\u001b[1;33m   \u001b[0monline information.                                                                                             \n",
              "\u001b[1;33m • \u001b[0m\u001b[1m4:01:\u001b[0m  A new tool in Google Search provides context about images, such as when and where similar images first   \n",
              "\u001b[1;33m   \u001b[0mappeared.                                                                                                       \n",
              "\u001b[1;33m • \u001b[0m\u001b[1m4:26:\u001b[0m  The same \"About this image\" tool will be available when searching using Google Lens and in Chrome.       \n",
              "\u001b[1;33m • \u001b[0m\u001b[1m4:41:\u001b[0m  Google will add metadata to AI-generated images so people know they were created by AI.                  \n",
              "\u001b[1;33m • \u001b[0m\u001b[1m4:59:\u001b[0m  Google is working with creators and publishers to label AI-generated content.                            \n",
              "\u001b[1;33m • \u001b[0m\u001b[1m5:30:\u001b[0m  Universal Translator is an experimental AI service that translates videos while matching the speaker's   \n",
              "\u001b[1;33m   \u001b[0mlip movements.                                                                                                  \n",
              "\u001b[1;33m • \u001b[0m\u001b[1m6:51:\u001b[0m  Google built the service with guardrails to help prevent the misuse of AI to create deep fakes.          \n",
              "\u001b[1;33m • \u001b[0m\u001b[1m7:29:\u001b[0m  Google was the first major company to decide not to make a general-purpose facial recognition API        \n",
              "\u001b[1;33m   \u001b[0mavailable commercially due to concerns about safeguards.                                                        \n",
              "\u001b[1;33m • \u001b[0m\u001b[1m7:57:\u001b[0m  Google is one of the first in the industry to develop automated adversarial testing using large language \n",
              "\u001b[1;33m   \u001b[0mmodel technology to identify inaccurate output.                                                                 \n",
              "\u001b[1;33m • \u001b[0m\u001b[1m8:35:\u001b[0m  Google's Perspective API, originally created to help publishers mitigate online toxicity, is now being   \n",
              "\u001b[1;33m   \u001b[0mincorporated into large language models.                                                                        \n",
              "\n",
              "The presentation emphasizes that while AI has significant potential for good, it also has the potential to cause   \n",
              "harm. Google is committed to developing AI responsibly and working with others to ensure its ethical use.          \n"
            ],
            "text/html": [
              "<pre style=\"white-space:pre;overflow-x:auto;line-height:normal;font-family:Menlo,'DejaVu Sans Mono',consolas,'Courier New',monospace\">The video is a presentation from the Google I/O event about AI development. Here are the key points:               \n",
              "\n",
              "<span style=\"color: #808000; text-decoration-color: #808000; font-weight: bold\"> • </span><span style=\"font-weight: bold\">0:11:</span>  James Manyika introduces a new area of research at Google called Technology and Society.                 \n",
              "<span style=\"color: #808000; text-decoration-color: #808000; font-weight: bold\"> • </span><span style=\"font-weight: bold\">0:20:</span>  AI has amazing potential to benefit people and society.                                                  \n",
              "<span style=\"color: #808000; text-decoration-color: #808000; font-weight: bold\"> • </span><span style=\"font-weight: bold\">0:49:</span>  Google's approach to AI is both bold and responsible.                                                    \n",
              "<span style=\"color: #808000; text-decoration-color: #808000; font-weight: bold\"> • </span><span style=\"font-weight: bold\">1:18:</span>  Google DeepMind's AlphaFold was able to accurately predict the 3D shapes of 200 million proteins which   \n",
              "<span style=\"color: #808000; text-decoration-color: #808000; font-weight: bold\">   </span>has helped medical breakthroughs.                                                                               \n",
              "<span style=\"color: #808000; text-decoration-color: #808000; font-weight: bold\"> • </span><span style=\"font-weight: bold\">1:50:</span>  Over a million researchers around the world have used AlphaFold predictions.                             \n",
              "<span style=\"color: #808000; text-decoration-color: #808000; font-weight: bold\"> • </span><span style=\"font-weight: bold\">2:32:</span>  AI has the potential to worsen existing societal challenges like unfair bias.                            \n",
              "<span style=\"color: #808000; text-decoration-color: #808000; font-weight: bold\"> • </span><span style=\"font-weight: bold\">3:17:</span>  Google is concerned about AI-generated misinformation and is developing ways for people to evaluate      \n",
              "<span style=\"color: #808000; text-decoration-color: #808000; font-weight: bold\">   </span>online information.                                                                                             \n",
              "<span style=\"color: #808000; text-decoration-color: #808000; font-weight: bold\"> • </span><span style=\"font-weight: bold\">4:01:</span>  A new tool in Google Search provides context about images, such as when and where similar images first   \n",
              "<span style=\"color: #808000; text-decoration-color: #808000; font-weight: bold\">   </span>appeared.                                                                                                       \n",
              "<span style=\"color: #808000; text-decoration-color: #808000; font-weight: bold\"> • </span><span style=\"font-weight: bold\">4:26:</span>  The same \"About this image\" tool will be available when searching using Google Lens and in Chrome.       \n",
              "<span style=\"color: #808000; text-decoration-color: #808000; font-weight: bold\"> • </span><span style=\"font-weight: bold\">4:41:</span>  Google will add metadata to AI-generated images so people know they were created by AI.                  \n",
              "<span style=\"color: #808000; text-decoration-color: #808000; font-weight: bold\"> • </span><span style=\"font-weight: bold\">4:59:</span>  Google is working with creators and publishers to label AI-generated content.                            \n",
              "<span style=\"color: #808000; text-decoration-color: #808000; font-weight: bold\"> • </span><span style=\"font-weight: bold\">5:30:</span>  Universal Translator is an experimental AI service that translates videos while matching the speaker's   \n",
              "<span style=\"color: #808000; text-decoration-color: #808000; font-weight: bold\">   </span>lip movements.                                                                                                  \n",
              "<span style=\"color: #808000; text-decoration-color: #808000; font-weight: bold\"> • </span><span style=\"font-weight: bold\">6:51:</span>  Google built the service with guardrails to help prevent the misuse of AI to create deep fakes.          \n",
              "<span style=\"color: #808000; text-decoration-color: #808000; font-weight: bold\"> • </span><span style=\"font-weight: bold\">7:29:</span>  Google was the first major company to decide not to make a general-purpose facial recognition API        \n",
              "<span style=\"color: #808000; text-decoration-color: #808000; font-weight: bold\">   </span>available commercially due to concerns about safeguards.                                                        \n",
              "<span style=\"color: #808000; text-decoration-color: #808000; font-weight: bold\"> • </span><span style=\"font-weight: bold\">7:57:</span>  Google is one of the first in the industry to develop automated adversarial testing using large language \n",
              "<span style=\"color: #808000; text-decoration-color: #808000; font-weight: bold\">   </span>model technology to identify inaccurate output.                                                                 \n",
              "<span style=\"color: #808000; text-decoration-color: #808000; font-weight: bold\"> • </span><span style=\"font-weight: bold\">8:35:</span>  Google's Perspective API, originally created to help publishers mitigate online toxicity, is now being   \n",
              "<span style=\"color: #808000; text-decoration-color: #808000; font-weight: bold\">   </span>incorporated into large language models.                                                                        \n",
              "\n",
              "The presentation emphasizes that while AI has significant potential for good, it also has the potential to cause   \n",
              "harm. Google is committed to developing AI responsibly and working with others to ensure its ethical use.          \n",
              "</pre>\n"
            ]
          },
          "metadata": {},
          "execution_count": 54
        }
      ]
    },
    {
      "cell_type": "markdown",
      "source": [
        "Learn more:\n",
        "- [get cache information](https://cloud.google.com/vertex-ai/generative-ai/docs/context-cache/context-cache-getinfo)\n",
        "- [update the context](https://cloud.google.com/vertex-ai/generative-ai/docs/context-cache/context-cache-update)\n",
        "- [delete the cache](https://cloud.google.com/vertex-ai/generative-ai/docs/context-cache/context-cache-delete)"
      ],
      "metadata": {
        "id": "wXvZTEPg6XhP"
      }
    },
    {
      "cell_type": "markdown",
      "source": [
        "## Embeddings"
      ],
      "metadata": {
        "id": "FStgGba362-U"
      }
    },
    {
      "cell_type": "markdown",
      "source": [
        "#### Text Embeddings"
      ],
      "metadata": {
        "id": "osUOJ_Wv7BOz"
      }
    },
    {
      "cell_type": "markdown",
      "source": [
        "Learn more: [Link](https://cloud.google.com/vertex-ai/generative-ai/docs/embeddings/get-text-embeddings)\n",
        "\n",
        "More about API and various examples: [Link](https://github.com/GoogleCloudPlatform/generative-ai/blob/main/gemini/qa-ops/intro_Vertex_AI_embeddings.ipynb)"
      ],
      "metadata": {
        "id": "Inoh5JsY71sF"
      }
    },
    {
      "cell_type": "code",
      "source": [
        "from typing import List, Optional\n",
        "\n",
        "from vertexai.language_models import TextEmbeddingInput, TextEmbeddingModel\n",
        "\n",
        "\n",
        "def embed_text(\n",
        "    texts: List[str] = [\"banana muffins? \", \"banana bread? banana muffins?\"],\n",
        "    task: str = \"RETRIEVAL_DOCUMENT\",\n",
        "    model_name: str = \"text-embedding-004\",\n",
        "    dimensionality: Optional[int] = 256,\n",
        ") -> List[List[float]]:\n",
        "    \"\"\"Embeds texts with a pre-trained, foundational model.\"\"\"\n",
        "    model = TextEmbeddingModel.from_pretrained(model_name)\n",
        "    inputs = [TextEmbeddingInput(text, task) for text in texts]\n",
        "    kwargs = dict(output_dimensionality=dimensionality) if dimensionality else {}\n",
        "    embeddings = model.get_embeddings(inputs, **kwargs)\n",
        "    return [embedding.values for embedding in embeddings]\n"
      ],
      "metadata": {
        "id": "oUAc9WNQ649T"
      },
      "execution_count": 56,
      "outputs": []
    },
    {
      "cell_type": "code",
      "source": [
        "embed_text(texts =[\"\"\"Title: The next generation of AI for developers and Google Workspace\"\n",
        "    \"\\n\"\n",
        "    \"Full article:\\n\"\n",
        "    \"\\n\"\n",
        "    \"Gemini API & Google AI Studio: An approachable way to explore and prototype with generative AI applications\n",
        "    \"\"\"])[0][:5]"
      ],
      "metadata": {
        "colab": {
          "base_uri": "https://localhost:8080/"
        },
        "id": "xI8wNDOy7Uc3",
        "outputId": "bd8d92b2-cbf8-49bd-b9b9-8384cbde78d7"
      },
      "execution_count": 60,
      "outputs": [
        {
          "output_type": "execute_result",
          "data": {
            "text/plain": [
              "[0.004852301441133022,\n",
              " -0.01424611359834671,\n",
              " -0.06665414571762085,\n",
              " -0.002811228623613715,\n",
              " 0.01342849526554346]"
            ]
          },
          "metadata": {},
          "execution_count": 60
        }
      ]
    },
    {
      "cell_type": "markdown",
      "source": [
        "#### Multimodal Embeddings"
      ],
      "metadata": {
        "id": "cYmINjxX79Qb"
      }
    },
    {
      "cell_type": "markdown",
      "source": [
        "\n",
        "Learn more: [Link](https://cloud.google.com/vertex-ai/generative-ai/docs/embeddings/get-multimodal-embeddings)\n",
        "\n",
        "More about API and various examples: [Link](https://github.com/GoogleCloudPlatform/generative-ai/blob/main/gemini/qa-ops/intro_Vertex_AI_embeddings.ipynb)"
      ],
      "metadata": {
        "id": "QD4cxR4U8OtQ"
      }
    },
    {
      "cell_type": "code",
      "source": [
        "import vertexai\n",
        "from vertexai.vision_models import Image, MultiModalEmbeddingModel\n",
        "\n",
        "\n",
        "model = MultiModalEmbeddingModel.from_pretrained(\"multimodalembedding\")\n",
        "image = Image.load_from_file(\n",
        "    \"gs://cloud-samples-data/vertex-ai/llm/prompts/landmark1.png\"\n",
        ")\n",
        "\n",
        "embeddings = model.get_embeddings(\n",
        "    image=image,\n",
        "    contextual_text=\"Colosseum\",\n",
        "    dimension=1408,\n",
        ")\n",
        "print(f\"Image Embedding: {embeddings.image_embedding[:5]}\") #printing only first 5\n",
        "print(f\"Text Embedding: {embeddings.text_embedding[:5]}\") #printing only first 5"
      ],
      "metadata": {
        "colab": {
          "base_uri": "https://localhost:8080/"
        },
        "id": "djhNV5Xn7_zU",
        "outputId": "d33e4991-bf9c-4e7f-aa4e-4b93a9497e85"
      },
      "execution_count": 63,
      "outputs": [
        {
          "output_type": "stream",
          "name": "stdout",
          "text": [
            "Image Embedding: [-0.018576229, 0.0721649751, -0.000894839293, 0.0352255814, -0.0115684]\n",
            "Text Embedding: [0.00230261497, 0.0278982632, -0.0118582929, 0.0397426598, 0.00652313326]\n"
          ]
        }
      ]
    }
  ]
}