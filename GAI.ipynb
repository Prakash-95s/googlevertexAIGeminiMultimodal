{
  "nbformat": 4,
  "nbformat_minor": 0,
  "metadata": {
    "colab": {
      "provenance": []
    },
    "kernelspec": {
      "name": "python3",
      "display_name": "Python 3"
    },
    "language_info": {
      "name": "python"
    }
  },
  "cells": [
    {
      "cell_type": "code",
      "source": [
        "# Copyright 2024 Google LLC\n",
        "#\n",
        "# Licensed under the Apache License, Version 2.0 (the \"License\");\n",
        "# you may not use this file except in compliance with the License.\n",
        "# You may obtain a copy of the License at\n",
        "#\n",
        "#     https://www.apache.org/licenses/LICENSE-2.0\n",
        "#\n",
        "# Unless required by applicable law or agreed to in writing, software\n",
        "# distributed under the License is distributed on an \"AS IS\" BASIS,\n",
        "# WITHOUT WARRANTIES OR CONDITIONS OF ANY KIND, either express or implied.\n",
        "# See the License for the specific language governing permissions and\n",
        "# limitations under the License."
      ],
      "metadata": {
        "id": "CXGoly8-Stt6"
      },
      "execution_count": null,
      "outputs": []
    },
    {
      "cell_type": "markdown",
      "source": [
        "| | |\n",
        "|-|-|\n",
        "|Author(s) | [Lavi Nigam](https://github.com/lavinigam-gcp) |"
      ],
      "metadata": {
        "id": "ePGfLheMSwPu"
      }
    },
    {
      "cell_type": "markdown",
      "source": [
        "\n",
        "**bit.ly / io24-gemini-api**"
      ],
      "metadata": {
        "id": "oGKLRGBhTweb"
      }
    },
    {
      "cell_type": "markdown",
      "source": [
        "# Step 1 - Google AI for Developers Gemini API"
      ],
      "metadata": {
        "id": "6RMTXdSRChy4"
      }
    },
    {
      "cell_type": "code",
      "source": [
        "# Library installation # needs restarts\n",
        "! pip install PyPDF2\n",
        "! apt-get install poppler-utils\n",
        "! pip install pdf2image\n",
        "! pip install --upgrade google-generativeai"
      ],
      "metadata": {
        "id": "vOZVZgNJDCfL",
        "colab": {
          "base_uri": "https://localhost:8080/",
          "height": 1000
        },
        "outputId": "749fbd9d-5ac1-4a7e-eb93-9a7addaca562"
      },
      "execution_count": 1,
      "outputs": [
        {
          "output_type": "stream",
          "name": "stdout",
          "text": [
            "Collecting PyPDF2\n",
            "  Downloading pypdf2-3.0.1-py3-none-any.whl (232 kB)\n",
            "\u001b[2K     \u001b[90m━━━━━━━━━━━━━━━━━━━━━━━━━━━━━━━━━━━━━━━━\u001b[0m \u001b[32m232.6/232.6 kB\u001b[0m \u001b[31m4.5 MB/s\u001b[0m eta \u001b[36m0:00:00\u001b[0m\n",
            "\u001b[?25hInstalling collected packages: PyPDF2\n",
            "Successfully installed PyPDF2-3.0.1\n",
            "Reading package lists... Done\n",
            "Building dependency tree... Done\n",
            "Reading state information... Done\n",
            "The following NEW packages will be installed:\n",
            "  poppler-utils\n",
            "0 upgraded, 1 newly installed, 0 to remove and 45 not upgraded.\n",
            "Need to get 186 kB of archives.\n",
            "After this operation, 696 kB of additional disk space will be used.\n",
            "Get:1 http://archive.ubuntu.com/ubuntu jammy-updates/main amd64 poppler-utils amd64 22.02.0-2ubuntu0.4 [186 kB]\n",
            "Fetched 186 kB in 0s (760 kB/s)\n",
            "Selecting previously unselected package poppler-utils.\n",
            "(Reading database ... 121918 files and directories currently installed.)\n",
            "Preparing to unpack .../poppler-utils_22.02.0-2ubuntu0.4_amd64.deb ...\n",
            "Unpacking poppler-utils (22.02.0-2ubuntu0.4) ...\n",
            "Setting up poppler-utils (22.02.0-2ubuntu0.4) ...\n",
            "Processing triggers for man-db (2.10.2-1) ...\n",
            "Collecting pdf2image\n",
            "  Downloading pdf2image-1.17.0-py3-none-any.whl (11 kB)\n",
            "Requirement already satisfied: pillow in /usr/local/lib/python3.10/dist-packages (from pdf2image) (9.4.0)\n",
            "Installing collected packages: pdf2image\n",
            "Successfully installed pdf2image-1.17.0\n",
            "Requirement already satisfied: google-generativeai in /usr/local/lib/python3.10/dist-packages (0.5.2)\n",
            "Collecting google-generativeai\n",
            "  Downloading google_generativeai-0.5.3-py3-none-any.whl (150 kB)\n",
            "\u001b[2K     \u001b[90m━━━━━━━━━━━━━━━━━━━━━━━━━━━━━━━━━━━━━━━━\u001b[0m \u001b[32m150.7/150.7 kB\u001b[0m \u001b[31m3.6 MB/s\u001b[0m eta \u001b[36m0:00:00\u001b[0m\n",
            "\u001b[?25hCollecting google-ai-generativelanguage==0.6.3 (from google-generativeai)\n",
            "  Downloading google_ai_generativelanguage-0.6.3-py3-none-any.whl (677 kB)\n",
            "\u001b[2K     \u001b[90m━━━━━━━━━━━━━━━━━━━━━━━━━━━━━━━━━━━━━━━━\u001b[0m \u001b[32m677.8/677.8 kB\u001b[0m \u001b[31m9.8 MB/s\u001b[0m eta \u001b[36m0:00:00\u001b[0m\n",
            "\u001b[?25hRequirement already satisfied: google-api-core in /usr/local/lib/python3.10/dist-packages (from google-generativeai) (2.11.1)\n",
            "Requirement already satisfied: google-api-python-client in /usr/local/lib/python3.10/dist-packages (from google-generativeai) (2.84.0)\n",
            "Requirement already satisfied: google-auth>=2.15.0 in /usr/local/lib/python3.10/dist-packages (from google-generativeai) (2.27.0)\n",
            "Requirement already satisfied: protobuf in /usr/local/lib/python3.10/dist-packages (from google-generativeai) (3.20.3)\n",
            "Requirement already satisfied: pydantic in /usr/local/lib/python3.10/dist-packages (from google-generativeai) (2.7.1)\n",
            "Requirement already satisfied: tqdm in /usr/local/lib/python3.10/dist-packages (from google-generativeai) (4.66.4)\n",
            "Requirement already satisfied: typing-extensions in /usr/local/lib/python3.10/dist-packages (from google-generativeai) (4.11.0)\n",
            "Requirement already satisfied: proto-plus<2.0.0dev,>=1.22.3 in /usr/local/lib/python3.10/dist-packages (from google-ai-generativelanguage==0.6.3->google-generativeai) (1.23.0)\n",
            "Requirement already satisfied: cachetools<6.0,>=2.0.0 in /usr/local/lib/python3.10/dist-packages (from google-auth>=2.15.0->google-generativeai) (5.3.3)\n",
            "Requirement already satisfied: pyasn1-modules>=0.2.1 in /usr/local/lib/python3.10/dist-packages (from google-auth>=2.15.0->google-generativeai) (0.4.0)\n",
            "Requirement already satisfied: rsa<5,>=3.1.4 in /usr/local/lib/python3.10/dist-packages (from google-auth>=2.15.0->google-generativeai) (4.9)\n",
            "Requirement already satisfied: googleapis-common-protos<2.0.dev0,>=1.56.2 in /usr/local/lib/python3.10/dist-packages (from google-api-core->google-generativeai) (1.63.0)\n",
            "Requirement already satisfied: requests<3.0.0.dev0,>=2.18.0 in /usr/local/lib/python3.10/dist-packages (from google-api-core->google-generativeai) (2.31.0)\n",
            "Requirement already satisfied: httplib2<1dev,>=0.15.0 in /usr/local/lib/python3.10/dist-packages (from google-api-python-client->google-generativeai) (0.22.0)\n",
            "Requirement already satisfied: google-auth-httplib2>=0.1.0 in /usr/local/lib/python3.10/dist-packages (from google-api-python-client->google-generativeai) (0.1.1)\n",
            "Requirement already satisfied: uritemplate<5,>=3.0.1 in /usr/local/lib/python3.10/dist-packages (from google-api-python-client->google-generativeai) (4.1.1)\n",
            "Requirement already satisfied: annotated-types>=0.4.0 in /usr/local/lib/python3.10/dist-packages (from pydantic->google-generativeai) (0.6.0)\n",
            "Requirement already satisfied: pydantic-core==2.18.2 in /usr/local/lib/python3.10/dist-packages (from pydantic->google-generativeai) (2.18.2)\n",
            "Requirement already satisfied: grpcio<2.0dev,>=1.33.2 in /usr/local/lib/python3.10/dist-packages (from google-api-core->google-generativeai) (1.63.0)\n",
            "Requirement already satisfied: grpcio-status<2.0.dev0,>=1.33.2 in /usr/local/lib/python3.10/dist-packages (from google-api-core->google-generativeai) (1.48.2)\n",
            "Requirement already satisfied: pyparsing!=3.0.0,!=3.0.1,!=3.0.2,!=3.0.3,<4,>=2.4.2 in /usr/local/lib/python3.10/dist-packages (from httplib2<1dev,>=0.15.0->google-api-python-client->google-generativeai) (3.1.2)\n",
            "Requirement already satisfied: pyasn1<0.7.0,>=0.4.6 in /usr/local/lib/python3.10/dist-packages (from pyasn1-modules>=0.2.1->google-auth>=2.15.0->google-generativeai) (0.6.0)\n",
            "Requirement already satisfied: charset-normalizer<4,>=2 in /usr/local/lib/python3.10/dist-packages (from requests<3.0.0.dev0,>=2.18.0->google-api-core->google-generativeai) (3.3.2)\n",
            "Requirement already satisfied: idna<4,>=2.5 in /usr/local/lib/python3.10/dist-packages (from requests<3.0.0.dev0,>=2.18.0->google-api-core->google-generativeai) (3.7)\n",
            "Requirement already satisfied: urllib3<3,>=1.21.1 in /usr/local/lib/python3.10/dist-packages (from requests<3.0.0.dev0,>=2.18.0->google-api-core->google-generativeai) (2.0.7)\n",
            "Requirement already satisfied: certifi>=2017.4.17 in /usr/local/lib/python3.10/dist-packages (from requests<3.0.0.dev0,>=2.18.0->google-api-core->google-generativeai) (2024.2.2)\n",
            "Installing collected packages: google-ai-generativelanguage, google-generativeai\n",
            "  Attempting uninstall: google-ai-generativelanguage\n",
            "    Found existing installation: google-ai-generativelanguage 0.6.2\n",
            "    Uninstalling google-ai-generativelanguage-0.6.2:\n",
            "      Successfully uninstalled google-ai-generativelanguage-0.6.2\n",
            "  Attempting uninstall: google-generativeai\n",
            "    Found existing installation: google-generativeai 0.5.2\n",
            "    Uninstalling google-generativeai-0.5.2:\n",
            "      Successfully uninstalled google-generativeai-0.5.2\n",
            "Successfully installed google-ai-generativelanguage-0.6.3 google-generativeai-0.5.3\n"
          ]
        },
        {
          "output_type": "display_data",
          "data": {
            "application/vnd.colab-display-data+json": {
              "pip_warning": {
                "packages": [
                  "google"
                ]
              },
              "id": "817170d4b6d14793a18841e72222a7ec"
            }
          },
          "metadata": {}
        }
      ]
    },
    {
      "cell_type": "code",
      "source": [
        "# Downloading data from Google Drive\n",
        "!gdown --folder https://drive.google.com/drive/folders/1RfMScB0Y1LUQdW5tvjyYA4_D21H5HMaT?usp=sharing -O /content/data/\n",
        "# !gdown --folder https://drive.google.com/drive/folders/10Mih6hD6Ln8xNX8L7V4q1vjR9ArsXkWQ?usp=drive_link -O /content/data/"
      ],
      "metadata": {
        "id": "zf8iEWfYBc8r",
        "colab": {
          "base_uri": "https://localhost:8080/"
        },
        "outputId": "6e072ad4-c50e-4ea7-a0be-993181da2c4d"
      },
      "execution_count": 1,
      "outputs": [
        {
          "output_type": "stream",
          "name": "stdout",
          "text": [
            "Retrieving folder contents\n",
            "Processing file 1iT0qe9EU8RQyiAlrMlJ-SH-E_WtMGFNm goog-10-q-q2-2023-4-1-15.pdf\n",
            "Processing file 1qs4blSxatemVxpZ3dt1yzESDa4aNWptD Google's newest and most capable AI  Gemini.mp3\n",
            "Processing file 1oX_TaQZjOiuDUwsTrqz7zq5HMEe7cEMR Google's newest and most capable AI _ Gemini.mp4\n",
            "Processing file 1totf67pJ3XYhILCY0TrbS1tHm7PwCZES Responsible AI _ Google I_O 2023.mp4\n",
            "Processing file 1kaq58S4oRmuZgDqK109uc6mwedVmPAby stage_1_prototype_Alphabet 2023 Q4 Earnings Call.mp3\n",
            "Processing file 1GXGfwoe8-vsoOM1E8SBOCybc7R5XRd2P stage_1_prototype_Google Cloud TPU blog.pdf\n",
            "Processing file 19aqpEZqTVTERbySYVrtDgSjuUBUabeSE What's next for AI and Google Search _ Google I_O 2023.mp4\n",
            "Retrieving folder contents completed\n",
            "Building directory structure\n",
            "Building directory structure completed\n",
            "Downloading...\n",
            "From: https://drive.google.com/uc?id=1iT0qe9EU8RQyiAlrMlJ-SH-E_WtMGFNm\n",
            "To: /content/data/Idea/goog-10-q-q2-2023-4-1-15.pdf\n",
            "100% 217k/217k [00:00<00:00, 85.7MB/s]\n",
            "Downloading...\n",
            "From: https://drive.google.com/uc?id=1qs4blSxatemVxpZ3dt1yzESDa4aNWptD\n",
            "To: /content/data/Idea/Google's newest and most capable AI  Gemini.mp3\n",
            "100% 6.60M/6.60M [00:00<00:00, 30.6MB/s]\n",
            "Downloading...\n",
            "From: https://drive.google.com/uc?id=1oX_TaQZjOiuDUwsTrqz7zq5HMEe7cEMR\n",
            "To: /content/data/Idea/Google's newest and most capable AI _ Gemini.mp4\n",
            "100% 14.7M/14.7M [00:00<00:00, 89.7MB/s]\n",
            "Downloading...\n",
            "From: https://drive.google.com/uc?id=1totf67pJ3XYhILCY0TrbS1tHm7PwCZES\n",
            "To: /content/data/Idea/Responsible AI _ Google I_O 2023.mp4\n",
            "100% 64.5M/64.5M [00:00<00:00, 123MB/s]\n",
            "Downloading...\n",
            "From (original): https://drive.google.com/uc?id=1kaq58S4oRmuZgDqK109uc6mwedVmPAby\n",
            "From (redirected): https://drive.google.com/uc?id=1kaq58S4oRmuZgDqK109uc6mwedVmPAby&confirm=t&uuid=074aee72-496f-4ddc-a629-6fe2040c6c33\n",
            "To: /content/data/Idea/stage_1_prototype_Alphabet 2023 Q4 Earnings Call.mp3\n",
            "100% 109M/109M [00:00<00:00, 113MB/s]\n",
            "Downloading...\n",
            "From: https://drive.google.com/uc?id=1GXGfwoe8-vsoOM1E8SBOCybc7R5XRd2P\n",
            "To: /content/data/Idea/stage_1_prototype_Google Cloud TPU blog.pdf\n",
            "100% 1.01M/1.01M [00:00<00:00, 106MB/s]\n",
            "Downloading...\n",
            "From: https://drive.google.com/uc?id=19aqpEZqTVTERbySYVrtDgSjuUBUabeSE\n",
            "To: /content/data/Idea/What's next for AI and Google Search _ Google I_O 2023.mp4\n",
            "100% 5.35M/5.35M [00:00<00:00, 114MB/s]\n",
            "Download completed\n"
          ]
        }
      ]
    },
    {
      "cell_type": "code",
      "source": [
        "# Library\n",
        "from IPython.display import display, Markdown, Latex\n",
        "import google.generativeai as genai\n",
        "import PyPDF2\n",
        "from rich import print as rich_print\n",
        "from rich.markdown import Markdown as rich_Markdown"
      ],
      "metadata": {
        "id": "tczKqvnjMSyA"
      },
      "execution_count": 2,
      "outputs": []
    },
    {
      "cell_type": "code",
      "execution_count": 3,
      "metadata": {
        "id": "JNDLW6CNA7dY"
      },
      "outputs": [],
      "source": [
        "# Authentication\n",
        "from google.colab import userdata\n",
        "genai.configure(api_key=userdata.get('api_key'))"
      ]
    },
    {
      "cell_type": "code",
      "source": [
        "# Set up the model\n",
        "from google.generativeai.types import HarmCategory, HarmBlockThreshold, GenerationConfig\n",
        "\n",
        "generation_config = GenerationConfig(\n",
        "    temperature=1,\n",
        "    max_output_tokens=8192,\n",
        ")\n",
        "\n",
        "safety_settings = {\n",
        "    HarmCategory.HARM_CATEGORY_HARASSMENT: HarmBlockThreshold.BLOCK_MEDIUM_AND_ABOVE,\n",
        "    HarmCategory.HARM_CATEGORY_HATE_SPEECH: HarmBlockThreshold.BLOCK_MEDIUM_AND_ABOVE,\n",
        "    HarmCategory.HARM_CATEGORY_SEXUALLY_EXPLICIT: HarmBlockThreshold.BLOCK_MEDIUM_AND_ABOVE,\n",
        "    HarmCategory.HARM_CATEGORY_DANGEROUS_CONTENT: HarmBlockThreshold.BLOCK_MEDIUM_AND_ABOVE,\n",
        "}\n",
        "\n",
        "\n",
        "model = genai.GenerativeModel(model_name=\"gemini-1.5-pro-latest\",\n",
        "                              generation_config=generation_config,\n",
        "                              safety_settings=safety_settings)\n",
        "\n",
        "model_flash = genai.GenerativeModel(model_name=\"gemini-1.5-flash-latest\",\n",
        "                              generation_config=generation_config,\n",
        "                              safety_settings=safety_settings)"
      ],
      "metadata": {
        "id": "KhTx4pNbLre7"
      },
      "execution_count": 4,
      "outputs": []
    },
    {
      "cell_type": "markdown",
      "source": [
        "### PDF"
      ],
      "metadata": {
        "id": "YD5CkSMcbfAB"
      }
    },
    {
      "cell_type": "code",
      "source": [
        "#@title Helper Functions\n",
        "## Helper Function\n",
        "\n",
        "def pdf_to_dict_str(file_path):\n",
        "    \"\"\"Reads a PDF file and returns a dictionary with page numbers as keys and page text as values.\"\"\"\n",
        "\n",
        "    with open(file_path, 'rb') as pdf_file:\n",
        "        pdf_reader = PyPDF2.PdfReader(pdf_file)\n",
        "        num_pages = len(pdf_reader.pages)\n",
        "\n",
        "        page_dict = {}\n",
        "        for page_num in range(num_pages):\n",
        "            page = pdf_reader.pages[page_num]\n",
        "            page_text = page.extract_text()\n",
        "            page_dict[page_num + 1] = page_text  # Page numbers start from 1\n",
        "\n",
        "        return str(page_dict)"
      ],
      "metadata": {
        "cellView": "form",
        "id": "pwql88iWbcF4"
      },
      "execution_count": 6,
      "outputs": []
    },
    {
      "cell_type": "code",
      "source": [
        "%%time\n",
        "\n",
        "prompt_parts = [\n",
        "  pdf_to_dict_str('/content/data/Idea/stage_1_prototype_Google Cloud TPU blog.pdf'),\n",
        "  \"What are key achievement for Google Cloud from the following blog. Mention in bullet.\",\n",
        "]\n",
        "response = model.generate_content(prompt_parts)\n",
        "rich_Markdown(response.text)"
      ],
      "metadata": {
        "colab": {
          "base_uri": "https://localhost:8080/",
          "height": 420
        },
        "id": "ZzDM8-fhDa5x",
        "outputId": "9231bee3-af73-4619-f686-57327feaa75e"
      },
      "execution_count": 7,
      "outputs": [
        {
          "output_type": "stream",
          "name": "stdout",
          "text": [
            "CPU times: user 836 ms, sys: 18.1 ms, total: 854 ms\n",
            "Wall time: 14.7 s\n"
          ]
        },
        {
          "output_type": "execute_result",
          "data": {
            "text/plain": [
              "Here are the key achievements of Google Cloud, as described in the blog post:                                      \n",
              "\n",
              "\u001b[1;33m • \u001b[0m\u001b[1mWorld's Largest Distributed Training Job for LLMs:\u001b[0m Successfully ran a distributed training job on a compute     \n",
              "\u001b[1;33m   \u001b[0mcluster of 50,944 Cloud TPU v5e chips, believed to be the largest publicly disclosed LLM training job based on  \n",
              "\u001b[1;33m   \u001b[0mchip count. This cluster surpasses the TOP1 Supercomputer Frontier in terms of AI accelerator count.            \n",
              "\u001b[1;33m • \u001b[0m\u001b[1mCloud TPU Multislice Training GA:\u001b[0m Announced the general availability of Cloud TPU Multislice Training, a        \n",
              "\u001b[1;33m   \u001b[0mfull-stack training offering supporting TPU v4 and v5e designed for scalability, reliability, and ease of use   \n",
              "\u001b[1;33m   \u001b[0mfor end-to-end optimization of ML training.                                                                     \n",
              "\u001b[1;33m • \u001b[0m\u001b[1mHigh Model FLOPs Utilization:\u001b[0m Achieved up to 66.86% MFU (Model FLOPs Utilization) with BF16 training on a single\n",
              "\u001b[1;33m   \u001b[0mTPU v5e pod and observed strong scaling results when expanding to 160 pods. Also achieved an impressive 5.32    \n",
              "\u001b[1;33m   \u001b[0mexa-OP/s (8-bit) with INT8 quantized training using the AQT library on the full 199-pod cluster.                \n",
              "\u001b[1;33m • \u001b[0m\u001b[1mOpen Source Contributions:\u001b[0m Open-sourced many components of the Multislice Training stack, including MaxText,    \n",
              "\u001b[1;33m   \u001b[0mXPK, AQT, and XLA, to benefit the broader AI/ML community.                                                      \n",
              "\u001b[1;33m • \u001b[0m\u001b[1mOvercame Orchestration Challenges:\u001b[0m Developed robust orchestration solutions to manage over 50,000 accelerator   \n",
              "\u001b[1;33m   \u001b[0mchips working on a single training job, enabling both smaller experimental jobs and full-scale cluster          \n",
              "\u001b[1;33m   \u001b[0mutilization. This was accomplished through GKE's Jobset and Queue features, optimized IP address management,    \n",
              "\u001b[1;33m   \u001b[0mDocker image precaching, cluster design for scale, and high-throughput scheduling.                              \n",
              "\u001b[1;33m • \u001b[0m\u001b[1mPerformance Optimizations:\u001b[0m  Utilized XLA compiler optimizations, particularly GSPMD, to achieve                 \n",
              "\u001b[1;33m   \u001b[0msupercomputer-like performance. Identified and addressed bottlenecks in multi-slice communication, significantly\n",
              "\u001b[1;33m   \u001b[0mreducing device-to-host and host-to-device transfers.                                                           \n",
              "\u001b[1;33m • \u001b[0m\u001b[1mStorage Enhancements:\u001b[0m  Optimized interaction with persistent storage (Cloud Storage), particularly for data     \n",
              "\u001b[1;33m   \u001b[0mloading and checkpointing, using distributed data loading strategies and checkpoint broadcasting to overcome    \n",
              "\u001b[1;33m   \u001b[0mbandwidth limitations and minimize job start/restart times.                                                     \n"
            ],
            "text/html": [
              "<pre style=\"white-space:pre;overflow-x:auto;line-height:normal;font-family:Menlo,'DejaVu Sans Mono',consolas,'Courier New',monospace\">Here are the key achievements of Google Cloud, as described in the blog post:                                      \n",
              "\n",
              "<span style=\"color: #808000; text-decoration-color: #808000; font-weight: bold\"> • </span><span style=\"font-weight: bold\">World's Largest Distributed Training Job for LLMs:</span> Successfully ran a distributed training job on a compute     \n",
              "<span style=\"color: #808000; text-decoration-color: #808000; font-weight: bold\">   </span>cluster of 50,944 Cloud TPU v5e chips, believed to be the largest publicly disclosed LLM training job based on  \n",
              "<span style=\"color: #808000; text-decoration-color: #808000; font-weight: bold\">   </span>chip count. This cluster surpasses the TOP1 Supercomputer Frontier in terms of AI accelerator count.            \n",
              "<span style=\"color: #808000; text-decoration-color: #808000; font-weight: bold\"> • </span><span style=\"font-weight: bold\">Cloud TPU Multislice Training GA:</span> Announced the general availability of Cloud TPU Multislice Training, a        \n",
              "<span style=\"color: #808000; text-decoration-color: #808000; font-weight: bold\">   </span>full-stack training offering supporting TPU v4 and v5e designed for scalability, reliability, and ease of use   \n",
              "<span style=\"color: #808000; text-decoration-color: #808000; font-weight: bold\">   </span>for end-to-end optimization of ML training.                                                                     \n",
              "<span style=\"color: #808000; text-decoration-color: #808000; font-weight: bold\"> • </span><span style=\"font-weight: bold\">High Model FLOPs Utilization:</span> Achieved up to 66.86% MFU (Model FLOPs Utilization) with BF16 training on a single\n",
              "<span style=\"color: #808000; text-decoration-color: #808000; font-weight: bold\">   </span>TPU v5e pod and observed strong scaling results when expanding to 160 pods. Also achieved an impressive 5.32    \n",
              "<span style=\"color: #808000; text-decoration-color: #808000; font-weight: bold\">   </span>exa-OP/s (8-bit) with INT8 quantized training using the AQT library on the full 199-pod cluster.                \n",
              "<span style=\"color: #808000; text-decoration-color: #808000; font-weight: bold\"> • </span><span style=\"font-weight: bold\">Open Source Contributions:</span> Open-sourced many components of the Multislice Training stack, including MaxText,    \n",
              "<span style=\"color: #808000; text-decoration-color: #808000; font-weight: bold\">   </span>XPK, AQT, and XLA, to benefit the broader AI/ML community.                                                      \n",
              "<span style=\"color: #808000; text-decoration-color: #808000; font-weight: bold\"> • </span><span style=\"font-weight: bold\">Overcame Orchestration Challenges:</span> Developed robust orchestration solutions to manage over 50,000 accelerator   \n",
              "<span style=\"color: #808000; text-decoration-color: #808000; font-weight: bold\">   </span>chips working on a single training job, enabling both smaller experimental jobs and full-scale cluster          \n",
              "<span style=\"color: #808000; text-decoration-color: #808000; font-weight: bold\">   </span>utilization. This was accomplished through GKE's Jobset and Queue features, optimized IP address management,    \n",
              "<span style=\"color: #808000; text-decoration-color: #808000; font-weight: bold\">   </span>Docker image precaching, cluster design for scale, and high-throughput scheduling.                              \n",
              "<span style=\"color: #808000; text-decoration-color: #808000; font-weight: bold\"> • </span><span style=\"font-weight: bold\">Performance Optimizations:</span>  Utilized XLA compiler optimizations, particularly GSPMD, to achieve                 \n",
              "<span style=\"color: #808000; text-decoration-color: #808000; font-weight: bold\">   </span>supercomputer-like performance. Identified and addressed bottlenecks in multi-slice communication, significantly\n",
              "<span style=\"color: #808000; text-decoration-color: #808000; font-weight: bold\">   </span>reducing device-to-host and host-to-device transfers.                                                           \n",
              "<span style=\"color: #808000; text-decoration-color: #808000; font-weight: bold\"> • </span><span style=\"font-weight: bold\">Storage Enhancements:</span>  Optimized interaction with persistent storage (Cloud Storage), particularly for data     \n",
              "<span style=\"color: #808000; text-decoration-color: #808000; font-weight: bold\">   </span>loading and checkpointing, using distributed data loading strategies and checkpoint broadcasting to overcome    \n",
              "<span style=\"color: #808000; text-decoration-color: #808000; font-weight: bold\">   </span>bandwidth limitations and minimize job start/restart times.                                                     \n",
              "</pre>\n"
            ]
          },
          "metadata": {},
          "execution_count": 7
        }
      ]
    },
    {
      "cell_type": "code",
      "source": [
        "%%time\n",
        "\n",
        "response = model_flash.generate_content(prompt_parts)\n",
        "rich_Markdown(response.text)"
      ],
      "metadata": {
        "colab": {
          "base_uri": "https://localhost:8080/",
          "height": 404
        },
        "id": "Na_tGS6pRGLw",
        "outputId": "bbadccbe-5b97-477d-c912-5c9b6dbd7e59"
      },
      "execution_count": 12,
      "outputs": [
        {
          "output_type": "stream",
          "name": "stdout",
          "text": [
            "CPU times: user 113 ms, sys: 14.3 ms, total: 127 ms\n",
            "Wall time: 7.16 s\n"
          ]
        },
        {
          "output_type": "execute_result",
          "data": {
            "text/plain": [
              "Here are the key achievements for Google Cloud from the blog, presented in bullet points:                          \n",
              "\n",
              "\u001b[1;33m • \u001b[0m\u001b[1mWorld's Largest Distributed LLM Training Job:\u001b[0m Google Cloud successfully ran the world's largest publicly        \n",
              "\u001b[1;33m   \u001b[0mdisclosed LLM distributed training job, utilizing over 50,000 TPU v5e chips. This demonstrates Google Cloud's   \n",
              "\u001b[1;33m   \u001b[0mability to handle massive scale AI workloads.                                                                   \n",
              "\u001b[1;33m • \u001b[0m\u001b[1mCloud TPU Multislice Training:\u001b[0m Google Cloud introduced the general availability of Cloud TPU Multislice         \n",
              "\u001b[1;33m   \u001b[0mTraining, a full-stack training offering designed for scalability, reliability, and ease of use. This addresses \n",
              "\u001b[1;33m   \u001b[0mkey challenges in distributed training, including orchestration, compilation, and end-to-end optimization.      \n",
              "\u001b[1;33m • \u001b[0m\u001b[1mOpen-Sourcing Key Components:\u001b[0m Google Cloud has open-sourced several key components of the Multislice Training   \n",
              "\u001b[1;33m   \u001b[0mstack, including XPK, MaxText, AQT, and XLA. This fosters collaboration and innovation within the broader AI/ML \n",
              "\u001b[1;33m   \u001b[0mcommunity.                                                                                                      \n",
              "\u001b[1;33m • \u001b[0m\u001b[1mImpressive Scaling Efficiency:\u001b[0m Google Cloud achieved excellent scaling across 50,944 TPU v5e chips,             \n",
              "\u001b[1;33m   \u001b[0mdemonstrating the efficiency of their infrastructure and software stack. They are actively working on further   \n",
              "\u001b[1;33m   \u001b[0mimprovements to achieve even better scaling.                                                                    \n",
              "\u001b[1;33m • \u001b[0m\u001b[1mHigh Performance and Stability:\u001b[0m Google Cloud achieved impressive training performance, reaching up to 66.86% MFU\n",
              "\u001b[1;33m   \u001b[0mwith BF16 training on a single TPU v5e pod. They are continuously working on optimizing the software stack for  \n",
              "\u001b[1;33m   \u001b[0mstability and performance at large scale.                                                                       \n",
              "\u001b[1;33m • \u001b[0m\u001b[1mAccelerated Training with Quantized Training:\u001b[0m Google Cloud's Accurate Quantized Training (AQT) library enabled  \n",
              "\u001b[1;33m   \u001b[0mtraining in quantized INT8, achieving a 1.2X to 1.4X acceleration in steps per second while maintaining high    \n",
              "\u001b[1;33m   \u001b[0mmodel quality.                                                                                                  \n",
              "\u001b[1;33m • \u001b[0m\u001b[1mFocus on Future Improvements:\u001b[0m Google Cloud is actively working on improving job start-up time, scaling          \n",
              "\u001b[1;33m   \u001b[0mefficiency, and overall performance through optimizations in scheduling, compilation, and the software stack.   \n"
            ],
            "text/html": [
              "<pre style=\"white-space:pre;overflow-x:auto;line-height:normal;font-family:Menlo,'DejaVu Sans Mono',consolas,'Courier New',monospace\">Here are the key achievements for Google Cloud from the blog, presented in bullet points:                          \n",
              "\n",
              "<span style=\"color: #808000; text-decoration-color: #808000; font-weight: bold\"> • </span><span style=\"font-weight: bold\">World's Largest Distributed LLM Training Job:</span> Google Cloud successfully ran the world's largest publicly        \n",
              "<span style=\"color: #808000; text-decoration-color: #808000; font-weight: bold\">   </span>disclosed LLM distributed training job, utilizing over 50,000 TPU v5e chips. This demonstrates Google Cloud's   \n",
              "<span style=\"color: #808000; text-decoration-color: #808000; font-weight: bold\">   </span>ability to handle massive scale AI workloads.                                                                   \n",
              "<span style=\"color: #808000; text-decoration-color: #808000; font-weight: bold\"> • </span><span style=\"font-weight: bold\">Cloud TPU Multislice Training:</span> Google Cloud introduced the general availability of Cloud TPU Multislice         \n",
              "<span style=\"color: #808000; text-decoration-color: #808000; font-weight: bold\">   </span>Training, a full-stack training offering designed for scalability, reliability, and ease of use. This addresses \n",
              "<span style=\"color: #808000; text-decoration-color: #808000; font-weight: bold\">   </span>key challenges in distributed training, including orchestration, compilation, and end-to-end optimization.      \n",
              "<span style=\"color: #808000; text-decoration-color: #808000; font-weight: bold\"> • </span><span style=\"font-weight: bold\">Open-Sourcing Key Components:</span> Google Cloud has open-sourced several key components of the Multislice Training   \n",
              "<span style=\"color: #808000; text-decoration-color: #808000; font-weight: bold\">   </span>stack, including XPK, MaxText, AQT, and XLA. This fosters collaboration and innovation within the broader AI/ML \n",
              "<span style=\"color: #808000; text-decoration-color: #808000; font-weight: bold\">   </span>community.                                                                                                      \n",
              "<span style=\"color: #808000; text-decoration-color: #808000; font-weight: bold\"> • </span><span style=\"font-weight: bold\">Impressive Scaling Efficiency:</span> Google Cloud achieved excellent scaling across 50,944 TPU v5e chips,             \n",
              "<span style=\"color: #808000; text-decoration-color: #808000; font-weight: bold\">   </span>demonstrating the efficiency of their infrastructure and software stack. They are actively working on further   \n",
              "<span style=\"color: #808000; text-decoration-color: #808000; font-weight: bold\">   </span>improvements to achieve even better scaling.                                                                    \n",
              "<span style=\"color: #808000; text-decoration-color: #808000; font-weight: bold\"> • </span><span style=\"font-weight: bold\">High Performance and Stability:</span> Google Cloud achieved impressive training performance, reaching up to 66.86% MFU\n",
              "<span style=\"color: #808000; text-decoration-color: #808000; font-weight: bold\">   </span>with BF16 training on a single TPU v5e pod. They are continuously working on optimizing the software stack for  \n",
              "<span style=\"color: #808000; text-decoration-color: #808000; font-weight: bold\">   </span>stability and performance at large scale.                                                                       \n",
              "<span style=\"color: #808000; text-decoration-color: #808000; font-weight: bold\"> • </span><span style=\"font-weight: bold\">Accelerated Training with Quantized Training:</span> Google Cloud's Accurate Quantized Training (AQT) library enabled  \n",
              "<span style=\"color: #808000; text-decoration-color: #808000; font-weight: bold\">   </span>training in quantized INT8, achieving a 1.2X to 1.4X acceleration in steps per second while maintaining high    \n",
              "<span style=\"color: #808000; text-decoration-color: #808000; font-weight: bold\">   </span>model quality.                                                                                                  \n",
              "<span style=\"color: #808000; text-decoration-color: #808000; font-weight: bold\"> • </span><span style=\"font-weight: bold\">Focus on Future Improvements:</span> Google Cloud is actively working on improving job start-up time, scaling          \n",
              "<span style=\"color: #808000; text-decoration-color: #808000; font-weight: bold\">   </span>efficiency, and overall performance through optimizations in scheduling, compilation, and the software stack.   \n",
              "</pre>\n"
            ]
          },
          "metadata": {},
          "execution_count": 12
        }
      ]
    },
    {
      "cell_type": "code",
      "source": [
        "%%time\n",
        "prompt_parts = [\n",
        "  pdf_to_dict_str('/content/data/Idea/goog-10-q-q2-2023-4-1-15.pdf'),\n",
        "  \"\"\"Answer based on the document provided:\n",
        "- How has Google Cloud performed in last quarters?\n",
        "- What factors have influenced its numebrs and is it positive or negative?\n",
        "- What is the leadership view on Google Cloud business?\n",
        "- What are some changes and decisions they have made along the way to achieve their goals?\n",
        "- How are they doing with respect to other cloud companies?\n",
        "  \"\"\",\n",
        "]\n",
        "response = model.generate_content(prompt_parts)\n",
        "rich_Markdown(response.text)"
      ],
      "metadata": {
        "colab": {
          "base_uri": "https://localhost:8080/",
          "height": 596
        },
        "id": "6wFDusjknFLr",
        "outputId": "c1a12adf-fb94-4437-f8c4-ea746e396187"
      },
      "execution_count": 10,
      "outputs": [
        {
          "output_type": "stream",
          "name": "stdout",
          "text": [
            "CPU times: user 1.36 s, sys: 28.6 ms, total: 1.39 s\n",
            "Wall time: 14 s\n"
          ]
        },
        {
          "output_type": "execute_result",
          "data": {
            "text/plain": [
              "While the provided 10-Q report offers financial data about Alphabet Inc., including its Google Cloud segment, it   \n",
              "doesn't directly address competitive performance or include qualitative statements from leadership regarding Google\n",
              "Cloud's performance.                                                                                               \n",
              "\n",
              "Here's what we CAN glean from the provided excerpt:                                                                \n",
              "\n",
              "\u001b[1;33m • \u001b[0m\u001b[1mGoogle Cloud Revenue Growth:\u001b[0m  We can see Google Cloud revenues are growing. Comparing the three and six month   \n",
              "\u001b[1;33m   \u001b[0mperiods ending June 30, 2022 and 2023:                                                                          \n",
              "\u001b[1;33m   \u001b[0m\u001b[1;33m • \u001b[0mThree months ended June 30: Increased from $6.276 billion to $8.031 billion                                  \n",
              "\u001b[1;33m   \u001b[0m\u001b[1;33m • \u001b[0mSix months ended June 30: Increased from $12.097 billion to $15.485 billion                                  \n",
              "\u001b[1;33m • \u001b[0m\u001b[1mRevenue Backlog:\u001b[0m As of June 30, 2023, Google Cloud had a significant revenue backlog of $60.6 billion. This     \n",
              "\u001b[1;33m   \u001b[0msuggests strong future demand for Google Cloud services. The company expects to recognize approximately half of \n",
              "\u001b[1;33m   \u001b[0mthis backlog as revenue over the next 24 months.                                                                \n",
              "\u001b[1;33m • \u001b[0m\u001b[1mDeferred Revenue:\u001b[0m There's a growing deferred revenue balance related to Google Cloud, indicating continued      \n",
              "\u001b[1;33m   \u001b[0mcustomer commitments and upfront payments for future services.                                                  \n",
              "\n",
              "\u001b[1mWithout further information from the full report or other sources, we cannot determine:\u001b[0m                            \n",
              "\n",
              "\u001b[1;33m • \u001b[0m\u001b[1mFactors influencing Google Cloud's numbers:\u001b[0m The report doesn't detail specific factors driving the revenue      \n",
              "\u001b[1;33m   \u001b[0mgrowth, such as market share gains, pricing strategies, or new product launches.                                \n",
              "\u001b[1;33m • \u001b[0m\u001b[1mLeadership's view:\u001b[0m We lack qualitative statements from Alphabet's leadership about their assessment of Google   \n",
              "\u001b[1;33m   \u001b[0mCloud's performance.                                                                                            \n",
              "\u001b[1;33m • \u001b[0m\u001b[1mDecisions made:\u001b[0m The report doesn't mention specific changes or decisions made within Google Cloud to achieve    \n",
              "\u001b[1;33m   \u001b[0mtheir goals.                                                                                                    \n",
              "\u001b[1;33m • \u001b[0m\u001b[1mCompetitive standing:\u001b[0m There's no data on how Google Cloud compares to its competitors in terms of market share  \n",
              "\u001b[1;33m   \u001b[0mor revenue growth.                                                                                              \n",
              "\n",
              "\u001b[1mTo gain a comprehensive understanding of Google Cloud's performance, you would need to:\u001b[0m                            \n",
              "\n",
              "\u001b[1;33m 1 \u001b[0m\u001b[1mReview the complete 10-Q report:\u001b[0m Examine the \"Management's Discussion and Analysis of Financial Condition and   \n",
              "\u001b[1;33m   \u001b[0mResults of Operations\" (MD&A) section, which might provide more detailed insights into Google Cloud's           \n",
              "\u001b[1;33m   \u001b[0mperformance and the factors influencing its results.                                                            \n",
              "\u001b[1;33m 2 \u001b[0m\u001b[1mConsult other sources:\u001b[0m Look for earnings call transcripts, press releases, industry analyst reports, and news   \n",
              "\u001b[1;33m   \u001b[0marticles that offer perspectives on Google Cloud's competitive position and leadership's views.                 \n"
            ],
            "text/html": [
              "<pre style=\"white-space:pre;overflow-x:auto;line-height:normal;font-family:Menlo,'DejaVu Sans Mono',consolas,'Courier New',monospace\">While the provided 10-Q report offers financial data about Alphabet Inc., including its Google Cloud segment, it   \n",
              "doesn't directly address competitive performance or include qualitative statements from leadership regarding Google\n",
              "Cloud's performance.                                                                                               \n",
              "\n",
              "Here's what we CAN glean from the provided excerpt:                                                                \n",
              "\n",
              "<span style=\"color: #808000; text-decoration-color: #808000; font-weight: bold\"> • </span><span style=\"font-weight: bold\">Google Cloud Revenue Growth:</span>  We can see Google Cloud revenues are growing. Comparing the three and six month   \n",
              "<span style=\"color: #808000; text-decoration-color: #808000; font-weight: bold\">   </span>periods ending June 30, 2022 and 2023:                                                                          \n",
              "<span style=\"color: #808000; text-decoration-color: #808000; font-weight: bold\">    • </span>Three months ended June 30: Increased from $6.276 billion to $8.031 billion                                  \n",
              "<span style=\"color: #808000; text-decoration-color: #808000; font-weight: bold\">    • </span>Six months ended June 30: Increased from $12.097 billion to $15.485 billion                                  \n",
              "<span style=\"color: #808000; text-decoration-color: #808000; font-weight: bold\"> • </span><span style=\"font-weight: bold\">Revenue Backlog:</span> As of June 30, 2023, Google Cloud had a significant revenue backlog of $60.6 billion. This     \n",
              "<span style=\"color: #808000; text-decoration-color: #808000; font-weight: bold\">   </span>suggests strong future demand for Google Cloud services. The company expects to recognize approximately half of \n",
              "<span style=\"color: #808000; text-decoration-color: #808000; font-weight: bold\">   </span>this backlog as revenue over the next 24 months.                                                                \n",
              "<span style=\"color: #808000; text-decoration-color: #808000; font-weight: bold\"> • </span><span style=\"font-weight: bold\">Deferred Revenue:</span> There's a growing deferred revenue balance related to Google Cloud, indicating continued      \n",
              "<span style=\"color: #808000; text-decoration-color: #808000; font-weight: bold\">   </span>customer commitments and upfront payments for future services.                                                  \n",
              "\n",
              "<span style=\"font-weight: bold\">Without further information from the full report or other sources, we cannot determine:</span>                            \n",
              "\n",
              "<span style=\"color: #808000; text-decoration-color: #808000; font-weight: bold\"> • </span><span style=\"font-weight: bold\">Factors influencing Google Cloud's numbers:</span> The report doesn't detail specific factors driving the revenue      \n",
              "<span style=\"color: #808000; text-decoration-color: #808000; font-weight: bold\">   </span>growth, such as market share gains, pricing strategies, or new product launches.                                \n",
              "<span style=\"color: #808000; text-decoration-color: #808000; font-weight: bold\"> • </span><span style=\"font-weight: bold\">Leadership's view:</span> We lack qualitative statements from Alphabet's leadership about their assessment of Google   \n",
              "<span style=\"color: #808000; text-decoration-color: #808000; font-weight: bold\">   </span>Cloud's performance.                                                                                            \n",
              "<span style=\"color: #808000; text-decoration-color: #808000; font-weight: bold\"> • </span><span style=\"font-weight: bold\">Decisions made:</span> The report doesn't mention specific changes or decisions made within Google Cloud to achieve    \n",
              "<span style=\"color: #808000; text-decoration-color: #808000; font-weight: bold\">   </span>their goals.                                                                                                    \n",
              "<span style=\"color: #808000; text-decoration-color: #808000; font-weight: bold\"> • </span><span style=\"font-weight: bold\">Competitive standing:</span> There's no data on how Google Cloud compares to its competitors in terms of market share  \n",
              "<span style=\"color: #808000; text-decoration-color: #808000; font-weight: bold\">   </span>or revenue growth.                                                                                              \n",
              "\n",
              "<span style=\"font-weight: bold\">To gain a comprehensive understanding of Google Cloud's performance, you would need to:</span>                            \n",
              "\n",
              "<span style=\"color: #808000; text-decoration-color: #808000; font-weight: bold\"> 1 </span><span style=\"font-weight: bold\">Review the complete 10-Q report:</span> Examine the \"Management's Discussion and Analysis of Financial Condition and   \n",
              "<span style=\"color: #808000; text-decoration-color: #808000; font-weight: bold\">   </span>Results of Operations\" (MD&amp;A) section, which might provide more detailed insights into Google Cloud's           \n",
              "<span style=\"color: #808000; text-decoration-color: #808000; font-weight: bold\">   </span>performance and the factors influencing its results.                                                            \n",
              "<span style=\"color: #808000; text-decoration-color: #808000; font-weight: bold\"> 2 </span><span style=\"font-weight: bold\">Consult other sources:</span> Look for earnings call transcripts, press releases, industry analyst reports, and news   \n",
              "<span style=\"color: #808000; text-decoration-color: #808000; font-weight: bold\">   </span>articles that offer perspectives on Google Cloud's competitive position and leadership's views.                 \n",
              "</pre>\n"
            ]
          },
          "metadata": {},
          "execution_count": 10
        }
      ]
    },
    {
      "cell_type": "code",
      "source": [
        "for models in genai.list_models():\n",
        "  print(models.name)"
      ],
      "metadata": {
        "colab": {
          "base_uri": "https://localhost:8080/",
          "height": 260
        },
        "id": "AaSNzibkJdqP",
        "outputId": "5dfd8625-7acc-433c-c154-c9d779b1b35e"
      },
      "execution_count": 5,
      "outputs": [
        {
          "output_type": "stream",
          "name": "stdout",
          "text": [
            "models/chat-bison-001\n",
            "models/text-bison-001\n",
            "models/embedding-gecko-001\n",
            "models/gemini-1.0-pro\n",
            "models/gemini-1.0-pro-001\n",
            "models/gemini-1.0-pro-latest\n",
            "models/gemini-1.0-pro-vision-latest\n",
            "models/gemini-1.5-flash-latest\n",
            "models/gemini-1.5-pro-latest\n",
            "models/gemini-pro\n",
            "models/gemini-pro-vision\n",
            "models/embedding-001\n",
            "models/text-embedding-004\n",
            "models/aqa\n"
          ]
        }
      ]
    },
    {
      "cell_type": "markdown",
      "source": [
        "### Audio File"
      ],
      "metadata": {
        "id": "00EsLYuNbGPa"
      }
    },
    {
      "cell_type": "code",
      "source": [
        "%%time\n",
        "\n",
        "earning_calls = genai.upload_file(path=\"/content/data/Idea/stage_1_prototype_Alphabet 2023 Q4 Earnings Call.mp3\",\n",
        "                            display_name=\"earning_calls\")"
      ],
      "metadata": {
        "id": "3PjkJqwwbIJy",
        "colab": {
          "base_uri": "https://localhost:8080/",
          "height": 52
        },
        "outputId": "86a74427-a315-4364-de89-ccd257d91816"
      },
      "execution_count": 12,
      "outputs": [
        {
          "output_type": "stream",
          "name": "stdout",
          "text": [
            "CPU times: user 526 ms, sys: 207 ms, total: 734 ms\n",
            "Wall time: 3.52 s\n"
          ]
        }
      ]
    },
    {
      "cell_type": "code",
      "source": [
        "%%time\n",
        "\n",
        "prompt_parts = [\n",
        "  earning_calls,\n",
        "  \"what are major comments by Sundar and Ruth about AI and what key questions were asked by analyst and give their name? give answer in bullets \",\n",
        "]\n",
        "response = model.generate_content(prompt_parts,request_options={\"timeout\": 600})\n",
        "rich_Markdown(response.text)"
      ],
      "metadata": {
        "colab": {
          "base_uri": "https://localhost:8080/",
          "height": 1000
        },
        "id": "Z9SIRpVhbiv8",
        "outputId": "bce72499-3ccc-45e6-c22b-6fc21bdb74e5"
      },
      "execution_count": 14,
      "outputs": [
        {
          "output_type": "stream",
          "name": "stdout",
          "text": [
            "CPU times: user 629 ms, sys: 59.8 ms, total: 689 ms\n",
            "Wall time: 49.1 s\n"
          ]
        },
        {
          "output_type": "execute_result",
          "data": {
            "text/plain": [
              "Sure, here are the major comments by Sundar Pichai and Ruth Porat about AI, key questions asked by analysts, and   \n",
              "their names, all in bullets:                                                                                       \n",
              "\n",
              "\u001b[1mSundar Pichai on AI:\u001b[0m                                                                                               \n",
              "\n",
              "\u001b[1;33m • \u001b[0mAlphabet's Q4 2023 results reflect strong momentum and product innovation, particularly in AI.                  \n",
              "\u001b[1;33m • \u001b[0mAI has long been at the core of Alphabet products, and generative AI presents significant new opportunities.    \n",
              "\u001b[1;33m • \u001b[0m\u001b[1mSearch Generative Experience (SGE)\u001b[0m, powered by Gemini, is making search faster and more informative.            \n",
              "\u001b[1;33m • \u001b[0m\u001b[1mGemini is the next generation of AI models\u001b[0m, capable of understanding and combining text, images, audio, video,  \n",
              "\u001b[1;33m   \u001b[0mand code.                                                                                                       \n",
              "\u001b[1;33m • \u001b[0m\u001b[1mBard\u001b[0m, a conversational AI tool, is now powered by Gemini Pro. A more advanced version for subscribers, powered  \n",
              "\u001b[1;33m   \u001b[0mby Gemini Ultra, will be rolled out soon.                                                                       \n",
              "\u001b[1;33m • \u001b[0mGoogle Cloud is experiencing accelerated growth, driven by AI product leadership and partnerships with companies\n",
              "\u001b[1;33m   \u001b[0mlike Hugging Face, McDonald's, Motorola Mobility, and Verizon.                                                  \n",
              "\u001b[1;33m • \u001b[0mDuet AI, packaged AI agents for Google Workspace and Google Cloud Platform, is boosting productivity for        \n",
              "\u001b[1;33m   \u001b[0mthousands of companies.                                                                                         \n",
              "\u001b[1;33m • \u001b[0mAlphabet is investing responsibly in data centers and compute infrastructure to support the growth of AI-powered\n",
              "\u001b[1;33m   \u001b[0mservices.                                                                                                       \n",
              "\n",
              "\u001b[1mRuth Porat on AI:\u001b[0m                                                                                                  \n",
              "\n",
              "\u001b[1;33m • \u001b[0mGoogle Cloud experienced strong revenue growth in Q4 2023, driven by AI and Google Workspace.                   \n",
              "\u001b[1;33m • \u001b[0mSubstantial increase in subscription revenues over the past few years demonstrates the high value-add of these  \n",
              "\u001b[1;33m   \u001b[0mofferings, providing a strong foundation to build upon, particularly with AI-powered innovation.                \n",
              "\u001b[1;33m • \u001b[0mThe step up in CapEx in Q4 2023 primarily reflects the company's outlook for extraordinary applications of AI.  \n",
              "\u001b[1;33m • \u001b[0mIn 2024, Alphabet expects investment in CapEx to be notably larger than in 2023, due to investment in AI.       \n",
              "\u001b[1;33m • \u001b[0mAlphabet is sharpening its investment focus in \"Other Bets\" while capturing the upside given compelling         \n",
              "\u001b[1;33m   \u001b[0mtechnology breakthroughs across the portfolio, particularly AI.                                                 \n",
              "\n",
              "\u001b[1mAnalyst Questions and Analysts' Names:\u001b[0m                                                                             \n",
              "\n",
              "\u001b[1;33m • \u001b[0m\u001b[1mBrian Nowak, Morgan Stanley:\u001b[0m                                                                                    \n",
              "\u001b[1;33m   \u001b[0m\u001b[1;33m • \u001b[0mWhat are the hurdles and gating factors that will determine the pace at which generative AI advertising tools\n",
              "\u001b[1;33m   \u001b[0m\u001b[1;33m   \u001b[0mare rolled out broadly?                                                                                      \n",
              "\u001b[1;33m   \u001b[0m\u001b[1;33m • \u001b[0mHow do you think about the long-term sales force intensity of the advertising business as you roll out more  \n",
              "\u001b[1;33m   \u001b[0m\u001b[1;33m   \u001b[0mAI-based tools like PMax?                                                                                    \n",
              "\u001b[1;33m • \u001b[0m\u001b[1mDoug Anmuth, JP Morgan:\u001b[0m                                                                                         \n",
              "\u001b[1;33m   \u001b[0m\u001b[1;33m • \u001b[0mRegarding your efforts to \"durably re-engineer the cost structure,\" can you help us assess your progress and \n",
              "\u001b[1;33m   \u001b[0m\u001b[1;33m   \u001b[0many guideposts for the future?                                                                               \n",
              "\u001b[1;33m   \u001b[0m\u001b[1;33m • \u001b[0mCan you talk more about NFL Sunday Ticket, what your key learnings were in year one, and how you're thinking \n",
              "\u001b[1;33m   \u001b[0m\u001b[1;33m   \u001b[0mabout the returns on investment from both an advertising and subscriber perspective?                         \n",
              "\u001b[1;33m • \u001b[0m\u001b[1mEric Sheridan, Goldman Sachs:\u001b[0m                                                                                   \n",
              "\u001b[1;33m   \u001b[0m\u001b[1;33m • \u001b[0mHow do you envision search and Google Assistant continuing to evolve in a world with Search Generative       \n",
              "\u001b[1;33m   \u001b[0m\u001b[1;33m   \u001b[0mExperience and Bard, and how might this impact both commercial and non-commercial search in the coming years?\n",
              "\u001b[1;33m   \u001b[0m\u001b[1;33m • \u001b[0mCan you clarify how the one-timers mentioned in the release and public comments related to real estate are   \n",
              "\u001b[1;33m   \u001b[0m\u001b[1;33m   \u001b[0mreflected in the segments? Were there also any elements of legal one-timers called out this quarter?         \n",
              "\u001b[1;33m • \u001b[0m\u001b[1mMichael Nathanson, MoffettNathanson:\u001b[0m                                                                            \n",
              "\u001b[1;33m   \u001b[0m\u001b[1;33m • \u001b[0mGiven the importance of connected TV engagement for YouTube, can you talk about the opportunity outside the  \n",
              "\u001b[1;33m   \u001b[0m\u001b[1;33m   \u001b[0mUS for connected TV and what the company is doing to drive more adoption of YouTube or connected TVs,        \n",
              "\u001b[1;33m   \u001b[0m\u001b[1;33m   \u001b[0mspecifically with the Google operating system?                                                               \n",
              "\u001b[1;33m   \u001b[0m\u001b[1;33m • \u001b[0mYou've been consistent about the strength of Shorts over the past year. Can you talk a bit about the         \n",
              "\u001b[1;33m   \u001b[0m\u001b[1;33m   \u001b[0mmonetization challenges and any headwinds to growth you are seeing there?                                    \n",
              "\u001b[1;33m • \u001b[0m\u001b[1mStephen Ju, Credit Suisse:\u001b[0m                                                                                      \n",
              "\u001b[1;33m   \u001b[0m\u001b[1;33m • \u001b[0mHow are you feeling about enabling SMBs to advertise with Google who otherwise could not, and what kind of   \n",
              "\u001b[1;33m   \u001b[0m\u001b[1;33m   \u001b[0mTAM expansion tailwind does that create for longer-term revenue growth?                                      \n",
              "\u001b[1;33m • \u001b[0m\u001b[1mJustin Post, Bank of America Merrill Lynch:\u001b[0m                                                                     \n",
              "\u001b[1;33m   \u001b[0m\u001b[1;33m • \u001b[0mAre there any concerns on search growth due to the use of competitive AI tools? Have you seen any changes in \n",
              "\u001b[1;33m   \u001b[0m\u001b[1;33m   \u001b[0mquery volume since launching Search Generative Experience? What can make Google stand out versus other AI    \n",
              "\u001b[1;33m   \u001b[0m\u001b[1;33m   \u001b[0mtools?                                                                                                       \n",
              "\u001b[1;33m   \u001b[0m\u001b[1;33m • \u001b[0mThe $11 billion in CapEx was a step up; were there any one-time items in there, or is that the new run rate  \n",
              "\u001b[1;33m   \u001b[0m\u001b[1;33m   \u001b[0mfor 2024?                                                                                                    \n",
              "\u001b[1;33m • \u001b[0m\u001b[1mRoss Sandler, Barclays:\u001b[0m                                                                                         \n",
              "\u001b[1;33m   \u001b[0m\u001b[1;33m • \u001b[0mRegarding the DOJ trial document referencing a \"fragile strategy\" of relying on ad quality to deliver 20% RPM\n",
              "\u001b[1;33m   \u001b[0m\u001b[1;33m   \u001b[0mgrowth, how do you feel about Google's ability to drive search RPM going forward, given the large revenue    \n",
              "\u001b[1;33m   \u001b[0m\u001b[1;33m   \u001b[0mbase and the context of Ruth's comments on cost management?                                                  \n",
              "\u001b[1;33m • \u001b[0m\u001b[1mMark Mahaney, Evercore ISI:\u001b[0m                                                                                     \n",
              "\u001b[1;33m   \u001b[0m\u001b[1;33m • \u001b[0mRegarding the volatility in Google Cloud growth (deceleration last quarter and reacceleration this quarter), \n",
              "\u001b[1;33m   \u001b[0m\u001b[1;33m   \u001b[0mcan you comment on that? Is it explained by optimization cycle and generative AI workloads starting to       \n",
              "\u001b[1;33m   \u001b[0m\u001b[1;33m   \u001b[0mtrickle in?                                                                                                  \n",
              "\u001b[1;33m   \u001b[0m\u001b[1;33m • \u001b[0mCan you talk about AI-powered creative in YouTube ads, particularly for SMBs who have used Google Ads, and   \n",
              "\u001b[1;33m   \u001b[0m\u001b[1;33m   \u001b[0mwhether this is a new growth area? Does this open up a new area of spend that wasn't there before?           \n",
              "\n",
              "Let me know if you have any other questions.                                                                       \n"
            ],
            "text/html": [
              "<pre style=\"white-space:pre;overflow-x:auto;line-height:normal;font-family:Menlo,'DejaVu Sans Mono',consolas,'Courier New',monospace\">Sure, here are the major comments by Sundar Pichai and Ruth Porat about AI, key questions asked by analysts, and   \n",
              "their names, all in bullets:                                                                                       \n",
              "\n",
              "<span style=\"font-weight: bold\">Sundar Pichai on AI:</span>                                                                                               \n",
              "\n",
              "<span style=\"color: #808000; text-decoration-color: #808000; font-weight: bold\"> • </span>Alphabet's Q4 2023 results reflect strong momentum and product innovation, particularly in AI.                  \n",
              "<span style=\"color: #808000; text-decoration-color: #808000; font-weight: bold\"> • </span>AI has long been at the core of Alphabet products, and generative AI presents significant new opportunities.    \n",
              "<span style=\"color: #808000; text-decoration-color: #808000; font-weight: bold\"> • </span><span style=\"font-weight: bold\">Search Generative Experience (SGE)</span>, powered by Gemini, is making search faster and more informative.            \n",
              "<span style=\"color: #808000; text-decoration-color: #808000; font-weight: bold\"> • </span><span style=\"font-weight: bold\">Gemini is the next generation of AI models</span>, capable of understanding and combining text, images, audio, video,  \n",
              "<span style=\"color: #808000; text-decoration-color: #808000; font-weight: bold\">   </span>and code.                                                                                                       \n",
              "<span style=\"color: #808000; text-decoration-color: #808000; font-weight: bold\"> • </span><span style=\"font-weight: bold\">Bard</span>, a conversational AI tool, is now powered by Gemini Pro. A more advanced version for subscribers, powered  \n",
              "<span style=\"color: #808000; text-decoration-color: #808000; font-weight: bold\">   </span>by Gemini Ultra, will be rolled out soon.                                                                       \n",
              "<span style=\"color: #808000; text-decoration-color: #808000; font-weight: bold\"> • </span>Google Cloud is experiencing accelerated growth, driven by AI product leadership and partnerships with companies\n",
              "<span style=\"color: #808000; text-decoration-color: #808000; font-weight: bold\">   </span>like Hugging Face, McDonald's, Motorola Mobility, and Verizon.                                                  \n",
              "<span style=\"color: #808000; text-decoration-color: #808000; font-weight: bold\"> • </span>Duet AI, packaged AI agents for Google Workspace and Google Cloud Platform, is boosting productivity for        \n",
              "<span style=\"color: #808000; text-decoration-color: #808000; font-weight: bold\">   </span>thousands of companies.                                                                                         \n",
              "<span style=\"color: #808000; text-decoration-color: #808000; font-weight: bold\"> • </span>Alphabet is investing responsibly in data centers and compute infrastructure to support the growth of AI-powered\n",
              "<span style=\"color: #808000; text-decoration-color: #808000; font-weight: bold\">   </span>services.                                                                                                       \n",
              "\n",
              "<span style=\"font-weight: bold\">Ruth Porat on AI:</span>                                                                                                  \n",
              "\n",
              "<span style=\"color: #808000; text-decoration-color: #808000; font-weight: bold\"> • </span>Google Cloud experienced strong revenue growth in Q4 2023, driven by AI and Google Workspace.                   \n",
              "<span style=\"color: #808000; text-decoration-color: #808000; font-weight: bold\"> • </span>Substantial increase in subscription revenues over the past few years demonstrates the high value-add of these  \n",
              "<span style=\"color: #808000; text-decoration-color: #808000; font-weight: bold\">   </span>offerings, providing a strong foundation to build upon, particularly with AI-powered innovation.                \n",
              "<span style=\"color: #808000; text-decoration-color: #808000; font-weight: bold\"> • </span>The step up in CapEx in Q4 2023 primarily reflects the company's outlook for extraordinary applications of AI.  \n",
              "<span style=\"color: #808000; text-decoration-color: #808000; font-weight: bold\"> • </span>In 2024, Alphabet expects investment in CapEx to be notably larger than in 2023, due to investment in AI.       \n",
              "<span style=\"color: #808000; text-decoration-color: #808000; font-weight: bold\"> • </span>Alphabet is sharpening its investment focus in \"Other Bets\" while capturing the upside given compelling         \n",
              "<span style=\"color: #808000; text-decoration-color: #808000; font-weight: bold\">   </span>technology breakthroughs across the portfolio, particularly AI.                                                 \n",
              "\n",
              "<span style=\"font-weight: bold\">Analyst Questions and Analysts' Names:</span>                                                                             \n",
              "\n",
              "<span style=\"color: #808000; text-decoration-color: #808000; font-weight: bold\"> • </span><span style=\"font-weight: bold\">Brian Nowak, Morgan Stanley:</span>                                                                                    \n",
              "<span style=\"color: #808000; text-decoration-color: #808000; font-weight: bold\">    • </span>What are the hurdles and gating factors that will determine the pace at which generative AI advertising tools\n",
              "<span style=\"color: #808000; text-decoration-color: #808000; font-weight: bold\">      </span>are rolled out broadly?                                                                                      \n",
              "<span style=\"color: #808000; text-decoration-color: #808000; font-weight: bold\">    • </span>How do you think about the long-term sales force intensity of the advertising business as you roll out more  \n",
              "<span style=\"color: #808000; text-decoration-color: #808000; font-weight: bold\">      </span>AI-based tools like PMax?                                                                                    \n",
              "<span style=\"color: #808000; text-decoration-color: #808000; font-weight: bold\"> • </span><span style=\"font-weight: bold\">Doug Anmuth, JP Morgan:</span>                                                                                         \n",
              "<span style=\"color: #808000; text-decoration-color: #808000; font-weight: bold\">    • </span>Regarding your efforts to \"durably re-engineer the cost structure,\" can you help us assess your progress and \n",
              "<span style=\"color: #808000; text-decoration-color: #808000; font-weight: bold\">      </span>any guideposts for the future?                                                                               \n",
              "<span style=\"color: #808000; text-decoration-color: #808000; font-weight: bold\">    • </span>Can you talk more about NFL Sunday Ticket, what your key learnings were in year one, and how you're thinking \n",
              "<span style=\"color: #808000; text-decoration-color: #808000; font-weight: bold\">      </span>about the returns on investment from both an advertising and subscriber perspective?                         \n",
              "<span style=\"color: #808000; text-decoration-color: #808000; font-weight: bold\"> • </span><span style=\"font-weight: bold\">Eric Sheridan, Goldman Sachs:</span>                                                                                   \n",
              "<span style=\"color: #808000; text-decoration-color: #808000; font-weight: bold\">    • </span>How do you envision search and Google Assistant continuing to evolve in a world with Search Generative       \n",
              "<span style=\"color: #808000; text-decoration-color: #808000; font-weight: bold\">      </span>Experience and Bard, and how might this impact both commercial and non-commercial search in the coming years?\n",
              "<span style=\"color: #808000; text-decoration-color: #808000; font-weight: bold\">    • </span>Can you clarify how the one-timers mentioned in the release and public comments related to real estate are   \n",
              "<span style=\"color: #808000; text-decoration-color: #808000; font-weight: bold\">      </span>reflected in the segments? Were there also any elements of legal one-timers called out this quarter?         \n",
              "<span style=\"color: #808000; text-decoration-color: #808000; font-weight: bold\"> • </span><span style=\"font-weight: bold\">Michael Nathanson, MoffettNathanson:</span>                                                                            \n",
              "<span style=\"color: #808000; text-decoration-color: #808000; font-weight: bold\">    • </span>Given the importance of connected TV engagement for YouTube, can you talk about the opportunity outside the  \n",
              "<span style=\"color: #808000; text-decoration-color: #808000; font-weight: bold\">      </span>US for connected TV and what the company is doing to drive more adoption of YouTube or connected TVs,        \n",
              "<span style=\"color: #808000; text-decoration-color: #808000; font-weight: bold\">      </span>specifically with the Google operating system?                                                               \n",
              "<span style=\"color: #808000; text-decoration-color: #808000; font-weight: bold\">    • </span>You've been consistent about the strength of Shorts over the past year. Can you talk a bit about the         \n",
              "<span style=\"color: #808000; text-decoration-color: #808000; font-weight: bold\">      </span>monetization challenges and any headwinds to growth you are seeing there?                                    \n",
              "<span style=\"color: #808000; text-decoration-color: #808000; font-weight: bold\"> • </span><span style=\"font-weight: bold\">Stephen Ju, Credit Suisse:</span>                                                                                      \n",
              "<span style=\"color: #808000; text-decoration-color: #808000; font-weight: bold\">    • </span>How are you feeling about enabling SMBs to advertise with Google who otherwise could not, and what kind of   \n",
              "<span style=\"color: #808000; text-decoration-color: #808000; font-weight: bold\">      </span>TAM expansion tailwind does that create for longer-term revenue growth?                                      \n",
              "<span style=\"color: #808000; text-decoration-color: #808000; font-weight: bold\"> • </span><span style=\"font-weight: bold\">Justin Post, Bank of America Merrill Lynch:</span>                                                                     \n",
              "<span style=\"color: #808000; text-decoration-color: #808000; font-weight: bold\">    • </span>Are there any concerns on search growth due to the use of competitive AI tools? Have you seen any changes in \n",
              "<span style=\"color: #808000; text-decoration-color: #808000; font-weight: bold\">      </span>query volume since launching Search Generative Experience? What can make Google stand out versus other AI    \n",
              "<span style=\"color: #808000; text-decoration-color: #808000; font-weight: bold\">      </span>tools?                                                                                                       \n",
              "<span style=\"color: #808000; text-decoration-color: #808000; font-weight: bold\">    • </span>The $11 billion in CapEx was a step up; were there any one-time items in there, or is that the new run rate  \n",
              "<span style=\"color: #808000; text-decoration-color: #808000; font-weight: bold\">      </span>for 2024?                                                                                                    \n",
              "<span style=\"color: #808000; text-decoration-color: #808000; font-weight: bold\"> • </span><span style=\"font-weight: bold\">Ross Sandler, Barclays:</span>                                                                                         \n",
              "<span style=\"color: #808000; text-decoration-color: #808000; font-weight: bold\">    • </span>Regarding the DOJ trial document referencing a \"fragile strategy\" of relying on ad quality to deliver 20% RPM\n",
              "<span style=\"color: #808000; text-decoration-color: #808000; font-weight: bold\">      </span>growth, how do you feel about Google's ability to drive search RPM going forward, given the large revenue    \n",
              "<span style=\"color: #808000; text-decoration-color: #808000; font-weight: bold\">      </span>base and the context of Ruth's comments on cost management?                                                  \n",
              "<span style=\"color: #808000; text-decoration-color: #808000; font-weight: bold\"> • </span><span style=\"font-weight: bold\">Mark Mahaney, Evercore ISI:</span>                                                                                     \n",
              "<span style=\"color: #808000; text-decoration-color: #808000; font-weight: bold\">    • </span>Regarding the volatility in Google Cloud growth (deceleration last quarter and reacceleration this quarter), \n",
              "<span style=\"color: #808000; text-decoration-color: #808000; font-weight: bold\">      </span>can you comment on that? Is it explained by optimization cycle and generative AI workloads starting to       \n",
              "<span style=\"color: #808000; text-decoration-color: #808000; font-weight: bold\">      </span>trickle in?                                                                                                  \n",
              "<span style=\"color: #808000; text-decoration-color: #808000; font-weight: bold\">    • </span>Can you talk about AI-powered creative in YouTube ads, particularly for SMBs who have used Google Ads, and   \n",
              "<span style=\"color: #808000; text-decoration-color: #808000; font-weight: bold\">      </span>whether this is a new growth area? Does this open up a new area of spend that wasn't there before?           \n",
              "\n",
              "Let me know if you have any other questions.                                                                       \n",
              "</pre>\n"
            ]
          },
          "metadata": {},
          "execution_count": 14
        }
      ]
    },
    {
      "cell_type": "code",
      "source": [
        "%%time\n",
        "\n",
        "response = model_flash.generate_content(prompt_parts)\n",
        "rich_Markdown(response.text)"
      ],
      "metadata": {
        "colab": {
          "base_uri": "https://localhost:8080/",
          "height": 884
        },
        "id": "XE4pILmSRpLt",
        "outputId": "eea5d35e-3d26-485e-ed7f-ce38d9519485"
      },
      "execution_count": 17,
      "outputs": [
        {
          "output_type": "stream",
          "name": "stdout",
          "text": [
            "CPU times: user 433 ms, sys: 45.5 ms, total: 479 ms\n",
            "Wall time: 29.6 s\n"
          ]
        },
        {
          "output_type": "execute_result",
          "data": {
            "text/plain": [
              "Here are the major comments by Sundar and Ruth about AI, and the key questions asked by analysts:                  \n",
              "\n",
              "\u001b[1mSundar's Key Comments on AI:\u001b[0m                                                                                       \n",
              "\n",
              "\u001b[1;33m • \u001b[0m\u001b[1mInvestments in AI:\u001b[0m Sundar emphasized Alphabet's significant investments in AI, highlighting its role in         \n",
              "\u001b[1;33m   \u001b[0mimproving products like Search, Ads, and consumer and enterprise products.                                      \n",
              "\u001b[1;33m • \u001b[0m\u001b[1mGenerative AI (GenAI) and Search:\u001b[0m He discussed the excitement around GenAI and the launch of Gemini, a new      \n",
              "\u001b[1;33m   \u001b[0mindustry-leading series of models. He mentioned how Gemini is being used to enhance Search, making it faster and\n",
              "\u001b[1;33m   \u001b[0mmore comprehensive.                                                                                             \n",
              "\u001b[1;33m • \u001b[0m\u001b[1mAI for Advertisers:\u001b[0m Sundar highlighted AI-powered solutions for advertisers, including conversational           \n",
              "\u001b[1;33m   \u001b[0mexperiences and the use of Gemini to accelerate campaign creation.                                              \n",
              "\u001b[1;33m • \u001b[0m\u001b[1mAI in Google Cloud:\u001b[0m He discussed the integration of GenAI capabilities across Google Cloud's AI infrastructure, \n",
              "\u001b[1;33m   \u001b[0mVertex AI platform, and Duet AI agents. He mentioned partnerships with companies like Hugging Face, McDonald's, \n",
              "\u001b[1;33m   \u001b[0mMotorola Mobility, and Verizon.                                                                                 \n",
              "\u001b[1;33m • \u001b[0m\u001b[1mDuet AI:\u001b[0m Sundar emphasized the growth of Duet AI, a packaged AI agent for Google Workspace and Google Cloud     \n",
              "\u001b[1;33m   \u001b[0mPlatform, and its use by thousands of companies and over a million testers.                                     \n",
              "\n",
              "\u001b[1mRuth's Key Comments on AI:\u001b[0m                                                                                         \n",
              "\n",
              "\u001b[1;33m • \u001b[0m\u001b[1mAI-driven Growth:\u001b[0m Ruth highlighted the increasing contribution of AI to Google Cloud's momentum, with a growing \n",
              "\u001b[1;33m   \u001b[0mcontribution from AI.                                                                                           \n",
              "\u001b[1;33m • \u001b[0m\u001b[1mAI in Google Workspace:\u001b[0m She mentioned the strong revenue growth of Google Workspace, driven by increases in     \n",
              "\u001b[1;33m   \u001b[0maverage revenue per seat, and the role of AI in this growth.                                                    \n",
              "\u001b[1;33m • \u001b[0m\u001b[1mAI for Enterprises and Governments:\u001b[0m Ruth emphasized Google Cloud's focus on bringing the benefits of Gemini,    \n",
              "\u001b[1;33m   \u001b[0mtheir industry-leading AI technology, to enterprises and governments globally.                                  \n",
              "\n",
              "\u001b[1mKey Questions Asked by Analysts:\u001b[0m                                                                                   \n",
              "\n",
              "\u001b[1;33m • \u001b[0m\u001b[1mBrian Nowak (Morgan Stanley):\u001b[0m                                                                                   \n",
              "\u001b[1;33m   \u001b[0m\u001b[1;33m • \u001b[0m\u001b[1mHurdle and Gating Factors for AI Advertising Tools:\u001b[0m Brian asked about the hurdles and gating factors that    \n",
              "\u001b[1;33m   \u001b[0m\u001b[1;33m   \u001b[0mmight affect the pace of rollout for new AI advertising tools.                                               \n",
              "\u001b[1;33m   \u001b[0m\u001b[1;33m • \u001b[0m\u001b[1mLong-Term Sales Force Intensity:\u001b[0m He inquired about the long-term impact of AI-based tools like PMax on the   \n",
              "\u001b[1;33m   \u001b[0m\u001b[1;33m   \u001b[0madvertising business and the sales force intensity.                                                          \n",
              "\u001b[1;33m • \u001b[0m\u001b[1mDoug Anmuth (J.P. Morgan):\u001b[0m                                                                                      \n",
              "\u001b[1;33m   \u001b[0m\u001b[1;33m • \u001b[0m\u001b[1mProgress on Cost Structure Re-engineering:\u001b[0m Doug asked about the progress made on re-engineering the cost     \n",
              "\u001b[1;33m   \u001b[0m\u001b[1;33m   \u001b[0mstructure and any future guidance.                                                                           \n",
              "\u001b[1;33m   \u001b[0m\u001b[1;33m • \u001b[0m\u001b[1mNFL Sunday Ticket Key Learnings:\u001b[0m He inquired about key learnings from the first year of NFL Sunday Ticket and\n",
              "\u001b[1;33m   \u001b[0m\u001b[1;33m   \u001b[0mthe return on investment from an advertising and subscriber perspective.                                     \n",
              "\u001b[1;33m • \u001b[0m\u001b[1mEric Sheridan (Goldman Sachs):\u001b[0m                                                                                  \n",
              "\u001b[1;33m   \u001b[0m\u001b[1;33m • \u001b[0m\u001b[1mEvolution of Search in a GenAI World:\u001b[0m Eric asked about the future evolution of traditional search and Google \n",
              "\u001b[1;33m   \u001b[0m\u001b[1;33m   \u001b[0mAssistant in a world with GenAI experiences like Bard.                                                       \n",
              "\u001b[1;33m   \u001b[0m\u001b[1;33m • \u001b[0m\u001b[1mOne-Timers in Q4:\u001b[0m He sought clarification on the allocation of one-time items in the quarter, particularly   \n",
              "\u001b[1;33m   \u001b[0m\u001b[1;33m   \u001b[0mrelated to real estate charges and legal one-timers.                                                         \n",
              "\u001b[1;33m • \u001b[0m\u001b[1mJustin Post (Bank of America Merrill Lynch):\u001b[0m                                                                    \n",
              "\u001b[1;33m   \u001b[0m\u001b[1;33m • \u001b[0m\u001b[1mImpact of Competitive AI Tools on Search:\u001b[0m Justin asked about any changes in query volumes since the rise of  \n",
              "\u001b[1;33m   \u001b[0m\u001b[1;33m   \u001b[0mGenAI experiences and how Google is differentiating itself from other AI tools.                              \n",
              "\u001b[1;33m   \u001b[0m\u001b[1;33m • \u001b[0m\u001b[1mCapEx Growth and One-Timers:\u001b[0m He inquired about the significant increase in CapEx and whether it included any \n",
              "\u001b[1;33m   \u001b[0m\u001b[1;33m   \u001b[0mone-time items.                                                                                              \n",
              "\u001b[1;33m   \u001b[0m\u001b[1;33m • \u001b[0m\u001b[1mAI-Powered Creatives for SMBs:\u001b[0m Justin asked about the potential of AI-powered creatives to open up new growth\n",
              "\u001b[1;33m   \u001b[0m\u001b[1;33m   \u001b[0mareas for SMBs and the progress made in offering this to the market.                                         \n",
              "\n",
              "This summary provides a good overview of the key points discussed during the Alphabet earnings call.               \n"
            ],
            "text/html": [
              "<pre style=\"white-space:pre;overflow-x:auto;line-height:normal;font-family:Menlo,'DejaVu Sans Mono',consolas,'Courier New',monospace\">Here are the major comments by Sundar and Ruth about AI, and the key questions asked by analysts:                  \n",
              "\n",
              "<span style=\"font-weight: bold\">Sundar's Key Comments on AI:</span>                                                                                       \n",
              "\n",
              "<span style=\"color: #808000; text-decoration-color: #808000; font-weight: bold\"> • </span><span style=\"font-weight: bold\">Investments in AI:</span> Sundar emphasized Alphabet's significant investments in AI, highlighting its role in         \n",
              "<span style=\"color: #808000; text-decoration-color: #808000; font-weight: bold\">   </span>improving products like Search, Ads, and consumer and enterprise products.                                      \n",
              "<span style=\"color: #808000; text-decoration-color: #808000; font-weight: bold\"> • </span><span style=\"font-weight: bold\">Generative AI (GenAI) and Search:</span> He discussed the excitement around GenAI and the launch of Gemini, a new      \n",
              "<span style=\"color: #808000; text-decoration-color: #808000; font-weight: bold\">   </span>industry-leading series of models. He mentioned how Gemini is being used to enhance Search, making it faster and\n",
              "<span style=\"color: #808000; text-decoration-color: #808000; font-weight: bold\">   </span>more comprehensive.                                                                                             \n",
              "<span style=\"color: #808000; text-decoration-color: #808000; font-weight: bold\"> • </span><span style=\"font-weight: bold\">AI for Advertisers:</span> Sundar highlighted AI-powered solutions for advertisers, including conversational           \n",
              "<span style=\"color: #808000; text-decoration-color: #808000; font-weight: bold\">   </span>experiences and the use of Gemini to accelerate campaign creation.                                              \n",
              "<span style=\"color: #808000; text-decoration-color: #808000; font-weight: bold\"> • </span><span style=\"font-weight: bold\">AI in Google Cloud:</span> He discussed the integration of GenAI capabilities across Google Cloud's AI infrastructure, \n",
              "<span style=\"color: #808000; text-decoration-color: #808000; font-weight: bold\">   </span>Vertex AI platform, and Duet AI agents. He mentioned partnerships with companies like Hugging Face, McDonald's, \n",
              "<span style=\"color: #808000; text-decoration-color: #808000; font-weight: bold\">   </span>Motorola Mobility, and Verizon.                                                                                 \n",
              "<span style=\"color: #808000; text-decoration-color: #808000; font-weight: bold\"> • </span><span style=\"font-weight: bold\">Duet AI:</span> Sundar emphasized the growth of Duet AI, a packaged AI agent for Google Workspace and Google Cloud     \n",
              "<span style=\"color: #808000; text-decoration-color: #808000; font-weight: bold\">   </span>Platform, and its use by thousands of companies and over a million testers.                                     \n",
              "\n",
              "<span style=\"font-weight: bold\">Ruth's Key Comments on AI:</span>                                                                                         \n",
              "\n",
              "<span style=\"color: #808000; text-decoration-color: #808000; font-weight: bold\"> • </span><span style=\"font-weight: bold\">AI-driven Growth:</span> Ruth highlighted the increasing contribution of AI to Google Cloud's momentum, with a growing \n",
              "<span style=\"color: #808000; text-decoration-color: #808000; font-weight: bold\">   </span>contribution from AI.                                                                                           \n",
              "<span style=\"color: #808000; text-decoration-color: #808000; font-weight: bold\"> • </span><span style=\"font-weight: bold\">AI in Google Workspace:</span> She mentioned the strong revenue growth of Google Workspace, driven by increases in     \n",
              "<span style=\"color: #808000; text-decoration-color: #808000; font-weight: bold\">   </span>average revenue per seat, and the role of AI in this growth.                                                    \n",
              "<span style=\"color: #808000; text-decoration-color: #808000; font-weight: bold\"> • </span><span style=\"font-weight: bold\">AI for Enterprises and Governments:</span> Ruth emphasized Google Cloud's focus on bringing the benefits of Gemini,    \n",
              "<span style=\"color: #808000; text-decoration-color: #808000; font-weight: bold\">   </span>their industry-leading AI technology, to enterprises and governments globally.                                  \n",
              "\n",
              "<span style=\"font-weight: bold\">Key Questions Asked by Analysts:</span>                                                                                   \n",
              "\n",
              "<span style=\"color: #808000; text-decoration-color: #808000; font-weight: bold\"> • </span><span style=\"font-weight: bold\">Brian Nowak (Morgan Stanley):</span>                                                                                   \n",
              "<span style=\"color: #808000; text-decoration-color: #808000; font-weight: bold\">    • </span><span style=\"font-weight: bold\">Hurdle and Gating Factors for AI Advertising Tools:</span> Brian asked about the hurdles and gating factors that    \n",
              "<span style=\"color: #808000; text-decoration-color: #808000; font-weight: bold\">      </span>might affect the pace of rollout for new AI advertising tools.                                               \n",
              "<span style=\"color: #808000; text-decoration-color: #808000; font-weight: bold\">    • </span><span style=\"font-weight: bold\">Long-Term Sales Force Intensity:</span> He inquired about the long-term impact of AI-based tools like PMax on the   \n",
              "<span style=\"color: #808000; text-decoration-color: #808000; font-weight: bold\">      </span>advertising business and the sales force intensity.                                                          \n",
              "<span style=\"color: #808000; text-decoration-color: #808000; font-weight: bold\"> • </span><span style=\"font-weight: bold\">Doug Anmuth (J.P. Morgan):</span>                                                                                      \n",
              "<span style=\"color: #808000; text-decoration-color: #808000; font-weight: bold\">    • </span><span style=\"font-weight: bold\">Progress on Cost Structure Re-engineering:</span> Doug asked about the progress made on re-engineering the cost     \n",
              "<span style=\"color: #808000; text-decoration-color: #808000; font-weight: bold\">      </span>structure and any future guidance.                                                                           \n",
              "<span style=\"color: #808000; text-decoration-color: #808000; font-weight: bold\">    • </span><span style=\"font-weight: bold\">NFL Sunday Ticket Key Learnings:</span> He inquired about key learnings from the first year of NFL Sunday Ticket and\n",
              "<span style=\"color: #808000; text-decoration-color: #808000; font-weight: bold\">      </span>the return on investment from an advertising and subscriber perspective.                                     \n",
              "<span style=\"color: #808000; text-decoration-color: #808000; font-weight: bold\"> • </span><span style=\"font-weight: bold\">Eric Sheridan (Goldman Sachs):</span>                                                                                  \n",
              "<span style=\"color: #808000; text-decoration-color: #808000; font-weight: bold\">    • </span><span style=\"font-weight: bold\">Evolution of Search in a GenAI World:</span> Eric asked about the future evolution of traditional search and Google \n",
              "<span style=\"color: #808000; text-decoration-color: #808000; font-weight: bold\">      </span>Assistant in a world with GenAI experiences like Bard.                                                       \n",
              "<span style=\"color: #808000; text-decoration-color: #808000; font-weight: bold\">    • </span><span style=\"font-weight: bold\">One-Timers in Q4:</span> He sought clarification on the allocation of one-time items in the quarter, particularly   \n",
              "<span style=\"color: #808000; text-decoration-color: #808000; font-weight: bold\">      </span>related to real estate charges and legal one-timers.                                                         \n",
              "<span style=\"color: #808000; text-decoration-color: #808000; font-weight: bold\"> • </span><span style=\"font-weight: bold\">Justin Post (Bank of America Merrill Lynch):</span>                                                                    \n",
              "<span style=\"color: #808000; text-decoration-color: #808000; font-weight: bold\">    • </span><span style=\"font-weight: bold\">Impact of Competitive AI Tools on Search:</span> Justin asked about any changes in query volumes since the rise of  \n",
              "<span style=\"color: #808000; text-decoration-color: #808000; font-weight: bold\">      </span>GenAI experiences and how Google is differentiating itself from other AI tools.                              \n",
              "<span style=\"color: #808000; text-decoration-color: #808000; font-weight: bold\">    • </span><span style=\"font-weight: bold\">CapEx Growth and One-Timers:</span> He inquired about the significant increase in CapEx and whether it included any \n",
              "<span style=\"color: #808000; text-decoration-color: #808000; font-weight: bold\">      </span>one-time items.                                                                                              \n",
              "<span style=\"color: #808000; text-decoration-color: #808000; font-weight: bold\">    • </span><span style=\"font-weight: bold\">AI-Powered Creatives for SMBs:</span> Justin asked about the potential of AI-powered creatives to open up new growth\n",
              "<span style=\"color: #808000; text-decoration-color: #808000; font-weight: bold\">      </span>areas for SMBs and the progress made in offering this to the market.                                         \n",
              "\n",
              "This summary provides a good overview of the key points discussed during the Alphabet earnings call.               \n",
              "</pre>\n"
            ]
          },
          "metadata": {},
          "execution_count": 17
        }
      ]
    },
    {
      "cell_type": "code",
      "source": [
        "# delete the file\n",
        "genai.delete_file(name=earning_calls.name)"
      ],
      "metadata": {
        "id": "jVBbv9lwoeLF"
      },
      "execution_count": 16,
      "outputs": []
    },
    {
      "cell_type": "markdown",
      "source": [
        "### Images (Read PDF as Images)"
      ],
      "metadata": {
        "id": "sHytDs7cwmzi"
      }
    },
    {
      "cell_type": "code",
      "source": [
        "#@title Helper Functions\n",
        "## Helper Function\n",
        "\n",
        "import os\n",
        "from pdf2image import convert_from_path\n",
        "\n",
        "def pdf_to_images(file_path, output_folder=\"output_folder\"):\n",
        "    \"\"\"Converts a PDF file into images for each page, saves them to a folder, and returns a list of image paths.\"\"\"\n",
        "\n",
        "    # Create output folder if it doesn't exist\n",
        "    if not os.path.exists(output_folder):\n",
        "        os.makedirs(output_folder)\n",
        "\n",
        "    # Convert PDF to images\n",
        "    images = convert_from_path(file_path, dpi=200, output_folder=output_folder, fmt=\"jpg\")\n",
        "\n",
        "    # Generate image paths\n",
        "    image_paths = []\n",
        "    pages_list = []\n",
        "    upload_file_name = []\n",
        "    for i, image in enumerate(images):\n",
        "        image_name = f\"page_{i+1}.jpg\"  # Page numbers start from 1\n",
        "        image_path = os.path.join(output_folder, image_name)\n",
        "        image.save(image_path, \"JPEG\")\n",
        "        image_paths.append(image_path)\n",
        "        files_to_upload = genai.upload_file(image_path, display_name=image_path)\n",
        "        pages_list.append(files_to_upload)\n",
        "        upload_file_name.append([files_to_upload.name, files_to_upload.display_name])\n",
        "\n",
        "    return image_paths, pages_list, upload_file_name\n",
        "\n",
        "def make_request(prompt, files):\n",
        "  request = [prompt]\n",
        "  for file in files:\n",
        "    request.append(file)\n",
        "  return request\n",
        "\n",
        "def delete_files(output_folder):\n",
        "  for filename in os.listdir(output_folder):\n",
        "    if filename.endswith(\".jpg\"):\n",
        "      file_path = os.path.join(output_folder, filename)\n",
        "      genai.delete_file(name=file_path)"
      ],
      "metadata": {
        "cellView": "form",
        "id": "m8-A8ExQDN5k"
      },
      "execution_count": 17,
      "outputs": []
    },
    {
      "cell_type": "code",
      "source": [
        "%%time\n",
        "\n",
        "file_path = \"/content/data/Idea/stage_1_prototype_Google Cloud TPU blog.pdf\"\n",
        "output_folder = \"/content/output_images\"\n",
        "image_paths, pages_list, upload_file_name = pdf_to_images(file_path, output_folder)\n",
        "\n",
        "\n",
        "response = model.generate_content(\n",
        "make_request(\"what is the emfu for bf16 and 128b parameter model with 1 tpu v5e pod? Cite the table and page number and explain the significance of the results\",\n",
        "             pages_list),request_options={\"timeout\": 600})\n",
        "rich_Markdown(response.text)"
      ],
      "metadata": {
        "colab": {
          "base_uri": "https://localhost:8080/",
          "height": 324
        },
        "id": "00BAnkvRD8hX",
        "outputId": "4edaf1db-b74e-4981-e943-27b12b0cf642"
      },
      "execution_count": 18,
      "outputs": [
        {
          "output_type": "stream",
          "name": "stdout",
          "text": [
            "CPU times: user 1.13 s, sys: 457 ms, total: 1.59 s\n",
            "Wall time: 42.7 s\n"
          ]
        },
        {
          "output_type": "execute_result",
          "data": {
            "text/plain": [
              "The provided text is a blog post about Google Cloud TPU Multislice Training and its use in training large language \n",
              "models. While it discusses model size and TPU v5e pods, it \u001b[1mdoesn't explicitly state the EMFU for a BF16 and 128B \u001b[0m  \n",
              "\u001b[1mparameter model with 1 TPU v5e pod\u001b[0m.                                                                                \n",
              "\n",
              "However, the document does provide some relevant information:                                                      \n",
              "\n",
              "\u001b[1;33m • \u001b[0m\u001b[1mTable: \"MaxText LLM Training Results\" (page 14):\u001b[0m This table lists the EMFU for different model sizes and        \n",
              "\u001b[1;33m   \u001b[0mtraining configurations.  We can see results for BF16 models with 16B, 32B, 64B, and 128B parameters on varying \n",
              "\u001b[1;33m   \u001b[0mnumbers of TPU v5e pods. However, the specific configuration you're asking about (128B parameters on a single   \n",
              "\u001b[1;33m   \u001b[0mpod) is not included in the table.                                                                              \n",
              "\u001b[1;33m • \u001b[0m\u001b[1mConclusion (page 17):\u001b[0m The blog post states that they achieved \"as high as 66.86% MFU with BF16 training on a    \n",
              "\u001b[1;33m   \u001b[0msingle TPU v5e pod\" but doesn't specify the model size associated with this result.                             \n",
              "\n",
              "\u001b[1mSignificance of the results:\u001b[0m The blog highlights the achievement of Google Cloud TPU Multislice Training in        \n",
              "enabling large-scale distributed training of LLMs.  The EMFU numbers demonstrate efficient utilization of the TPU  \n",
              "v5e hardware, indicating good performance and scalability for large models. However, without the specific EMFU for \n",
              "the requested configuration, we cannot draw any definite conclusions about its performance.                        \n"
            ],
            "text/html": [
              "<pre style=\"white-space:pre;overflow-x:auto;line-height:normal;font-family:Menlo,'DejaVu Sans Mono',consolas,'Courier New',monospace\">The provided text is a blog post about Google Cloud TPU Multislice Training and its use in training large language \n",
              "models. While it discusses model size and TPU v5e pods, it <span style=\"font-weight: bold\">doesn't explicitly state the EMFU for a BF16 and 128B </span>  \n",
              "<span style=\"font-weight: bold\">parameter model with 1 TPU v5e pod</span>.                                                                                \n",
              "\n",
              "However, the document does provide some relevant information:                                                      \n",
              "\n",
              "<span style=\"color: #808000; text-decoration-color: #808000; font-weight: bold\"> • </span><span style=\"font-weight: bold\">Table: \"MaxText LLM Training Results\" (page 14):</span> This table lists the EMFU for different model sizes and        \n",
              "<span style=\"color: #808000; text-decoration-color: #808000; font-weight: bold\">   </span>training configurations.  We can see results for BF16 models with 16B, 32B, 64B, and 128B parameters on varying \n",
              "<span style=\"color: #808000; text-decoration-color: #808000; font-weight: bold\">   </span>numbers of TPU v5e pods. However, the specific configuration you're asking about (128B parameters on a single   \n",
              "<span style=\"color: #808000; text-decoration-color: #808000; font-weight: bold\">   </span>pod) is not included in the table.                                                                              \n",
              "<span style=\"color: #808000; text-decoration-color: #808000; font-weight: bold\"> • </span><span style=\"font-weight: bold\">Conclusion (page 17):</span> The blog post states that they achieved \"as high as 66.86% MFU with BF16 training on a    \n",
              "<span style=\"color: #808000; text-decoration-color: #808000; font-weight: bold\">   </span>single TPU v5e pod\" but doesn't specify the model size associated with this result.                             \n",
              "\n",
              "<span style=\"font-weight: bold\">Significance of the results:</span> The blog highlights the achievement of Google Cloud TPU Multislice Training in        \n",
              "enabling large-scale distributed training of LLMs.  The EMFU numbers demonstrate efficient utilization of the TPU  \n",
              "v5e hardware, indicating good performance and scalability for large models. However, without the specific EMFU for \n",
              "the requested configuration, we cannot draw any definite conclusions about its performance.                        \n",
              "</pre>\n"
            ]
          },
          "metadata": {},
          "execution_count": 18
        }
      ]
    },
    {
      "cell_type": "code",
      "source": [
        "%%time\n",
        "\n",
        "response = model_flash.generate_content(\n",
        "make_request(\"what is the emfu for bf16 and 128b parameter model with 1 tpu v5e pod? Cite the table and page number and explain the significance of the results\",\n",
        "             pages_list))\n",
        "rich_Markdown(response.text)"
      ],
      "metadata": {
        "colab": {
          "base_uri": "https://localhost:8080/",
          "height": 244
        },
        "id": "oi_NjB6NSLeF",
        "outputId": "8cec595f-7d1f-46aa-f62f-7dc25e44c40a"
      },
      "execution_count": 22,
      "outputs": [
        {
          "output_type": "stream",
          "name": "stdout",
          "text": [
            "CPU times: user 61.9 ms, sys: 5.32 ms, total: 67.3 ms\n",
            "Wall time: 2.91 s\n"
          ]
        },
        {
          "output_type": "execute_result",
          "data": {
            "text/plain": [
              "The EMFU for a 128B parameter model with BF16 training on a single TPU v5e pod is 44.67%. This information is found\n",
              "in the table \"MaxText LLM Training Results\" on page 14 of the document.                                            \n",
              "\n",
              "The EMFU (Effective Model FLOPs Utilization) is a metric that measures the efficiency of a model's training        \n",
              "process. It is calculated by dividing the observed TFLOP/chip/s (TeraFLOPs per chip per second) by the peak        \n",
              "hardware TFLOP/chip/s. An EMFU of 44.67% indicates that the model is utilizing 44.67% of the peak performance of   \n",
              "the TPU v5e chip.                                                                                                  \n",
              "\n",
              "The significance of this result is that it demonstrates the ability of the TPU v5e to efficiently train large      \n",
              "language models. Even with a 128B parameter model, which is a significant size, the TPU v5e is able to achieve a   \n",
              "reasonable level of utilization. This suggests that the TPU v5e is well-suited for training large language models, \n",
              "and that it can be used to achieve high performance even with very large models.                                   \n"
            ],
            "text/html": [
              "<pre style=\"white-space:pre;overflow-x:auto;line-height:normal;font-family:Menlo,'DejaVu Sans Mono',consolas,'Courier New',monospace\">The EMFU for a 128B parameter model with BF16 training on a single TPU v5e pod is 44.67%. This information is found\n",
              "in the table \"MaxText LLM Training Results\" on page 14 of the document.                                            \n",
              "\n",
              "The EMFU (Effective Model FLOPs Utilization) is a metric that measures the efficiency of a model's training        \n",
              "process. It is calculated by dividing the observed TFLOP/chip/s (TeraFLOPs per chip per second) by the peak        \n",
              "hardware TFLOP/chip/s. An EMFU of 44.67% indicates that the model is utilizing 44.67% of the peak performance of   \n",
              "the TPU v5e chip.                                                                                                  \n",
              "\n",
              "The significance of this result is that it demonstrates the ability of the TPU v5e to efficiently train large      \n",
              "language models. Even with a 128B parameter model, which is a significant size, the TPU v5e is able to achieve a   \n",
              "reasonable level of utilization. This suggests that the TPU v5e is well-suited for training large language models, \n",
              "and that it can be used to achieve high performance even with very large models.                                   \n",
              "</pre>\n"
            ]
          },
          "metadata": {},
          "execution_count": 22
        }
      ]
    },
    {
      "cell_type": "code",
      "source": [
        "for filename in upload_file_name:\n",
        "  print(\"Deleteing...\",filename[0])\n",
        "  genai.delete_file(name=filename[0])"
      ],
      "metadata": {
        "id": "R1KyZ0JzFWIo",
        "colab": {
          "base_uri": "https://localhost:8080/",
          "height": 329
        },
        "outputId": "09b7d6db-7356-45e2-b1cf-0005a779958e"
      },
      "execution_count": null,
      "outputs": [
        {
          "output_type": "stream",
          "name": "stdout",
          "text": [
            "Deleteing... files/9bymqnfpiwi5\n",
            "Deleteing... files/kjvhqi6x4ca4\n",
            "Deleteing... files/5uli74dmzg57\n",
            "Deleteing... files/mwuo84jq1xt2\n",
            "Deleteing... files/ihioosq2kdmj\n",
            "Deleteing... files/jhmckpola1sw\n",
            "Deleteing... files/waye8t5wt6lq\n",
            "Deleteing... files/h4g5elr1isg2\n",
            "Deleteing... files/y4wryk42ggim\n",
            "Deleteing... files/rtok1qd7wtj5\n",
            "Deleteing... files/suiyspsbzi1c\n",
            "Deleteing... files/yyjmenhh9ola\n",
            "Deleteing... files/ucklv75pt593\n",
            "Deleteing... files/38g5pv53tyet\n",
            "Deleteing... files/ufonat85xkvx\n",
            "Deleteing... files/31fhpft812ii\n",
            "Deleteing... files/opptznt67old\n",
            "Deleteing... files/lh28yo7mr623\n"
          ]
        }
      ]
    },
    {
      "cell_type": "markdown",
      "source": [
        "### Video"
      ],
      "metadata": {
        "id": "q6fVmmQ2zefi"
      }
    },
    {
      "cell_type": "code",
      "source": [
        "#@title Helper Functions\n",
        "## Helper Function\n",
        "\n",
        "import cv2\n",
        "import os\n",
        "import shutil\n",
        "\n",
        "def process_video(video_file_path, full_video=False):\n",
        "    \"\"\"\n",
        "    Extracts frames from a video, optionally uploads them, and returns a list of File objects.\n",
        "\n",
        "    Args:\n",
        "        video_file_path (str): Path to the video file.\n",
        "        full_video (bool, optional): If True, uploads all frames. Otherwise, uploads a 10-second slice. Defaults to False.\n",
        "\n",
        "    Returns:\n",
        "        list: A list of File objects, each containing file path, response (if uploaded), and timestamp.\n",
        "    \"\"\"\n",
        "\n",
        "    FRAME_EXTRACTION_DIRECTORY = \"/content/frames\"\n",
        "    FRAME_PREFIX = \"_frame\"\n",
        "\n",
        "    def create_frame_output_dir(output_dir):\n",
        "        \"\"\"Creates or cleans up the frame output directory.\"\"\"\n",
        "        if not os.path.exists(output_dir):\n",
        "            os.makedirs(output_dir)\n",
        "        else:\n",
        "            shutil.rmtree(output_dir)\n",
        "            os.makedirs(output_dir)\n",
        "\n",
        "    def get_timestamp(filename):\n",
        "        \"\"\"Extracts the timestamp from a frame filename.\"\"\"\n",
        "        parts = filename.split(FRAME_PREFIX)\n",
        "        if len(parts) != 2:\n",
        "            return None  # Incorrect format\n",
        "        return parts[1].split('.')[0]\n",
        "\n",
        "    class File:\n",
        "        \"\"\"Represents a file with path, display name, timestamp, and optional response.\"\"\"\n",
        "        def __init__(self, file_path, display_name=None):\n",
        "            self.file_path = file_path\n",
        "            self.display_name = display_name or os.path.basename(file_path)\n",
        "            self.timestamp = get_timestamp(file_path)\n",
        "\n",
        "        def set_file_response(self, response):\n",
        "            self.response = response\n",
        "\n",
        "    # Extract frames\n",
        "    create_frame_output_dir(FRAME_EXTRACTION_DIRECTORY)\n",
        "    vidcap = cv2.VideoCapture(video_file_path)\n",
        "    if not vidcap.isOpened():\n",
        "        raise ValueError(\"Could not open video file.\")\n",
        "\n",
        "    fps = vidcap.get(cv2.CAP_PROP_FPS)\n",
        "    frame_duration = 1 / fps\n",
        "    output_file_prefix = os.path.basename(video_file_path).replace('.', '_')\n",
        "    frame_count = 0\n",
        "    count = 0\n",
        "\n",
        "    while vidcap.isOpened():\n",
        "        success, frame = vidcap.read()\n",
        "        if not success:\n",
        "            break  # End of video\n",
        "\n",
        "        if int(count / fps) == frame_count:\n",
        "            min = frame_count // 60\n",
        "            sec = frame_count % 60\n",
        "            time_string = f\"{min:02d}:{sec:02d}\"\n",
        "            image_name = f\"{output_file_prefix}{FRAME_PREFIX}{time_string}.jpg\"\n",
        "            output_filename = os.path.join(FRAME_EXTRACTION_DIRECTORY, image_name)\n",
        "            cv2.imwrite(output_filename, frame)\n",
        "            frame_count += 1\n",
        "\n",
        "        count += 1\n",
        "\n",
        "    vidcap.release()\n",
        "    # print(f\"Extracted: {frame_count} frames\")\n",
        "\n",
        "    # Process and optionally upload frames\n",
        "    files = [File(os.path.join(FRAME_EXTRACTION_DIRECTORY, file)) for file in sorted(os.listdir(FRAME_EXTRACTION_DIRECTORY))]\n",
        "    files_to_upload = files if full_video else files[40:50]  # Adjust slice as needed\n",
        "\n",
        "    uploaded_files = []\n",
        "    # print(f'Uploading {len(files_to_upload)} files...')\n",
        "    for file in files_to_upload:\n",
        "        # print(f'Uploading: {file.file_path}...')\n",
        "        try:\n",
        "            response = genai.upload_file(path=file.file_path)  # Assuming 'genai' is available\n",
        "            file.set_file_response(response)\n",
        "            uploaded_files.append(file)\n",
        "        except Exception as e:\n",
        "            print(f\"Error uploading {file.file_path}: {e}\")\n",
        "\n",
        "    # print(f\"Uploaded: {len(uploaded_files)} files\")\n",
        "    return uploaded_files\n",
        "\n",
        "# Make GenerateContent request with the structure described above.\n",
        "def make_request(prompt, files):\n",
        "  request = [prompt]\n",
        "  for file in files:\n",
        "    request.append(file.timestamp)\n",
        "    request.append(file.response)\n",
        "  return request"
      ],
      "metadata": {
        "cellView": "form",
        "id": "GfPC35Kmze0O"
      },
      "execution_count": 23,
      "outputs": []
    },
    {
      "cell_type": "code",
      "source": [
        "# Upload a video ~ 1min\n",
        "video_file_name = \"/content/data/Idea/What's next for AI and Google Search _ Google I_O 2023.mp4\"\n",
        "processed_files_search = process_video(video_file_name, full_video=True)"
      ],
      "metadata": {
        "id": "l-rus7l4-VST"
      },
      "execution_count": 24,
      "outputs": []
    },
    {
      "cell_type": "code",
      "source": [
        "%%time\n",
        "\n",
        "request = make_request(\"Describe this video and How is google using generative ai in search? Give response in bullet\", processed_files_search)\n",
        "response = model.generate_content(request,\n",
        "                                  request_options={\"timeout\": 600})\n",
        "rich_Markdown(response.text)"
      ],
      "metadata": {
        "colab": {
          "base_uri": "https://localhost:8080/",
          "height": 308
        },
        "id": "SwxPpv70_i8A",
        "outputId": "b72e9aa1-d4a2-43c3-cdbc-b875ab347829"
      },
      "execution_count": 25,
      "outputs": [
        {
          "output_type": "stream",
          "name": "stdout",
          "text": [
            "CPU times: user 150 ms, sys: 16.1 ms, total: 167 ms\n",
            "Wall time: 8.22 s\n"
          ]
        },
        {
          "output_type": "execute_result",
          "data": {
            "text/plain": [
              "The video showcases Google's new generative AI features in search. It highlights how AI can provide more           \n",
              "comprehensive and creative answers to user queries.                                                                \n",
              "\n",
              "Here's how Google is using generative AI in search:                                                                \n",
              "\n",
              "\u001b[1;33m • \u001b[0m\u001b[1mSummarizing information:\u001b[0m AI can synthesize information from multiple sources to provide concise answers to      \n",
              "\u001b[1;33m   \u001b[0mcomplex questions. For example, it can summarize the weather in Miami in May and suggest appropriate clothing   \n",
              "\u001b[1;33m   \u001b[0mfor an outdoor wedding.                                                                                         \n",
              "\u001b[1;33m • \u001b[0m\u001b[1mGenerating creative content:\u001b[0m AI can create poems, training plans, and other content based on user prompts.      \n",
              "\u001b[1;33m • \u001b[0m\u001b[1mEnhancing search results:\u001b[0m AI can provide more relevant and informative search results by understanding the      \n",
              "\u001b[1;33m   \u001b[0mcontext of a query and generating follow-up questions.                                                          \n",
              "\u001b[1;33m • \u001b[0m\u001b[1mIntegrating multimedia:\u001b[0m AI can incorporate images, videos, and other multimedia content into search results to  \n",
              "\u001b[1;33m   \u001b[0mprovide a more engaging experience.                                                                             \n",
              "\n",
              "The video emphasizes that generative AI in search is still experimental, but it has the potential to revolutionize \n",
              "how people find information and interact with the web.                                                             \n"
            ],
            "text/html": [
              "<pre style=\"white-space:pre;overflow-x:auto;line-height:normal;font-family:Menlo,'DejaVu Sans Mono',consolas,'Courier New',monospace\">The video showcases Google's new generative AI features in search. It highlights how AI can provide more           \n",
              "comprehensive and creative answers to user queries.                                                                \n",
              "\n",
              "Here's how Google is using generative AI in search:                                                                \n",
              "\n",
              "<span style=\"color: #808000; text-decoration-color: #808000; font-weight: bold\"> • </span><span style=\"font-weight: bold\">Summarizing information:</span> AI can synthesize information from multiple sources to provide concise answers to      \n",
              "<span style=\"color: #808000; text-decoration-color: #808000; font-weight: bold\">   </span>complex questions. For example, it can summarize the weather in Miami in May and suggest appropriate clothing   \n",
              "<span style=\"color: #808000; text-decoration-color: #808000; font-weight: bold\">   </span>for an outdoor wedding.                                                                                         \n",
              "<span style=\"color: #808000; text-decoration-color: #808000; font-weight: bold\"> • </span><span style=\"font-weight: bold\">Generating creative content:</span> AI can create poems, training plans, and other content based on user prompts.      \n",
              "<span style=\"color: #808000; text-decoration-color: #808000; font-weight: bold\"> • </span><span style=\"font-weight: bold\">Enhancing search results:</span> AI can provide more relevant and informative search results by understanding the      \n",
              "<span style=\"color: #808000; text-decoration-color: #808000; font-weight: bold\">   </span>context of a query and generating follow-up questions.                                                          \n",
              "<span style=\"color: #808000; text-decoration-color: #808000; font-weight: bold\"> • </span><span style=\"font-weight: bold\">Integrating multimedia:</span> AI can incorporate images, videos, and other multimedia content into search results to  \n",
              "<span style=\"color: #808000; text-decoration-color: #808000; font-weight: bold\">   </span>provide a more engaging experience.                                                                             \n",
              "\n",
              "The video emphasizes that generative AI in search is still experimental, but it has the potential to revolutionize \n",
              "how people find information and interact with the web.                                                             \n",
              "</pre>\n"
            ]
          },
          "metadata": {},
          "execution_count": 25
        }
      ]
    },
    {
      "cell_type": "code",
      "source": [
        "%%time\n",
        "\n",
        "request = make_request(\"Describe this video and How is google using generative ai in search? Give response in bullet\", processed_files_search)\n",
        "response = model_flash.generate_content(request,\n",
        "                                  request_options={\"timeout\": 600})\n",
        "rich_Markdown(response.text)"
      ],
      "metadata": {
        "colab": {
          "base_uri": "https://localhost:8080/",
          "height": 404
        },
        "id": "OGMc13CWSio7",
        "outputId": "5d543f36-133e-40d3-d943-95a72d80989c"
      },
      "execution_count": 27,
      "outputs": [
        {
          "output_type": "stream",
          "name": "stdout",
          "text": [
            "CPU times: user 103 ms, sys: 5.47 ms, total: 109 ms\n",
            "Wall time: 5.01 s\n"
          ]
        },
        {
          "output_type": "execute_result",
          "data": {
            "text/plain": [
              "\n",
              "\u001b[1;33m • \u001b[0mThe video is an advertisement for Google Search.                                                                \n",
              "\u001b[1;33m • \u001b[0mIt highlights how Google is using generative AI to improve search results.                                      \n",
              "\u001b[1;33m • \u001b[0mThe video shows examples of how generative AI can be used to answer complex questions, generate creative        \n",
              "\u001b[1;33m   \u001b[0mcontent, and provide personalized recommendations.                                                              \n",
              "\u001b[1;33m • \u001b[0mThe video emphasizes that generative AI is still experimental, but it has the potential to revolutionize the way\n",
              "\u001b[1;33m   \u001b[0mwe search for information.                                                                                      \n",
              "\u001b[1;33m • \u001b[0mThe video encourages users to look for the \"test tube\" icon to unlock new ways to search.                       \n",
              "\n",
              "Google is using generative AI in search in the following ways:                                                     \n",
              "\n",
              "\u001b[1;33m • \u001b[0m\u001b[1mAnswering complex questions:\u001b[0m Generative AI can be used to answer questions that require more than just a simple \n",
              "\u001b[1;33m   \u001b[0mkeyword search. For example, the video shows how generative AI can be used to answer the question \"What are some\n",
              "\u001b[1;33m   \u001b[0mplants that can grow in low light?\"                                                                             \n",
              "\u001b[1;33m • \u001b[0m\u001b[1mGenerating creative content:\u001b[0m Generative AI can be used to generate creative content, such as poems, stories, and\n",
              "\u001b[1;33m   \u001b[0meven training plans. For example, the video shows how generative AI can be used to write a poem about a cat     \n",
              "\u001b[1;33m   \u001b[0mnamed Whiskers.                                                                                                 \n",
              "\u001b[1;33m • \u001b[0m\u001b[1mProviding personalized recommendations:\u001b[0m Generative AI can be used to provide personalized recommendations based \n",
              "\u001b[1;33m   \u001b[0mon a user's search history and preferences. For example, the video shows how generative AI can be used to       \n",
              "\u001b[1;33m   \u001b[0mrecommend dresses for an outdoor wedding in Miami.                                                              \n",
              "\u001b[1;33m • \u001b[0m\u001b[1mComparing different options:\u001b[0m Generative AI can be used to compare different options, such as restaurants or     \n",
              "\u001b[1;33m   \u001b[0mproducts. For example, the video shows how generative AI can be used to compare two lunch spots near New        \n",
              "\u001b[1;33m   \u001b[0mOrleans.                                                                                                        \n"
            ],
            "text/html": [
              "<pre style=\"white-space:pre;overflow-x:auto;line-height:normal;font-family:Menlo,'DejaVu Sans Mono',consolas,'Courier New',monospace\">\n",
              "<span style=\"color: #808000; text-decoration-color: #808000; font-weight: bold\"> • </span>The video is an advertisement for Google Search.                                                                \n",
              "<span style=\"color: #808000; text-decoration-color: #808000; font-weight: bold\"> • </span>It highlights how Google is using generative AI to improve search results.                                      \n",
              "<span style=\"color: #808000; text-decoration-color: #808000; font-weight: bold\"> • </span>The video shows examples of how generative AI can be used to answer complex questions, generate creative        \n",
              "<span style=\"color: #808000; text-decoration-color: #808000; font-weight: bold\">   </span>content, and provide personalized recommendations.                                                              \n",
              "<span style=\"color: #808000; text-decoration-color: #808000; font-weight: bold\"> • </span>The video emphasizes that generative AI is still experimental, but it has the potential to revolutionize the way\n",
              "<span style=\"color: #808000; text-decoration-color: #808000; font-weight: bold\">   </span>we search for information.                                                                                      \n",
              "<span style=\"color: #808000; text-decoration-color: #808000; font-weight: bold\"> • </span>The video encourages users to look for the \"test tube\" icon to unlock new ways to search.                       \n",
              "\n",
              "Google is using generative AI in search in the following ways:                                                     \n",
              "\n",
              "<span style=\"color: #808000; text-decoration-color: #808000; font-weight: bold\"> • </span><span style=\"font-weight: bold\">Answering complex questions:</span> Generative AI can be used to answer questions that require more than just a simple \n",
              "<span style=\"color: #808000; text-decoration-color: #808000; font-weight: bold\">   </span>keyword search. For example, the video shows how generative AI can be used to answer the question \"What are some\n",
              "<span style=\"color: #808000; text-decoration-color: #808000; font-weight: bold\">   </span>plants that can grow in low light?\"                                                                             \n",
              "<span style=\"color: #808000; text-decoration-color: #808000; font-weight: bold\"> • </span><span style=\"font-weight: bold\">Generating creative content:</span> Generative AI can be used to generate creative content, such as poems, stories, and\n",
              "<span style=\"color: #808000; text-decoration-color: #808000; font-weight: bold\">   </span>even training plans. For example, the video shows how generative AI can be used to write a poem about a cat     \n",
              "<span style=\"color: #808000; text-decoration-color: #808000; font-weight: bold\">   </span>named Whiskers.                                                                                                 \n",
              "<span style=\"color: #808000; text-decoration-color: #808000; font-weight: bold\"> • </span><span style=\"font-weight: bold\">Providing personalized recommendations:</span> Generative AI can be used to provide personalized recommendations based \n",
              "<span style=\"color: #808000; text-decoration-color: #808000; font-weight: bold\">   </span>on a user's search history and preferences. For example, the video shows how generative AI can be used to       \n",
              "<span style=\"color: #808000; text-decoration-color: #808000; font-weight: bold\">   </span>recommend dresses for an outdoor wedding in Miami.                                                              \n",
              "<span style=\"color: #808000; text-decoration-color: #808000; font-weight: bold\"> • </span><span style=\"font-weight: bold\">Comparing different options:</span> Generative AI can be used to compare different options, such as restaurants or     \n",
              "<span style=\"color: #808000; text-decoration-color: #808000; font-weight: bold\">   </span>products. For example, the video shows how generative AI can be used to compare two lunch spots near New        \n",
              "<span style=\"color: #808000; text-decoration-color: #808000; font-weight: bold\">   </span>Orleans.                                                                                                        \n",
              "</pre>\n"
            ]
          },
          "metadata": {},
          "execution_count": 27
        }
      ]
    },
    {
      "cell_type": "markdown",
      "source": [
        "## Embeddings"
      ],
      "metadata": {
        "id": "DxsvTILhMx1w"
      }
    },
    {
      "cell_type": "code",
      "source": [
        "title = \"The next generation of AI for developers and Google Workspace\"\n",
        "sample_text = (\"Title: The next generation of AI for developers and Google Workspace\"\n",
        "    \"\\n\"\n",
        "    \"Full article:\\n\"\n",
        "    \"\\n\"\n",
        "    \"Gemini API & Google AI Studio: An approachable way to explore and prototype with generative AI applications\")\n",
        "\n",
        "model = 'models/text-embedding-004'\n",
        "embedding = genai.embed_content(model=model,\n",
        "                                content=sample_text,\n",
        "                                task_type=\"retrieval_document\",\n",
        "                                title=title)\n",
        "\n",
        "print(embedding)"
      ],
      "metadata": {
        "colab": {
          "base_uri": "https://localhost:8080/",
          "height": 54
        },
        "id": "3FEi8s6GPJME",
        "outputId": "5544bf1d-346f-4732-cf17-77c43a2ffd9a"
      },
      "execution_count": 28,
      "outputs": [
        {
          "output_type": "stream",
          "name": "stdout",
          "text": [
            "{'embedding': [-0.0021609126, -0.003164448, -0.060120765, -0.0071218405, 0.00087754615, 0.04058192, 0.04457149, 0.035524692, -0.047465388, 0.008888606, -0.027958257, 0.011335692, -0.0024438684, 0.0030851841, -0.018796144, -0.055550933, 0.031426456, 0.00065491674, -0.11370059, 0.06370807, -0.021750022, -0.021367034, -0.09982074, -0.008604742, -0.033300586, -0.012815639, 0.07153146, 0.03706478, 0.02297012, 0.043331206, 0.01067061, 0.040685344, 0.03636141, -0.036222056, -0.017799364, -0.014820968, 0.0053205043, -0.017382711, 0.07044941, 0.0020212498, -0.018208733, 0.017558081, 0.006493213, 0.12724239, -0.023805205, 0.010057812, -0.0006948954, 0.07085626, -0.056457285, 0.01831114, 0.09046226, 0.021575559, -0.06656088, 0.026865069, -0.0034812505, -0.0011228691, -0.06535635, -0.0018169151, 0.08672994, 0.02874761, -0.024817277, 0.004653874, -0.058998518, 0.03206169, -0.022604037, -0.015454266, -0.013758667, 0.021129975, -0.047893398, 0.02573244, 0.013028228, -0.018002002, -0.039879415, 0.023450838, -0.004208126, -0.027456919, -0.032786608, -0.03151697, 0.016166035, 0.03236463, -0.018289568, 0.037466213, 0.056439914, 0.018822784, -0.031625833, -0.072923765, 0.030363297, -0.059991967, -0.093077235, 0.04188785, 0.06492768, -0.024198279, 0.039436355, 0.012329493, 0.03184258, -0.01583737, -0.08348356, -0.078226775, 0.050835844, 0.07948488, 0.02687845, -0.0038086297, 0.011806115, -0.08685925, 0.028630126, 0.06522583, -0.015315894, -0.0055563995, -0.021313203, 0.0024531975, -0.0034198368, -0.042501274, 0.012679338, 0.014422546, 0.0045323945, -0.013868992, -0.06397065, -0.02308406, -0.034713272, 0.018988913, 0.00047666705, -0.02198418, -0.027781392, 0.05325701, 0.06580533, -0.009980823, 0.053907834, -0.0274338, -0.056807593, -0.025917295, 0.08114591, -0.05822318, -0.028904257, 0.0018085615, -0.01615572, -0.0061115585, 0.076104954, -0.0005716556, -0.010480926, 0.015245492, 0.029938709, -0.039273947, -0.048696317, 0.040946666, -0.03027104, -0.010457252, 0.01871332, 0.0036463204, 0.018723749, 0.014655201, -0.01162107, -0.0026406597, -0.0030220416, 0.015200439, -0.039530482, -0.02520664, 0.0004117838, -0.006891531, 0.041529354, 0.00037589864, 0.021241354, -0.072420485, -0.007229296, 0.011068717, -0.008963022, -0.032569725, 0.04191558, -0.0040378748, 0.034011792, -0.024002777, -0.019590672, 0.04433918, 0.009472289, 0.008021129, 0.011456312, 0.022549933, -0.011292307, -0.045068257, -0.054616608, -0.063114956, 0.1098535, 0.040681556, -0.036725014, -0.0516959, 0.018958293, 0.048538268, -0.012619441, 0.027218131, 0.023783153, 0.039537083, 0.014628235, -0.0368002, 0.037968893, 0.013039647, 0.01711052, -0.034588154, 0.057411328, -0.08706811, 0.072731294, -0.024207508, -0.0052339216, 0.067509174, 0.00049688853, -0.02011249, -0.03570067, 0.022825453, -0.011088672, -0.0899404, 0.05300786, 0.026679972, -0.06355843, 0.014337063, -0.032153014, -0.08108302, -0.011651656, -0.026982483, 0.051126007, 0.004203101, 0.014722821, -0.06912019, 0.033017915, -0.02038064, -0.01755625, -0.008474079, 0.065096796, 0.044928063, -0.0051354473, -0.06274738, 0.0017220126, 0.0055058836, 0.0015622866, -0.01911462, -0.03496066, 0.029834455, -0.041118104, 0.07154544, 0.0034748958, -0.04466466, 0.0141222915, 0.01237236, -0.020914642, 0.07786713, 0.027588828, -0.021992272, 0.0020365897, 0.010755597, -0.005880726, 0.035968713, 0.009015996, -0.08974196, 0.006003132, 0.030479098, -0.00091704656, 0.022828469, -0.0154529065, -0.03349038, 0.027941458, -0.006255118, -0.065369844, -0.0082471, 0.02437009, -0.0056163543, -0.045140833, -0.03782263, 0.005213898, -0.055022687, -0.030458711, 0.027596708, 0.022788934, 0.008157762, 0.017187998, -0.055844393, -0.019837536, -0.06927516, 0.007553927, 0.04790273, -0.044647854, 0.0069713355, -0.03351755, -0.025211833, 0.028168628, -0.0052331104, -0.0245547, -0.024444215, 0.01357072, -0.029820178, -0.014135859, 0.033803686, 0.0026204896, -0.020539653, 0.039212514, -0.011670823, -0.0361659, -0.017730497, 0.021883996, 0.0073586283, 0.03926711, 0.061975095, 0.0006272935, 0.010340809, 0.028115908, 0.014363926, -0.016072912, 0.044381868, -0.022980072, 0.035098057, -0.01599796, -0.045488346, -0.045004643, 0.0021473933, -0.053043764, -0.007153597, -0.045635164, -0.045014076, -0.023607694, -0.014734066, -0.09750219, -0.019866766, -0.026841233, -0.015316158, 0.015268078, -0.00048555847, -0.041345224, -0.07475691, 0.015535082, 0.0124677755, 0.00026140996, 0.016619474, 0.033363223, 0.025411787, -0.0019558838, 0.021416293, -0.03470333, -0.019757444, -0.021565786, 0.039885085, -0.01373408, 0.011723967, 0.076794945, 0.06626573, -0.0033808837, -0.044787057, 0.057418916, 0.010237068, -0.025212564, 0.056616034, 0.04576788, 0.026372831, 0.008778674, 0.0048026573, -0.009786107, 0.018159354, 0.062457725, -0.0150687415, 0.013217123, -0.03029227, 0.0010112339, -0.008269976, -0.009218753, -0.04567559, 0.009605763, 0.0014220168, -0.031690754, 0.008256998, -0.015835248, -0.015977358, 0.01268417, 0.03587063, -0.017795663, -0.058163222, -0.025969855, -0.022584002, 0.034757074, 0.08295892, 0.019076664, -0.0332361, 0.00086036336, 0.04628674, 0.03058935, -0.033383977, 0.067723125, -0.03997112, 0.034124188, 0.018904991, -0.02292492, 0.028375557, -0.021087326, -0.035895206, 0.08680358, -0.0068046125, -0.04579074, 0.06242105, 0.027131189, -0.012084887, 0.06725185, 0.020581177, -0.05020455, 0.013283424, 0.04394035, 0.04562581, -0.025263086, 0.043101557, 0.028965598, -0.029554756, -0.0167847, -0.04150607, 0.07761759, 0.0035380858, -0.012565968, -0.011527182, -0.037313726, -0.024951845, 0.0058037494, -0.0041362927, -0.009895256, -0.010838153, 0.04118126, -0.058472384, -0.024207024, -0.0027465755, -0.03646396, 0.012527367, 0.098081894, -0.011658653, -0.009657983, -0.048087474, -0.06333792, -0.0223808, 0.021717599, 0.04548322, -0.0014466807, -0.0009415967, -0.05116113, 0.0062555633, -0.03722196, 0.068452954, -0.0050316695, -0.023338528, 0.026488187, -0.014329626, -0.05195839, -0.06642493, 0.05622765, 0.054919224, -0.0037273148, 0.009672952, 0.04097342, 0.07482766, -0.008491798, -0.014202998, 0.0040703663, 0.0106487, -0.009163019, -0.071047954, -0.023398766, 0.054741897, 0.012527596, 0.010918881, 0.031438105, -0.023090048, -0.0076193814, -0.0064941975, 0.06131103, 0.05488424, 0.01629616, 0.009213807, -0.0100128455, -0.0377262, -0.03159498, 0.014321739, 0.021967571, 0.008234688, -0.013605471, -0.036981184, -0.01135382, 0.01644862, 0.0024946348, 0.03515783, -0.0030174106, -0.022457877, -0.04320093, 0.039250292, -0.024913969, 0.02132271, 0.01730469, -0.024088548, -0.06819147, 0.04580229, 0.016943043, 0.01516584, 0.035624187, 0.041948527, -0.0130237285, -0.0024168636, -0.05702779, -0.019560823, 0.085398555, -0.046058115, 0.025539203, 0.015732674, 0.052868392, 0.06709511, 0.002021922, -0.019373171, -0.00077892235, 0.06557979, -0.004795798, -0.015438432, 0.036140103, -0.007846715, 0.049123388, -0.025078002, -0.009602071, 0.044912443, -0.040892642, 0.03634363, -0.03212278, 0.0061166417, -0.00479082, 0.039269347, -0.015599866, -0.023184173, 0.030772438, 0.007796386, 0.031201154, -0.03193287, -0.028833428, 0.04266447, 0.020386947, -0.02652124, -0.018275172, 0.07938739, 0.0062334333, -0.024666376, 0.008384334, 0.004547929, -0.03221171, 0.039343387, -0.015227509, 0.029678503, 0.010926635, -0.023886517, 0.0005733539, 0.0025740184, 0.023600519, -0.010103461, -0.0008779924, 0.08328832, 0.012755144, 0.07518913, 0.0637905, -0.051227637, 0.007082784, 0.03781216, -0.034073085, 0.008693579, 0.017402083, -0.0356867, -0.019208489, 0.01020327, 0.03525957, -0.024630565, -0.00407374, -0.016824434, 0.032621834, 0.049013812, -0.024412578, 0.07099586, -0.03583264, -0.031467717, -0.016279126, -0.045612827, -0.00533646, 0.06096306, -0.029720537, -0.014944071, 0.00055744, 0.062879056, 0.05484685, -0.031882137, 0.009163748, -0.020831022, 0.09729149, 0.00049144815, 0.004821661, -0.002601175, -0.022112133, -0.028212149, 0.037642844, 0.004861345, 0.015579628, 0.01749499, 0.031151878, -0.01616276, 0.021688374, -0.040989432, -0.045957137, -0.0009900918, 0.04005992, -0.01493298, -0.050075203, -0.0029836134, 0.03631741, -0.018724699, -0.0053574108, -0.06539702, -0.054888148, -0.010846952, -0.013839001, -0.026046028, 0.018400697, -0.008679507, 0.0029984873, -0.043884728, -0.07548981, -0.012509257, 0.01683372, 0.00596608, -0.009286801, 0.0048333467, 0.01328815, 0.044487163, 0.042600162, 0.034666244, -0.005864964, 0.032439873, -0.014731301, -0.018062482, 0.012705783, 0.025589705, -0.002188632, 0.044242382, 0.012825207, -0.023868673, -0.014569381, 0.019376064, 0.061704047, -0.024549218, -0.036969163, -0.018150708, 0.021876771, 0.00429977, 0.045531828, 0.005237859, -0.0023627828, 0.027524296, -0.016501067, 0.020849422, 0.059158023, 0.01889507, 0.018007873, 0.06938754, -0.06493021, -0.012838751, -0.018592667, 0.025974024, -0.03138828, 0.0060307872, 0.0070324005, -0.03132151, 0.0039034826, 0.0029629632, 0.002891127, 0.055152304, -0.06054552, -0.016353333, -0.032977678, 0.038495805, 0.013450341, -0.00093515735, -0.0010836896, -0.004386776, -0.0015740322, 0.010137462, -0.00362478, 0.0022091067, -0.012050393, 0.01054007, 0.012293527, 0.065583885, -0.049255308, -0.010393073, 0.007834901, 0.0023164838, 0.020123335, -0.0005748775, 0.047603834, -0.021312136, -0.036511716, 0.020038763, -0.033664703, 0.03470303, -0.039431985, 0.00031958584, -0.006578146, 0.0058009075, 0.010065485, -0.0107763, -0.032846607, 0.018151166, -0.008613524, 0.0466458, -0.06514564, -0.06675929, 0.019312408, 0.051398642, -0.0023500938, -0.013336443, -0.09339641, -0.04417582, -0.046290956, 0.022695858, 0.03327606, 0.025937023, 0.013717734, -0.03037512, 0.028398586, -0.025521653, 0.0076557575, 0.023146354, -0.062285166, -0.055814162, 0.061392765, 0.047085274, 0.025118787, -0.02755592, -0.009233601, -0.04038733, -0.012296262, 0.031200122, 0.019559905, -0.0060071363, -0.015351037, 0.052823436, -0.008057704, -0.03927101, -0.006916383, 0.031160148, -0.041394014, -0.025149174, -0.049297653, -0.014618532, -0.043699507, 0.0009963369, 0.02933131, 0.015508134, -0.023674956, 0.009532896, -0.041661598, -0.0013048653, -0.04823801, 0.008977999, 0.053565104, -0.011124273, -0.009232777, -0.03714648, 0.024631197, 0.0038618585, 0.03643936, 0.006305065, 0.0051025287, 0.039781433, -0.018040739, 0.02533758, -0.029607477, -0.030796519, 0.07133151, -0.01889852]}\n"
          ]
        }
      ]
    },
    {
      "cell_type": "code",
      "source": [
        "len(embedding['embedding'])"
      ],
      "metadata": {
        "colab": {
          "base_uri": "https://localhost:8080/"
        },
        "id": "HkeHHogoPU3S",
        "outputId": "6ad689fc-27cf-4cc4-8975-15e04d665bda"
      },
      "execution_count": 29,
      "outputs": [
        {
          "output_type": "execute_result",
          "data": {
            "text/plain": [
              "768"
            ]
          },
          "metadata": {},
          "execution_count": 29
        }
      ]
    }
  ]
}